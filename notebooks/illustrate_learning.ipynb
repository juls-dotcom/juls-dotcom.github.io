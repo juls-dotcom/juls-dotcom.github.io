{
 "cells": [
  {
   "cell_type": "code",
   "execution_count": null,
   "metadata": {},
   "outputs": [],
   "source": [
    "import numpy as np\n",
    "import pandas as pd\n",
    "import matplotlib.pyplot as plt\n",
    "%matplotlib inline\n",
    "import seaborn as sns; sns.set_style('darkgrid')\n",
    "import statsmodels.api as sm\n",
    "\n",
    "\n",
    "def illustrate_learning(a=1.3, b=0.5, n=30, r=1, make_prediction=False, random_lines=0, plot_errors=False):\n",
    "    \"\"\"\n",
    "    This is a function I got from a introductory course I made some years ago in Amsterdam. \n",
    "    params: \n",
    "    a: slope\n",
    "    b: intercept\n",
    "    n: sample size\n",
    "    r: error\n",
    "    make_prediction: boolean. Does not make a real prediction, simply adds a value for illustrative purposes\n",
    "    random_lines: plots random regression lines\n",
    "    plot_errors: plot the difference between example points and regression line, for illustrative purposes\n",
    "    \"\"\"\n",
    "    np.random.seed(42)\n",
    "    def f(x, r_low=0, r_high=1): return (a * x + b + r * np.random.uniform(r_low, r_high, len(x)))\n",
    "\n",
    "    x = np.random.rand(n)\n",
    "    y = f(x)\n",
    "    fig, ax = plt.subplots()\n",
    "    ax.set_xlim([-0.05, 1.15])    \n",
    "    # plot regression result\n",
    "    sns.regplot(x, y, ci=None)\n",
    "    # plot random lines, similar to the fitted regression result\n",
    "    for _ in range(random_lines):\n",
    "        sns.regplot(x, f(x, r_low=-1, r_high=2), ci=None, scatter=False)\n",
    "    # make prediction with regression result\n",
    "    if make_prediction:\n",
    "        x_ = np.array(max(x) + 0.1).reshape(1,1) \n",
    "        plt.plot(x_, f(x_), 'ro')\n",
    "    # plot largest two errors (positive and negative)\n",
    "    if plot_errors:\n",
    "        x_max, x_min = np.argmax(y - f(x)), np.argmin(y - f(x))\n",
    "        X = sm.tools.add_constant(x)\n",
    "        model = sm.OLS(y, X).fit()\n",
    "        for i in [x_min, x_max]:\n",
    "            plt.vlines(x[i], ymin=model.predict([1, x[i]]), ymax=y[i], linestyle='--', color='black', linewidth=0.9)\n",
    "    plt.xlabel('x', fontsize=15)\n",
    "    plt.ylabel('y', fontsize=15)\n",
    "    plt.show()"
   ]
  }
 ],
 "metadata": {
  "kernelspec": {
   "display_name": "Python 3",
   "language": "python",
   "name": "python3"
  },
  "language_info": {
   "codemirror_mode": {
    "name": "ipython",
    "version": 3
   },
   "file_extension": ".py",
   "mimetype": "text/x-python",
   "name": "python",
   "nbconvert_exporter": "python",
   "pygments_lexer": "ipython3",
   "version": "3.7.7"
  }
 },
 "nbformat": 4,
 "nbformat_minor": 4
}
