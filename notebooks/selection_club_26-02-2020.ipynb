{
 "cells": [
  {
   "cell_type": "markdown",
   "metadata": {},
   "source": [
    "## Data extraction"
   ]
  },
  {
   "cell_type": "code",
   "execution_count": 1,
   "metadata": {
    "ExecuteTime": {
     "end_time": "2020-02-25T09:15:21.497533Z",
     "start_time": "2020-02-25T09:15:21.413612Z"
    }
   },
   "outputs": [],
   "source": [
    "%load_ext autoreload\n",
    "%autoreload 2\n",
    "#plt.rcParams['figure.figsize'] = (16,8)"
   ]
  },
  {
   "cell_type": "code",
   "execution_count": 75,
   "metadata": {
    "ExecuteTime": {
     "end_time": "2020-02-25T11:58:52.091310Z",
     "start_time": "2020-02-25T11:58:51.923483Z"
    }
   },
   "outputs": [],
   "source": [
    "import pandas as pd\n",
    "import os\n",
    "\n",
    "path = 'U:\\\\Projects\\\\datasets\\\\customer_history\\\\selection_26-02-2020'\n",
    "os.chdir(path)"
   ]
  },
  {
   "cell_type": "code",
   "execution_count": 78,
   "metadata": {
    "ExecuteTime": {
     "end_time": "2020-02-25T11:59:41.049711Z",
     "start_time": "2020-02-25T11:59:35.441505Z"
    }
   },
   "outputs": [],
   "source": [
    "test = pd.read_excel('test_CZ.xlsx', header = 1)"
   ]
  },
  {
   "cell_type": "code",
   "execution_count": 79,
   "metadata": {
    "ExecuteTime": {
     "end_time": "2020-02-25T11:59:41.218932Z",
     "start_time": "2020-02-25T11:59:41.050713Z"
    }
   },
   "outputs": [
    {
     "data": {
      "text/html": [
       "<div>\n",
       "<style scoped>\n",
       "    .dataframe tbody tr th:only-of-type {\n",
       "        vertical-align: middle;\n",
       "    }\n",
       "\n",
       "    .dataframe tbody tr th {\n",
       "        vertical-align: top;\n",
       "    }\n",
       "\n",
       "    .dataframe thead th {\n",
       "        text-align: right;\n",
       "    }\n",
       "</style>\n",
       "<table border=\"1\" class=\"dataframe\">\n",
       "  <thead>\n",
       "    <tr style=\"text-align: right;\">\n",
       "      <th></th>\n",
       "      <th>Unnamed: 0</th>\n",
       "      <th>Customer Salesforce ID</th>\n",
       "      <th>Date</th>\n",
       "      <th>Receipt ID</th>\n",
       "    </tr>\n",
       "  </thead>\n",
       "  <tbody>\n",
       "    <tr>\n",
       "      <th>0</th>\n",
       "      <td>NaN</td>\n",
       "      <td>0031i000001ra4nAAA</td>\n",
       "      <td>2018-12-03</td>\n",
       "      <td>1444822939</td>\n",
       "    </tr>\n",
       "    <tr>\n",
       "      <th>1</th>\n",
       "      <td>NaN</td>\n",
       "      <td>0031i000001ra4nAAA</td>\n",
       "      <td>2018-12-13</td>\n",
       "      <td>1451264086</td>\n",
       "    </tr>\n",
       "    <tr>\n",
       "      <th>2</th>\n",
       "      <td>NaN</td>\n",
       "      <td>0031i000001ra4nAAA</td>\n",
       "      <td>2019-01-04</td>\n",
       "      <td>1750314844</td>\n",
       "    </tr>\n",
       "    <tr>\n",
       "      <th>3</th>\n",
       "      <td>NaN</td>\n",
       "      <td>0031i000001ra4nAAA</td>\n",
       "      <td>2019-03-24</td>\n",
       "      <td>1756336696</td>\n",
       "    </tr>\n",
       "    <tr>\n",
       "      <th>4</th>\n",
       "      <td>NaN</td>\n",
       "      <td>0031i000001ra4nAAA</td>\n",
       "      <td>2019-08-21</td>\n",
       "      <td>1766447083</td>\n",
       "    </tr>\n",
       "    <tr>\n",
       "      <th>...</th>\n",
       "      <td>...</td>\n",
       "      <td>...</td>\n",
       "      <td>...</td>\n",
       "      <td>...</td>\n",
       "    </tr>\n",
       "    <tr>\n",
       "      <th>113771</th>\n",
       "      <td>NaN</td>\n",
       "      <td>0031i000004KTjzAAG</td>\n",
       "      <td>2019-02-05</td>\n",
       "      <td>1751014300</td>\n",
       "    </tr>\n",
       "    <tr>\n",
       "      <th>113772</th>\n",
       "      <td>NaN</td>\n",
       "      <td>0031i000004KTjzAAG</td>\n",
       "      <td>2019-06-28</td>\n",
       "      <td>1763182542</td>\n",
       "    </tr>\n",
       "    <tr>\n",
       "      <th>113773</th>\n",
       "      <td>NaN</td>\n",
       "      <td>0031i000004KTjzAAG</td>\n",
       "      <td>2019-09-23</td>\n",
       "      <td>1768885665</td>\n",
       "    </tr>\n",
       "    <tr>\n",
       "      <th>113774</th>\n",
       "      <td>NaN</td>\n",
       "      <td>0031i000004KTk6AAG</td>\n",
       "      <td>2019-02-05</td>\n",
       "      <td>1751270987</td>\n",
       "    </tr>\n",
       "    <tr>\n",
       "      <th>113775</th>\n",
       "      <td>NaN</td>\n",
       "      <td>0031i000004KTk6AAG</td>\n",
       "      <td>2019-10-03</td>\n",
       "      <td>1769137905</td>\n",
       "    </tr>\n",
       "  </tbody>\n",
       "</table>\n",
       "<p>113776 rows × 4 columns</p>\n",
       "</div>"
      ],
      "text/plain": [
       "        Unnamed: 0 Customer Salesforce ID       Date  Receipt ID\n",
       "0              NaN     0031i000001ra4nAAA 2018-12-03  1444822939\n",
       "1              NaN     0031i000001ra4nAAA 2018-12-13  1451264086\n",
       "2              NaN     0031i000001ra4nAAA 2019-01-04  1750314844\n",
       "3              NaN     0031i000001ra4nAAA 2019-03-24  1756336696\n",
       "4              NaN     0031i000001ra4nAAA 2019-08-21  1766447083\n",
       "...            ...                    ...        ...         ...\n",
       "113771         NaN     0031i000004KTjzAAG 2019-02-05  1751014300\n",
       "113772         NaN     0031i000004KTjzAAG 2019-06-28  1763182542\n",
       "113773         NaN     0031i000004KTjzAAG 2019-09-23  1768885665\n",
       "113774         NaN     0031i000004KTk6AAG 2019-02-05  1751270987\n",
       "113775         NaN     0031i000004KTk6AAG 2019-10-03  1769137905\n",
       "\n",
       "[113776 rows x 4 columns]"
      ]
     },
     "execution_count": 79,
     "metadata": {},
     "output_type": "execute_result"
    }
   ],
   "source": [
    "test"
   ]
  },
  {
   "cell_type": "code",
   "execution_count": 80,
   "metadata": {
    "ExecuteTime": {
     "end_time": "2020-02-25T11:59:48.546826Z",
     "start_time": "2020-02-25T11:59:48.379949Z"
    }
   },
   "outputs": [
    {
     "data": {
      "text/html": [
       "<div>\n",
       "<style scoped>\n",
       "    .dataframe tbody tr th:only-of-type {\n",
       "        vertical-align: middle;\n",
       "    }\n",
       "\n",
       "    .dataframe tbody tr th {\n",
       "        vertical-align: top;\n",
       "    }\n",
       "\n",
       "    .dataframe thead th {\n",
       "        text-align: right;\n",
       "    }\n",
       "</style>\n",
       "<table border=\"1\" class=\"dataframe\">\n",
       "  <thead>\n",
       "    <tr style=\"text-align: right;\">\n",
       "      <th></th>\n",
       "      <th>Unnamed: 0</th>\n",
       "      <th>Customer Salesforce ID</th>\n",
       "      <th>Date</th>\n",
       "      <th>Receipt ID</th>\n",
       "    </tr>\n",
       "  </thead>\n",
       "  <tbody>\n",
       "  </tbody>\n",
       "</table>\n",
       "</div>"
      ],
      "text/plain": [
       "Empty DataFrame\n",
       "Columns: [Unnamed: 0, Customer Salesforce ID, Date, Receipt ID]\n",
       "Index: []"
      ]
     },
     "execution_count": 80,
     "metadata": {},
     "output_type": "execute_result"
    }
   ],
   "source": [
    "test.loc[test['Customer Salesforce ID'] == '0035800001OnOnEAAV']"
   ]
  },
  {
   "cell_type": "code",
   "execution_count": 3,
   "metadata": {
    "ExecuteTime": {
     "end_time": "2020-02-25T09:16:46.019745Z",
     "start_time": "2020-02-25T09:15:23.694839Z"
    }
   },
   "outputs": [
    {
     "name": "stderr",
     "output_type": "stream",
     "text": [
      "Skipping line 6176115: unexpected end of data\n"
     ]
    }
   ],
   "source": [
    "df_club = pd.read_csv('customer_buying_history_15-02-2018_15-02-2020.csv', \n",
    "                 engine='python',\n",
    "                 error_bad_lines=False,\n",
    "                 decimal = ',')"
   ]
  },
  {
   "cell_type": "code",
   "execution_count": 9,
   "metadata": {
    "ExecuteTime": {
     "end_time": "2020-02-25T10:18:48.609874Z",
     "start_time": "2020-02-25T10:16:08.800458Z"
    }
   },
   "outputs": [],
   "source": [
    "df_etmp = pd.read_csv('customer_buying_history_ECom_15-02-2018_15-02-2020.csv', \n",
    "                 engine='python',\n",
    "                 error_bad_lines=False,\n",
    "                 decimal = ',')"
   ]
  },
  {
   "cell_type": "code",
   "execution_count": 27,
   "metadata": {
    "ExecuteTime": {
     "end_time": "2020-02-25T10:34:36.646813Z",
     "start_time": "2020-02-25T10:34:20.744051Z"
    }
   },
   "outputs": [
    {
     "name": "stdout",
     "output_type": "stream",
     "text": [
      "4739536 lost ECom non Club customers based on Email merge\n",
      "i.e., 60.07289050631195% lost ECom customers.\n"
     ]
    }
   ],
   "source": [
    "# Import keys linking mails and SFID\n",
    "os.chdir('U:\\\\Projects\\\\datasets\\\\mails\\\\main_data')\n",
    "df_keys = pd.read_csv('daily_segment_NL_data_JHL_20200220.csv',\n",
    "                      sep=';',\n",
    "                      encoding='utf-16',\n",
    "                      #usecols=[\"SubscriberKey\", \"Email\"]\n",
    "                     )\n",
    "# Select these customers that have a valid email from ECom NonClub\n",
    "df_ecom = df_etmp.merge(df_keys, on= 'Email', how='inner').rename(columns = {'SubscriberKey': 'sfid'})\n",
    "lost_cust = df_etmp.shape[0] - df_ecom.shape[0]\n",
    "print(str(lost_cust)+' lost ECom non Club customers based on Email merge')\n",
    "print('i.e., '+str((lost_cust / df_etmp.shape[0])*100)+'% lost ECom customers.')"
   ]
  },
  {
   "cell_type": "code",
   "execution_count": 81,
   "metadata": {
    "ExecuteTime": {
     "end_time": "2020-02-25T12:19:48.862389Z",
     "start_time": "2020-02-25T12:19:48.638796Z"
    }
   },
   "outputs": [
    {
     "data": {
      "text/html": [
       "<div>\n",
       "<style scoped>\n",
       "    .dataframe tbody tr th:only-of-type {\n",
       "        vertical-align: middle;\n",
       "    }\n",
       "\n",
       "    .dataframe tbody tr th {\n",
       "        vertical-align: top;\n",
       "    }\n",
       "\n",
       "    .dataframe thead th {\n",
       "        text-align: right;\n",
       "    }\n",
       "</style>\n",
       "<table border=\"1\" class=\"dataframe\">\n",
       "  <thead>\n",
       "    <tr style=\"text-align: right;\">\n",
       "      <th></th>\n",
       "      <th>SubscriberKey</th>\n",
       "      <th>Email</th>\n",
       "    </tr>\n",
       "  </thead>\n",
       "  <tbody>\n",
       "    <tr>\n",
       "      <th>0</th>\n",
       "      <td>0031i000001ra07AAA</td>\n",
       "      <td>lavy24vidu@yahoo.it</td>\n",
       "    </tr>\n",
       "    <tr>\n",
       "      <th>1</th>\n",
       "      <td>0031i000001ra60AAA</td>\n",
       "      <td>andrewcars80@gmail.com</td>\n",
       "    </tr>\n",
       "    <tr>\n",
       "      <th>2</th>\n",
       "      <td>0031i000001ra8PAAQ</td>\n",
       "      <td>j.praum@gmx.de</td>\n",
       "    </tr>\n",
       "    <tr>\n",
       "      <th>3</th>\n",
       "      <td>0031i000001raazAAA</td>\n",
       "      <td>karin.demuth@patrick-goehler-holding.de</td>\n",
       "    </tr>\n",
       "    <tr>\n",
       "      <th>4</th>\n",
       "      <td>0031i000001raaZAAQ</td>\n",
       "      <td>gbezina13@gmail.com</td>\n",
       "    </tr>\n",
       "    <tr>\n",
       "      <th>...</th>\n",
       "      <td>...</td>\n",
       "      <td>...</td>\n",
       "    </tr>\n",
       "    <tr>\n",
       "      <th>2434554</th>\n",
       "      <td>0035800001Z0ZRNAA3</td>\n",
       "      <td>mihaela.mlakar1@gmail.com</td>\n",
       "    </tr>\n",
       "    <tr>\n",
       "      <th>2434555</th>\n",
       "      <td>0035800001Z0ZRRAA3</td>\n",
       "      <td>sarahmohren@web.de</td>\n",
       "    </tr>\n",
       "    <tr>\n",
       "      <th>2434556</th>\n",
       "      <td>0035800001Z0ZRrAAN</td>\n",
       "      <td>agnryd1312@gmail.com</td>\n",
       "    </tr>\n",
       "    <tr>\n",
       "      <th>2434557</th>\n",
       "      <td>0035800001Z0ZRXAA3</td>\n",
       "      <td>lisa_bucher@gmx.at</td>\n",
       "    </tr>\n",
       "    <tr>\n",
       "      <th>2434558</th>\n",
       "      <td>0035800001Z0ZT0AAN</td>\n",
       "      <td>bg1000@gmx.de</td>\n",
       "    </tr>\n",
       "  </tbody>\n",
       "</table>\n",
       "<p>2434559 rows × 2 columns</p>\n",
       "</div>"
      ],
      "text/plain": [
       "              SubscriberKey                                    Email\n",
       "0        0031i000001ra07AAA                      lavy24vidu@yahoo.it\n",
       "1        0031i000001ra60AAA                   andrewcars80@gmail.com\n",
       "2        0031i000001ra8PAAQ                           j.praum@gmx.de\n",
       "3        0031i000001raazAAA  karin.demuth@patrick-goehler-holding.de\n",
       "4        0031i000001raaZAAQ                      gbezina13@gmail.com\n",
       "...                     ...                                      ...\n",
       "2434554  0035800001Z0ZRNAA3                mihaela.mlakar1@gmail.com\n",
       "2434555  0035800001Z0ZRRAA3                       sarahmohren@web.de\n",
       "2434556  0035800001Z0ZRrAAN                     agnryd1312@gmail.com\n",
       "2434557  0035800001Z0ZRXAA3                       lisa_bucher@gmx.at\n",
       "2434558  0035800001Z0ZT0AAN                            bg1000@gmx.de\n",
       "\n",
       "[2434559 rows x 2 columns]"
      ]
     },
     "execution_count": 81,
     "metadata": {},
     "output_type": "execute_result"
    }
   ],
   "source": [
    "df_keys"
   ]
  },
  {
   "cell_type": "code",
   "execution_count": 28,
   "metadata": {
    "ExecuteTime": {
     "end_time": "2020-02-25T10:34:36.772354Z",
     "start_time": "2020-02-25T10:34:36.648817Z"
    }
   },
   "outputs": [],
   "source": [
    "def run_dat_extract():\n",
    "\n",
    "\n",
    "    from purchase_prediction.munging_pipeline import (start_pipeline, \n",
    "                                                      select_valid_cards, \n",
    "                                                      lower_cols, \n",
    "                                                      def_types, \n",
    "                                                      down_sample,\n",
    "                                                      correct_timestamps, \n",
    "                                                      correct_for_retourned,\n",
    "                                                      drop_retours,\n",
    "                                                      assign_customer_type\n",
    "                                                     )\n",
    "\n",
    "    from purchase_prediction.munging_pipeline_ecom import (rename_cols_ecom,\n",
    "                                                           correct_timestamps_ecom,\n",
    "                                                           def_types_ecom,\n",
    "                                                           drop_cols\n",
    "                                                           )\n",
    "\n",
    "    df_club_clean = (df_club\n",
    "    .pipe(start_pipeline)\n",
    "    .pipe(select_valid_cards)\n",
    "    .pipe(lower_cols)            \n",
    "    .pipe(correct_timestamps)\n",
    "    .pipe(def_types)\n",
    "    #.pipe(down_sample, threshold=50000)\n",
    "    #.pipe(correct_for_retourned) # This steps is very long (should be optimized). Only use if monetary value required.\n",
    "    .pipe(drop_retours)   \n",
    "    .pipe(assign_customer_type,label='club')\n",
    "    )\n",
    "\n",
    "    print('')\n",
    "    print('There are ' + str(df_club_clean.groupby(by='customer_salesforce_id').count().shape[0]) + ' club customers.')\n",
    "\n",
    "    # df_club_clean.head(1)\n",
    "\n",
    "    df_ecom_clean = (df_ecom\n",
    "    .pipe(start_pipeline)\n",
    "    .pipe(rename_cols_ecom)\n",
    "    .pipe(correct_timestamps_ecom)            \n",
    "    .pipe(def_types_ecom)\n",
    "    .pipe(drop_cols)   \n",
    "    .pipe(assign_customer_type, label='ecom_nonclub')\n",
    "    )\n",
    "\n",
    "    print('There are ' + str(df_ecom_clean.groupby(by='eshop_id').count().shape[0]) + ' Ecom non club customers.')\n",
    "    print('')\n",
    "\n",
    "    #return df_club_clean, df_ecom_clean\n",
    "    # df_ecom_clean.head(1)\n",
    "\n",
    "    from purchase_prediction.ml_pipeline import (select_recent_members, \n",
    "                                                 date_benchmarking, \n",
    "                                                 compute_age_recency, \n",
    "                                                 rename_cols, \n",
    "                                                 select_ml_data, \n",
    "                                             )\n",
    "\n",
    "    from purchase_prediction.ml_pipeline_ecom import (select_receipt_dates_ecom, \n",
    "                                                      compute_age_recency_ecom, \n",
    "                                                      rename_cols_ecom_ml, \n",
    "                                                      add_frequency, \n",
    "                                                      select_ml_data_ecom, \n",
    "                                                 )\n",
    "    now_time_reference = '2020-01-01T00'\n",
    "    df_club_ml = (df_club_clean\n",
    "    .pipe(start_pipeline)\n",
    "#     .pipe(select_recent_members,\n",
    "#     timestamp_bef='2018-01-01T00',\n",
    "#     timestamp_aft=now_time_reference,\n",
    "#     action = \"between\")\n",
    "#    .pipe(date_benchmarking, upper_benchmark=now_time_reference)\n",
    "    .pipe(compute_age_recency,timestamp_ref=now_time_reference)\n",
    "    .pipe(rename_cols)\n",
    "    .pipe(select_ml_data)\n",
    "    )\n",
    "\n",
    "    lost_customers = df_club_clean.groupby(by='club_card_number').count().shape[0] - df_club_ml.groupby(by='club_card_number').count().shape[0]\n",
    "    print('Data cleansing yields ' + str(lost_customers) + ' lost customers.')\n",
    "    print('#Customers select for ML pipeline = ' + str(df_club_ml.groupby(by='club_card_number').count().shape[0]))\n",
    "\n",
    "    df_ecom_ml = (df_ecom_clean\n",
    "    .pipe(select_receipt_dates_ecom, upper_benchmark=now_time_reference)\n",
    "    .pipe(compute_age_recency_ecom,timestamp_ref=now_time_reference)\n",
    "    .pipe(rename_cols_ecom_ml)\n",
    "    .pipe(add_frequency)\n",
    "    .pipe(select_ml_data_ecom)              \n",
    "         )\n",
    "\n",
    "    lost_customers = df_ecom_clean.groupby(by='sfid').count().shape[0] - df_ecom_ml.groupby(by='sfid').count().shape[0]\n",
    "    print('Data cleansing yields ' + str(lost_customers) + ' lost customers.')\n",
    "    print('#Customers select for Ecom ML pipeline = ' + str(df_ecom_ml.groupby(by='club_card_number').count().shape[0]))\n",
    "\n",
    "    # POOLING CLUB & ECOM\n",
    "    df_ml = (pd.concat([df_club_ml, df_ecom_ml], axis=0, join='outer', sort=False)\n",
    "    .dropna() # Some customers have missing SFID\n",
    "    )\n",
    "    print(df_ml.head(5))\n",
    "    return df_ml"
   ]
  },
  {
   "cell_type": "markdown",
   "metadata": {},
   "source": [
    "## Model fit & test"
   ]
  },
  {
   "cell_type": "code",
   "execution_count": 12,
   "metadata": {
    "ExecuteTime": {
     "end_time": "2020-02-25T10:19:03.443137Z",
     "start_time": "2020-02-25T10:19:03.345850Z"
    }
   },
   "outputs": [],
   "source": [
    "def run_model(df_ml):\n",
    "    # Import models\n",
    "    from lifetimes import BetaGeoFitter,ParetoNBDFitter\n",
    "    bgf = BetaGeoFitter(penalizer_coef=0.001)\n",
    "    #bgf_Pareto = ParetoNBDFitter(penalizer_coef=0.1)\n",
    "\n",
    "    # Verify that the model is doing a relatively good job at predicting values\n",
    "    from lifetimes.utils import calibration_and_holdout_data\n",
    "    # This function creates a summary of each customer over a calibration and holdout period (training and testing)\n",
    "    # It accepts transaction data, and returns a DataFrame of sufficient statistics.\n",
    "    summary_cal_holdout = calibration_and_holdout_data(df_ml, 'sfid', 'receipt_issue_date',\n",
    "                                                        calibration_period_end='2018-10-01',\n",
    "                                                        observation_period_end='2019-10-01',\n",
    "                                                        freq='W',\n",
    "                                                        monetary_value_col = 'monetary_value')\n",
    "\n",
    "    from lifetimes.plotting import plot_calibration_purchases_vs_holdout_purchases\n",
    "\n",
    "    bgf.fit(summary_cal_holdout['frequency_cal'], \n",
    "            summary_cal_holdout['recency_cal'], \n",
    "            summary_cal_holdout['T_cal'])\n",
    "    plot_calibration_purchases_vs_holdout_purchases(bgf, summary_cal_holdout)\n",
    "\n",
    "    # Model summary\n",
    "    print('Model Summary')\n",
    "    print(bgf.summary)\n",
    "\n",
    "    ## Model fit over all data to predict 2020\n",
    "\n",
    "    # Transform transaction data into customer-based data with three attributes\n",
    "    from lifetimes.utils import summary_data_from_transaction_data\n",
    "\n",
    "    summary = summary_data_from_transaction_data(df_ml, \n",
    "                                                 'sfid', \n",
    "                                                 'receipt_issue_date', \n",
    "                                                 observation_period_end='2019-10-01',\n",
    "                                                 datetime_format = '%Y-%m-%d',\n",
    "                                                 freq='W',\n",
    "                                                 monetary_value_col = 'monetary_value')\n",
    "    print('Sample of ML data')\n",
    "    print(summary.sample(2))\n",
    "    print('')\n",
    "\n",
    "    from lifetimes import BetaGeoFitter\n",
    "\n",
    "    # similar API to scikit-learn and lifelines.\n",
    "    # I am using some penalizer due to low sample size, see lifetimes documentation.\n",
    "    bgf = BetaGeoFitter(penalizer_coef=0.001)\n",
    "    bgf.fit(summary['frequency'], summary['recency'], summary['T'])\n",
    "    print(bgf.summary)\n",
    "\n",
    "    # Add predicted purchases to summary dataframe\n",
    "    # Predicted purchases are calculated for a given time window t\n",
    "    t = 4\n",
    "    summary['pred_purch_coming_week=' + str(t)] = (bgf.conditional_expected_number_of_purchases_up_to_time\n",
    "                                                   (\n",
    "                                                    t, \n",
    "                                                    summary['frequency'], \n",
    "                                                    summary['recency'], \n",
    "                                                    summary['T']\n",
    "                                                   )\n",
    "                                                  )\n",
    "\n",
    "    from lifetimes.plotting import plot_period_transactions\n",
    "    plot_period_transactions(bgf)\n",
    "    return summary"
   ]
  },
  {
   "cell_type": "markdown",
   "metadata": {},
   "source": [
    "## Run the good stuff"
   ]
  },
  {
   "cell_type": "code",
   "execution_count": 30,
   "metadata": {
    "ExecuteTime": {
     "end_time": "2020-02-25T10:36:53.434609Z",
     "start_time": "2020-02-25T10:36:20.755010Z"
    }
   },
   "outputs": [
    {
     "name": "stdout",
     "output_type": "stream",
     "text": [
      "f/ select_valid_cards cleaned: 767 (i.e., 0.01% of initial data) entries from input dataf.\n",
      "\n",
      "There are 1102574 club customers.\n",
      "There are 830745 Ecom non club customers.\n",
      "\n",
      "Data cleansing yields 0 lost customers.\n",
      "#Customers select for ML pipeline = 1124983\n",
      "Data cleansing yields 31351 lost customers.\n",
      "#Customers select for Ecom ML pipeline = 781937\n",
      "                   sfid  club_card_number  age_in_weeks  recency_in_weeks  \\\n",
      "767  0035800001GTTe8AAH           12347.0    537.857143        525.857143   \n",
      "769  0035800001GTTe8AAH           12347.0    537.857143        525.857143   \n",
      "770  0035800001GTTe8AAH           12347.0    537.857143        525.857143   \n",
      "771  0035800001GTTe8AAH           12347.0    537.857143        525.857143   \n",
      "772  0035800001GTTe8AAH           12347.0    537.857143        525.857143   \n",
      "\n",
      "     frequency  monetary_value   receipt_issue_date customer_type  \n",
      "767        1.0       27.481884  2018/04/24 00:00:00          club  \n",
      "769        1.0       46.409693  2018/05/30 00:00:00          club  \n",
      "770        1.0       45.982849  2018/07/03 00:00:00          club  \n",
      "771        1.0       19.581000  2019/01/17 00:00:00          club  \n",
      "772        1.0       73.494356  2019/10/09 00:00:00          club  \n"
     ]
    }
   ],
   "source": [
    "#_set_params\n",
    "path = 'u:\\\\Projects\\\\datasets\\\\customer_history\\\\spring_special_2020'\n",
    "# path = 'u:\\\\Projects\\\\datasets\\\\customer_history\\\\winter_celebration'\n",
    "# country = 'DE'\n",
    "# extract data\n",
    "df_ml = run_dat_extract()"
   ]
  },
  {
   "cell_type": "code",
   "execution_count": 31,
   "metadata": {
    "ExecuteTime": {
     "end_time": "2020-02-25T10:48:50.232506Z",
     "start_time": "2020-02-25T10:37:04.226553Z"
    }
   },
   "outputs": [
    {
     "name": "stderr",
     "output_type": "stream",
     "text": [
      "C:\\Users\\jhernandez-lallement\\AppData\\Local\\Continuum\\anaconda3\\lib\\site-packages\\autograd\\tracer.py:48: RuntimeWarning: invalid value encountered in log\n",
      "  return f_raw(*args, **kwargs)\n"
     ]
    },
    {
     "name": "stdout",
     "output_type": "stream",
     "text": [
      "Model Summary\n",
      "            coef  se(coef)  lower 95% bound  upper 95% bound\n",
      "r       0.672790  0.002182         0.668513         0.677067\n",
      "alpha  10.351871  0.042151        10.269255        10.434486\n",
      "a       0.051060  0.001506         0.048108         0.054012\n",
      "b       0.510203  0.013568         0.483610         0.536796\n",
      "Sample of ML data\n",
      "                    frequency  recency     T  monetary_value\n",
      "sfid                                                        \n",
      "0031i000004o2neAAA        1.0     13.0  33.0           12.99\n",
      "0035800000HMJCPAA5        0.0      0.0  49.0            0.00\n",
      "\n",
      "            coef  se(coef)  lower 95% bound  upper 95% bound\n",
      "r       0.606783  0.001054         0.604718         0.608848\n",
      "alpha  11.842459  0.026278        11.790955        11.893964\n",
      "a       0.060782  0.000609         0.059589         0.061975\n",
      "b       0.772107  0.008535         0.755379         0.788836\n"
     ]
    },
    {
     "name": "stderr",
     "output_type": "stream",
     "text": [
      "C:\\Users\\jhernandez-lallement\\AppData\\Local\\Continuum\\anaconda3\\lib\\site-packages\\pandas\\core\\series.py:856: RuntimeWarning: invalid value encountered in log\n",
      "  result = getattr(ufunc, method)(*inputs, **kwargs)\n"
     ]
    },
    {
     "data": {
      "image/png": "[encoded data removed]",
      "text/plain": [
       "<Figure size 432x288 with 1 Axes>"
      ]
     },
     "metadata": {
      "needs_background": "light"
     },
     "output_type": "display_data"
    },
    {
     "data": {
      "image/png": "[encoded data removed]",
      "text/plain": [
       "<Figure size 432x288 with 1 Axes>"
      ]
     },
     "metadata": {
      "needs_background": "light"
     },
     "output_type": "display_data"
    }
   ],
   "source": [
    "# run model\n",
    "summary = run_model(df_ml=df_ml)"
   ]
  },
  {
   "cell_type": "code",
   "execution_count": 63,
   "metadata": {
    "ExecuteTime": {
     "end_time": "2020-02-25T11:06:40.853017Z",
     "start_time": "2020-02-25T11:06:36.267691Z"
    }
   },
   "outputs": [],
   "source": [
    "import os\n",
    "import pandas as pd\n",
    "path = 'U:\\\\Projects\\\\datasets\\\\customer_history\\\\selection_26-02-2020'\n",
    "os.chdir(path)\n",
    "to_score = pd.read_csv('Spring_Special_2020_ALL_IN_NL_20200224.csv', usecols=['ContactId', 'Country'])"
   ]
  },
  {
   "cell_type": "code",
   "execution_count": 64,
   "metadata": {
    "ExecuteTime": {
     "end_time": "2020-02-25T11:06:43.322274Z",
     "start_time": "2020-02-25T11:06:40.854019Z"
    }
   },
   "outputs": [],
   "source": [
    "test = pd.merge(to_score,summary, left_on='ContactId', right_on='sfid', how='left')"
   ]
  },
  {
   "cell_type": "code",
   "execution_count": 65,
   "metadata": {
    "ExecuteTime": {
     "end_time": "2020-02-25T11:06:46.586777Z",
     "start_time": "2020-02-25T11:06:46.381231Z"
    }
   },
   "outputs": [
    {
     "data": {
      "text/html": [
       "<div>\n",
       "<style scoped>\n",
       "    .dataframe tbody tr th:only-of-type {\n",
       "        vertical-align: middle;\n",
       "    }\n",
       "\n",
       "    .dataframe tbody tr th {\n",
       "        vertical-align: top;\n",
       "    }\n",
       "\n",
       "    .dataframe thead th {\n",
       "        text-align: right;\n",
       "    }\n",
       "</style>\n",
       "<table border=\"1\" class=\"dataframe\">\n",
       "  <thead>\n",
       "    <tr style=\"text-align: right;\">\n",
       "      <th></th>\n",
       "      <th>ContactId</th>\n",
       "      <th>Country</th>\n",
       "      <th>sfid</th>\n",
       "      <th>frequency</th>\n",
       "      <th>recency</th>\n",
       "      <th>T</th>\n",
       "      <th>monetary_value</th>\n",
       "      <th>pred_purch_coming_week=4</th>\n",
       "    </tr>\n",
       "  </thead>\n",
       "  <tbody>\n",
       "    <tr>\n",
       "      <th>0</th>\n",
       "      <td>0035800000yLBgNAAW</td>\n",
       "      <td>IT</td>\n",
       "      <td>NaN</td>\n",
       "      <td>NaN</td>\n",
       "      <td>NaN</td>\n",
       "      <td>NaN</td>\n",
       "      <td>NaN</td>\n",
       "      <td>NaN</td>\n",
       "    </tr>\n",
       "    <tr>\n",
       "      <th>1</th>\n",
       "      <td>0035800000yLBhVAAW</td>\n",
       "      <td>AT</td>\n",
       "      <td>NaN</td>\n",
       "      <td>NaN</td>\n",
       "      <td>NaN</td>\n",
       "      <td>NaN</td>\n",
       "      <td>NaN</td>\n",
       "      <td>NaN</td>\n",
       "    </tr>\n",
       "    <tr>\n",
       "      <th>2</th>\n",
       "      <td>0035800000yLBhfAAG</td>\n",
       "      <td>AT</td>\n",
       "      <td>NaN</td>\n",
       "      <td>NaN</td>\n",
       "      <td>NaN</td>\n",
       "      <td>NaN</td>\n",
       "      <td>NaN</td>\n",
       "      <td>NaN</td>\n",
       "    </tr>\n",
       "    <tr>\n",
       "      <th>3</th>\n",
       "      <td>0035800000yLBk7AAG</td>\n",
       "      <td>AT</td>\n",
       "      <td>NaN</td>\n",
       "      <td>NaN</td>\n",
       "      <td>NaN</td>\n",
       "      <td>NaN</td>\n",
       "      <td>NaN</td>\n",
       "      <td>NaN</td>\n",
       "    </tr>\n",
       "    <tr>\n",
       "      <th>4</th>\n",
       "      <td>0035800000yrj2MAAQ</td>\n",
       "      <td>HU</td>\n",
       "      <td>NaN</td>\n",
       "      <td>NaN</td>\n",
       "      <td>NaN</td>\n",
       "      <td>NaN</td>\n",
       "      <td>NaN</td>\n",
       "      <td>NaN</td>\n",
       "    </tr>\n",
       "    <tr>\n",
       "      <th>...</th>\n",
       "      <td>...</td>\n",
       "      <td>...</td>\n",
       "      <td>...</td>\n",
       "      <td>...</td>\n",
       "      <td>...</td>\n",
       "      <td>...</td>\n",
       "      <td>...</td>\n",
       "      <td>...</td>\n",
       "    </tr>\n",
       "    <tr>\n",
       "      <th>1599747</th>\n",
       "      <td>0035800001OnOnEAAV</td>\n",
       "      <td>SK</td>\n",
       "      <td>NaN</td>\n",
       "      <td>NaN</td>\n",
       "      <td>NaN</td>\n",
       "      <td>NaN</td>\n",
       "      <td>NaN</td>\n",
       "      <td>NaN</td>\n",
       "    </tr>\n",
       "    <tr>\n",
       "      <th>1599748</th>\n",
       "      <td>0035800001OnOnGAAV</td>\n",
       "      <td>SK</td>\n",
       "      <td>NaN</td>\n",
       "      <td>NaN</td>\n",
       "      <td>NaN</td>\n",
       "      <td>NaN</td>\n",
       "      <td>NaN</td>\n",
       "      <td>NaN</td>\n",
       "    </tr>\n",
       "    <tr>\n",
       "      <th>1599749</th>\n",
       "      <td>0035800001OnOqgAAF</td>\n",
       "      <td>SK</td>\n",
       "      <td>0035800001OnOqgAAF</td>\n",
       "      <td>0.0</td>\n",
       "      <td>0.0</td>\n",
       "      <td>45.0</td>\n",
       "      <td>0.0</td>\n",
       "      <td>0.042529</td>\n",
       "    </tr>\n",
       "    <tr>\n",
       "      <th>1599750</th>\n",
       "      <td>0035800001OnOqiAAF</td>\n",
       "      <td>SK</td>\n",
       "      <td>NaN</td>\n",
       "      <td>NaN</td>\n",
       "      <td>NaN</td>\n",
       "      <td>NaN</td>\n",
       "      <td>NaN</td>\n",
       "      <td>NaN</td>\n",
       "    </tr>\n",
       "    <tr>\n",
       "      <th>1599751</th>\n",
       "      <td>0035800001OnQyWAAV</td>\n",
       "      <td>SK</td>\n",
       "      <td>NaN</td>\n",
       "      <td>NaN</td>\n",
       "      <td>NaN</td>\n",
       "      <td>NaN</td>\n",
       "      <td>NaN</td>\n",
       "      <td>NaN</td>\n",
       "    </tr>\n",
       "  </tbody>\n",
       "</table>\n",
       "<p>1599752 rows × 8 columns</p>\n",
       "</div>"
      ],
      "text/plain": [
       "                  ContactId Country                sfid  frequency  recency  \\\n",
       "0        0035800000yLBgNAAW      IT                 NaN        NaN      NaN   \n",
       "1        0035800000yLBhVAAW      AT                 NaN        NaN      NaN   \n",
       "2        0035800000yLBhfAAG      AT                 NaN        NaN      NaN   \n",
       "3        0035800000yLBk7AAG      AT                 NaN        NaN      NaN   \n",
       "4        0035800000yrj2MAAQ      HU                 NaN        NaN      NaN   \n",
       "...                     ...     ...                 ...        ...      ...   \n",
       "1599747  0035800001OnOnEAAV      SK                 NaN        NaN      NaN   \n",
       "1599748  0035800001OnOnGAAV      SK                 NaN        NaN      NaN   \n",
       "1599749  0035800001OnOqgAAF      SK  0035800001OnOqgAAF        0.0      0.0   \n",
       "1599750  0035800001OnOqiAAF      SK                 NaN        NaN      NaN   \n",
       "1599751  0035800001OnQyWAAV      SK                 NaN        NaN      NaN   \n",
       "\n",
       "            T  monetary_value  pred_purch_coming_week=4  \n",
       "0         NaN             NaN                       NaN  \n",
       "1         NaN             NaN                       NaN  \n",
       "2         NaN             NaN                       NaN  \n",
       "3         NaN             NaN                       NaN  \n",
       "4         NaN             NaN                       NaN  \n",
       "...       ...             ...                       ...  \n",
       "1599747   NaN             NaN                       NaN  \n",
       "1599748   NaN             NaN                       NaN  \n",
       "1599749  45.0             0.0                  0.042529  \n",
       "1599750   NaN             NaN                       NaN  \n",
       "1599751   NaN             NaN                       NaN  \n",
       "\n",
       "[1599752 rows x 8 columns]"
      ]
     },
     "execution_count": 65,
     "metadata": {},
     "output_type": "execute_result"
    }
   ],
   "source": [
    "test"
   ]
  },
  {
   "cell_type": "markdown",
   "metadata": {},
   "source": [
    "## Comparison DeFacto"
   ]
  },
  {
   "cell_type": "code",
   "execution_count": 34,
   "metadata": {
    "ExecuteTime": {
     "end_time": "2020-02-25T10:49:53.625129Z",
     "start_time": "2020-02-25T10:49:53.179945Z"
    }
   },
   "outputs": [
    {
     "data": {
      "text/html": [
       "<div>\n",
       "<style scoped>\n",
       "    .dataframe tbody tr th:only-of-type {\n",
       "        vertical-align: middle;\n",
       "    }\n",
       "\n",
       "    .dataframe tbody tr th {\n",
       "        vertical-align: top;\n",
       "    }\n",
       "\n",
       "    .dataframe thead th {\n",
       "        text-align: right;\n",
       "    }\n",
       "</style>\n",
       "<table border=\"1\" class=\"dataframe\">\n",
       "  <thead>\n",
       "    <tr style=\"text-align: right;\">\n",
       "      <th></th>\n",
       "      <th>sfid</th>\n",
       "      <th>frequency</th>\n",
       "      <th>recency</th>\n",
       "      <th>T</th>\n",
       "      <th>monetary_value</th>\n",
       "      <th>pred_purch_coming_week=4</th>\n",
       "    </tr>\n",
       "  </thead>\n",
       "  <tbody>\n",
       "    <tr>\n",
       "      <th>1255513</th>\n",
       "      <td>0035800001Ix4GyAAJ</td>\n",
       "      <td>54.0</td>\n",
       "      <td>78.0</td>\n",
       "      <td>78.0</td>\n",
       "      <td>85.938658</td>\n",
       "      <td>2.425199</td>\n",
       "    </tr>\n",
       "  </tbody>\n",
       "</table>\n",
       "</div>"
      ],
      "text/plain": [
       "                       sfid  frequency  recency     T  monetary_value  \\\n",
       "1255513  0035800001Ix4GyAAJ       54.0     78.0  78.0       85.938658   \n",
       "\n",
       "         pred_purch_coming_week=4  \n",
       "1255513                  2.425199  "
      ]
     },
     "execution_count": 34,
     "metadata": {},
     "output_type": "execute_result"
    }
   ],
   "source": [
    "summary = summary.reset_index()\n",
    "summary.loc[summary.sfid == '0035800001Ix4GyAAJ']"
   ]
  },
  {
   "cell_type": "code",
   "execution_count": 47,
   "metadata": {
    "ExecuteTime": {
     "end_time": "2020-02-25T10:56:01.561498Z",
     "start_time": "2020-02-25T10:53:44.634633Z"
    }
   },
   "outputs": [
    {
     "name": "stdout",
     "output_type": "stream",
     "text": [
      "We loose 79742 customers with DeFacto merging\n",
      "Correlation coefficients between DeFacto and Orsay scoring:\n",
      "index                       0.022266\n",
      "frequency                   0.639133\n",
      "recency                     0.460352\n",
      "T                           0.104500\n",
      "monetary_value              0.219758\n",
      "pred_purch_coming_week=4    0.674896\n",
      "norm_purchase               0.674896\n",
      "score                       1.000000\n",
      "Name: score, dtype: float64\n"
     ]
    },
    {
     "name": "stderr",
     "output_type": "stream",
     "text": [
      "C:\\Users\\jhernandez-lallement\\AppData\\Local\\Continuum\\anaconda3\\lib\\site-packages\\plotnine\\layer.py:452: PlotnineWarning: geom_point : Removed 14382 rows containing missing values.\n",
      "  self.data = self.geom.handle_na(self.data)\n"
     ]
    },
    {
     "data": {
      "image/png": "[encoded data removed]",
      "text/plain": [
       "<Figure size 640x480 with 1 Axes>"
      ]
     },
     "metadata": {},
     "output_type": "display_data"
    },
    {
     "data": {
      "text/plain": [
       "<ggplot: (-9223371897222816424)>"
      ]
     },
     "execution_count": 47,
     "metadata": {},
     "output_type": "execute_result"
    }
   ],
   "source": [
    "import os\n",
    "import plotnine as p9\n",
    "import pandas as pd\n",
    "\n",
    "def normalize(df):\n",
    "    result = df.copy()\n",
    "    #for feature_name in df.columns:\n",
    "    result = result.values\n",
    "    max_value = df.max()\n",
    "    min_value = df.min()\n",
    "    result = (df - min_value) / (max_value - min_value)\n",
    "    return result\n",
    "\n",
    "path = 'u:\\\\Projects\\\\datasets\\\\customer_history\\\\DeFacto_scores'\n",
    "file = 'Orsay_Promo_salesforce_January_2020.csv' # PreSale January 2020\n",
    "#file = '20190913_Score_Winter_Celebration.csv'   # Winter Celebration October 2019\n",
    "#file = '20191025_Winter_Presale_Daten_Score.csv' # Winter PreSale November 2019\n",
    "os.chdir(path)\n",
    "os.getcwd()\n",
    "\n",
    "## Import data\n",
    "files = os.listdir()\n",
    "df_defacto = pd.read_csv(files[files.index(file)],sep=';', \n",
    "                          header = 0,\n",
    "                          decimal=\",\")\n",
    "df_defacto.columns = [c.lower() for c in df_defacto.columns]\n",
    "\n",
    "df_orsay = summary.copy()\n",
    "df_orsay = df_orsay.assign(norm_purchase = lambda d: normalize(d['pred_purch_coming_week=4']))\n",
    "df_orsay.reset_index(level=0, inplace=True)\n",
    "\n",
    "merged_orsay_defacto_data = df_orsay.merge(df_defacto, on='sfid', how='inner')\n",
    "print('We loose ' + str(df_orsay.shape[0] - merged_orsay_defacto_data.shape[0]) + ' customers with DeFacto merging')\n",
    "\n",
    "\n",
    "\n",
    "print('Correlation coefficients between DeFacto and Orsay scoring:')\n",
    "print(merged_orsay_defacto_data.corr()['score'])\n",
    "\n",
    "(p9.ggplot(mapping=p9.aes(x='norm_purchase', y='score'), data=merged_orsay_defacto_data)\n",
    "+ p9.geom_point(alpha=0.1))"
   ]
  },
  {
   "cell_type": "code",
   "execution_count": 61,
   "metadata": {
    "ExecuteTime": {
     "end_time": "2020-02-25T11:05:09.133758Z",
     "start_time": "2020-02-25T11:05:08.893119Z"
    }
   },
   "outputs": [
    {
     "data": {
      "text/html": [
       "<div>\n",
       "<style scoped>\n",
       "    .dataframe tbody tr th:only-of-type {\n",
       "        vertical-align: middle;\n",
       "    }\n",
       "\n",
       "    .dataframe tbody tr th {\n",
       "        vertical-align: top;\n",
       "    }\n",
       "\n",
       "    .dataframe thead th {\n",
       "        text-align: right;\n",
       "    }\n",
       "</style>\n",
       "<table border=\"1\" class=\"dataframe\">\n",
       "  <thead>\n",
       "    <tr style=\"text-align: right;\">\n",
       "      <th></th>\n",
       "      <th>index</th>\n",
       "      <th>sfid</th>\n",
       "      <th>frequency</th>\n",
       "      <th>recency</th>\n",
       "      <th>T</th>\n",
       "      <th>monetary_value</th>\n",
       "      <th>pred_purch_coming_week=4</th>\n",
       "      <th>norm_purchase</th>\n",
       "      <th>scoringidentifier</th>\n",
       "      <th>score</th>\n",
       "    </tr>\n",
       "  </thead>\n",
       "  <tbody>\n",
       "    <tr>\n",
       "      <th>1332440</th>\n",
       "      <td>1407138</td>\n",
       "      <td>0035800001SkeTBAAZ</td>\n",
       "      <td>26.0</td>\n",
       "      <td>33.0</td>\n",
       "      <td>84.0</td>\n",
       "      <td>0.246269</td>\n",
       "      <td>7.862701e-07</td>\n",
       "      <td>2.095012e-07</td>\n",
       "      <td>Spring Special 2020</td>\n",
       "      <td>0.896306</td>\n",
       "    </tr>\n",
       "    <tr>\n",
       "      <th>925763</th>\n",
       "      <td>978801</td>\n",
       "      <td>0035800000ycwW6AAI</td>\n",
       "      <td>21.0</td>\n",
       "      <td>36.0</td>\n",
       "      <td>85.0</td>\n",
       "      <td>17.723135</td>\n",
       "      <td>7.354819e-05</td>\n",
       "      <td>2.082793e-05</td>\n",
       "      <td>Spring Special 2020</td>\n",
       "      <td>0.936061</td>\n",
       "    </tr>\n",
       "    <tr>\n",
       "      <th>826913</th>\n",
       "      <td>879436</td>\n",
       "      <td>0035800000lSq87AAC</td>\n",
       "      <td>20.0</td>\n",
       "      <td>33.0</td>\n",
       "      <td>79.0</td>\n",
       "      <td>137.944500</td>\n",
       "      <td>1.417003e-04</td>\n",
       "      <td>4.014009e-05</td>\n",
       "      <td>Spring Special 2020</td>\n",
       "      <td>0.611608</td>\n",
       "    </tr>\n",
       "    <tr>\n",
       "      <th>881599</th>\n",
       "      <td>934468</td>\n",
       "      <td>0035800000xzGiuAAE</td>\n",
       "      <td>18.0</td>\n",
       "      <td>24.0</td>\n",
       "      <td>66.0</td>\n",
       "      <td>48.862833</td>\n",
       "      <td>1.508706e-04</td>\n",
       "      <td>4.273867e-05</td>\n",
       "      <td>Spring Special 2020</td>\n",
       "      <td>0.998645</td>\n",
       "    </tr>\n",
       "    <tr>\n",
       "      <th>1186773</th>\n",
       "      <td>1256652</td>\n",
       "      <td>0035800001IxaeLAAR</td>\n",
       "      <td>32.0</td>\n",
       "      <td>44.0</td>\n",
       "      <td>77.0</td>\n",
       "      <td>82.693210</td>\n",
       "      <td>2.037071e-04</td>\n",
       "      <td>5.771086e-05</td>\n",
       "      <td>Spring Special 2020</td>\n",
       "      <td>0.508524</td>\n",
       "    </tr>\n",
       "    <tr>\n",
       "      <th>...</th>\n",
       "      <td>...</td>\n",
       "      <td>...</td>\n",
       "      <td>...</td>\n",
       "      <td>...</td>\n",
       "      <td>...</td>\n",
       "      <td>...</td>\n",
       "      <td>...</td>\n",
       "      <td>...</td>\n",
       "      <td>...</td>\n",
       "      <td>...</td>\n",
       "    </tr>\n",
       "    <tr>\n",
       "      <th>539647</th>\n",
       "      <td>590329</td>\n",
       "      <td>0035800000HQVLFAA5</td>\n",
       "      <td>40.0</td>\n",
       "      <td>80.0</td>\n",
       "      <td>80.0</td>\n",
       "      <td>60.551409</td>\n",
       "      <td>1.763497e+00</td>\n",
       "      <td>4.997193e-01</td>\n",
       "      <td>Spring Special 2020</td>\n",
       "      <td>0.778461</td>\n",
       "    </tr>\n",
       "    <tr>\n",
       "      <th>824098</th>\n",
       "      <td>876615</td>\n",
       "      <td>0035800000kqHh7AAE</td>\n",
       "      <td>40.0</td>\n",
       "      <td>80.0</td>\n",
       "      <td>80.0</td>\n",
       "      <td>118.072233</td>\n",
       "      <td>1.763497e+00</td>\n",
       "      <td>4.997193e-01</td>\n",
       "      <td>Spring Special 2020</td>\n",
       "      <td>0.907648</td>\n",
       "    </tr>\n",
       "    <tr>\n",
       "      <th>1056960</th>\n",
       "      <td>1122751</td>\n",
       "      <td>003580000193yDIAAY</td>\n",
       "      <td>40.0</td>\n",
       "      <td>80.0</td>\n",
       "      <td>80.0</td>\n",
       "      <td>38.610607</td>\n",
       "      <td>1.763497e+00</td>\n",
       "      <td>4.997193e-01</td>\n",
       "      <td>Spring Special 2020</td>\n",
       "      <td>0.938187</td>\n",
       "    </tr>\n",
       "    <tr>\n",
       "      <th>510867</th>\n",
       "      <td>561509</td>\n",
       "      <td>0035800000HPpaRAAT</td>\n",
       "      <td>40.0</td>\n",
       "      <td>80.0</td>\n",
       "      <td>80.0</td>\n",
       "      <td>29.885959</td>\n",
       "      <td>1.763497e+00</td>\n",
       "      <td>4.997193e-01</td>\n",
       "      <td>Spring Special 2020</td>\n",
       "      <td>0.829414</td>\n",
       "    </tr>\n",
       "    <tr>\n",
       "      <th>1163473</th>\n",
       "      <td>1232819</td>\n",
       "      <td>0035800001Haf3iAAB</td>\n",
       "      <td>40.0</td>\n",
       "      <td>80.0</td>\n",
       "      <td>80.0</td>\n",
       "      <td>23.013000</td>\n",
       "      <td>1.763497e+00</td>\n",
       "      <td>4.997193e-01</td>\n",
       "      <td>Spring Special 2020</td>\n",
       "      <td>0.866177</td>\n",
       "    </tr>\n",
       "  </tbody>\n",
       "</table>\n",
       "<p>83536 rows × 10 columns</p>\n",
       "</div>"
      ],
      "text/plain": [
       "           index                sfid  frequency  recency     T  \\\n",
       "1332440  1407138  0035800001SkeTBAAZ       26.0     33.0  84.0   \n",
       "925763    978801  0035800000ycwW6AAI       21.0     36.0  85.0   \n",
       "826913    879436  0035800000lSq87AAC       20.0     33.0  79.0   \n",
       "881599    934468  0035800000xzGiuAAE       18.0     24.0  66.0   \n",
       "1186773  1256652  0035800001IxaeLAAR       32.0     44.0  77.0   \n",
       "...          ...                 ...        ...      ...   ...   \n",
       "539647    590329  0035800000HQVLFAA5       40.0     80.0  80.0   \n",
       "824098    876615  0035800000kqHh7AAE       40.0     80.0  80.0   \n",
       "1056960  1122751  003580000193yDIAAY       40.0     80.0  80.0   \n",
       "510867    561509  0035800000HPpaRAAT       40.0     80.0  80.0   \n",
       "1163473  1232819  0035800001Haf3iAAB       40.0     80.0  80.0   \n",
       "\n",
       "         monetary_value  pred_purch_coming_week=4  norm_purchase  \\\n",
       "1332440        0.246269              7.862701e-07   2.095012e-07   \n",
       "925763        17.723135              7.354819e-05   2.082793e-05   \n",
       "826913       137.944500              1.417003e-04   4.014009e-05   \n",
       "881599        48.862833              1.508706e-04   4.273867e-05   \n",
       "1186773       82.693210              2.037071e-04   5.771086e-05   \n",
       "...                 ...                       ...            ...   \n",
       "539647        60.551409              1.763497e+00   4.997193e-01   \n",
       "824098       118.072233              1.763497e+00   4.997193e-01   \n",
       "1056960       38.610607              1.763497e+00   4.997193e-01   \n",
       "510867        29.885959              1.763497e+00   4.997193e-01   \n",
       "1163473       23.013000              1.763497e+00   4.997193e-01   \n",
       "\n",
       "           scoringidentifier     score  \n",
       "1332440  Spring Special 2020  0.896306  \n",
       "925763   Spring Special 2020  0.936061  \n",
       "826913   Spring Special 2020  0.611608  \n",
       "881599   Spring Special 2020  0.998645  \n",
       "1186773  Spring Special 2020  0.508524  \n",
       "...                      ...       ...  \n",
       "539647   Spring Special 2020  0.778461  \n",
       "824098   Spring Special 2020  0.907648  \n",
       "1056960  Spring Special 2020  0.938187  \n",
       "510867   Spring Special 2020  0.829414  \n",
       "1163473  Spring Special 2020  0.866177  \n",
       "\n",
       "[83536 rows x 10 columns]"
      ]
     },
     "execution_count": 61,
     "metadata": {},
     "output_type": "execute_result"
    }
   ],
   "source": [
    "(merged_orsay_defacto_data.loc[(merged_orsay_defacto_data.norm_purchase < 0.5) & (merged_orsay_defacto_data.score > 0.5)]\n",
    ".sort_values(by='norm_purchase', ascending=True)\n",
    ")"
   ]
  },
  {
   "cell_type": "markdown",
   "metadata": {},
   "source": [
    "# CLV"
   ]
  },
  {
   "cell_type": "code",
   "execution_count": 42,
   "metadata": {
    "ExecuteTime": {
     "end_time": "2020-02-25T10:53:00.156123Z",
     "start_time": "2020-02-25T10:52:59.795042Z"
    }
   },
   "outputs": [
    {
     "data": {
      "text/html": [
       "<div>\n",
       "<style scoped>\n",
       "    .dataframe tbody tr th:only-of-type {\n",
       "        vertical-align: middle;\n",
       "    }\n",
       "\n",
       "    .dataframe tbody tr th {\n",
       "        vertical-align: top;\n",
       "    }\n",
       "\n",
       "    .dataframe thead th {\n",
       "        text-align: right;\n",
       "    }\n",
       "</style>\n",
       "<table border=\"1\" class=\"dataframe\">\n",
       "  <thead>\n",
       "    <tr style=\"text-align: right;\">\n",
       "      <th></th>\n",
       "      <th>monetary_value</th>\n",
       "      <th>frequency</th>\n",
       "    </tr>\n",
       "  </thead>\n",
       "  <tbody>\n",
       "    <tr>\n",
       "      <th>monetary_value</th>\n",
       "      <td>1.000000</td>\n",
       "      <td>0.109801</td>\n",
       "    </tr>\n",
       "    <tr>\n",
       "      <th>frequency</th>\n",
       "      <td>0.109801</td>\n",
       "      <td>1.000000</td>\n",
       "    </tr>\n",
       "  </tbody>\n",
       "</table>\n",
       "</div>"
      ],
      "text/plain": [
       "                monetary_value  frequency\n",
       "monetary_value        1.000000   0.109801\n",
       "frequency             0.109801   1.000000"
      ]
     },
     "execution_count": 42,
     "metadata": {},
     "output_type": "execute_result"
    }
   ],
   "source": [
    "returning_customers_summary = summary.copy()\n",
    "returning_customers_summary = returning_customers_summary[returning_customers_summary['monetary_value']>0]\n",
    "returning_customers_summary[['monetary_value', 'frequency']].corr()"
   ]
  },
  {
   "cell_type": "code",
   "execution_count": 43,
   "metadata": {
    "ExecuteTime": {
     "end_time": "2020-02-25T10:53:06.936269Z",
     "start_time": "2020-02-25T10:53:00.157088Z"
    }
   },
   "outputs": [
    {
     "name": "stdout",
     "output_type": "stream",
     "text": [
      "<lifetimes.GammaGammaFitter: fitted with 892046 subjects, p: 3.94, q: 1.36, v: 6.16>\n"
     ]
    }
   ],
   "source": [
    "from lifetimes import GammaGammaFitter\n",
    "\n",
    "ggf = GammaGammaFitter(penalizer_coef = 0.001)\n",
    "ggf.fit(returning_customers_summary['frequency'],\n",
    "        returning_customers_summary['monetary_value'])\n",
    "print(ggf)"
   ]
  },
  {
   "cell_type": "code",
   "execution_count": 44,
   "metadata": {
    "ExecuteTime": {
     "end_time": "2020-02-25T10:53:07.196304Z",
     "start_time": "2020-02-25T10:53:06.939271Z"
    }
   },
   "outputs": [],
   "source": [
    "clv = ggf.conditional_expected_average_profit(returning_customers_summary['frequency'],\n",
    "                                              returning_customers_summary['monetary_value']\n",
    "                  \n",
    "                                             )"
   ]
  },
  {
   "cell_type": "code",
   "execution_count": 45,
   "metadata": {
    "ExecuteTime": {
     "end_time": "2020-02-25T10:53:22.347330Z",
     "start_time": "2020-02-25T10:53:07.197267Z"
    }
   },
   "outputs": [],
   "source": [
    "from lifetimes import BetaGeoFitter,ParetoNBDFitter\n",
    "bgf = BetaGeoFitter(penalizer_coef=0.001)\n",
    "# refit the BG model to the summary_with_money_value dataset\n",
    "bgf.fit(returning_customers_summary['frequency'], \n",
    "        returning_customers_summary['recency'], \n",
    "        returning_customers_summary['T'],\n",
    "        returning_customers_summary['monetary_value'])\n",
    "\n",
    "clv_dcf = ggf.customer_lifetime_value(\n",
    "    bgf, #the model to use to predict the number of future transactions\n",
    "    returning_customers_summary['frequency'],\n",
    "    returning_customers_summary['recency'],\n",
    "    returning_customers_summary['T'],\n",
    "    returning_customers_summary['monetary_value'],\n",
    "    time=1, # months\n",
    "    discount_rate=0.01,# monthly discount rate ~ 12.7% annually\n",
    "    freq = 'W')"
   ]
  },
  {
   "cell_type": "code",
   "execution_count": 54,
   "metadata": {
    "ExecuteTime": {
     "end_time": "2020-02-25T10:59:48.113854Z",
     "start_time": "2020-02-25T10:59:47.913167Z"
    }
   },
   "outputs": [
    {
     "data": {
      "text/html": [
       "<div>\n",
       "<style scoped>\n",
       "    .dataframe tbody tr th:only-of-type {\n",
       "        vertical-align: middle;\n",
       "    }\n",
       "\n",
       "    .dataframe tbody tr th {\n",
       "        vertical-align: top;\n",
       "    }\n",
       "\n",
       "    .dataframe thead th {\n",
       "        text-align: right;\n",
       "    }\n",
       "</style>\n",
       "<table border=\"1\" class=\"dataframe\">\n",
       "  <thead>\n",
       "    <tr style=\"text-align: right;\">\n",
       "      <th></th>\n",
       "      <th>0</th>\n",
       "    </tr>\n",
       "  </thead>\n",
       "  <tbody>\n",
       "    <tr>\n",
       "      <th>1</th>\n",
       "      <td>45.076239</td>\n",
       "    </tr>\n",
       "    <tr>\n",
       "      <th>2</th>\n",
       "      <td>36.568920</td>\n",
       "    </tr>\n",
       "    <tr>\n",
       "      <th>3</th>\n",
       "      <td>16.414898</td>\n",
       "    </tr>\n",
       "    <tr>\n",
       "      <th>4</th>\n",
       "      <td>57.812757</td>\n",
       "    </tr>\n",
       "    <tr>\n",
       "      <th>7</th>\n",
       "      <td>20.505050</td>\n",
       "    </tr>\n",
       "    <tr>\n",
       "      <th>...</th>\n",
       "      <td>...</td>\n",
       "    </tr>\n",
       "    <tr>\n",
       "      <th>1532832</th>\n",
       "      <td>12.478710</td>\n",
       "    </tr>\n",
       "    <tr>\n",
       "      <th>1532833</th>\n",
       "      <td>246.298705</td>\n",
       "    </tr>\n",
       "    <tr>\n",
       "      <th>1532835</th>\n",
       "      <td>26.659959</td>\n",
       "    </tr>\n",
       "    <tr>\n",
       "      <th>1532836</th>\n",
       "      <td>33.320722</td>\n",
       "    </tr>\n",
       "    <tr>\n",
       "      <th>1532837</th>\n",
       "      <td>43.319591</td>\n",
       "    </tr>\n",
       "  </tbody>\n",
       "</table>\n",
       "<p>892046 rows × 1 columns</p>\n",
       "</div>"
      ],
      "text/plain": [
       "                  0\n",
       "1         45.076239\n",
       "2         36.568920\n",
       "3         16.414898\n",
       "4         57.812757\n",
       "7         20.505050\n",
       "...             ...\n",
       "1532832   12.478710\n",
       "1532833  246.298705\n",
       "1532835   26.659959\n",
       "1532836   33.320722\n",
       "1532837   43.319591\n",
       "\n",
       "[892046 rows x 1 columns]"
      ]
     },
     "execution_count": 54,
     "metadata": {},
     "output_type": "execute_result"
    }
   ],
   "source": [
    "pd.DataFrame(clv)"
   ]
  },
  {
   "cell_type": "code",
   "execution_count": 46,
   "metadata": {
    "ExecuteTime": {
     "end_time": "2020-02-25T10:53:22.592981Z",
     "start_time": "2020-02-25T10:53:22.348333Z"
    }
   },
   "outputs": [
    {
     "ename": "KeyError",
     "evalue": "'sfid'",
     "output_type": "error",
     "traceback": [
      "\u001b[1;31m---------------------------------------------------------------------------\u001b[0m",
      "\u001b[1;31mKeyError\u001b[0m                                  Traceback (most recent call last)",
      "\u001b[1;32m<ipython-input-46-9b148eb9af04>\u001b[0m in \u001b[0;36m<module>\u001b[1;34m\u001b[0m\n\u001b[1;32m----> 1\u001b[1;33m clv_to_merge = pd.DataFrame(clv).merge(clv_dcf,on='sfid', how='left').reset_index().rename(columns={'clv': 'clv_dcf',\n\u001b[0m\u001b[0;32m      2\u001b[0m                                                                                                     0: 'clv'})\n\u001b[0;32m      3\u001b[0m clv_to_merge = (clv_to_merge\n\u001b[0;32m      4\u001b[0m \u001b[1;33m.\u001b[0m\u001b[0massign\u001b[0m\u001b[1;33m(\u001b[0m\u001b[0mclv\u001b[0m \u001b[1;33m=\u001b[0m \u001b[1;32mlambda\u001b[0m \u001b[0md\u001b[0m\u001b[1;33m:\u001b[0m \u001b[0md\u001b[0m\u001b[1;33m[\u001b[0m\u001b[1;34m'clv'\u001b[0m\u001b[1;33m]\u001b[0m\u001b[1;33m.\u001b[0m\u001b[0mfillna\u001b[0m\u001b[1;33m(\u001b[0m\u001b[0mvalue\u001b[0m\u001b[1;33m=\u001b[0m\u001b[1;36m0\u001b[0m\u001b[1;33m)\u001b[0m\u001b[1;33m)\u001b[0m\u001b[1;33m\u001b[0m\u001b[1;33m\u001b[0m\u001b[0m\n\u001b[0;32m      5\u001b[0m \u001b[1;33m.\u001b[0m\u001b[0massign\u001b[0m\u001b[1;33m(\u001b[0m\u001b[0mclv_dcf\u001b[0m \u001b[1;33m=\u001b[0m \u001b[1;32mlambda\u001b[0m \u001b[0md\u001b[0m\u001b[1;33m:\u001b[0m \u001b[0md\u001b[0m\u001b[1;33m[\u001b[0m\u001b[1;34m'clv_dcf'\u001b[0m\u001b[1;33m]\u001b[0m\u001b[1;33m.\u001b[0m\u001b[0mfillna\u001b[0m\u001b[1;33m(\u001b[0m\u001b[0mvalue\u001b[0m\u001b[1;33m=\u001b[0m\u001b[1;36m0\u001b[0m\u001b[1;33m)\u001b[0m\u001b[1;33m)\u001b[0m\u001b[1;33m\u001b[0m\u001b[1;33m\u001b[0m\u001b[0m\n",
      "\u001b[1;32m~\\AppData\\Local\\Continuum\\anaconda3\\lib\\site-packages\\pandas\\core\\frame.py\u001b[0m in \u001b[0;36mmerge\u001b[1;34m(self, right, how, on, left_on, right_on, left_index, right_index, sort, suffixes, copy, indicator, validate)\u001b[0m\n\u001b[0;32m   7347\u001b[0m             \u001b[0mcopy\u001b[0m\u001b[1;33m=\u001b[0m\u001b[0mcopy\u001b[0m\u001b[1;33m,\u001b[0m\u001b[1;33m\u001b[0m\u001b[1;33m\u001b[0m\u001b[0m\n\u001b[0;32m   7348\u001b[0m             \u001b[0mindicator\u001b[0m\u001b[1;33m=\u001b[0m\u001b[0mindicator\u001b[0m\u001b[1;33m,\u001b[0m\u001b[1;33m\u001b[0m\u001b[1;33m\u001b[0m\u001b[0m\n\u001b[1;32m-> 7349\u001b[1;33m             \u001b[0mvalidate\u001b[0m\u001b[1;33m=\u001b[0m\u001b[0mvalidate\u001b[0m\u001b[1;33m,\u001b[0m\u001b[1;33m\u001b[0m\u001b[1;33m\u001b[0m\u001b[0m\n\u001b[0m\u001b[0;32m   7350\u001b[0m         )\n\u001b[0;32m   7351\u001b[0m \u001b[1;33m\u001b[0m\u001b[0m\n",
      "\u001b[1;32m~\\AppData\\Local\\Continuum\\anaconda3\\lib\\site-packages\\pandas\\core\\reshape\\merge.py\u001b[0m in \u001b[0;36mmerge\u001b[1;34m(left, right, how, on, left_on, right_on, left_index, right_index, sort, suffixes, copy, indicator, validate)\u001b[0m\n\u001b[0;32m     79\u001b[0m         \u001b[0mcopy\u001b[0m\u001b[1;33m=\u001b[0m\u001b[0mcopy\u001b[0m\u001b[1;33m,\u001b[0m\u001b[1;33m\u001b[0m\u001b[1;33m\u001b[0m\u001b[0m\n\u001b[0;32m     80\u001b[0m         \u001b[0mindicator\u001b[0m\u001b[1;33m=\u001b[0m\u001b[0mindicator\u001b[0m\u001b[1;33m,\u001b[0m\u001b[1;33m\u001b[0m\u001b[1;33m\u001b[0m\u001b[0m\n\u001b[1;32m---> 81\u001b[1;33m         \u001b[0mvalidate\u001b[0m\u001b[1;33m=\u001b[0m\u001b[0mvalidate\u001b[0m\u001b[1;33m,\u001b[0m\u001b[1;33m\u001b[0m\u001b[1;33m\u001b[0m\u001b[0m\n\u001b[0m\u001b[0;32m     82\u001b[0m     )\n\u001b[0;32m     83\u001b[0m     \u001b[1;32mreturn\u001b[0m \u001b[0mop\u001b[0m\u001b[1;33m.\u001b[0m\u001b[0mget_result\u001b[0m\u001b[1;33m(\u001b[0m\u001b[1;33m)\u001b[0m\u001b[1;33m\u001b[0m\u001b[1;33m\u001b[0m\u001b[0m\n",
      "\u001b[1;32m~\\AppData\\Local\\Continuum\\anaconda3\\lib\\site-packages\\pandas\\core\\reshape\\merge.py\u001b[0m in \u001b[0;36m__init__\u001b[1;34m(self, left, right, how, on, left_on, right_on, axis, left_index, right_index, sort, suffixes, copy, indicator, validate)\u001b[0m\n\u001b[0;32m    624\u001b[0m             \u001b[0mself\u001b[0m\u001b[1;33m.\u001b[0m\u001b[0mright_join_keys\u001b[0m\u001b[1;33m,\u001b[0m\u001b[1;33m\u001b[0m\u001b[1;33m\u001b[0m\u001b[0m\n\u001b[0;32m    625\u001b[0m             \u001b[0mself\u001b[0m\u001b[1;33m.\u001b[0m\u001b[0mjoin_names\u001b[0m\u001b[1;33m,\u001b[0m\u001b[1;33m\u001b[0m\u001b[1;33m\u001b[0m\u001b[0m\n\u001b[1;32m--> 626\u001b[1;33m         ) = self._get_merge_keys()\n\u001b[0m\u001b[0;32m    627\u001b[0m \u001b[1;33m\u001b[0m\u001b[0m\n\u001b[0;32m    628\u001b[0m         \u001b[1;31m# validate the merge keys dtypes. We may need to coerce\u001b[0m\u001b[1;33m\u001b[0m\u001b[1;33m\u001b[0m\u001b[1;33m\u001b[0m\u001b[0m\n",
      "\u001b[1;32m~\\AppData\\Local\\Continuum\\anaconda3\\lib\\site-packages\\pandas\\core\\reshape\\merge.py\u001b[0m in \u001b[0;36m_get_merge_keys\u001b[1;34m(self)\u001b[0m\n\u001b[0;32m    973\u001b[0m                     \u001b[1;32mif\u001b[0m \u001b[1;32mnot\u001b[0m \u001b[0mis_rkey\u001b[0m\u001b[1;33m(\u001b[0m\u001b[0mrk\u001b[0m\u001b[1;33m)\u001b[0m\u001b[1;33m:\u001b[0m\u001b[1;33m\u001b[0m\u001b[1;33m\u001b[0m\u001b[0m\n\u001b[0;32m    974\u001b[0m                         \u001b[1;32mif\u001b[0m \u001b[0mrk\u001b[0m \u001b[1;32mis\u001b[0m \u001b[1;32mnot\u001b[0m \u001b[1;32mNone\u001b[0m\u001b[1;33m:\u001b[0m\u001b[1;33m\u001b[0m\u001b[1;33m\u001b[0m\u001b[0m\n\u001b[1;32m--> 975\u001b[1;33m                             \u001b[0mright_keys\u001b[0m\u001b[1;33m.\u001b[0m\u001b[0mappend\u001b[0m\u001b[1;33m(\u001b[0m\u001b[0mright\u001b[0m\u001b[1;33m.\u001b[0m\u001b[0m_get_label_or_level_values\u001b[0m\u001b[1;33m(\u001b[0m\u001b[0mrk\u001b[0m\u001b[1;33m)\u001b[0m\u001b[1;33m)\u001b[0m\u001b[1;33m\u001b[0m\u001b[1;33m\u001b[0m\u001b[0m\n\u001b[0m\u001b[0;32m    976\u001b[0m                         \u001b[1;32melse\u001b[0m\u001b[1;33m:\u001b[0m\u001b[1;33m\u001b[0m\u001b[1;33m\u001b[0m\u001b[0m\n\u001b[0;32m    977\u001b[0m                             \u001b[1;31m# work-around for merge_asof(right_index=True)\u001b[0m\u001b[1;33m\u001b[0m\u001b[1;33m\u001b[0m\u001b[1;33m\u001b[0m\u001b[0m\n",
      "\u001b[1;32m~\\AppData\\Local\\Continuum\\anaconda3\\lib\\site-packages\\pandas\\core\\generic.py\u001b[0m in \u001b[0;36m_get_label_or_level_values\u001b[1;34m(self, key, axis)\u001b[0m\n\u001b[0;32m   1772\u001b[0m             \u001b[0mvalues\u001b[0m \u001b[1;33m=\u001b[0m \u001b[0mself\u001b[0m\u001b[1;33m.\u001b[0m\u001b[0maxes\u001b[0m\u001b[1;33m[\u001b[0m\u001b[0maxis\u001b[0m\u001b[1;33m]\u001b[0m\u001b[1;33m.\u001b[0m\u001b[0mget_level_values\u001b[0m\u001b[1;33m(\u001b[0m\u001b[0mkey\u001b[0m\u001b[1;33m)\u001b[0m\u001b[1;33m.\u001b[0m\u001b[0m_values\u001b[0m\u001b[1;33m\u001b[0m\u001b[1;33m\u001b[0m\u001b[0m\n\u001b[0;32m   1773\u001b[0m         \u001b[1;32melse\u001b[0m\u001b[1;33m:\u001b[0m\u001b[1;33m\u001b[0m\u001b[1;33m\u001b[0m\u001b[0m\n\u001b[1;32m-> 1774\u001b[1;33m             \u001b[1;32mraise\u001b[0m \u001b[0mKeyError\u001b[0m\u001b[1;33m(\u001b[0m\u001b[0mkey\u001b[0m\u001b[1;33m)\u001b[0m\u001b[1;33m\u001b[0m\u001b[1;33m\u001b[0m\u001b[0m\n\u001b[0m\u001b[0;32m   1775\u001b[0m \u001b[1;33m\u001b[0m\u001b[0m\n\u001b[0;32m   1776\u001b[0m         \u001b[1;31m# Check for duplicates\u001b[0m\u001b[1;33m\u001b[0m\u001b[1;33m\u001b[0m\u001b[1;33m\u001b[0m\u001b[0m\n",
      "\u001b[1;31mKeyError\u001b[0m: 'sfid'"
     ]
    }
   ],
   "source": [
    "clv_to_merge = pd.DataFrame(clv).merge(clv_dcf,on='sfid', how='left').reset_index().rename(columns={'clv': 'clv_dcf',\n",
    "                                                                                                    0: 'clv'})\n",
    "clv_to_merge = (clv_to_merge\n",
    ".assign(clv = lambda d: d['clv'].fillna(value=0))\n",
    ".assign(clv_dcf = lambda d: d['clv_dcf'].fillna(value=0))\n",
    ".assign(norm_clv = lambda d: normalize(d['clv']))\n",
    ".assign(norm_clv_dcf = lambda d: normalize(d['clv_dcf']))\n",
    ")"
   ]
  },
  {
   "cell_type": "code",
   "execution_count": null,
   "metadata": {},
   "outputs": [],
   "source": []
  }
 ],
 "metadata": {
  "kernelspec": {
   "display_name": "Python 3",
   "language": "python",
   "name": "python3"
  },
  "language_info": {
   "codemirror_mode": {
    "name": "ipython",
    "version": 3
   },
   "file_extension": ".py",
   "mimetype": "text/x-python",
   "name": "python",
   "nbconvert_exporter": "python",
   "pygments_lexer": "ipython3",
   "version": "3.7.5"
  }
 },
 "nbformat": 4,
 "nbformat_minor": 2
}
