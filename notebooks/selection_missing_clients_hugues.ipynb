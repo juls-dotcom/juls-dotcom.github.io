{
 "cells": [
  {
   "cell_type": "code",
   "execution_count": 1,
   "metadata": {
    "ExecuteTime": {
     "end_time": "2020-02-26T14:42:06.049367Z",
     "start_time": "2020-02-26T14:42:00.661761Z"
    }
   },
   "outputs": [],
   "source": [
    "import os \n",
    "import pandas as pd \n",
    "os.chdir('D:\\\\')"
   ]
  },
  {
   "cell_type": "code",
   "execution_count": 253,
   "metadata": {
    "ExecuteTime": {
     "end_time": "2020-02-26T16:52:00.790295Z",
     "start_time": "2020-02-26T16:51:57.298534Z"
    }
   },
   "outputs": [],
   "source": [
    "# Extract active customers last 12 months\n",
    "activ_cust = pd.read_csv('New Document3.csv')"
   ]
  },
  {
   "cell_type": "code",
   "execution_count": 2,
   "metadata": {
    "ExecuteTime": {
     "end_time": "2020-02-26T14:42:54.656533Z",
     "start_time": "2020-02-26T14:42:06.049367Z"
    }
   },
   "outputs": [],
   "source": [
    "# Extract all opt in customers\n",
    "df_enriched = pd.read_csv('RE_ORSAY_NL_Score_Master_enriched20200225.csv',\n",
    "                      sep=',',\n",
    "                      dtype='str'\n",
    "                      #encoding='utf-16',\n",
    "                      #usecols=[\"SubscriberKey\", \"EmailOptInStatus\", \"Email_Confirmation_Date\", \"CardID\"]\n",
    "                     )"
   ]
  },
  {
   "cell_type": "code",
   "execution_count": 222,
   "metadata": {
    "ExecuteTime": {
     "end_time": "2020-02-26T16:26:53.293171Z",
     "start_time": "2020-02-26T16:26:53.058769Z"
    }
   },
   "outputs": [],
   "source": [
    "activ_cust = act_cust_2.copy()"
   ]
  },
  {
   "cell_type": "code",
   "execution_count": 223,
   "metadata": {
    "ExecuteTime": {
     "end_time": "2020-02-26T16:28:01.980954Z",
     "start_time": "2020-02-26T16:26:56.278041Z"
    },
    "collapsed": true
   },
   "outputs": [
    {
     "ename": "KeyboardInterrupt",
     "evalue": "",
     "output_type": "error",
     "traceback": [
      "\u001b[1;31m---------------------------------------------------------------------------\u001b[0m",
      "\u001b[1;31mKeyboardInterrupt\u001b[0m                         Traceback (most recent call last)",
      "\u001b[1;32m<ipython-input-223-7631a7d75af8>\u001b[0m in \u001b[0;36m<module>\u001b[1;34m\u001b[0m\n\u001b[0;32m      1\u001b[0m \u001b[1;31m# Add OptIn date\u001b[0m\u001b[1;33m\u001b[0m\u001b[1;33m\u001b[0m\u001b[1;33m\u001b[0m\u001b[0m\n\u001b[1;32m----> 2\u001b[1;33m \u001b[0mdf_enriched\u001b[0m \u001b[1;33m=\u001b[0m \u001b[0mdf_enriched\u001b[0m\u001b[1;33m.\u001b[0m\u001b[0massign\u001b[0m\u001b[1;33m(\u001b[0m\u001b[0mdate_optin\u001b[0m \u001b[1;33m=\u001b[0m \u001b[1;32mlambda\u001b[0m \u001b[0md\u001b[0m\u001b[1;33m:\u001b[0m \u001b[0mpd\u001b[0m\u001b[1;33m.\u001b[0m\u001b[0mto_datetime\u001b[0m\u001b[1;33m(\u001b[0m\u001b[0md\u001b[0m\u001b[1;33m.\u001b[0m\u001b[0mEmail_Confirmation_Date\u001b[0m\u001b[1;33m)\u001b[0m\u001b[1;33m.\u001b[0m\u001b[0mdt\u001b[0m\u001b[1;33m.\u001b[0m\u001b[0mdate\u001b[0m\u001b[1;33m)\u001b[0m\u001b[1;33m\u001b[0m\u001b[1;33m\u001b[0m\u001b[0m\n\u001b[0m\u001b[0;32m      3\u001b[0m \u001b[1;31m# Remove member without club card\u001b[0m\u001b[1;33m\u001b[0m\u001b[1;33m\u001b[0m\u001b[1;33m\u001b[0m\u001b[0m\n\u001b[0;32m      4\u001b[0m \u001b[0mdf_enriched_club\u001b[0m \u001b[1;33m=\u001b[0m \u001b[0mdf_enriched\u001b[0m\u001b[1;33m.\u001b[0m\u001b[0mloc\u001b[0m\u001b[1;33m[\u001b[0m\u001b[0mdf_enriched\u001b[0m\u001b[1;33m[\u001b[0m\u001b[1;34m'CardID'\u001b[0m\u001b[1;33m]\u001b[0m\u001b[1;33m.\u001b[0m\u001b[0mnotna\u001b[0m\u001b[1;33m(\u001b[0m\u001b[1;33m)\u001b[0m\u001b[1;33m]\u001b[0m\u001b[1;33m\u001b[0m\u001b[1;33m\u001b[0m\u001b[0m\n\u001b[0;32m      5\u001b[0m \u001b[1;31m# Remove regains\u001b[0m\u001b[1;33m\u001b[0m\u001b[1;33m\u001b[0m\u001b[1;33m\u001b[0m\u001b[0m\n",
      "\u001b[1;32m~\\AppData\\Local\\Continuum\\anaconda3\\lib\\site-packages\\pandas\\core\\frame.py\u001b[0m in \u001b[0;36massign\u001b[1;34m(self, **kwargs)\u001b[0m\n\u001b[0;32m   3667\u001b[0m         \u001b[1;32mif\u001b[0m \u001b[0mPY36\u001b[0m\u001b[1;33m:\u001b[0m\u001b[1;33m\u001b[0m\u001b[1;33m\u001b[0m\u001b[0m\n\u001b[0;32m   3668\u001b[0m             \u001b[1;32mfor\u001b[0m \u001b[0mk\u001b[0m\u001b[1;33m,\u001b[0m \u001b[0mv\u001b[0m \u001b[1;32min\u001b[0m \u001b[0mkwargs\u001b[0m\u001b[1;33m.\u001b[0m\u001b[0mitems\u001b[0m\u001b[1;33m(\u001b[0m\u001b[1;33m)\u001b[0m\u001b[1;33m:\u001b[0m\u001b[1;33m\u001b[0m\u001b[1;33m\u001b[0m\u001b[0m\n\u001b[1;32m-> 3669\u001b[1;33m                 \u001b[0mdata\u001b[0m\u001b[1;33m[\u001b[0m\u001b[0mk\u001b[0m\u001b[1;33m]\u001b[0m \u001b[1;33m=\u001b[0m \u001b[0mcom\u001b[0m\u001b[1;33m.\u001b[0m\u001b[0mapply_if_callable\u001b[0m\u001b[1;33m(\u001b[0m\u001b[0mv\u001b[0m\u001b[1;33m,\u001b[0m \u001b[0mdata\u001b[0m\u001b[1;33m)\u001b[0m\u001b[1;33m\u001b[0m\u001b[1;33m\u001b[0m\u001b[0m\n\u001b[0m\u001b[0;32m   3670\u001b[0m         \u001b[1;32melse\u001b[0m\u001b[1;33m:\u001b[0m\u001b[1;33m\u001b[0m\u001b[1;33m\u001b[0m\u001b[0m\n\u001b[0;32m   3671\u001b[0m             \u001b[1;31m# <= 3.5: do all calculations first...\u001b[0m\u001b[1;33m\u001b[0m\u001b[1;33m\u001b[0m\u001b[1;33m\u001b[0m\u001b[0m\n",
      "\u001b[1;32m~\\AppData\\Local\\Continuum\\anaconda3\\lib\\site-packages\\pandas\\core\\common.py\u001b[0m in \u001b[0;36mapply_if_callable\u001b[1;34m(maybe_callable, obj, **kwargs)\u001b[0m\n\u001b[0;32m    363\u001b[0m \u001b[1;33m\u001b[0m\u001b[0m\n\u001b[0;32m    364\u001b[0m     \u001b[1;32mif\u001b[0m \u001b[0mcallable\u001b[0m\u001b[1;33m(\u001b[0m\u001b[0mmaybe_callable\u001b[0m\u001b[1;33m)\u001b[0m\u001b[1;33m:\u001b[0m\u001b[1;33m\u001b[0m\u001b[1;33m\u001b[0m\u001b[0m\n\u001b[1;32m--> 365\u001b[1;33m         \u001b[1;32mreturn\u001b[0m \u001b[0mmaybe_callable\u001b[0m\u001b[1;33m(\u001b[0m\u001b[0mobj\u001b[0m\u001b[1;33m,\u001b[0m \u001b[1;33m**\u001b[0m\u001b[0mkwargs\u001b[0m\u001b[1;33m)\u001b[0m\u001b[1;33m\u001b[0m\u001b[1;33m\u001b[0m\u001b[0m\n\u001b[0m\u001b[0;32m    366\u001b[0m \u001b[1;33m\u001b[0m\u001b[0m\n\u001b[0;32m    367\u001b[0m     \u001b[1;32mreturn\u001b[0m \u001b[0mmaybe_callable\u001b[0m\u001b[1;33m\u001b[0m\u001b[1;33m\u001b[0m\u001b[0m\n",
      "\u001b[1;32m<ipython-input-223-7631a7d75af8>\u001b[0m in \u001b[0;36m<lambda>\u001b[1;34m(d)\u001b[0m\n\u001b[0;32m      1\u001b[0m \u001b[1;31m# Add OptIn date\u001b[0m\u001b[1;33m\u001b[0m\u001b[1;33m\u001b[0m\u001b[1;33m\u001b[0m\u001b[0m\n\u001b[1;32m----> 2\u001b[1;33m \u001b[0mdf_enriched\u001b[0m \u001b[1;33m=\u001b[0m \u001b[0mdf_enriched\u001b[0m\u001b[1;33m.\u001b[0m\u001b[0massign\u001b[0m\u001b[1;33m(\u001b[0m\u001b[0mdate_optin\u001b[0m \u001b[1;33m=\u001b[0m \u001b[1;32mlambda\u001b[0m \u001b[0md\u001b[0m\u001b[1;33m:\u001b[0m \u001b[0mpd\u001b[0m\u001b[1;33m.\u001b[0m\u001b[0mto_datetime\u001b[0m\u001b[1;33m(\u001b[0m\u001b[0md\u001b[0m\u001b[1;33m.\u001b[0m\u001b[0mEmail_Confirmation_Date\u001b[0m\u001b[1;33m)\u001b[0m\u001b[1;33m.\u001b[0m\u001b[0mdt\u001b[0m\u001b[1;33m.\u001b[0m\u001b[0mdate\u001b[0m\u001b[1;33m)\u001b[0m\u001b[1;33m\u001b[0m\u001b[1;33m\u001b[0m\u001b[0m\n\u001b[0m\u001b[0;32m      3\u001b[0m \u001b[1;31m# Remove member without club card\u001b[0m\u001b[1;33m\u001b[0m\u001b[1;33m\u001b[0m\u001b[1;33m\u001b[0m\u001b[0m\n\u001b[0;32m      4\u001b[0m \u001b[0mdf_enriched_club\u001b[0m \u001b[1;33m=\u001b[0m \u001b[0mdf_enriched\u001b[0m\u001b[1;33m.\u001b[0m\u001b[0mloc\u001b[0m\u001b[1;33m[\u001b[0m\u001b[0mdf_enriched\u001b[0m\u001b[1;33m[\u001b[0m\u001b[1;34m'CardID'\u001b[0m\u001b[1;33m]\u001b[0m\u001b[1;33m.\u001b[0m\u001b[0mnotna\u001b[0m\u001b[1;33m(\u001b[0m\u001b[1;33m)\u001b[0m\u001b[1;33m]\u001b[0m\u001b[1;33m\u001b[0m\u001b[1;33m\u001b[0m\u001b[0m\n\u001b[0;32m      5\u001b[0m \u001b[1;31m# Remove regains\u001b[0m\u001b[1;33m\u001b[0m\u001b[1;33m\u001b[0m\u001b[1;33m\u001b[0m\u001b[0m\n",
      "\u001b[1;32m~\\AppData\\Local\\Continuum\\anaconda3\\lib\\site-packages\\pandas\\util\\_decorators.py\u001b[0m in \u001b[0;36mwrapper\u001b[1;34m(*args, **kwargs)\u001b[0m\n\u001b[0;32m    206\u001b[0m                 \u001b[1;32melse\u001b[0m\u001b[1;33m:\u001b[0m\u001b[1;33m\u001b[0m\u001b[1;33m\u001b[0m\u001b[0m\n\u001b[0;32m    207\u001b[0m                     \u001b[0mkwargs\u001b[0m\u001b[1;33m[\u001b[0m\u001b[0mnew_arg_name\u001b[0m\u001b[1;33m]\u001b[0m \u001b[1;33m=\u001b[0m \u001b[0mnew_arg_value\u001b[0m\u001b[1;33m\u001b[0m\u001b[1;33m\u001b[0m\u001b[0m\n\u001b[1;32m--> 208\u001b[1;33m             \u001b[1;32mreturn\u001b[0m \u001b[0mfunc\u001b[0m\u001b[1;33m(\u001b[0m\u001b[1;33m*\u001b[0m\u001b[0margs\u001b[0m\u001b[1;33m,\u001b[0m \u001b[1;33m**\u001b[0m\u001b[0mkwargs\u001b[0m\u001b[1;33m)\u001b[0m\u001b[1;33m\u001b[0m\u001b[1;33m\u001b[0m\u001b[0m\n\u001b[0m\u001b[0;32m    209\u001b[0m \u001b[1;33m\u001b[0m\u001b[0m\n\u001b[0;32m    210\u001b[0m         \u001b[1;32mreturn\u001b[0m \u001b[0mwrapper\u001b[0m\u001b[1;33m\u001b[0m\u001b[1;33m\u001b[0m\u001b[0m\n",
      "\u001b[1;32m~\\AppData\\Local\\Continuum\\anaconda3\\lib\\site-packages\\pandas\\core\\tools\\datetimes.py\u001b[0m in \u001b[0;36mto_datetime\u001b[1;34m(arg, errors, dayfirst, yearfirst, utc, box, format, exact, unit, infer_datetime_format, origin, cache)\u001b[0m\n\u001b[0;32m    772\u001b[0m                 \u001b[0mresult\u001b[0m \u001b[1;33m=\u001b[0m \u001b[0mresult\u001b[0m\u001b[1;33m.\u001b[0m\u001b[0mtz_localize\u001b[0m\u001b[1;33m(\u001b[0m\u001b[0mtz\u001b[0m\u001b[1;33m)\u001b[0m\u001b[1;33m\u001b[0m\u001b[1;33m\u001b[0m\u001b[0m\n\u001b[0;32m    773\u001b[0m     \u001b[1;32melif\u001b[0m \u001b[0misinstance\u001b[0m\u001b[1;33m(\u001b[0m\u001b[0marg\u001b[0m\u001b[1;33m,\u001b[0m \u001b[0mABCSeries\u001b[0m\u001b[1;33m)\u001b[0m\u001b[1;33m:\u001b[0m\u001b[1;33m\u001b[0m\u001b[1;33m\u001b[0m\u001b[0m\n\u001b[1;32m--> 774\u001b[1;33m         \u001b[0mcache_array\u001b[0m \u001b[1;33m=\u001b[0m \u001b[0m_maybe_cache\u001b[0m\u001b[1;33m(\u001b[0m\u001b[0marg\u001b[0m\u001b[1;33m,\u001b[0m \u001b[0mformat\u001b[0m\u001b[1;33m,\u001b[0m \u001b[0mcache\u001b[0m\u001b[1;33m,\u001b[0m \u001b[0mconvert_listlike\u001b[0m\u001b[1;33m)\u001b[0m\u001b[1;33m\u001b[0m\u001b[1;33m\u001b[0m\u001b[0m\n\u001b[0m\u001b[0;32m    775\u001b[0m         \u001b[1;32mif\u001b[0m \u001b[1;32mnot\u001b[0m \u001b[0mcache_array\u001b[0m\u001b[1;33m.\u001b[0m\u001b[0mempty\u001b[0m\u001b[1;33m:\u001b[0m\u001b[1;33m\u001b[0m\u001b[1;33m\u001b[0m\u001b[0m\n\u001b[0;32m    776\u001b[0m             \u001b[0mresult\u001b[0m \u001b[1;33m=\u001b[0m \u001b[0marg\u001b[0m\u001b[1;33m.\u001b[0m\u001b[0mmap\u001b[0m\u001b[1;33m(\u001b[0m\u001b[0mcache_array\u001b[0m\u001b[1;33m)\u001b[0m\u001b[1;33m\u001b[0m\u001b[1;33m\u001b[0m\u001b[0m\n",
      "\u001b[1;32m~\\AppData\\Local\\Continuum\\anaconda3\\lib\\site-packages\\pandas\\core\\tools\\datetimes.py\u001b[0m in \u001b[0;36m_maybe_cache\u001b[1;34m(arg, format, cache, convert_listlike)\u001b[0m\n\u001b[0;32m    154\u001b[0m         \u001b[0munique_dates\u001b[0m \u001b[1;33m=\u001b[0m \u001b[0munique\u001b[0m\u001b[1;33m(\u001b[0m\u001b[0marg\u001b[0m\u001b[1;33m)\u001b[0m\u001b[1;33m\u001b[0m\u001b[1;33m\u001b[0m\u001b[0m\n\u001b[0;32m    155\u001b[0m         \u001b[1;32mif\u001b[0m \u001b[0mlen\u001b[0m\u001b[1;33m(\u001b[0m\u001b[0munique_dates\u001b[0m\u001b[1;33m)\u001b[0m \u001b[1;33m<\u001b[0m \u001b[0mlen\u001b[0m\u001b[1;33m(\u001b[0m\u001b[0marg\u001b[0m\u001b[1;33m)\u001b[0m\u001b[1;33m:\u001b[0m\u001b[1;33m\u001b[0m\u001b[1;33m\u001b[0m\u001b[0m\n\u001b[1;32m--> 156\u001b[1;33m             \u001b[0mcache_dates\u001b[0m \u001b[1;33m=\u001b[0m \u001b[0mconvert_listlike\u001b[0m\u001b[1;33m(\u001b[0m\u001b[0munique_dates\u001b[0m\u001b[1;33m,\u001b[0m \u001b[1;32mTrue\u001b[0m\u001b[1;33m,\u001b[0m \u001b[0mformat\u001b[0m\u001b[1;33m)\u001b[0m\u001b[1;33m\u001b[0m\u001b[1;33m\u001b[0m\u001b[0m\n\u001b[0m\u001b[0;32m    157\u001b[0m             \u001b[0mcache_array\u001b[0m \u001b[1;33m=\u001b[0m \u001b[0mSeries\u001b[0m\u001b[1;33m(\u001b[0m\u001b[0mcache_dates\u001b[0m\u001b[1;33m,\u001b[0m \u001b[0mindex\u001b[0m\u001b[1;33m=\u001b[0m\u001b[0munique_dates\u001b[0m\u001b[1;33m)\u001b[0m\u001b[1;33m\u001b[0m\u001b[1;33m\u001b[0m\u001b[0m\n\u001b[0;32m    158\u001b[0m     \u001b[1;32mreturn\u001b[0m \u001b[0mcache_array\u001b[0m\u001b[1;33m\u001b[0m\u001b[1;33m\u001b[0m\u001b[0m\n",
      "\u001b[1;32m~\\AppData\\Local\\Continuum\\anaconda3\\lib\\site-packages\\pandas\\core\\tools\\datetimes.py\u001b[0m in \u001b[0;36m_convert_listlike_datetimes\u001b[1;34m(arg, box, format, name, tz, unit, errors, infer_datetime_format, dayfirst, yearfirst, exact)\u001b[0m\n\u001b[0;32m    461\u001b[0m             \u001b[0merrors\u001b[0m\u001b[1;33m=\u001b[0m\u001b[0merrors\u001b[0m\u001b[1;33m,\u001b[0m\u001b[1;33m\u001b[0m\u001b[1;33m\u001b[0m\u001b[0m\n\u001b[0;32m    462\u001b[0m             \u001b[0mrequire_iso8601\u001b[0m\u001b[1;33m=\u001b[0m\u001b[0mrequire_iso8601\u001b[0m\u001b[1;33m,\u001b[0m\u001b[1;33m\u001b[0m\u001b[1;33m\u001b[0m\u001b[0m\n\u001b[1;32m--> 463\u001b[1;33m             \u001b[0mallow_object\u001b[0m\u001b[1;33m=\u001b[0m\u001b[1;32mTrue\u001b[0m\u001b[1;33m,\u001b[0m\u001b[1;33m\u001b[0m\u001b[1;33m\u001b[0m\u001b[0m\n\u001b[0m\u001b[0;32m    464\u001b[0m         )\n\u001b[0;32m    465\u001b[0m \u001b[1;33m\u001b[0m\u001b[0m\n",
      "\u001b[1;32m~\\AppData\\Local\\Continuum\\anaconda3\\lib\\site-packages\\pandas\\core\\arrays\\datetimes.py\u001b[0m in \u001b[0;36mobjects_to_datetime64ns\u001b[1;34m(data, dayfirst, yearfirst, utc, errors, require_iso8601, allow_object)\u001b[0m\n\u001b[0;32m   1973\u001b[0m             \u001b[0mdayfirst\u001b[0m\u001b[1;33m=\u001b[0m\u001b[0mdayfirst\u001b[0m\u001b[1;33m,\u001b[0m\u001b[1;33m\u001b[0m\u001b[1;33m\u001b[0m\u001b[0m\n\u001b[0;32m   1974\u001b[0m             \u001b[0myearfirst\u001b[0m\u001b[1;33m=\u001b[0m\u001b[0myearfirst\u001b[0m\u001b[1;33m,\u001b[0m\u001b[1;33m\u001b[0m\u001b[1;33m\u001b[0m\u001b[0m\n\u001b[1;32m-> 1975\u001b[1;33m             \u001b[0mrequire_iso8601\u001b[0m\u001b[1;33m=\u001b[0m\u001b[0mrequire_iso8601\u001b[0m\u001b[1;33m,\u001b[0m\u001b[1;33m\u001b[0m\u001b[1;33m\u001b[0m\u001b[0m\n\u001b[0m\u001b[0;32m   1976\u001b[0m         )\n\u001b[0;32m   1977\u001b[0m     \u001b[1;32mexcept\u001b[0m \u001b[0mValueError\u001b[0m \u001b[1;32mas\u001b[0m \u001b[0me\u001b[0m\u001b[1;33m:\u001b[0m\u001b[1;33m\u001b[0m\u001b[1;33m\u001b[0m\u001b[0m\n",
      "\u001b[1;32mpandas/_libs/tslib.pyx\u001b[0m in \u001b[0;36mpandas._libs.tslib.array_to_datetime\u001b[1;34m()\u001b[0m\n",
      "\u001b[1;32mpandas/_libs/tslib.pyx\u001b[0m in \u001b[0;36mpandas._libs.tslib.array_to_datetime\u001b[1;34m()\u001b[0m\n",
      "\u001b[1;32mpandas/_libs/tslibs/parsing.pyx\u001b[0m in \u001b[0;36mpandas._libs.tslibs.parsing.parse_datetime_string\u001b[1;34m()\u001b[0m\n",
      "\u001b[1;32mpandas/_libs/tslibs/parsing.pyx\u001b[0m in \u001b[0;36mpandas._libs.tslibs.parsing._parse_dateabbr_string\u001b[1;34m()\u001b[0m\n",
      "\u001b[1;32m~\\AppData\\Local\\Continuum\\anaconda3\\lib\\_strptime.py\u001b[0m in \u001b[0;36m_strptime_datetime\u001b[1;34m(cls, data_string, format)\u001b[0m\n\u001b[0;32m    575\u001b[0m     \"\"\"Return a class cls instance based on the input string and the\n\u001b[0;32m    576\u001b[0m     format string.\"\"\"\n\u001b[1;32m--> 577\u001b[1;33m     \u001b[0mtt\u001b[0m\u001b[1;33m,\u001b[0m \u001b[0mfraction\u001b[0m\u001b[1;33m,\u001b[0m \u001b[0mgmtoff_fraction\u001b[0m \u001b[1;33m=\u001b[0m \u001b[0m_strptime\u001b[0m\u001b[1;33m(\u001b[0m\u001b[0mdata_string\u001b[0m\u001b[1;33m,\u001b[0m \u001b[0mformat\u001b[0m\u001b[1;33m)\u001b[0m\u001b[1;33m\u001b[0m\u001b[1;33m\u001b[0m\u001b[0m\n\u001b[0m\u001b[0;32m    578\u001b[0m     \u001b[0mtzname\u001b[0m\u001b[1;33m,\u001b[0m \u001b[0mgmtoff\u001b[0m \u001b[1;33m=\u001b[0m \u001b[0mtt\u001b[0m\u001b[1;33m[\u001b[0m\u001b[1;33m-\u001b[0m\u001b[1;36m2\u001b[0m\u001b[1;33m:\u001b[0m\u001b[1;33m]\u001b[0m\u001b[1;33m\u001b[0m\u001b[1;33m\u001b[0m\u001b[0m\n\u001b[0;32m    579\u001b[0m     \u001b[0margs\u001b[0m \u001b[1;33m=\u001b[0m \u001b[0mtt\u001b[0m\u001b[1;33m[\u001b[0m\u001b[1;33m:\u001b[0m\u001b[1;36m6\u001b[0m\u001b[1;33m]\u001b[0m \u001b[1;33m+\u001b[0m \u001b[1;33m(\u001b[0m\u001b[0mfraction\u001b[0m\u001b[1;33m,\u001b[0m\u001b[1;33m)\u001b[0m\u001b[1;33m\u001b[0m\u001b[1;33m\u001b[0m\u001b[0m\n",
      "\u001b[1;31mKeyboardInterrupt\u001b[0m: "
     ]
    }
   ],
   "source": [
    "# Add OptIn date\n",
    "df_enriched = df_enriched.assign(date_optin = lambda d: pd.to_datetime(d.Email_Confirmation_Date).dt.date)\n",
    "# Remove member without club card\n",
    "df_enriched_club = df_enriched.loc[df_enriched['CardID'].notna()]\n",
    "# Remove regains\n",
    "#df_keys_club = df_keys_club.loc[~(df_keys_club.ScoreGroup == 'Regain')]\n",
    "#print(str(df_keys_club.ScoreGroup.unique()))\n",
    "# Remove non active customers"
   ]
  },
  {
   "cell_type": "code",
   "execution_count": 254,
   "metadata": {
    "ExecuteTime": {
     "end_time": "2020-02-26T16:52:21.802745Z",
     "start_time": "2020-02-26T16:52:11.817237Z"
    }
   },
   "outputs": [],
   "source": [
    "selected_active_customer = pd.merge(df_enriched_club, \n",
    "                                    activ_cust, \n",
    "                                    left_on = 'SubscriberKey',\n",
    "                                    right_on = 'Customer Salesforce ID',\n",
    "                                    how = 'inner')\n",
    "\n",
    "selected_active_customer =  selected_active_customer.loc[~(selected_active_customer['Turnover with VAT Euro'].isna())]\n",
    "\n",
    "\n",
    "#selected_active_customer =  selected_active_customer.loc[~(selected_active_customer['Histo_Club member turnover last 12 months Euro (Measure)'].isna())]"
   ]
  },
  {
   "cell_type": "code",
   "execution_count": 245,
   "metadata": {
    "ExecuteTime": {
     "end_time": "2020-02-26T16:32:43.037249Z",
     "start_time": "2020-02-26T16:32:43.021802Z"
    }
   },
   "outputs": [
    {
     "data": {
      "text/plain": [
       "(2571645, 54)"
      ]
     },
     "execution_count": 245,
     "metadata": {},
     "output_type": "execute_result"
    }
   ],
   "source": [
    "selected_active_customer.shape"
   ]
  },
  {
   "cell_type": "code",
   "execution_count": 255,
   "metadata": {
    "ExecuteTime": {
     "end_time": "2020-02-26T16:52:21.818382Z",
     "start_time": "2020-02-26T16:52:21.802745Z"
    }
   },
   "outputs": [
    {
     "data": {
      "text/plain": [
       "(1958222, 54)"
      ]
     },
     "execution_count": 255,
     "metadata": {},
     "output_type": "execute_result"
    }
   ],
   "source": [
    "selected_active_customer.shape"
   ]
  },
  {
   "cell_type": "code",
   "execution_count": 37,
   "metadata": {
    "ExecuteTime": {
     "end_time": "2020-02-26T14:50:56.263372Z",
     "start_time": "2020-02-26T14:50:52.340615Z"
    }
   },
   "outputs": [],
   "source": [
    "# Select customers NL contacted for Spring Special\n",
    "selected_spring_special = pd.read_csv('Spring_Special_2020_NL20200226.csv',decimal=',')"
   ]
  },
  {
   "cell_type": "code",
   "execution_count": 256,
   "metadata": {
    "ExecuteTime": {
     "end_time": "2020-02-26T16:52:49.685174Z",
     "start_time": "2020-02-26T16:52:38.135732Z"
    }
   },
   "outputs": [],
   "source": [
    "# Exclude customers that were contacted with NL for Spring special\n",
    "temp = (pd\n",
    "    .merge(selected_active_customer,selected_spring_special, left_on = 'SubscriberKey', right_on = 'ContactId', how='left'))\n",
    "selected_customers = temp.loc[temp.Campaign_Control_Group__c.isna()]"
   ]
  },
  {
   "cell_type": "code",
   "execution_count": 257,
   "metadata": {
    "ExecuteTime": {
     "end_time": "2020-02-26T16:52:49.700802Z",
     "start_time": "2020-02-26T16:52:49.685174Z"
    }
   },
   "outputs": [
    {
     "data": {
      "text/plain": [
       "(686593, 77)"
      ]
     },
     "execution_count": 257,
     "metadata": {},
     "output_type": "execute_result"
    }
   ],
   "source": [
    "selected_customers.shape"
   ]
  },
  {
   "cell_type": "code",
   "execution_count": 29,
   "metadata": {
    "ExecuteTime": {
     "end_time": "2020-02-26T14:48:53.169496Z",
     "start_time": "2020-02-26T14:48:43.074541Z"
    }
   },
   "outputs": [],
   "source": [
    "# Select customers contacted through other comm streams for Spring Special\n",
    "cust_all_comm = pd.read_csv('Total_spring_2020_with_com_stream20200225.csv')"
   ]
  },
  {
   "cell_type": "markdown",
   "metadata": {},
   "source": [
    "### NEED TO EXCLUDE OTHER CUSTOMERS "
   ]
  },
  {
   "cell_type": "code",
   "execution_count": 258,
   "metadata": {
    "ExecuteTime": {
     "end_time": "2020-02-26T16:52:59.566424Z",
     "start_time": "2020-02-26T16:52:59.550798Z"
    }
   },
   "outputs": [],
   "source": [
    "class style:\n",
    "   PURPLE = '\\033[95m'\n",
    "   CYAN = '\\033[96m'\n",
    "   DARKCYAN = '\\033[36m'\n",
    "   BLUE = '\\033[94m'\n",
    "   GREEN = '\\033[92m'\n",
    "   YELLOW = '\\033[93m'\n",
    "   RED = '\\033[91m'\n",
    "   BOLD = '\\033[1m'\n",
    "   UNDERLINE = '\\033[4m'\n",
    "   END = '\\033[0m'"
   ]
  },
  {
   "cell_type": "code",
   "execution_count": 259,
   "metadata": {
    "ExecuteTime": {
     "end_time": "2020-02-26T16:52:59.786444Z",
     "start_time": "2020-02-26T16:52:59.770821Z"
    }
   },
   "outputs": [],
   "source": [
    "def mask(dataf, country, percent_ctrl = 0.05, lower_threshold_for_ctrl=100, upper_threshold_for_ctrl=1000):\n",
    "    # Initial dictionnary in absolute number of customers\n",
    "    # Currently not used\n",
    "#     dict_group = {'WH_Email': 500, \n",
    "#                   'WH': 10, \n",
    "#                   'WH_Push': 500, \n",
    "#                   'Email': 100, \n",
    "#                   'Email_Push': 1000, \n",
    "#                   'Push': 100}\n",
    "    ctrl_size = (np.ceil(percent_ctrl*dataf.shape[0])).astype(int)\n",
    "    if ctrl_size >= upper_threshold_for_ctrl: # Set control size to maximum of 1000 if we get more than that\n",
    "            ctrl_size = int(1000)    \n",
    "        #    print('Too many customers in control ' + str(dataf['comm_stream'].iloc[0]))\n",
    "            print('Control size = ' + str(ctrl_size) + str(country))\n",
    "    elif ctrl_size < lower_threshold_for_ctrl:\n",
    "            ctrl_size = int(0)\n",
    "#         mask_ctrl = np.zeros(dataf.shape[0]) # No controls if less than X individuals\n",
    "        #    print('Not enough customers in control ' + str(dataf['comm_stream'].iloc[0]))\n",
    "           # print('Only '+ str(dataf.shape[0]) + ' customers for ' +  str(dataf['comm_stream'].iloc[0]))\n",
    "            print('ISSUE')\n",
    "    else:        \n",
    "            print('Between ' + str(lower_threshold_for_ctrl) \n",
    "              +  ' and ' + str(upper_threshold_for_ctrl) + ' customers in control ' + str(country))\n",
    "            print(str(percent_ctrl*100) + '% taken as ctrl size (' + str(ctrl_size) + ' customers).'  + str(country))\n",
    "        \n",
    "    experiment_size = (dataf.shape[0] - ctrl_size)#.astype(int)\n",
    "\n",
    "    mask_ctrl =  pd.Series(np.random.permutation(np.concatenate([np.ones(ctrl_size,\n",
    "                                                                   #dtype=np.int64\n",
    "                                                                        ),\n",
    "                                                                 np.zeros(experiment_size,\n",
    "                                                                   #dtype=np.int64\n",
    "                                                                   )])))\n",
    "\n",
    "    return mask_ctrl"
   ]
  },
  {
   "cell_type": "code",
   "execution_count": 260,
   "metadata": {
    "ExecuteTime": {
     "end_time": "2020-02-26T16:53:01.484124Z",
     "start_time": "2020-02-26T16:52:59.988747Z"
    }
   },
   "outputs": [
    {
     "name": "stdout",
     "output_type": "stream",
     "text": [
      "AT\n",
      "Between 500 and 1000 customers in control AT\n",
      "5.0% taken as ctrl size (718 customers).AT\n",
      "CH\n",
      "ISSUE\n",
      "CZ\n",
      "Control size = 1000CZ\n",
      "DE\n",
      "Control size = 1000DE\n",
      "HR\n",
      "ISSUE\n",
      "HU\n",
      "Between 500 and 1000 customers in control HU\n",
      "5.0% taken as ctrl size (987 customers).HU\n",
      "MT\n",
      "ISSUE\n",
      "PL\n",
      "Control size = 1000PL\n",
      "RO\n",
      "Control size = 1000RO\n",
      "RS\n",
      "ISSUE\n",
      "SI\n",
      "ISSUE\n",
      "SK\n",
      "Between 500 and 1000 customers in control SK\n",
      "5.0% taken as ctrl size (656 customers).SK\n"
     ]
    },
    {
     "data": {
      "text/plain": [
       "0"
      ]
     },
     "execution_count": 260,
     "metadata": {},
     "output_type": "execute_result"
    }
   ],
   "source": [
    "DOI = selected_customers[['SubscriberKey',\n",
    "                  'ContactId',\n",
    "                  'CampaignId',\n",
    "                  'CardID_x', \n",
    "                  'Country_x',\n",
    "                  'Language_x']]\n",
    "DOI = DOI.loc[~(DOI.Country_x.isna())]\n",
    "\n",
    "DOI = DOI.sort_values(by='Country_x')\n",
    "countries = DOI.Country_x.unique()\n",
    "ctrl = pd.Series({})\n",
    "for i in countries:\n",
    "    country = i\n",
    "    print(country)\n",
    "    test = DOI.loc[DOI.Country_x == country]\n",
    "    test_ctrl = mask(test, \n",
    "                     percent_ctrl = 0.05, \n",
    "                     lower_threshold_for_ctrl=500, \n",
    "                     upper_threshold_for_ctrl=1000,\n",
    "                     country = country)\n",
    "                    \n",
    "    ctrl = ctrl.append(test_ctrl)\n",
    "\n",
    "# Assign control column\n",
    "DOI = DOI.assign(control = ctrl.astype(int).tolist())\n",
    "DOI.loc[DOI.Country_x == 'SI'].control.sum()"
   ]
  },
  {
   "cell_type": "code",
   "execution_count": 261,
   "metadata": {
    "ExecuteTime": {
     "end_time": "2020-02-26T16:53:02.307143Z",
     "start_time": "2020-02-26T16:53:01.484124Z"
    }
   },
   "outputs": [],
   "source": [
    "# Assign coupon code\n",
    "DOI = (DOI\n",
    "#.loc[~(Country_x == 'PL')]\n",
    ".assign(coupon_code_not_PL = lambda d: d['CardID_x'].astype(str) + '0021263')\n",
    "#.assign(coupon_code_PL = lambda d: d['CardID_x'].astype(str) + '0021265')       \n",
    ")\n",
    "# Assign different ID for PL\n",
    "DOI.loc[(DOI.Country_x == 'PL')] = (DOI\n",
    ".loc[(DOI.Country_x == 'PL')]\n",
    ".assign(coupon_code_not_PL = lambda d: d['CardID_x'].astype(str) + '0021265'))"
   ]
  },
  {
   "cell_type": "code",
   "execution_count": 262,
   "metadata": {
    "ExecuteTime": {
     "end_time": "2020-02-26T16:53:02.657306Z",
     "start_time": "2020-02-26T16:53:02.500245Z"
    }
   },
   "outputs": [],
   "source": [
    "DOI.columns = [c.lower() for c in DOI.columns]\n",
    "DOI = DOI.rename(columns = {'cardid_x': 'card_number',\n",
    "                            'country_x': 'country',\n",
    "                            'language_x': 'language',\n",
    "                            'campaign_id': 'campaign_id',\n",
    "                            'contact_id': 'contact_id'})"
   ]
  },
  {
   "cell_type": "code",
   "execution_count": 263,
   "metadata": {
    "ExecuteTime": {
     "end_time": "2020-02-26T16:53:03.242067Z",
     "start_time": "2020-02-26T16:53:03.111006Z"
    }
   },
   "outputs": [],
   "source": [
    "# Define Campaign ID per country\n",
    "dict_campaign_id = {'AT': '7011i000000Lm0ZAAS',\n",
    "                    'CH': '7011i000000Lm0aAAC',\n",
    "                    'CZ': '7011i000000Lm0bAAC',\n",
    "                    'HR': '7011i000000Lm0cAAC',\n",
    "                    'HU': '7011i000000Lm0dAAC',\n",
    "                    'PL': '7011i000000Lm0eAAC',\n",
    "                    'SI': '7011i000000Lm0fAAC',\n",
    "                    'DE': '7011i000000Lm0gAAC',\n",
    "                    'RO': '7011i000000Lm0hAAC',\n",
    "                    'RS': '7011i000000Lm0iAAC',\n",
    "                    'SK': '7011i000000Lm0jAAC'}\n",
    "# Map Campaign ID\n",
    "DOI = DOI.assign(campaignId = lambda d: d.country.map(dict_campaign_id))"
   ]
  },
  {
   "cell_type": "code",
   "execution_count": 264,
   "metadata": {
    "ExecuteTime": {
     "end_time": "2020-02-26T16:53:04.455557Z",
     "start_time": "2020-02-26T16:53:04.174386Z"
    }
   },
   "outputs": [],
   "source": [
    "# Define Campaign ID per country\n",
    "dict_target_id = {'AT': '74cebf94-c230-4ae3-9f85-51dc7c6b280b',\n",
    "                  'CH': '59935812-6cf3-433e-b0c5-5e6183e31e47',\n",
    "                  'CZ': 'a4f09b91-eb54-4457-a268-2a4229a034e0',\n",
    "                  'HR': 'eed8c754-41d1-4858-8530-6a79b356fe27',\n",
    "                  'HU': '30d77959-b153-4311-91e1-a01b72d15753',\n",
    "                  'PL': '5d6ed4c2-0499-4614-9786-b1ff157e69d5',\n",
    "                  'SI': '41877613-e5a8-43a2-b59f-e6ec64c0c5f1',\n",
    "                  'DE': '6927b017-678b-4e04-b7f8-f5434a01e676',\n",
    "                  'RO': 'e8209db6-3b13-4d1d-b060-17c3cd34186a',\n",
    "                  'RS': '1377c443-848b-429c-97fe-6d13a2f1d77b',\n",
    "                  'SK': '58788a8d-32b1-40f9-ad45-8a0a3a44e557'}\n",
    "# Map Campaign ID\n",
    "DOI = DOI.assign(offerGroupId = lambda d: d.country.map(dict_target_id))"
   ]
  },
  {
   "cell_type": "code",
   "execution_count": 265,
   "metadata": {
    "ExecuteTime": {
     "end_time": "2020-02-26T16:53:04.866100Z",
     "start_time": "2020-02-26T16:53:04.600269Z"
    }
   },
   "outputs": [],
   "source": [
    "DOI = DOI.assign(validFrom = '2020-02-26T00:00:01.000Z')"
   ]
  },
  {
   "cell_type": "code",
   "execution_count": 266,
   "metadata": {
    "ExecuteTime": {
     "end_time": "2020-02-26T16:53:08.075830Z",
     "start_time": "2020-02-26T16:53:07.294495Z"
    }
   },
   "outputs": [],
   "source": [
    "DOI = (DOI\n",
    ".assign(ReadyForMarketingCloud = lambda d: ~(d.control == 1))\n",
    ".assign(Offeractivated = lambda d: ~(d.control == 1))\n",
    ".assign(CommunicationStream = 'Email')\n",
    ".rename(columns={'control': 'CampaignControlGroup',\n",
    "                 'card_number': 'externalId',\n",
    "                 'coupon_code_not_pl': 'offerCode'})\n",
    ".drop(columns={'contactid', 'campaignid', 'language'})\n",
    ")"
   ]
  },
  {
   "cell_type": "code",
   "execution_count": 237,
   "metadata": {
    "ExecuteTime": {
     "end_time": "2020-02-26T16:30:29.168885Z",
     "start_time": "2020-02-26T16:30:23.666760Z"
    }
   },
   "outputs": [],
   "source": [
    "DOI.drop(columns={'country'}).to_csv('export_additional_customers_spring_special_2.csv')#.externalId.astype('int64') "
   ]
  },
  {
   "cell_type": "code",
   "execution_count": 267,
   "metadata": {
    "ExecuteTime": {
     "end_time": "2020-02-26T16:53:09.992043Z",
     "start_time": "2020-02-26T16:53:09.960992Z"
    }
   },
   "outputs": [
    {
     "data": {
      "text/html": [
       "<div>\n",
       "<style scoped>\n",
       "    .dataframe tbody tr th:only-of-type {\n",
       "        vertical-align: middle;\n",
       "    }\n",
       "\n",
       "    .dataframe tbody tr th {\n",
       "        vertical-align: top;\n",
       "    }\n",
       "\n",
       "    .dataframe thead th {\n",
       "        text-align: right;\n",
       "    }\n",
       "</style>\n",
       "<table border=\"1\" class=\"dataframe\">\n",
       "  <thead>\n",
       "    <tr style=\"text-align: right;\">\n",
       "      <th></th>\n",
       "      <th>subscriberkey</th>\n",
       "      <th>externalId</th>\n",
       "      <th>country</th>\n",
       "      <th>CampaignControlGroup</th>\n",
       "      <th>offerCode</th>\n",
       "      <th>campaignId</th>\n",
       "      <th>offerGroupId</th>\n",
       "      <th>validFrom</th>\n",
       "      <th>ReadyForMarketingCloud</th>\n",
       "      <th>Offeractivated</th>\n",
       "      <th>CommunicationStream</th>\n",
       "    </tr>\n",
       "  </thead>\n",
       "  <tbody>\n",
       "    <tr>\n",
       "      <th>1</th>\n",
       "      <td>0031i00000RxiDzAAJ</td>\n",
       "      <td>02247402484</td>\n",
       "      <td>AT</td>\n",
       "      <td>0</td>\n",
       "      <td>022474024840021263</td>\n",
       "      <td>7011i000000Lm0ZAAS</td>\n",
       "      <td>74cebf94-c230-4ae3-9f85-51dc7c6b280b</td>\n",
       "      <td>2020-02-26T00:00:01.000Z</td>\n",
       "      <td>True</td>\n",
       "      <td>True</td>\n",
       "      <td>Email</td>\n",
       "    </tr>\n",
       "    <tr>\n",
       "      <th>99137</th>\n",
       "      <td>0035800000yMTNJAA4</td>\n",
       "      <td>02242320053</td>\n",
       "      <td>AT</td>\n",
       "      <td>0</td>\n",
       "      <td>022423200530021263</td>\n",
       "      <td>7011i000000Lm0ZAAS</td>\n",
       "      <td>74cebf94-c230-4ae3-9f85-51dc7c6b280b</td>\n",
       "      <td>2020-02-26T00:00:01.000Z</td>\n",
       "      <td>True</td>\n",
       "      <td>True</td>\n",
       "      <td>Email</td>\n",
       "    </tr>\n",
       "    <tr>\n",
       "      <th>1215812</th>\n",
       "      <td>0031i00000RpGbDAAV</td>\n",
       "      <td>02247300294</td>\n",
       "      <td>AT</td>\n",
       "      <td>0</td>\n",
       "      <td>022473002940021263</td>\n",
       "      <td>7011i000000Lm0ZAAS</td>\n",
       "      <td>74cebf94-c230-4ae3-9f85-51dc7c6b280b</td>\n",
       "      <td>2020-02-26T00:00:01.000Z</td>\n",
       "      <td>True</td>\n",
       "      <td>True</td>\n",
       "      <td>Email</td>\n",
       "    </tr>\n",
       "    <tr>\n",
       "      <th>1803381</th>\n",
       "      <td>0031i00000J5MwvAAF</td>\n",
       "      <td>02246203484</td>\n",
       "      <td>AT</td>\n",
       "      <td>0</td>\n",
       "      <td>022462034840021263</td>\n",
       "      <td>7011i000000Lm0ZAAS</td>\n",
       "      <td>74cebf94-c230-4ae3-9f85-51dc7c6b280b</td>\n",
       "      <td>2020-02-26T00:00:01.000Z</td>\n",
       "      <td>True</td>\n",
       "      <td>True</td>\n",
       "      <td>Email</td>\n",
       "    </tr>\n",
       "    <tr>\n",
       "      <th>1803390</th>\n",
       "      <td>0031i00000SPIXaAAP</td>\n",
       "      <td>02247348804</td>\n",
       "      <td>AT</td>\n",
       "      <td>0</td>\n",
       "      <td>022473488040021263</td>\n",
       "      <td>7011i000000Lm0ZAAS</td>\n",
       "      <td>74cebf94-c230-4ae3-9f85-51dc7c6b280b</td>\n",
       "      <td>2020-02-26T00:00:01.000Z</td>\n",
       "      <td>True</td>\n",
       "      <td>True</td>\n",
       "      <td>Email</td>\n",
       "    </tr>\n",
       "    <tr>\n",
       "      <th>...</th>\n",
       "      <td>...</td>\n",
       "      <td>...</td>\n",
       "      <td>...</td>\n",
       "      <td>...</td>\n",
       "      <td>...</td>\n",
       "      <td>...</td>\n",
       "      <td>...</td>\n",
       "      <td>...</td>\n",
       "      <td>...</td>\n",
       "      <td>...</td>\n",
       "      <td>...</td>\n",
       "    </tr>\n",
       "    <tr>\n",
       "      <th>697743</th>\n",
       "      <td>0031i00000ISxK4AAL</td>\n",
       "      <td>09003466203</td>\n",
       "      <td>SK</td>\n",
       "      <td>0</td>\n",
       "      <td>090034662030021263</td>\n",
       "      <td>7011i000000Lm0jAAC</td>\n",
       "      <td>58788a8d-32b1-40f9-ad45-8a0a3a44e557</td>\n",
       "      <td>2020-02-26T00:00:01.000Z</td>\n",
       "      <td>True</td>\n",
       "      <td>True</td>\n",
       "      <td>Email</td>\n",
       "    </tr>\n",
       "    <tr>\n",
       "      <th>697742</th>\n",
       "      <td>0031i00000ISxGuAAL</td>\n",
       "      <td>09003483143</td>\n",
       "      <td>SK</td>\n",
       "      <td>0</td>\n",
       "      <td>090034831430021263</td>\n",
       "      <td>7011i000000Lm0jAAC</td>\n",
       "      <td>58788a8d-32b1-40f9-ad45-8a0a3a44e557</td>\n",
       "      <td>2020-02-26T00:00:01.000Z</td>\n",
       "      <td>True</td>\n",
       "      <td>True</td>\n",
       "      <td>Email</td>\n",
       "    </tr>\n",
       "    <tr>\n",
       "      <th>1901535</th>\n",
       "      <td>0031i00000Ry61KAAR</td>\n",
       "      <td>09003223121</td>\n",
       "      <td>SK</td>\n",
       "      <td>0</td>\n",
       "      <td>090032231210021263</td>\n",
       "      <td>7011i000000Lm0jAAC</td>\n",
       "      <td>58788a8d-32b1-40f9-ad45-8a0a3a44e557</td>\n",
       "      <td>2020-02-26T00:00:01.000Z</td>\n",
       "      <td>True</td>\n",
       "      <td>True</td>\n",
       "      <td>Email</td>\n",
       "    </tr>\n",
       "    <tr>\n",
       "      <th>93653</th>\n",
       "      <td>0035800000zpTT7AAM</td>\n",
       "      <td>09000507598</td>\n",
       "      <td>SK</td>\n",
       "      <td>0</td>\n",
       "      <td>090005075980021263</td>\n",
       "      <td>7011i000000Lm0jAAC</td>\n",
       "      <td>58788a8d-32b1-40f9-ad45-8a0a3a44e557</td>\n",
       "      <td>2020-02-26T00:00:01.000Z</td>\n",
       "      <td>True</td>\n",
       "      <td>True</td>\n",
       "      <td>Email</td>\n",
       "    </tr>\n",
       "    <tr>\n",
       "      <th>1034706</th>\n",
       "      <td>0031i00000RH3zAAAT</td>\n",
       "      <td>09003369459</td>\n",
       "      <td>SK</td>\n",
       "      <td>0</td>\n",
       "      <td>090033694590021263</td>\n",
       "      <td>7011i000000Lm0jAAC</td>\n",
       "      <td>58788a8d-32b1-40f9-ad45-8a0a3a44e557</td>\n",
       "      <td>2020-02-26T00:00:01.000Z</td>\n",
       "      <td>True</td>\n",
       "      <td>True</td>\n",
       "      <td>Email</td>\n",
       "    </tr>\n",
       "  </tbody>\n",
       "</table>\n",
       "<p>683312 rows × 11 columns</p>\n",
       "</div>"
      ],
      "text/plain": [
       "              subscriberkey   externalId country  CampaignControlGroup  \\\n",
       "1        0031i00000RxiDzAAJ  02247402484      AT                     0   \n",
       "99137    0035800000yMTNJAA4  02242320053      AT                     0   \n",
       "1215812  0031i00000RpGbDAAV  02247300294      AT                     0   \n",
       "1803381  0031i00000J5MwvAAF  02246203484      AT                     0   \n",
       "1803390  0031i00000SPIXaAAP  02247348804      AT                     0   \n",
       "...                     ...          ...     ...                   ...   \n",
       "697743   0031i00000ISxK4AAL  09003466203      SK                     0   \n",
       "697742   0031i00000ISxGuAAL  09003483143      SK                     0   \n",
       "1901535  0031i00000Ry61KAAR  09003223121      SK                     0   \n",
       "93653    0035800000zpTT7AAM  09000507598      SK                     0   \n",
       "1034706  0031i00000RH3zAAAT  09003369459      SK                     0   \n",
       "\n",
       "                  offerCode          campaignId  \\\n",
       "1        022474024840021263  7011i000000Lm0ZAAS   \n",
       "99137    022423200530021263  7011i000000Lm0ZAAS   \n",
       "1215812  022473002940021263  7011i000000Lm0ZAAS   \n",
       "1803381  022462034840021263  7011i000000Lm0ZAAS   \n",
       "1803390  022473488040021263  7011i000000Lm0ZAAS   \n",
       "...                     ...                 ...   \n",
       "697743   090034662030021263  7011i000000Lm0jAAC   \n",
       "697742   090034831430021263  7011i000000Lm0jAAC   \n",
       "1901535  090032231210021263  7011i000000Lm0jAAC   \n",
       "93653    090005075980021263  7011i000000Lm0jAAC   \n",
       "1034706  090033694590021263  7011i000000Lm0jAAC   \n",
       "\n",
       "                                 offerGroupId                 validFrom  \\\n",
       "1        74cebf94-c230-4ae3-9f85-51dc7c6b280b  2020-02-26T00:00:01.000Z   \n",
       "99137    74cebf94-c230-4ae3-9f85-51dc7c6b280b  2020-02-26T00:00:01.000Z   \n",
       "1215812  74cebf94-c230-4ae3-9f85-51dc7c6b280b  2020-02-26T00:00:01.000Z   \n",
       "1803381  74cebf94-c230-4ae3-9f85-51dc7c6b280b  2020-02-26T00:00:01.000Z   \n",
       "1803390  74cebf94-c230-4ae3-9f85-51dc7c6b280b  2020-02-26T00:00:01.000Z   \n",
       "...                                       ...                       ...   \n",
       "697743   58788a8d-32b1-40f9-ad45-8a0a3a44e557  2020-02-26T00:00:01.000Z   \n",
       "697742   58788a8d-32b1-40f9-ad45-8a0a3a44e557  2020-02-26T00:00:01.000Z   \n",
       "1901535  58788a8d-32b1-40f9-ad45-8a0a3a44e557  2020-02-26T00:00:01.000Z   \n",
       "93653    58788a8d-32b1-40f9-ad45-8a0a3a44e557  2020-02-26T00:00:01.000Z   \n",
       "1034706  58788a8d-32b1-40f9-ad45-8a0a3a44e557  2020-02-26T00:00:01.000Z   \n",
       "\n",
       "         ReadyForMarketingCloud  Offeractivated CommunicationStream  \n",
       "1                          True            True               Email  \n",
       "99137                      True            True               Email  \n",
       "1215812                    True            True               Email  \n",
       "1803381                    True            True               Email  \n",
       "1803390                    True            True               Email  \n",
       "...                         ...             ...                 ...  \n",
       "697743                     True            True               Email  \n",
       "697742                     True            True               Email  \n",
       "1901535                    True            True               Email  \n",
       "93653                      True            True               Email  \n",
       "1034706                    True            True               Email  \n",
       "\n",
       "[683312 rows x 11 columns]"
      ]
     },
     "execution_count": 267,
     "metadata": {},
     "output_type": "execute_result"
    }
   ],
   "source": [
    "DOI"
   ]
  },
  {
   "cell_type": "code",
   "execution_count": 227,
   "metadata": {
    "ExecuteTime": {
     "end_time": "2020-02-26T16:30:02.553764Z",
     "start_time": "2020-02-26T16:30:02.522629Z"
    }
   },
   "outputs": [
    {
     "data": {
      "text/html": [
       "<div>\n",
       "<style scoped>\n",
       "    .dataframe tbody tr th:only-of-type {\n",
       "        vertical-align: middle;\n",
       "    }\n",
       "\n",
       "    .dataframe tbody tr th {\n",
       "        vertical-align: top;\n",
       "    }\n",
       "\n",
       "    .dataframe thead th {\n",
       "        text-align: right;\n",
       "    }\n",
       "</style>\n",
       "<table border=\"1\" class=\"dataframe\">\n",
       "  <thead>\n",
       "    <tr style=\"text-align: right;\">\n",
       "      <th></th>\n",
       "      <th>subscriberkey</th>\n",
       "      <th>externalId</th>\n",
       "      <th>country</th>\n",
       "      <th>CampaignControlGroup</th>\n",
       "      <th>offerCode</th>\n",
       "      <th>campaignId</th>\n",
       "      <th>offerGroupId</th>\n",
       "      <th>validFrom</th>\n",
       "      <th>ReadyForMarketingCloud</th>\n",
       "      <th>Offeractivated</th>\n",
       "      <th>CommunicationStream</th>\n",
       "    </tr>\n",
       "  </thead>\n",
       "  <tbody>\n",
       "    <tr>\n",
       "      <th>1646744</th>\n",
       "      <td>0031i00000SOYf5AAH</td>\n",
       "      <td>02246698612</td>\n",
       "      <td>AT</td>\n",
       "      <td>0</td>\n",
       "      <td>022466986120021263</td>\n",
       "      <td>7011i000000Lm0ZAAS</td>\n",
       "      <td>74cebf94-c230-4ae3-9f85-51dc7c6b280b</td>\n",
       "      <td>2020-02-26T00:00:01.000Z</td>\n",
       "      <td>True</td>\n",
       "      <td>True</td>\n",
       "      <td>Email</td>\n",
       "    </tr>\n",
       "    <tr>\n",
       "      <th>407957</th>\n",
       "      <td>0031i000003zVzWAAU</td>\n",
       "      <td>02245824846</td>\n",
       "      <td>AT</td>\n",
       "      <td>0</td>\n",
       "      <td>022458248460021263</td>\n",
       "      <td>7011i000000Lm0ZAAS</td>\n",
       "      <td>74cebf94-c230-4ae3-9f85-51dc7c6b280b</td>\n",
       "      <td>2020-02-26T00:00:01.000Z</td>\n",
       "      <td>True</td>\n",
       "      <td>True</td>\n",
       "      <td>Email</td>\n",
       "    </tr>\n",
       "    <tr>\n",
       "      <th>960289</th>\n",
       "      <td>0031i00000QSu30AAD</td>\n",
       "      <td>02247451021</td>\n",
       "      <td>AT</td>\n",
       "      <td>0</td>\n",
       "      <td>022474510210021263</td>\n",
       "      <td>7011i000000Lm0ZAAS</td>\n",
       "      <td>74cebf94-c230-4ae3-9f85-51dc7c6b280b</td>\n",
       "      <td>2020-02-26T00:00:01.000Z</td>\n",
       "      <td>True</td>\n",
       "      <td>True</td>\n",
       "      <td>Email</td>\n",
       "    </tr>\n",
       "    <tr>\n",
       "      <th>1837480</th>\n",
       "      <td>0031i00000RHFMFAA5</td>\n",
       "      <td>02247320709</td>\n",
       "      <td>AT</td>\n",
       "      <td>0</td>\n",
       "      <td>022473207090021263</td>\n",
       "      <td>7011i000000Lm0ZAAS</td>\n",
       "      <td>74cebf94-c230-4ae3-9f85-51dc7c6b280b</td>\n",
       "      <td>2020-02-26T00:00:01.000Z</td>\n",
       "      <td>True</td>\n",
       "      <td>True</td>\n",
       "      <td>Email</td>\n",
       "    </tr>\n",
       "    <tr>\n",
       "      <th>2369363</th>\n",
       "      <td>0031i00000MIO4WAAX</td>\n",
       "      <td>02200251168</td>\n",
       "      <td>AT</td>\n",
       "      <td>0</td>\n",
       "      <td>022002511680021263</td>\n",
       "      <td>7011i000000Lm0ZAAS</td>\n",
       "      <td>74cebf94-c230-4ae3-9f85-51dc7c6b280b</td>\n",
       "      <td>2020-02-26T00:00:01.000Z</td>\n",
       "      <td>True</td>\n",
       "      <td>True</td>\n",
       "      <td>Email</td>\n",
       "    </tr>\n",
       "    <tr>\n",
       "      <th>...</th>\n",
       "      <td>...</td>\n",
       "      <td>...</td>\n",
       "      <td>...</td>\n",
       "      <td>...</td>\n",
       "      <td>...</td>\n",
       "      <td>...</td>\n",
       "      <td>...</td>\n",
       "      <td>...</td>\n",
       "      <td>...</td>\n",
       "      <td>...</td>\n",
       "      <td>...</td>\n",
       "    </tr>\n",
       "    <tr>\n",
       "      <th>557907</th>\n",
       "      <td>0031i00000ISs16AAD</td>\n",
       "      <td>09003323488</td>\n",
       "      <td>SK</td>\n",
       "      <td>0</td>\n",
       "      <td>090033234880021263</td>\n",
       "      <td>7011i000000Lm0jAAC</td>\n",
       "      <td>58788a8d-32b1-40f9-ad45-8a0a3a44e557</td>\n",
       "      <td>2020-02-26T00:00:01.000Z</td>\n",
       "      <td>True</td>\n",
       "      <td>True</td>\n",
       "      <td>Email</td>\n",
       "    </tr>\n",
       "    <tr>\n",
       "      <th>109883</th>\n",
       "      <td>0031i00000StCdrAAF</td>\n",
       "      <td>09003758749</td>\n",
       "      <td>SK</td>\n",
       "      <td>0</td>\n",
       "      <td>090037587490021263</td>\n",
       "      <td>7011i000000Lm0jAAC</td>\n",
       "      <td>58788a8d-32b1-40f9-ad45-8a0a3a44e557</td>\n",
       "      <td>2020-02-26T00:00:01.000Z</td>\n",
       "      <td>True</td>\n",
       "      <td>True</td>\n",
       "      <td>Email</td>\n",
       "    </tr>\n",
       "    <tr>\n",
       "      <th>2496990</th>\n",
       "      <td>0031i00000J5uvZAAR</td>\n",
       "      <td>09002961469</td>\n",
       "      <td>SK</td>\n",
       "      <td>0</td>\n",
       "      <td>090029614690021263</td>\n",
       "      <td>7011i000000Lm0jAAC</td>\n",
       "      <td>58788a8d-32b1-40f9-ad45-8a0a3a44e557</td>\n",
       "      <td>2020-02-26T00:00:01.000Z</td>\n",
       "      <td>True</td>\n",
       "      <td>True</td>\n",
       "      <td>Email</td>\n",
       "    </tr>\n",
       "    <tr>\n",
       "      <th>557743</th>\n",
       "      <td>0031i00000SPIiOAAX</td>\n",
       "      <td>09003846125</td>\n",
       "      <td>SK</td>\n",
       "      <td>0</td>\n",
       "      <td>090038461250021263</td>\n",
       "      <td>7011i000000Lm0jAAC</td>\n",
       "      <td>58788a8d-32b1-40f9-ad45-8a0a3a44e557</td>\n",
       "      <td>2020-02-26T00:00:01.000Z</td>\n",
       "      <td>True</td>\n",
       "      <td>True</td>\n",
       "      <td>Email</td>\n",
       "    </tr>\n",
       "    <tr>\n",
       "      <th>1646746</th>\n",
       "      <td>0031i00000SOYEfAAP</td>\n",
       "      <td>09003868794</td>\n",
       "      <td>SK</td>\n",
       "      <td>0</td>\n",
       "      <td>090038687940021263</td>\n",
       "      <td>7011i000000Lm0jAAC</td>\n",
       "      <td>58788a8d-32b1-40f9-ad45-8a0a3a44e557</td>\n",
       "      <td>2020-02-26T00:00:01.000Z</td>\n",
       "      <td>True</td>\n",
       "      <td>True</td>\n",
       "      <td>Email</td>\n",
       "    </tr>\n",
       "  </tbody>\n",
       "</table>\n",
       "<p>906926 rows × 11 columns</p>\n",
       "</div>"
      ],
      "text/plain": [
       "              subscriberkey   externalId country  CampaignControlGroup  \\\n",
       "1646744  0031i00000SOYf5AAH  02246698612      AT                     0   \n",
       "407957   0031i000003zVzWAAU  02245824846      AT                     0   \n",
       "960289   0031i00000QSu30AAD  02247451021      AT                     0   \n",
       "1837480  0031i00000RHFMFAA5  02247320709      AT                     0   \n",
       "2369363  0031i00000MIO4WAAX  02200251168      AT                     0   \n",
       "...                     ...          ...     ...                   ...   \n",
       "557907   0031i00000ISs16AAD  09003323488      SK                     0   \n",
       "109883   0031i00000StCdrAAF  09003758749      SK                     0   \n",
       "2496990  0031i00000J5uvZAAR  09002961469      SK                     0   \n",
       "557743   0031i00000SPIiOAAX  09003846125      SK                     0   \n",
       "1646746  0031i00000SOYEfAAP  09003868794      SK                     0   \n",
       "\n",
       "                  offerCode          campaignId  \\\n",
       "1646744  022466986120021263  7011i000000Lm0ZAAS   \n",
       "407957   022458248460021263  7011i000000Lm0ZAAS   \n",
       "960289   022474510210021263  7011i000000Lm0ZAAS   \n",
       "1837480  022473207090021263  7011i000000Lm0ZAAS   \n",
       "2369363  022002511680021263  7011i000000Lm0ZAAS   \n",
       "...                     ...                 ...   \n",
       "557907   090033234880021263  7011i000000Lm0jAAC   \n",
       "109883   090037587490021263  7011i000000Lm0jAAC   \n",
       "2496990  090029614690021263  7011i000000Lm0jAAC   \n",
       "557743   090038461250021263  7011i000000Lm0jAAC   \n",
       "1646746  090038687940021263  7011i000000Lm0jAAC   \n",
       "\n",
       "                                 offerGroupId                 validFrom  \\\n",
       "1646744  74cebf94-c230-4ae3-9f85-51dc7c6b280b  2020-02-26T00:00:01.000Z   \n",
       "407957   74cebf94-c230-4ae3-9f85-51dc7c6b280b  2020-02-26T00:00:01.000Z   \n",
       "960289   74cebf94-c230-4ae3-9f85-51dc7c6b280b  2020-02-26T00:00:01.000Z   \n",
       "1837480  74cebf94-c230-4ae3-9f85-51dc7c6b280b  2020-02-26T00:00:01.000Z   \n",
       "2369363  74cebf94-c230-4ae3-9f85-51dc7c6b280b  2020-02-26T00:00:01.000Z   \n",
       "...                                       ...                       ...   \n",
       "557907   58788a8d-32b1-40f9-ad45-8a0a3a44e557  2020-02-26T00:00:01.000Z   \n",
       "109883   58788a8d-32b1-40f9-ad45-8a0a3a44e557  2020-02-26T00:00:01.000Z   \n",
       "2496990  58788a8d-32b1-40f9-ad45-8a0a3a44e557  2020-02-26T00:00:01.000Z   \n",
       "557743   58788a8d-32b1-40f9-ad45-8a0a3a44e557  2020-02-26T00:00:01.000Z   \n",
       "1646746  58788a8d-32b1-40f9-ad45-8a0a3a44e557  2020-02-26T00:00:01.000Z   \n",
       "\n",
       "         ReadyForMarketingCloud  Offeractivated CommunicationStream  \n",
       "1646744                    True            True               Email  \n",
       "407957                     True            True               Email  \n",
       "960289                     True            True               Email  \n",
       "1837480                    True            True               Email  \n",
       "2369363                    True            True               Email  \n",
       "...                         ...             ...                 ...  \n",
       "557907                     True            True               Email  \n",
       "109883                     True            True               Email  \n",
       "2496990                    True            True               Email  \n",
       "557743                     True            True               Email  \n",
       "1646746                    True            True               Email  \n",
       "\n",
       "[906926 rows x 11 columns]"
      ]
     },
     "execution_count": 227,
     "metadata": {},
     "output_type": "execute_result"
    }
   ],
   "source": [
    "DOI"
   ]
  },
  {
   "cell_type": "code",
   "execution_count": 239,
   "metadata": {
    "ExecuteTime": {
     "end_time": "2020-02-26T16:30:35.450776Z",
     "start_time": "2020-02-26T16:30:35.419697Z"
    }
   },
   "outputs": [
    {
     "data": {
      "text/html": [
       "<div>\n",
       "<style scoped>\n",
       "    .dataframe tbody tr th:only-of-type {\n",
       "        vertical-align: middle;\n",
       "    }\n",
       "\n",
       "    .dataframe tbody tr th {\n",
       "        vertical-align: top;\n",
       "    }\n",
       "\n",
       "    .dataframe thead th {\n",
       "        text-align: right;\n",
       "    }\n",
       "</style>\n",
       "<table border=\"1\" class=\"dataframe\">\n",
       "  <thead>\n",
       "    <tr style=\"text-align: right;\">\n",
       "      <th></th>\n",
       "      <th>subscriberkey</th>\n",
       "      <th>externalId</th>\n",
       "      <th>country</th>\n",
       "      <th>CampaignControlGroup</th>\n",
       "      <th>offerCode</th>\n",
       "      <th>campaignId</th>\n",
       "      <th>offerGroupId</th>\n",
       "      <th>validFrom</th>\n",
       "      <th>ReadyForMarketingCloud</th>\n",
       "      <th>Offeractivated</th>\n",
       "      <th>CommunicationStream</th>\n",
       "    </tr>\n",
       "  </thead>\n",
       "  <tbody>\n",
       "    <tr>\n",
       "      <th>1867042</th>\n",
       "      <td>0031i00000Rw0suAAB</td>\n",
       "      <td>02246878527</td>\n",
       "      <td>AT</td>\n",
       "      <td>0</td>\n",
       "      <td>022468785270021263</td>\n",
       "      <td>7011i000000Lm0ZAAS</td>\n",
       "      <td>74cebf94-c230-4ae3-9f85-51dc7c6b280b</td>\n",
       "      <td>2020-02-26T00:00:01.000Z</td>\n",
       "      <td>True</td>\n",
       "      <td>True</td>\n",
       "      <td>Email</td>\n",
       "    </tr>\n",
       "    <tr>\n",
       "      <th>785270</th>\n",
       "      <td>0031i000004o6QeAAI</td>\n",
       "      <td>02246399980</td>\n",
       "      <td>AT</td>\n",
       "      <td>0</td>\n",
       "      <td>022463999800021263</td>\n",
       "      <td>7011i000000Lm0ZAAS</td>\n",
       "      <td>74cebf94-c230-4ae3-9f85-51dc7c6b280b</td>\n",
       "      <td>2020-02-26T00:00:01.000Z</td>\n",
       "      <td>True</td>\n",
       "      <td>True</td>\n",
       "      <td>Email</td>\n",
       "    </tr>\n",
       "    <tr>\n",
       "      <th>1137926</th>\n",
       "      <td>0031i00000SsfNfAAJ</td>\n",
       "      <td>02201233064</td>\n",
       "      <td>AT</td>\n",
       "      <td>0</td>\n",
       "      <td>022012330640021263</td>\n",
       "      <td>7011i000000Lm0ZAAS</td>\n",
       "      <td>74cebf94-c230-4ae3-9f85-51dc7c6b280b</td>\n",
       "      <td>2020-02-26T00:00:01.000Z</td>\n",
       "      <td>True</td>\n",
       "      <td>True</td>\n",
       "      <td>Email</td>\n",
       "    </tr>\n",
       "    <tr>\n",
       "      <th>1137925</th>\n",
       "      <td>0031i00000SsfKCAAZ</td>\n",
       "      <td>02247518956</td>\n",
       "      <td>AT</td>\n",
       "      <td>0</td>\n",
       "      <td>022475189560021263</td>\n",
       "      <td>7011i000000Lm0ZAAS</td>\n",
       "      <td>74cebf94-c230-4ae3-9f85-51dc7c6b280b</td>\n",
       "      <td>2020-02-26T00:00:01.000Z</td>\n",
       "      <td>True</td>\n",
       "      <td>True</td>\n",
       "      <td>Email</td>\n",
       "    </tr>\n",
       "    <tr>\n",
       "      <th>1362976</th>\n",
       "      <td>0031i00000RwxjXAAR</td>\n",
       "      <td>02247332001</td>\n",
       "      <td>AT</td>\n",
       "      <td>0</td>\n",
       "      <td>022473320010021263</td>\n",
       "      <td>7011i000000Lm0ZAAS</td>\n",
       "      <td>74cebf94-c230-4ae3-9f85-51dc7c6b280b</td>\n",
       "      <td>2020-02-26T00:00:01.000Z</td>\n",
       "      <td>True</td>\n",
       "      <td>True</td>\n",
       "      <td>Email</td>\n",
       "    </tr>\n",
       "    <tr>\n",
       "      <th>...</th>\n",
       "      <td>...</td>\n",
       "      <td>...</td>\n",
       "      <td>...</td>\n",
       "      <td>...</td>\n",
       "      <td>...</td>\n",
       "      <td>...</td>\n",
       "      <td>...</td>\n",
       "      <td>...</td>\n",
       "      <td>...</td>\n",
       "      <td>...</td>\n",
       "      <td>...</td>\n",
       "    </tr>\n",
       "    <tr>\n",
       "      <th>122655</th>\n",
       "      <td>0031i00000SsWsNAAV</td>\n",
       "      <td>09003751781</td>\n",
       "      <td>SK</td>\n",
       "      <td>0</td>\n",
       "      <td>090037517810021263</td>\n",
       "      <td>7011i000000Lm0jAAC</td>\n",
       "      <td>58788a8d-32b1-40f9-ad45-8a0a3a44e557</td>\n",
       "      <td>2020-02-26T00:00:01.000Z</td>\n",
       "      <td>True</td>\n",
       "      <td>True</td>\n",
       "      <td>Email</td>\n",
       "    </tr>\n",
       "    <tr>\n",
       "      <th>2528939</th>\n",
       "      <td>0035800000zpUWWAA2</td>\n",
       "      <td>09000795046</td>\n",
       "      <td>SK</td>\n",
       "      <td>0</td>\n",
       "      <td>090007950460021263</td>\n",
       "      <td>7011i000000Lm0jAAC</td>\n",
       "      <td>58788a8d-32b1-40f9-ad45-8a0a3a44e557</td>\n",
       "      <td>2020-02-26T00:00:01.000Z</td>\n",
       "      <td>True</td>\n",
       "      <td>True</td>\n",
       "      <td>Email</td>\n",
       "    </tr>\n",
       "    <tr>\n",
       "      <th>639516</th>\n",
       "      <td>0031i00000SSBJUAA5</td>\n",
       "      <td>09003988126</td>\n",
       "      <td>SK</td>\n",
       "      <td>1</td>\n",
       "      <td>090039881260021263</td>\n",
       "      <td>7011i000000Lm0jAAC</td>\n",
       "      <td>58788a8d-32b1-40f9-ad45-8a0a3a44e557</td>\n",
       "      <td>2020-02-26T00:00:01.000Z</td>\n",
       "      <td>False</td>\n",
       "      <td>False</td>\n",
       "      <td>Email</td>\n",
       "    </tr>\n",
       "    <tr>\n",
       "      <th>372080</th>\n",
       "      <td>0031i00000RvLmZAAV</td>\n",
       "      <td>09003851259</td>\n",
       "      <td>SK</td>\n",
       "      <td>0</td>\n",
       "      <td>090038512590021263</td>\n",
       "      <td>7011i000000Lm0jAAC</td>\n",
       "      <td>58788a8d-32b1-40f9-ad45-8a0a3a44e557</td>\n",
       "      <td>2020-02-26T00:00:01.000Z</td>\n",
       "      <td>True</td>\n",
       "      <td>True</td>\n",
       "      <td>Email</td>\n",
       "    </tr>\n",
       "    <tr>\n",
       "      <th>1787553</th>\n",
       "      <td>0035800001VPwehAAD</td>\n",
       "      <td>09001850835</td>\n",
       "      <td>SK</td>\n",
       "      <td>0</td>\n",
       "      <td>090018508350021263</td>\n",
       "      <td>7011i000000Lm0jAAC</td>\n",
       "      <td>58788a8d-32b1-40f9-ad45-8a0a3a44e557</td>\n",
       "      <td>2020-02-26T00:00:01.000Z</td>\n",
       "      <td>True</td>\n",
       "      <td>True</td>\n",
       "      <td>Email</td>\n",
       "    </tr>\n",
       "  </tbody>\n",
       "</table>\n",
       "<p>916462 rows × 11 columns</p>\n",
       "</div>"
      ],
      "text/plain": [
       "              subscriberkey   externalId country  CampaignControlGroup  \\\n",
       "1867042  0031i00000Rw0suAAB  02246878527      AT                     0   \n",
       "785270   0031i000004o6QeAAI  02246399980      AT                     0   \n",
       "1137926  0031i00000SsfNfAAJ  02201233064      AT                     0   \n",
       "1137925  0031i00000SsfKCAAZ  02247518956      AT                     0   \n",
       "1362976  0031i00000RwxjXAAR  02247332001      AT                     0   \n",
       "...                     ...          ...     ...                   ...   \n",
       "122655   0031i00000SsWsNAAV  09003751781      SK                     0   \n",
       "2528939  0035800000zpUWWAA2  09000795046      SK                     0   \n",
       "639516   0031i00000SSBJUAA5  09003988126      SK                     1   \n",
       "372080   0031i00000RvLmZAAV  09003851259      SK                     0   \n",
       "1787553  0035800001VPwehAAD  09001850835      SK                     0   \n",
       "\n",
       "                  offerCode          campaignId  \\\n",
       "1867042  022468785270021263  7011i000000Lm0ZAAS   \n",
       "785270   022463999800021263  7011i000000Lm0ZAAS   \n",
       "1137926  022012330640021263  7011i000000Lm0ZAAS   \n",
       "1137925  022475189560021263  7011i000000Lm0ZAAS   \n",
       "1362976  022473320010021263  7011i000000Lm0ZAAS   \n",
       "...                     ...                 ...   \n",
       "122655   090037517810021263  7011i000000Lm0jAAC   \n",
       "2528939  090007950460021263  7011i000000Lm0jAAC   \n",
       "639516   090039881260021263  7011i000000Lm0jAAC   \n",
       "372080   090038512590021263  7011i000000Lm0jAAC   \n",
       "1787553  090018508350021263  7011i000000Lm0jAAC   \n",
       "\n",
       "                                 offerGroupId                 validFrom  \\\n",
       "1867042  74cebf94-c230-4ae3-9f85-51dc7c6b280b  2020-02-26T00:00:01.000Z   \n",
       "785270   74cebf94-c230-4ae3-9f85-51dc7c6b280b  2020-02-26T00:00:01.000Z   \n",
       "1137926  74cebf94-c230-4ae3-9f85-51dc7c6b280b  2020-02-26T00:00:01.000Z   \n",
       "1137925  74cebf94-c230-4ae3-9f85-51dc7c6b280b  2020-02-26T00:00:01.000Z   \n",
       "1362976  74cebf94-c230-4ae3-9f85-51dc7c6b280b  2020-02-26T00:00:01.000Z   \n",
       "...                                       ...                       ...   \n",
       "122655   58788a8d-32b1-40f9-ad45-8a0a3a44e557  2020-02-26T00:00:01.000Z   \n",
       "2528939  58788a8d-32b1-40f9-ad45-8a0a3a44e557  2020-02-26T00:00:01.000Z   \n",
       "639516   58788a8d-32b1-40f9-ad45-8a0a3a44e557  2020-02-26T00:00:01.000Z   \n",
       "372080   58788a8d-32b1-40f9-ad45-8a0a3a44e557  2020-02-26T00:00:01.000Z   \n",
       "1787553  58788a8d-32b1-40f9-ad45-8a0a3a44e557  2020-02-26T00:00:01.000Z   \n",
       "\n",
       "         ReadyForMarketingCloud  Offeractivated CommunicationStream  \n",
       "1867042                    True            True               Email  \n",
       "785270                     True            True               Email  \n",
       "1137926                    True            True               Email  \n",
       "1137925                    True            True               Email  \n",
       "1362976                    True            True               Email  \n",
       "...                         ...             ...                 ...  \n",
       "122655                     True            True               Email  \n",
       "2528939                    True            True               Email  \n",
       "639516                    False           False               Email  \n",
       "372080                     True            True               Email  \n",
       "1787553                    True            True               Email  \n",
       "\n",
       "[916462 rows x 11 columns]"
      ]
     },
     "execution_count": 239,
     "metadata": {},
     "output_type": "execute_result"
    }
   ],
   "source": [
    "DOI"
   ]
  },
  {
   "cell_type": "code",
   "execution_count": null,
   "metadata": {},
   "outputs": [],
   "source": []
  }
 ],
 "metadata": {
  "kernelspec": {
   "display_name": "Python 3",
   "language": "python",
   "name": "python3"
  },
  "language_info": {
   "codemirror_mode": {
    "name": "ipython",
    "version": 3
   },
   "file_extension": ".py",
   "mimetype": "text/x-python",
   "name": "python",
   "nbconvert_exporter": "python",
   "pygments_lexer": "ipython3",
   "version": "3.7.5"
  }
 },
 "nbformat": 4,
 "nbformat_minor": 2
}
