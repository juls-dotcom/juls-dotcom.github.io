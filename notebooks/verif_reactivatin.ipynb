{
 "cells": [
  {
   "cell_type": "code",
   "execution_count": 1,
   "metadata": {
    "ExecuteTime": {
     "end_time": "2020-03-10T15:39:23.568665Z",
     "start_time": "2020-03-10T15:39:07.249563Z"
    }
   },
   "outputs": [],
   "source": [
    "import pandas as pd\n",
    "import plotnine as p9\n",
    "import numpy as np\n",
    "import os"
   ]
  },
  {
   "cell_type": "code",
   "execution_count": 4,
   "metadata": {
    "ExecuteTime": {
     "end_time": "2020-03-10T15:40:35.153166Z",
     "start_time": "2020-03-10T15:40:33.363624Z"
    }
   },
   "outputs": [],
   "source": [
    "path = 'J:\\\\BoitePos\\\\Defacto_Scoring\\\\Orsay_Promo_salesforce10032020'\n",
    "os.chdir(path)\n",
    "df_to_fill = pd.read_csv('Orsay_Promo_salesforce.csv',\n",
    "                         delimiter = ';',\n",
    "                         decimal = ',')"
   ]
  },
  {
   "cell_type": "code",
   "execution_count": 5,
   "metadata": {
    "ExecuteTime": {
     "end_time": "2020-03-10T15:40:36.099426Z",
     "start_time": "2020-03-10T15:40:36.094422Z"
    }
   },
   "outputs": [
    {
     "data": {
      "text/plain": [
       "(561394, 3)"
      ]
     },
     "execution_count": 5,
     "metadata": {},
     "output_type": "execute_result"
    }
   ],
   "source": [
    "df_to_fill.shape"
   ]
  },
  {
   "cell_type": "code",
   "execution_count": 6,
   "metadata": {
    "ExecuteTime": {
     "end_time": "2020-03-10T15:41:53.111901Z",
     "start_time": "2020-03-10T15:40:36.394762Z"
    }
   },
   "outputs": [],
   "source": [
    "path = 'J:\\BoitePos\\\\Julien_Exchange'\n",
    "os.chdir(path)\n",
    "df_history = pd.read_csv('JULIEN_2020-03-04T15_46_502020-03-04 15-47-54.csv',\n",
    "                         delimiter = ';')\n"
   ]
  },
  {
   "cell_type": "code",
   "execution_count": 7,
   "metadata": {
    "ExecuteTime": {
     "end_time": "2020-03-10T15:42:16.057242Z",
     "start_time": "2020-03-10T15:41:53.113868Z"
    }
   },
   "outputs": [],
   "source": [
    "df_merged = pd.merge(df_to_fill,\n",
    "                     df_history[['CLBC_SALESFORCE_ID', \n",
    "                                 'CTRY_CODE',\n",
    "                                 'CLUB_CARD_LAST_DATE',\n",
    "                                 'CLUB_CARD_INIT_DATE']].drop_duplicates(),\n",
    "                     left_on = 'SFID',\n",
    "                     right_on = 'CLBC_SALESFORCE_ID',\n",
    "                     how='left'\n",
    "                     )"
   ]
  },
  {
   "cell_type": "code",
   "execution_count": 8,
   "metadata": {
    "ExecuteTime": {
     "end_time": "2020-03-10T15:42:16.485601Z",
     "start_time": "2020-03-10T15:42:16.059242Z"
    }
   },
   "outputs": [],
   "source": [
    "df_merged = (df_merged.rename(columns={'CTRY_CODE': 'country',\n",
    "                                      'CLUB_CARD_LAST_DATE': 'last_receipt_date',\n",
    "                                      'CLUB_CARD_INIT_DATE': 'first_receipt_date'})\n",
    "                      .drop(columns={'CLBC_SALESFORCE_ID'})\n",
    "            )"
   ]
  },
  {
   "cell_type": "code",
   "execution_count": null,
   "metadata": {
    "ExecuteTime": {
     "end_time": "2020-03-10T15:42:16.600831Z",
     "start_time": "2020-03-10T15:40:40.039Z"
    }
   },
   "outputs": [],
   "source": [
    "df_merged = (df_merged\n",
    "            .assign(last_date = lambda d: pd.to_datetime(d.last_receipt_date))\n",
    "            .assign(first_date = lambda d: pd.to_datetime(d.first_receipt_date))\n",
    "            )"
   ]
  },
  {
   "cell_type": "code",
   "execution_count": 11,
   "metadata": {
    "ExecuteTime": {
     "end_time": "2020-03-10T15:42:48.572679Z",
     "start_time": "2020-03-10T15:42:48.568704Z"
    }
   },
   "outputs": [],
   "source": [
    "number_WH_country = {\n",
    "    'AT': 22100,\n",
    "    'CH': 0,\n",
    "    'CZ':23800,\n",
    "    'HU':11050,\n",
    "    'DE':68000,\n",
    "    'PL':61200,\n",
    "    'SK':7990,\n",
    "    'RO':5610,\n",
    "    'HR':3910,\n",
    "    'RS':3060,\n",
    "    'SI':4080\n",
    "                    }"
   ]
  },
  {
   "cell_type": "code",
   "execution_count": 14,
   "metadata": {
    "ExecuteTime": {
     "end_time": "2020-03-10T15:43:07.982707Z",
     "start_time": "2020-03-10T15:43:07.868706Z"
    }
   },
   "outputs": [
    {
     "data": {
      "text/plain": [
       "0.6582399999999999"
      ]
     },
     "execution_count": 14,
     "metadata": {},
     "output_type": "execute_result"
    }
   ],
   "source": [
    "(df_merged.loc[df_merged.country == 'DE']\n",
    ".sort_values(by='Score', ascending=False)\n",
    ".iloc[[v for k,v in number_WH_country.items() if k == 'DE'][0]]\n",
    ").Score"
   ]
  },
  {
   "cell_type": "code",
   "execution_count": 27,
   "metadata": {
    "ExecuteTime": {
     "end_time": "2020-03-10T15:47:27.078328Z",
     "start_time": "2020-03-10T15:47:26.470447Z"
    }
   },
   "outputs": [
    {
     "name": "stdout",
     "output_type": "stream",
     "text": [
      "PL: 0.647\n",
      "SK: 0.625\n",
      "RS: 0.495\n",
      "DE: 0.658\n",
      "AT: 0.632\n",
      "CZ: 0.639\n",
      "RO: 0.653\n",
      "HU: 0.647\n",
      "HR: 0.623\n",
      "SI: 0.597\n",
      "CH: 0.96\n"
     ]
    }
   ],
   "source": [
    "df_final = pd.DataFrame()\n",
    "for i in df_merged.country.dropna().unique():\n",
    "    df_curr = df_merged.loc[df_merged.country == i]\n",
    "    print(i + ': ' + str(df_curr\n",
    "     .sort_values(by='Score', ascending=False)\n",
    "     .iloc[[v for k,v in number_WH_country.items() if k == i][0]].Score.round(decimals=3))\n",
    "    )\n",
    "\n",
    "    "
   ]
  },
  {
   "cell_type": "code",
   "execution_count": 28,
   "metadata": {
    "ExecuteTime": {
     "end_time": "2020-03-10T15:47:32.406328Z",
     "start_time": "2020-03-10T15:47:32.329089Z"
    }
   },
   "outputs": [
    {
     "data": {
      "text/html": [
       "<div>\n",
       "<style scoped>\n",
       "    .dataframe tbody tr th:only-of-type {\n",
       "        vertical-align: middle;\n",
       "    }\n",
       "\n",
       "    .dataframe tbody tr th {\n",
       "        vertical-align: top;\n",
       "    }\n",
       "\n",
       "    .dataframe thead th {\n",
       "        text-align: right;\n",
       "    }\n",
       "</style>\n",
       "<table border=\"1\" class=\"dataframe\">\n",
       "  <thead>\n",
       "    <tr style=\"text-align: right;\">\n",
       "      <th></th>\n",
       "      <th>SFID</th>\n",
       "      <th>ScoringIdentifier</th>\n",
       "      <th>Score</th>\n",
       "      <th>country</th>\n",
       "      <th>last_receipt_date</th>\n",
       "      <th>first_receipt_date</th>\n",
       "    </tr>\n",
       "  </thead>\n",
       "  <tbody>\n",
       "    <tr>\n",
       "      <th>9</th>\n",
       "      <td>0035800000HQNYKAA5</td>\n",
       "      <td>Reactivation_March_ 2020</td>\n",
       "      <td>0.794845</td>\n",
       "      <td>DE</td>\n",
       "      <td>2019-05-25</td>\n",
       "      <td>2009-11-28</td>\n",
       "    </tr>\n",
       "    <tr>\n",
       "      <th>15</th>\n",
       "      <td>0035800001WDeqtAAD</td>\n",
       "      <td>Reactivation_March_ 2020</td>\n",
       "      <td>0.758960</td>\n",
       "      <td>DE</td>\n",
       "      <td>2019-07-02</td>\n",
       "      <td>2018-06-04</td>\n",
       "    </tr>\n",
       "    <tr>\n",
       "      <th>16</th>\n",
       "      <td>0035800000HPpdRAAT</td>\n",
       "      <td>Reactivation_March_ 2020</td>\n",
       "      <td>0.750462</td>\n",
       "      <td>DE</td>\n",
       "      <td>2019-06-29</td>\n",
       "      <td>2009-10-12</td>\n",
       "    </tr>\n",
       "    <tr>\n",
       "      <th>17</th>\n",
       "      <td>0031i000004UV9nAAG</td>\n",
       "      <td>Reactivation_March_ 2020</td>\n",
       "      <td>0.876596</td>\n",
       "      <td>DE</td>\n",
       "      <td>2019-06-29</td>\n",
       "      <td>2018-09-13</td>\n",
       "    </tr>\n",
       "    <tr>\n",
       "      <th>19</th>\n",
       "      <td>0035800000HYAfFAAX</td>\n",
       "      <td>Reactivation_March_ 2020</td>\n",
       "      <td>0.736785</td>\n",
       "      <td>DE</td>\n",
       "      <td>2019-05-02</td>\n",
       "      <td>2016-02-20</td>\n",
       "    </tr>\n",
       "    <tr>\n",
       "      <th>...</th>\n",
       "      <td>...</td>\n",
       "      <td>...</td>\n",
       "      <td>...</td>\n",
       "      <td>...</td>\n",
       "      <td>...</td>\n",
       "      <td>...</td>\n",
       "    </tr>\n",
       "    <tr>\n",
       "      <th>585199</th>\n",
       "      <td>0035800000HQolfAAD</td>\n",
       "      <td>Reactivation_March_ 2020</td>\n",
       "      <td>0.943089</td>\n",
       "      <td>DE</td>\n",
       "      <td>2019-07-20</td>\n",
       "      <td>2009-12-04</td>\n",
       "    </tr>\n",
       "    <tr>\n",
       "      <th>585207</th>\n",
       "      <td>0035800000HTMXWAA5</td>\n",
       "      <td>Reactivation_March_ 2020</td>\n",
       "      <td>0.671006</td>\n",
       "      <td>DE</td>\n",
       "      <td>2020-02-26</td>\n",
       "      <td>2015-09-12</td>\n",
       "    </tr>\n",
       "    <tr>\n",
       "      <th>585225</th>\n",
       "      <td>0035800000HS5xLAAT</td>\n",
       "      <td>Reactivation_March_ 2020</td>\n",
       "      <td>0.721893</td>\n",
       "      <td>DE</td>\n",
       "      <td>2019-06-05</td>\n",
       "      <td>2011-06-15</td>\n",
       "    </tr>\n",
       "    <tr>\n",
       "      <th>585255</th>\n",
       "      <td>0035800000jOsazAAC</td>\n",
       "      <td>Reactivation_March_ 2020</td>\n",
       "      <td>0.813431</td>\n",
       "      <td>DE</td>\n",
       "      <td>2020-03-02</td>\n",
       "      <td>2015-09-17</td>\n",
       "    </tr>\n",
       "    <tr>\n",
       "      <th>585258</th>\n",
       "      <td>00358000015sIEIAA2</td>\n",
       "      <td>Reactivation_March_ 2020</td>\n",
       "      <td>0.815903</td>\n",
       "      <td>DE</td>\n",
       "      <td>2020-02-01</td>\n",
       "      <td>2017-09-16</td>\n",
       "    </tr>\n",
       "  </tbody>\n",
       "</table>\n",
       "<p>68068 rows × 6 columns</p>\n",
       "</div>"
      ],
      "text/plain": [
       "                      SFID         ScoringIdentifier     Score country  \\\n",
       "9       0035800000HQNYKAA5  Reactivation_March_ 2020  0.794845      DE   \n",
       "15      0035800001WDeqtAAD  Reactivation_March_ 2020  0.758960      DE   \n",
       "16      0035800000HPpdRAAT  Reactivation_March_ 2020  0.750462      DE   \n",
       "17      0031i000004UV9nAAG  Reactivation_March_ 2020  0.876596      DE   \n",
       "19      0035800000HYAfFAAX  Reactivation_March_ 2020  0.736785      DE   \n",
       "...                    ...                       ...       ...     ...   \n",
       "585199  0035800000HQolfAAD  Reactivation_March_ 2020  0.943089      DE   \n",
       "585207  0035800000HTMXWAA5  Reactivation_March_ 2020  0.671006      DE   \n",
       "585225  0035800000HS5xLAAT  Reactivation_March_ 2020  0.721893      DE   \n",
       "585255  0035800000jOsazAAC  Reactivation_March_ 2020  0.813431      DE   \n",
       "585258  00358000015sIEIAA2  Reactivation_March_ 2020  0.815903      DE   \n",
       "\n",
       "       last_receipt_date first_receipt_date  \n",
       "9             2019-05-25         2009-11-28  \n",
       "15            2019-07-02         2018-06-04  \n",
       "16            2019-06-29         2009-10-12  \n",
       "17            2019-06-29         2018-09-13  \n",
       "19            2019-05-02         2016-02-20  \n",
       "...                  ...                ...  \n",
       "585199        2019-07-20         2009-12-04  \n",
       "585207        2020-02-26         2015-09-12  \n",
       "585225        2019-06-05         2011-06-15  \n",
       "585255        2020-03-02         2015-09-17  \n",
       "585258        2020-02-01         2017-09-16  \n",
       "\n",
       "[68068 rows x 6 columns]"
      ]
     },
     "execution_count": 28,
     "metadata": {},
     "output_type": "execute_result"
    }
   ],
   "source": [
    "(df_merged\n",
    " .loc[df_merged.country == 'DE']\n",
    " .loc[lambda d: d.Score > 0.658]\n",
    ")"
   ]
  },
  {
   "cell_type": "code",
   "execution_count": null,
   "metadata": {},
   "outputs": [],
   "source": []
  }
 ],
 "metadata": {
  "kernelspec": {
   "display_name": "Python 3",
   "language": "python",
   "name": "python3"
  },
  "language_info": {
   "codemirror_mode": {
    "name": "ipython",
    "version": 3
   },
   "file_extension": ".py",
   "mimetype": "text/x-python",
   "name": "python",
   "nbconvert_exporter": "python",
   "pygments_lexer": "ipython3",
   "version": "3.7.7"
  }
 },
 "nbformat": 4,
 "nbformat_minor": 2
}
