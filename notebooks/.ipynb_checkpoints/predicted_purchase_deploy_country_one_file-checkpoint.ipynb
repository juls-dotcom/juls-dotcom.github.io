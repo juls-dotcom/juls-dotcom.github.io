{
 "cells": [
  {
   "cell_type": "code",
   "execution_count": 1,
   "metadata": {
    "ExecuteTime": {
     "end_time": "2020-03-23T12:28:21.830363Z",
     "start_time": "2020-03-23T12:28:21.826363Z"
    }
   },
   "outputs": [],
   "source": [
    "def normalize(df):\n",
    "    result = df.copy()\n",
    "    #for feature_name in df.columns:\n",
    "    result = result.values\n",
    "    max_value = df.max()\n",
    "    min_value = df.min()\n",
    "    result = (df - min_value) / (max_value - min_value)\n",
    "    return result"
   ]
  },
  {
   "cell_type": "code",
   "execution_count": 2,
   "metadata": {
    "ExecuteTime": {
     "end_time": "2020-03-23T12:28:22.296676Z",
     "start_time": "2020-03-23T12:28:22.291677Z"
    }
   },
   "outputs": [],
   "source": [
    "class style:\n",
    "   PURPLE = '\\033[95m'\n",
    "   CYAN = '\\033[96m'\n",
    "   DARKCYAN = '\\033[36m'\n",
    "   BLUE = '\\033[94m'\n",
    "   GREEN = '\\033[92m'\n",
    "   YELLOW = '\\033[93m'\n",
    "   RED = '\\033[91m'\n",
    "   BOLD = '\\033[1m'\n",
    "   UNDERLINE = '\\033[4m'\n",
    "   END = '\\033[0m'"
   ]
  },
  {
   "cell_type": "markdown",
   "metadata": {},
   "source": [
    "## Data extraction"
   ]
  },
  {
   "cell_type": "code",
   "execution_count": 14,
   "metadata": {
    "ExecuteTime": {
     "end_time": "2020-03-19T14:35:22.966316Z",
     "start_time": "2020-03-19T14:35:22.825710Z"
    }
   },
   "outputs": [
    {
     "name": "stdout",
     "output_type": "stream",
     "text": [
      "The autoreload extension is already loaded. To reload it, use:\n",
      "  %reload_ext autoreload\n"
     ]
    }
   ],
   "source": [
    "%load_ext autoreload\n",
    "%autoreload 2\n",
    "#plt.rcParams['figure.figsize'] = (16,8)"
   ]
  },
  {
   "cell_type": "code",
   "execution_count": 15,
   "metadata": {
    "ExecuteTime": {
     "end_time": "2020-03-19T14:35:23.388387Z",
     "start_time": "2020-03-19T14:35:23.247569Z"
    }
   },
   "outputs": [],
   "source": [
    "def run_dat_extract(data, path, country):\n",
    "    \n",
    "    ## Import data\n",
    "    import pandas as pd\n",
    "\n",
    "    #_set_params\n",
    "#     path = 'u:\\\\Projects\\\\datasets\\\\customer_history\\\\spring_special_2020'\n",
    "#     country = 'PL'\n",
    "\n",
    "    # Import Club Customers\n",
    "    \n",
    "    df_club = data.loc[data.country_code == country]\n",
    "       \n",
    "    ## Munge data\n",
    "    \n",
    "    from purchase_prediction.munging_pipeline import (start_pipeline, \n",
    "                                                      select_valid_cards, \n",
    "                                                      correct_cols, \n",
    "                                                      def_types, \n",
    "                                                      down_sample,\n",
    "                                                      correct_timestamps, \n",
    "                                                      correct_for_retourned,\n",
    "                                                      drop_retours,\n",
    "                                                      assign_customer_type,\n",
    "                                                      drop_cols\n",
    "                                             )\n",
    "\n",
    "    df_club_clean = (df_club\n",
    "    .pipe(start_pipeline)\n",
    "    .pipe(select_valid_cards)\n",
    "    .pipe(correct_cols)            \n",
    "    .pipe(correct_timestamps)\n",
    "    .pipe(def_types,\n",
    "          column_name='turnover_with_vat_euro',\n",
    "          type=float)\n",
    "    #.pipe(down_sample, threshold=50000)\n",
    "    #.pipe(correct_for_retourned) # This steps is very long (should be optimized). Only use if monetary value required.\n",
    "    .pipe(drop_retours)   \n",
    "    .pipe(assign_customer_type,label='club')\n",
    "    )\n",
    "\n",
    "    print('')\n",
    "    print('There are ' + str(df_club_clean.groupby(by='customer_salesforce_id').count().shape[0]) + ' club customers.')\n",
    "\n",
    "\n",
    "    from purchase_prediction.ml_pipeline import (select_recent_members, \n",
    "                                                 date_benchmarking, \n",
    "                                                 compute_age_recency, \n",
    "                                                 rename_cols, \n",
    "                                                 select_ml_data, \n",
    "                                             )\n",
    "\n",
    "    from purchase_prediction.ml_pipeline_ecom import (select_receipt_dates_ecom, \n",
    "                                                      compute_age_recency_ecom, \n",
    "                                                      rename_cols_ecom_ml, \n",
    "                                                      add_frequency, \n",
    "                                                      select_ml_data_ecom, \n",
    "                                                 )\n",
    "    now_time_reference = '2020-01-01T00'\n",
    "    df_ml = (df_club_clean\n",
    "    .pipe(start_pipeline)\n",
    "#     .pipe(select_recent_members,\n",
    "#     timestamp_bef='2018-01-01T00',\n",
    "#     timestamp_aft=now_time_reference,\n",
    "#     action = \"between\")\n",
    "#    .pipe(date_benchmarking, upper_benchmark=now_time_reference)\n",
    "    .pipe(compute_age_recency,timestamp_ref=now_time_reference)\n",
    "    .pipe(rename_cols)\n",
    "    .pipe(select_ml_data)\n",
    "    )\n",
    "\n",
    "    lost_customers = df_club_clean.groupby(by='club_card_number').count().shape[0] - df_ml.groupby(by='club_card_number').count().shape[0]\n",
    "    print('Data cleansing yields ' + str(lost_customers) + ' lost customers.')\n",
    "    print('#Customers select for ML pipeline = ' + str(df_ml.groupby(by='club_card_number').count().shape[0]))\n",
    "\n",
    "    return df_ml#, df_club_clean, df_club"
   ]
  },
  {
   "cell_type": "markdown",
   "metadata": {},
   "source": [
    "## Model fit & test"
   ]
  },
  {
   "cell_type": "code",
   "execution_count": 16,
   "metadata": {
    "ExecuteTime": {
     "end_time": "2020-03-19T14:35:24.872630Z",
     "start_time": "2020-03-19T14:35:24.747584Z"
    }
   },
   "outputs": [],
   "source": [
    "def run_model(df_ml):\n",
    "    # Import models\n",
    "    from lifetimes import BetaGeoFitter,ParetoNBDFitter\n",
    "    bgf = BetaGeoFitter(penalizer_coef=0.001)\n",
    "    #bgf_Pareto = ParetoNBDFitter(penalizer_coef=0.1)\n",
    "\n",
    "    # Verify that the model is doing a relatively good job at predicting values\n",
    "    from lifetimes.utils import calibration_and_holdout_data\n",
    "    # This function creates a summary of each customer over a calibration and holdout period (training and testing)\n",
    "    # It accepts transaction data, and returns a DataFrame of sufficient statistics.\n",
    "    summary_cal_holdout = calibration_and_holdout_data(df_ml, 'sfid', 'receipt_issue_date',\n",
    "                                                        calibration_period_end='2018-10-01',\n",
    "                                                        observation_period_end='2019-10-01',\n",
    "                                                        freq='W',\n",
    "                                                        monetary_value_col = 'monetary_value')\n",
    "\n",
    "    from lifetimes.plotting import plot_calibration_purchases_vs_holdout_purchases\n",
    "\n",
    "    bgf.fit(summary_cal_holdout['frequency_cal'], \n",
    "            summary_cal_holdout['recency_cal'], \n",
    "            summary_cal_holdout['T_cal'])\n",
    "    plot_calibration_purchases_vs_holdout_purchases(bgf, summary_cal_holdout)\n",
    "\n",
    "    # Model summary\n",
    "#     print('Model Summary')\n",
    "#     print(bgf.summary)\n",
    "\n",
    "    ## Model fit over all data to predict 2020\n",
    "\n",
    "    # Transform transaction data into customer-based data with three attributes\n",
    "    from lifetimes.utils import summary_data_from_transaction_data\n",
    "\n",
    "    summary = summary_data_from_transaction_data(df_ml, \n",
    "                                                 'sfid', \n",
    "                                                 'receipt_issue_date', \n",
    "                                                 observation_period_end='2019-10-01',\n",
    "                                                 datetime_format = '%Y-%m-%d',\n",
    "                                                 freq='W',\n",
    "                                                 monetary_value_col = 'monetary_value')\n",
    "#     print('Sample of ML data')\n",
    "#     print(summary.sample(2))\n",
    "    print('')\n",
    "\n",
    "    from lifetimes import BetaGeoFitter\n",
    "\n",
    "    # similar API to scikit-learn and lifelines.\n",
    "    # I am using some penalizer due to low sample size, see lifetimes documentation.\n",
    "    bgf = BetaGeoFitter(penalizer_coef=0.001)\n",
    "    bgf.fit(summary['frequency'], summary['recency'], summary['T'])\n",
    "    print(bgf.summary)\n",
    "\n",
    "    # Add predicted purchases to summary dataframe\n",
    "    # Predicted purchases are calculated for a given time window t\n",
    "    t = 4\n",
    "    summary['pred_purch_coming_week=' + str(t)] = (bgf.conditional_expected_number_of_purchases_up_to_time\n",
    "                                                   (\n",
    "                                                    t, \n",
    "                                                    summary['frequency'], \n",
    "                                                    summary['recency'], \n",
    "                                                    summary['T']\n",
    "                                                   )\n",
    "                                                  )\n",
    "\n",
    "    from lifetimes.plotting import plot_period_transactions\n",
    "    plot_period_transactions(bgf)\n",
    "    return summary"
   ]
  },
  {
   "cell_type": "markdown",
   "metadata": {},
   "source": [
    "## Run the good stuff"
   ]
  },
  {
   "cell_type": "code",
   "execution_count": 17,
   "metadata": {
    "ExecuteTime": {
     "end_time": "2020-03-19T14:35:26.763287Z",
     "start_time": "2020-03-19T14:35:26.638539Z"
    }
   },
   "outputs": [],
   "source": [
    "import pandas as pd\n",
    "import os"
   ]
  },
  {
   "cell_type": "code",
   "execution_count": 7,
   "metadata": {
    "ExecuteTime": {
     "end_time": "2020-03-19T09:37:01.692573Z",
     "start_time": "2020-03-19T09:32:03.705649Z"
    }
   },
   "outputs": [],
   "source": [
    "path = 'J:\\\\BoitePos\\\\Julien_Exchange'\n",
    "os.chdir(path)\n",
    "\n",
    "df = pd.read_csv('JULIEN_2020-03-04T15_46_502020-03-04 15-47-54.csv', delimiter=';')"
   ]
  },
  {
   "cell_type": "code",
   "execution_count": 8,
   "metadata": {
    "ExecuteTime": {
     "end_time": "2020-03-19T09:37:02.879291Z",
     "start_time": "2020-03-19T09:37:01.693571Z"
    }
   },
   "outputs": [],
   "source": [
    "df_test = df.copy()"
   ]
  },
  {
   "cell_type": "code",
   "execution_count": 10,
   "metadata": {
    "ExecuteTime": {
     "end_time": "2020-03-19T09:37:07.678059Z",
     "start_time": "2020-03-19T09:37:03.000840Z"
    }
   },
   "outputs": [],
   "source": [
    "df_test.columns = [c.lower() for c in df_test.columns]\n",
    "df_test = (df_test.rename(columns={\n",
    "    'ctry_code': 'country_code',\n",
    "    'club_card_code': 'club_card_number', \n",
    "    'clbc_salesforce_id': 'customer_salesforce_id', \n",
    "    'date_identifier': 'date',\n",
    "    'club_card_last_date': 'club_card_first_receipt_date', \n",
    "    'club_card_init_date': 'club_card_last_receipt_date', \n",
    "    'eatkl_biid': 'receipt_id',\n",
    "    'to_eur': 'turnover_with_vat_euro'\n",
    "    \n",
    "                        }\n",
    "              )\n",
    "        .drop(columns={'flag_is_sale'})\n",
    "    )"
   ]
  },
  {
   "cell_type": "code",
   "execution_count": 18,
   "metadata": {
    "ExecuteTime": {
     "end_time": "2020-03-19T14:35:36.003645Z",
     "start_time": "2020-03-19T14:35:35.847351Z"
    }
   },
   "outputs": [
    {
     "data": {
      "text/html": [
       "<div>\n",
       "<style scoped>\n",
       "    .dataframe tbody tr th:only-of-type {\n",
       "        vertical-align: middle;\n",
       "    }\n",
       "\n",
       "    .dataframe tbody tr th {\n",
       "        vertical-align: top;\n",
       "    }\n",
       "\n",
       "    .dataframe thead th {\n",
       "        text-align: right;\n",
       "    }\n",
       "</style>\n",
       "<table border=\"1\" class=\"dataframe\">\n",
       "  <thead>\n",
       "    <tr style=\"text-align: right;\">\n",
       "      <th></th>\n",
       "      <th>country_code</th>\n",
       "      <th>club_card_number</th>\n",
       "      <th>customer_salesforce_id</th>\n",
       "      <th>date</th>\n",
       "      <th>club_card_first_receipt_date</th>\n",
       "      <th>club_card_last_receipt_date</th>\n",
       "      <th>receipt_id</th>\n",
       "      <th>turnover_with_vat_euro</th>\n",
       "    </tr>\n",
       "  </thead>\n",
       "  <tbody>\n",
       "    <tr>\n",
       "      <th>0</th>\n",
       "      <td>DE</td>\n",
       "      <td>0</td>\n",
       "      <td>0035800000h7I8ZAAU</td>\n",
       "      <td>2018-02-19</td>\n",
       "      <td>2018-04-09</td>\n",
       "      <td>2004-12-20</td>\n",
       "      <td>1215018678</td>\n",
       "      <td>69.980000</td>\n",
       "    </tr>\n",
       "    <tr>\n",
       "      <th>1</th>\n",
       "      <td>DE</td>\n",
       "      <td>0</td>\n",
       "      <td>0035800000h7I8ZAAU</td>\n",
       "      <td>2018-03-06</td>\n",
       "      <td>2018-04-09</td>\n",
       "      <td>2004-12-20</td>\n",
       "      <td>1224652632</td>\n",
       "      <td>-69.980000</td>\n",
       "    </tr>\n",
       "    <tr>\n",
       "      <th>2</th>\n",
       "      <td>DE</td>\n",
       "      <td>0</td>\n",
       "      <td>0035800000h7I8ZAAU</td>\n",
       "      <td>2018-03-26</td>\n",
       "      <td>2018-04-09</td>\n",
       "      <td>2004-12-20</td>\n",
       "      <td>1246047609</td>\n",
       "      <td>60.980000</td>\n",
       "    </tr>\n",
       "    <tr>\n",
       "      <th>3</th>\n",
       "      <td>DE</td>\n",
       "      <td>2</td>\n",
       "      <td>0035800000HXlcDAAT</td>\n",
       "      <td>2018-05-15</td>\n",
       "      <td>2018-05-15</td>\n",
       "      <td>2009-09-21</td>\n",
       "      <td>1342683863</td>\n",
       "      <td>25.990000</td>\n",
       "    </tr>\n",
       "    <tr>\n",
       "      <th>4</th>\n",
       "      <td>DE</td>\n",
       "      <td>36</td>\n",
       "      <td>0035800000ud6xuAAA</td>\n",
       "      <td>2018-01-11</td>\n",
       "      <td>2019-11-22</td>\n",
       "      <td>2007-12-04</td>\n",
       "      <td>1187180687</td>\n",
       "      <td>47.990000</td>\n",
       "    </tr>\n",
       "    <tr>\n",
       "      <th>...</th>\n",
       "      <td>...</td>\n",
       "      <td>...</td>\n",
       "      <td>...</td>\n",
       "      <td>...</td>\n",
       "      <td>...</td>\n",
       "      <td>...</td>\n",
       "      <td>...</td>\n",
       "      <td>...</td>\n",
       "    </tr>\n",
       "    <tr>\n",
       "      <th>37617272</th>\n",
       "      <td>RS</td>\n",
       "      <td>9501333665</td>\n",
       "      <td>0031i00000CldfEAAR</td>\n",
       "      <td>2019-05-18</td>\n",
       "      <td>2020-02-27</td>\n",
       "      <td>2019-05-03</td>\n",
       "      <td>1759882581</td>\n",
       "      <td>31.186883</td>\n",
       "    </tr>\n",
       "    <tr>\n",
       "      <th>37617273</th>\n",
       "      <td>RS</td>\n",
       "      <td>9501333665</td>\n",
       "      <td>0031i00000CldfEAAR</td>\n",
       "      <td>2019-05-18</td>\n",
       "      <td>2020-02-27</td>\n",
       "      <td>2019-05-03</td>\n",
       "      <td>1760069137</td>\n",
       "      <td>19.488623</td>\n",
       "    </tr>\n",
       "    <tr>\n",
       "      <th>37617274</th>\n",
       "      <td>RS</td>\n",
       "      <td>9501340577</td>\n",
       "      <td>0031i0000073Gz9AAE</td>\n",
       "      <td>2019-08-08</td>\n",
       "      <td>2019-08-08</td>\n",
       "      <td>2019-04-10</td>\n",
       "      <td>1766869694</td>\n",
       "      <td>17.669600</td>\n",
       "    </tr>\n",
       "    <tr>\n",
       "      <th>37617275</th>\n",
       "      <td>RS</td>\n",
       "      <td>9501488453</td>\n",
       "      <td>0031i00000EhJCHAA3</td>\n",
       "      <td>2019-11-09</td>\n",
       "      <td>2019-11-09</td>\n",
       "      <td>2019-09-15</td>\n",
       "      <td>1823242706</td>\n",
       "      <td>11.577680</td>\n",
       "    </tr>\n",
       "    <tr>\n",
       "      <th>37617276</th>\n",
       "      <td>RS</td>\n",
       "      <td>9501526495</td>\n",
       "      <td>0031i00000MFecCAAT</td>\n",
       "      <td>2019-11-03</td>\n",
       "      <td>2019-11-03</td>\n",
       "      <td>2019-10-04</td>\n",
       "      <td>1822735445</td>\n",
       "      <td>12.321032</td>\n",
       "    </tr>\n",
       "  </tbody>\n",
       "</table>\n",
       "<p>37617277 rows × 8 columns</p>\n",
       "</div>"
      ],
      "text/plain": [
       "         country_code  club_card_number customer_salesforce_id        date  \\\n",
       "0                  DE                 0     0035800000h7I8ZAAU  2018-02-19   \n",
       "1                  DE                 0     0035800000h7I8ZAAU  2018-03-06   \n",
       "2                  DE                 0     0035800000h7I8ZAAU  2018-03-26   \n",
       "3                  DE                 2     0035800000HXlcDAAT  2018-05-15   \n",
       "4                  DE                36     0035800000ud6xuAAA  2018-01-11   \n",
       "...               ...               ...                    ...         ...   \n",
       "37617272           RS        9501333665     0031i00000CldfEAAR  2019-05-18   \n",
       "37617273           RS        9501333665     0031i00000CldfEAAR  2019-05-18   \n",
       "37617274           RS        9501340577     0031i0000073Gz9AAE  2019-08-08   \n",
       "37617275           RS        9501488453     0031i00000EhJCHAA3  2019-11-09   \n",
       "37617276           RS        9501526495     0031i00000MFecCAAT  2019-11-03   \n",
       "\n",
       "         club_card_first_receipt_date club_card_last_receipt_date  receipt_id  \\\n",
       "0                          2018-04-09                  2004-12-20  1215018678   \n",
       "1                          2018-04-09                  2004-12-20  1224652632   \n",
       "2                          2018-04-09                  2004-12-20  1246047609   \n",
       "3                          2018-05-15                  2009-09-21  1342683863   \n",
       "4                          2019-11-22                  2007-12-04  1187180687   \n",
       "...                               ...                         ...         ...   \n",
       "37617272                   2020-02-27                  2019-05-03  1759882581   \n",
       "37617273                   2020-02-27                  2019-05-03  1760069137   \n",
       "37617274                   2019-08-08                  2019-04-10  1766869694   \n",
       "37617275                   2019-11-09                  2019-09-15  1823242706   \n",
       "37617276                   2019-11-03                  2019-10-04  1822735445   \n",
       "\n",
       "          turnover_with_vat_euro  \n",
       "0                      69.980000  \n",
       "1                     -69.980000  \n",
       "2                      60.980000  \n",
       "3                      25.990000  \n",
       "4                      47.990000  \n",
       "...                          ...  \n",
       "37617272               31.186883  \n",
       "37617273               19.488623  \n",
       "37617274               17.669600  \n",
       "37617275               11.577680  \n",
       "37617276               12.321032  \n",
       "\n",
       "[37617277 rows x 8 columns]"
      ]
     },
     "execution_count": 18,
     "metadata": {},
     "output_type": "execute_result"
    }
   ],
   "source": [
    "df_test"
   ]
  },
  {
   "cell_type": "code",
   "execution_count": 11,
   "metadata": {
    "ExecuteTime": {
     "end_time": "2020-03-06T13:38:52.407032Z",
     "start_time": "2020-03-06T13:38:50.648743Z"
    }
   },
   "outputs": [],
   "source": [
    "# I miss the column receipt count so I add it manually\n",
    "df_test = df_test.assign(count_receipts = (df_test.turnover_with_vat_euro>0).astype(int))"
   ]
  },
  {
   "cell_type": "code",
   "execution_count": 12,
   "metadata": {
    "ExecuteTime": {
     "end_time": "2020-03-06T13:38:52.508084Z",
     "start_time": "2020-03-06T13:38:52.408004Z"
    }
   },
   "outputs": [],
   "source": [
    "summary = pd.DataFrame()\n",
    "countries = ['DE', 'PL', 'SI', 'SK', 'RS', 'AT', 'CZ', 'HU', 'HR', 'RO']"
   ]
  },
  {
   "cell_type": "code",
   "execution_count": 13,
   "metadata": {
    "ExecuteTime": {
     "end_time": "2020-03-06T13:42:08.923312Z",
     "start_time": "2020-03-06T13:39:33.004195Z"
    }
   },
   "outputs": [
    {
     "name": "stdout",
     "output_type": "stream",
     "text": [
      "\u001b[1m\u001b[94mNow calculating prediction for DE\u001b[0m\n",
      "f/ select_valid_cards cleaned: 407 (i.e., 0.0% of initial data) entries from input dataf.\n",
      "\n",
      "There are 2554930 club customers.\n",
      "Data cleansing yields 0 lost customers.\n",
      "#Customers select for ML pipeline = 2646983\n",
      "\u001b[1m\u001b[94mNow calculating prediction for PL\u001b[0m\n",
      "f/ select_valid_cards cleaned: 155 (i.e., 0.0% of initial data) entries from input dataf.\n",
      "\n",
      "There are 2137917 club customers.\n",
      "Data cleansing yields 0 lost customers.\n",
      "#Customers select for ML pipeline = 2221789\n",
      "\u001b[1m\u001b[94mNow calculating prediction for SI\u001b[0m\n",
      "f/ select_valid_cards cleaned: 0 (i.e., 0.0% of initial data) entries from input dataf.\n",
      "\n",
      "There are 126887 club customers.\n",
      "Data cleansing yields 0 lost customers.\n",
      "#Customers select for ML pipeline = 131845\n",
      "\u001b[1m\u001b[94mNow calculating prediction for SK\u001b[0m\n",
      "f/ select_valid_cards cleaned: 7 (i.e., 0.0% of initial data) entries from input dataf.\n",
      "\n",
      "There are 265841 club customers.\n",
      "Data cleansing yields 0 lost customers.\n",
      "#Customers select for ML pipeline = 280153\n",
      "\u001b[1m\u001b[94mNow calculating prediction for RS\u001b[0m\n",
      "f/ select_valid_cards cleaned: 0 (i.e., 0.0% of initial data) entries from input dataf.\n",
      "\n",
      "There are 121957 club customers.\n",
      "Data cleansing yields 0 lost customers.\n",
      "#Customers select for ML pipeline = 125630\n",
      "\u001b[1m\u001b[94mNow calculating prediction for AT\u001b[0m\n",
      "f/ select_valid_cards cleaned: 144 (i.e., 0.0% of initial data) entries from input dataf.\n",
      "\n",
      "There are 646305 club customers.\n",
      "Data cleansing yields 0 lost customers.\n",
      "#Customers select for ML pipeline = 667315\n",
      "\u001b[1m\u001b[94mNow calculating prediction for CZ\u001b[0m\n",
      "f/ select_valid_cards cleaned: 16 (i.e., 0.0% of initial data) entries from input dataf.\n",
      "\n",
      "There are 729573 club customers.\n",
      "Data cleansing yields 0 lost customers.\n",
      "#Customers select for ML pipeline = 770186\n",
      "\u001b[1m\u001b[94mNow calculating prediction for HU\u001b[0m\n",
      "f/ select_valid_cards cleaned: 34 (i.e., 0.0% of initial data) entries from input dataf.\n",
      "\n",
      "There are 389091 club customers.\n",
      "Data cleansing yields 0 lost customers.\n",
      "#Customers select for ML pipeline = 417316\n",
      "\u001b[1m\u001b[94mNow calculating prediction for HR\u001b[0m\n",
      "f/ select_valid_cards cleaned: 9 (i.e., 0.0% of initial data) entries from input dataf.\n",
      "\n",
      "There are 141272 club customers.\n",
      "Data cleansing yields 0 lost customers.\n",
      "#Customers select for ML pipeline = 146853\n",
      "\u001b[1m\u001b[94mNow calculating prediction for RO\u001b[0m\n",
      "f/ select_valid_cards cleaned: 10 (i.e., 0.0% of initial data) entries from input dataf.\n",
      "\n",
      "There are 377134 club customers.\n",
      "Data cleansing yields 0 lost customers.\n",
      "#Customers select for ML pipeline = 398661\n"
     ]
    }
   ],
   "source": [
    "df_ml_countries = pd.DataFrame()\n",
    "for i in countries:\n",
    "    #_set_params\n",
    "    #path = 'u:\\\\Projects\\\\datasets\\\\customer_history\\\\spring_special_2020'\n",
    "    path = 'u:\\\\Projects\\\\datasets\\\\customer_history\\\\winter_celebration'\n",
    "    country = i\n",
    "    print(style.BOLD + style.BLUE + 'Now calculating prediction for ' + country + style.END)\n",
    "    # extract data\n",
    "    df_ml = run_dat_extract(data=df_test, path=path, country=country)\n",
    "    df_ml_countries = df_ml_countries.append(df_ml)"
   ]
  },
  {
   "cell_type": "code",
   "execution_count": 14,
   "metadata": {
    "ExecuteTime": {
     "end_time": "2020-03-06T13:42:25.201071Z",
     "start_time": "2020-03-06T13:42:25.042111Z"
    }
   },
   "outputs": [
    {
     "data": {
      "text/html": [
       "<div>\n",
       "<style scoped>\n",
       "    .dataframe tbody tr th:only-of-type {\n",
       "        vertical-align: middle;\n",
       "    }\n",
       "\n",
       "    .dataframe tbody tr th {\n",
       "        vertical-align: top;\n",
       "    }\n",
       "\n",
       "    .dataframe thead th {\n",
       "        text-align: right;\n",
       "    }\n",
       "</style>\n",
       "<table border=\"1\" class=\"dataframe\">\n",
       "  <thead>\n",
       "    <tr style=\"text-align: right;\">\n",
       "      <th></th>\n",
       "      <th>sfid</th>\n",
       "      <th>club_card_number</th>\n",
       "      <th>age_in_weeks</th>\n",
       "      <th>recency_in_weeks</th>\n",
       "      <th>frequency</th>\n",
       "      <th>monetary_value</th>\n",
       "      <th>receipt_issue_date</th>\n",
       "      <th>customer_type</th>\n",
       "    </tr>\n",
       "  </thead>\n",
       "  <tbody>\n",
       "    <tr>\n",
       "      <th>407</th>\n",
       "      <td>0031i00000MIOlpAAH</td>\n",
       "      <td>20151</td>\n",
       "      <td>7.714286</td>\n",
       "      <td>-531.142857</td>\n",
       "      <td>1</td>\n",
       "      <td>43.970000</td>\n",
       "      <td>2018-05-24</td>\n",
       "      <td>club</td>\n",
       "    </tr>\n",
       "    <tr>\n",
       "      <th>409</th>\n",
       "      <td>0031i00000MIOlpAAH</td>\n",
       "      <td>20151</td>\n",
       "      <td>7.714286</td>\n",
       "      <td>-531.142857</td>\n",
       "      <td>1</td>\n",
       "      <td>115.960000</td>\n",
       "      <td>2019-03-29</td>\n",
       "      <td>club</td>\n",
       "    </tr>\n",
       "    <tr>\n",
       "      <th>411</th>\n",
       "      <td>0031i00000MIOlpAAH</td>\n",
       "      <td>20151</td>\n",
       "      <td>7.714286</td>\n",
       "      <td>-531.142857</td>\n",
       "      <td>1</td>\n",
       "      <td>49.000000</td>\n",
       "      <td>2019-08-01</td>\n",
       "      <td>club</td>\n",
       "    </tr>\n",
       "    <tr>\n",
       "      <th>412</th>\n",
       "      <td>0031i00000MIOlpAAH</td>\n",
       "      <td>20151</td>\n",
       "      <td>7.714286</td>\n",
       "      <td>-531.142857</td>\n",
       "      <td>1</td>\n",
       "      <td>39.200000</td>\n",
       "      <td>2019-08-01</td>\n",
       "      <td>club</td>\n",
       "    </tr>\n",
       "    <tr>\n",
       "      <th>415</th>\n",
       "      <td>0031i00000MIOlpAAH</td>\n",
       "      <td>20151</td>\n",
       "      <td>7.714286</td>\n",
       "      <td>-531.142857</td>\n",
       "      <td>1</td>\n",
       "      <td>97.970000</td>\n",
       "      <td>2019-10-24</td>\n",
       "      <td>club</td>\n",
       "    </tr>\n",
       "    <tr>\n",
       "      <th>...</th>\n",
       "      <td>...</td>\n",
       "      <td>...</td>\n",
       "      <td>...</td>\n",
       "      <td>...</td>\n",
       "      <td>...</td>\n",
       "      <td>...</td>\n",
       "      <td>...</td>\n",
       "      <td>...</td>\n",
       "    </tr>\n",
       "    <tr>\n",
       "      <th>37100201</th>\n",
       "      <td>0035800001PqVdjAAF</td>\n",
       "      <td>9500198878</td>\n",
       "      <td>-6.714286</td>\n",
       "      <td>-97.571429</td>\n",
       "      <td>1</td>\n",
       "      <td>74.075700</td>\n",
       "      <td>2019-07-08</td>\n",
       "      <td>club</td>\n",
       "    </tr>\n",
       "    <tr>\n",
       "      <th>37100202</th>\n",
       "      <td>0035800001NGdEAAA1</td>\n",
       "      <td>9500259331</td>\n",
       "      <td>-1.285714</td>\n",
       "      <td>-97.142857</td>\n",
       "      <td>1</td>\n",
       "      <td>17.176653</td>\n",
       "      <td>2018-05-06</td>\n",
       "      <td>club</td>\n",
       "    </tr>\n",
       "    <tr>\n",
       "      <th>37100203</th>\n",
       "      <td>0031i000001rNN5AAM</td>\n",
       "      <td>9500586527</td>\n",
       "      <td>10.857143</td>\n",
       "      <td>-56.714286</td>\n",
       "      <td>1</td>\n",
       "      <td>34.495161</td>\n",
       "      <td>2019-10-17</td>\n",
       "      <td>club</td>\n",
       "    </tr>\n",
       "    <tr>\n",
       "      <th>37100204</th>\n",
       "      <td>0031i00000HYhvBAAT</td>\n",
       "      <td>9500749107</td>\n",
       "      <td>-8.142857</td>\n",
       "      <td>-91.857143</td>\n",
       "      <td>1</td>\n",
       "      <td>76.082760</td>\n",
       "      <td>2019-08-02</td>\n",
       "      <td>club</td>\n",
       "    </tr>\n",
       "    <tr>\n",
       "      <th>37100205</th>\n",
       "      <td>0035800001Skg4NAAR</td>\n",
       "      <td>9500752416</td>\n",
       "      <td>7.571429</td>\n",
       "      <td>-79.142857</td>\n",
       "      <td>1</td>\n",
       "      <td>34.485844</td>\n",
       "      <td>2018-09-13</td>\n",
       "      <td>club</td>\n",
       "    </tr>\n",
       "  </tbody>\n",
       "</table>\n",
       "<p>33276311 rows × 8 columns</p>\n",
       "</div>"
      ],
      "text/plain": [
       "                        sfid  club_card_number  age_in_weeks  \\\n",
       "407       0031i00000MIOlpAAH             20151      7.714286   \n",
       "409       0031i00000MIOlpAAH             20151      7.714286   \n",
       "411       0031i00000MIOlpAAH             20151      7.714286   \n",
       "412       0031i00000MIOlpAAH             20151      7.714286   \n",
       "415       0031i00000MIOlpAAH             20151      7.714286   \n",
       "...                      ...               ...           ...   \n",
       "37100201  0035800001PqVdjAAF        9500198878     -6.714286   \n",
       "37100202  0035800001NGdEAAA1        9500259331     -1.285714   \n",
       "37100203  0031i000001rNN5AAM        9500586527     10.857143   \n",
       "37100204  0031i00000HYhvBAAT        9500749107     -8.142857   \n",
       "37100205  0035800001Skg4NAAR        9500752416      7.571429   \n",
       "\n",
       "          recency_in_weeks  frequency  monetary_value receipt_issue_date  \\\n",
       "407            -531.142857          1       43.970000         2018-05-24   \n",
       "409            -531.142857          1      115.960000         2019-03-29   \n",
       "411            -531.142857          1       49.000000         2019-08-01   \n",
       "412            -531.142857          1       39.200000         2019-08-01   \n",
       "415            -531.142857          1       97.970000         2019-10-24   \n",
       "...                    ...        ...             ...                ...   \n",
       "37100201        -97.571429          1       74.075700         2019-07-08   \n",
       "37100202        -97.142857          1       17.176653         2018-05-06   \n",
       "37100203        -56.714286          1       34.495161         2019-10-17   \n",
       "37100204        -91.857143          1       76.082760         2019-08-02   \n",
       "37100205        -79.142857          1       34.485844         2018-09-13   \n",
       "\n",
       "         customer_type  \n",
       "407               club  \n",
       "409               club  \n",
       "411               club  \n",
       "412               club  \n",
       "415               club  \n",
       "...                ...  \n",
       "37100201          club  \n",
       "37100202          club  \n",
       "37100203          club  \n",
       "37100204          club  \n",
       "37100205          club  \n",
       "\n",
       "[33276311 rows x 8 columns]"
      ]
     },
     "execution_count": 14,
     "metadata": {},
     "output_type": "execute_result"
    }
   ],
   "source": [
    "df_ml_countries"
   ]
  },
  {
   "cell_type": "code",
   "execution_count": 15,
   "metadata": {
    "ExecuteTime": {
     "end_time": "2020-03-06T14:33:00.313018Z",
     "start_time": "2020-03-06T13:42:35.307547Z"
    },
    "scrolled": false
   },
   "outputs": [
    {
     "name": "stderr",
     "output_type": "stream",
     "text": [
      "C:\\Users\\jhernandez-lallement\\AppData\\Local\\Continuum\\anaconda3\\lib\\site-packages\\autograd\\tracer.py:48: RuntimeWarning: invalid value encountered in log\n",
      "  return f_raw(*args, **kwargs)\n"
     ]
    },
    {
     "name": "stdout",
     "output_type": "stream",
     "text": [
      "\n",
      "            coef  se(coef)  lower 95% bound  upper 95% bound\n",
      "r       0.646331  0.000534         0.645285         0.647378\n",
      "alpha  14.385557  0.014882        14.356389        14.414726\n",
      "a       0.050229  0.000267         0.049707         0.050752\n",
      "b       0.789464  0.004391         0.780858         0.798070\n"
     ]
    },
    {
     "name": "stderr",
     "output_type": "stream",
     "text": [
      "C:\\Users\\jhernandez-lallement\\AppData\\Local\\Continuum\\anaconda3\\lib\\site-packages\\pandas\\core\\series.py:856: RuntimeWarning: invalid value encountered in log\n",
      "  result = getattr(ufunc, method)(*inputs, **kwargs)\n"
     ]
    },
    {
     "data": {
      "image/png": "[encoded data removed]",
      "text/plain": [
       "<Figure size 432x288 with 1 Axes>"
      ]
     },
     "metadata": {
      "needs_background": "light"
     },
     "output_type": "display_data"
    },
    {
     "data": {
      "image/png": "[encoded data removed]",
      "text/plain": [
       "<Figure size 432x288 with 1 Axes>"
      ]
     },
     "metadata": {
      "needs_background": "light"
     },
     "output_type": "display_data"
    }
   ],
   "source": [
    "# run model\n",
    "to_append = run_model(df_ml=df_ml_countries)\n",
    "\n",
    "to_append = to_append.assign(norm_purchase = normalize(to_append['pred_purch_coming_week=4'])).reset_index()\n",
    "summary = summary.append(to_append)"
   ]
  },
  {
   "cell_type": "code",
   "execution_count": 16,
   "metadata": {
    "ExecuteTime": {
     "end_time": "2020-03-06T14:33:44.513328Z",
     "start_time": "2020-03-06T14:33:43.268547Z"
    }
   },
   "outputs": [
    {
     "data": {
      "text/plain": [
       "<matplotlib.axes._subplots.AxesSubplot at 0x237ddd00048>"
      ]
     },
     "execution_count": 16,
     "metadata": {},
     "output_type": "execute_result"
    },
    {
     "data": {
      "image/png": "[encoded data removed]",
      "text/plain": [
       "<Figure size 432x288 with 1 Axes>"
      ]
     },
     "metadata": {
      "needs_background": "light"
     },
     "output_type": "display_data"
    }
   ],
   "source": [
    "to_append.norm_purchase.plot(kind='hist', bins=100)"
   ]
  },
  {
   "cell_type": "code",
   "execution_count": 19,
   "metadata": {
    "ExecuteTime": {
     "end_time": "2020-03-06T14:37:16.684997Z",
     "start_time": "2020-03-06T14:34:32.898938Z"
    }
   },
   "outputs": [],
   "source": [
    "to_append.to_csv('output_scores_orsay_all_countries_one_file_06032020.csv')"
   ]
  },
  {
   "cell_type": "code",
   "execution_count": 20,
   "metadata": {
    "ExecuteTime": {
     "end_time": "2020-03-06T15:26:30.472971Z",
     "start_time": "2020-03-06T15:26:30.321978Z"
    }
   },
   "outputs": [
    {
     "data": {
      "text/plain": [
       "'J:\\\\BoitePos\\\\Julien_Exchange'"
      ]
     },
     "execution_count": 20,
     "metadata": {},
     "output_type": "execute_result"
    }
   ],
   "source": [
    "pwd"
   ]
  },
  {
   "cell_type": "code",
   "execution_count": null,
   "metadata": {},
   "outputs": [],
   "source": []
  },
  {
   "cell_type": "code",
   "execution_count": 12,
   "metadata": {
    "ExecuteTime": {
     "end_time": "2020-02-26T14:26:48.611003Z",
     "start_time": "2020-02-26T14:24:14.046575Z"
    }
   },
   "outputs": [],
   "source": [
    "summary.to_csv('PRED_PURCHASE_ALL_COUNTRIES.csv')"
   ]
  },
  {
   "cell_type": "code",
   "execution_count": 14,
   "metadata": {
    "ExecuteTime": {
     "end_time": "2020-03-03T06:52:32.353127Z",
     "start_time": "2020-03-03T06:52:14.143842Z"
    }
   },
   "outputs": [],
   "source": [
    "summary = pd.read_csv('PRED_PURCHASE_ALL_COUNTRIES.csv')"
   ]
  },
  {
   "cell_type": "markdown",
   "metadata": {},
   "source": [
    "## Comparison DeFacto"
   ]
  },
  {
   "cell_type": "code",
   "execution_count": 40,
   "metadata": {
    "ExecuteTime": {
     "end_time": "2020-03-03T07:21:07.676005Z",
     "start_time": "2020-03-03T07:20:49.712804Z"
    }
   },
   "outputs": [],
   "source": [
    "import os\n",
    "import plotnine as p9\n",
    "import pandas as pd\n",
    "\n",
    "def normalize(df):\n",
    "    result = df.copy()\n",
    "    #for feature_name in df.columns:\n",
    "    result = result.values\n",
    "    max_value = df.max()\n",
    "    min_value = df.min()\n",
    "    result = (df - min_value) / (max_value - min_value)\n",
    "    return result\n",
    "\n",
    "path = 'u:\\\\Projects\\\\datasets\\\\customer_history\\\\DeFacto_scores'\n",
    "os.chdir(path)\n",
    "file = 'Orsay_Promo_salesforce_January_2020.csv' # PreSale January 2020\n",
    "#file = '20190913_Score_Winter_Celebration.csv'   # Winter Celebration October 2019\n",
    "#file = '20191025_Winter_Presale_Daten_Score.csv' # Winter PreSale November 2019\n",
    "os.chdir(path)\n",
    "os.getcwd()\n",
    "\n",
    "## Import data\n",
    "files = os.listdir()\n",
    "df_defacto = pd.read_csv(files[files.index(file)],sep=';', \n",
    "                          header = 0,\n",
    "                          decimal=\",\",\n",
    "                          #encoding='Latin-1'\n",
    "                        )\n",
    "df_defacto.columns = [c.lower() for c in df_defacto.columns]\n",
    "\n",
    "df_orsay = summary.copy()\n",
    "df_orsay = df_orsay.assign(norm_purchase = lambda d: normalize(d['pred_purch_coming_week=4']))\n",
    "df_orsay.reset_index(level=0, inplace=True)"
   ]
  },
  {
   "cell_type": "code",
   "execution_count": 46,
   "metadata": {
    "ExecuteTime": {
     "end_time": "2020-03-03T07:22:12.964738Z",
     "start_time": "2020-03-03T07:22:12.686157Z"
    },
    "collapsed": true
   },
   "outputs": [
    {
     "ename": "MemoryError",
     "evalue": "Unable to allocate array with shape (2, 8880169) and data type object",
     "output_type": "error",
     "traceback": [
      "\u001b[1;31m---------------------------------------------------------------------------\u001b[0m",
      "\u001b[1;31mMemoryError\u001b[0m                               Traceback (most recent call last)",
      "\u001b[1;32m<ipython-input-46-b4582bb44aba>\u001b[0m in \u001b[0;36m<module>\u001b[1;34m\u001b[0m\n\u001b[0;32m      1\u001b[0m \u001b[1;31m# merged_orsay_defacto_data = df_orsay.merge(df_defacto, on='sfid', how='inner')\u001b[0m\u001b[1;33m\u001b[0m\u001b[1;33m\u001b[0m\u001b[1;33m\u001b[0m\u001b[0m\n\u001b[0;32m      2\u001b[0m \u001b[1;31m#df_defacto.kunde_id = df_defacto.kunde_id.astype('str')\u001b[0m\u001b[1;33m\u001b[0m\u001b[1;33m\u001b[0m\u001b[1;33m\u001b[0m\u001b[0m\n\u001b[1;32m----> 3\u001b[1;33m \u001b[0mmerged_orsay_defacto_data\u001b[0m \u001b[1;33m=\u001b[0m \u001b[0mdf_orsay\u001b[0m\u001b[1;33m.\u001b[0m\u001b[0mmerge\u001b[0m\u001b[1;33m(\u001b[0m\u001b[0mdf_defacto\u001b[0m\u001b[1;33m,\u001b[0m \u001b[0mon\u001b[0m\u001b[1;33m=\u001b[0m\u001b[1;34m'sfid'\u001b[0m\u001b[1;33m,\u001b[0m \u001b[0mhow\u001b[0m\u001b[1;33m=\u001b[0m\u001b[1;34m'inner'\u001b[0m\u001b[1;33m)\u001b[0m\u001b[1;33m\u001b[0m\u001b[1;33m\u001b[0m\u001b[0m\n\u001b[0m\u001b[0;32m      4\u001b[0m \u001b[0mprint\u001b[0m\u001b[1;33m(\u001b[0m\u001b[1;34m'We loose '\u001b[0m \u001b[1;33m+\u001b[0m \u001b[0mstr\u001b[0m\u001b[1;33m(\u001b[0m\u001b[0mdf_orsay\u001b[0m\u001b[1;33m.\u001b[0m\u001b[0mshape\u001b[0m\u001b[1;33m[\u001b[0m\u001b[1;36m0\u001b[0m\u001b[1;33m]\u001b[0m \u001b[1;33m-\u001b[0m \u001b[0mmerged_orsay_defacto_data\u001b[0m\u001b[1;33m.\u001b[0m\u001b[0mshape\u001b[0m\u001b[1;33m[\u001b[0m\u001b[1;36m0\u001b[0m\u001b[1;33m]\u001b[0m\u001b[1;33m)\u001b[0m \u001b[1;33m+\u001b[0m \u001b[1;34m' customers with DeFacto merging'\u001b[0m\u001b[1;33m)\u001b[0m\u001b[1;33m\u001b[0m\u001b[1;33m\u001b[0m\u001b[0m\n\u001b[0;32m      5\u001b[0m \u001b[1;33m\u001b[0m\u001b[0m\n",
      "\u001b[1;32m~\\AppData\\Local\\Continuum\\anaconda3\\lib\\site-packages\\pandas\\core\\frame.py\u001b[0m in \u001b[0;36mmerge\u001b[1;34m(self, right, how, on, left_on, right_on, left_index, right_index, sort, suffixes, copy, indicator, validate)\u001b[0m\n\u001b[0;32m   7347\u001b[0m             \u001b[0mcopy\u001b[0m\u001b[1;33m=\u001b[0m\u001b[0mcopy\u001b[0m\u001b[1;33m,\u001b[0m\u001b[1;33m\u001b[0m\u001b[1;33m\u001b[0m\u001b[0m\n\u001b[0;32m   7348\u001b[0m             \u001b[0mindicator\u001b[0m\u001b[1;33m=\u001b[0m\u001b[0mindicator\u001b[0m\u001b[1;33m,\u001b[0m\u001b[1;33m\u001b[0m\u001b[1;33m\u001b[0m\u001b[0m\n\u001b[1;32m-> 7349\u001b[1;33m             \u001b[0mvalidate\u001b[0m\u001b[1;33m=\u001b[0m\u001b[0mvalidate\u001b[0m\u001b[1;33m,\u001b[0m\u001b[1;33m\u001b[0m\u001b[1;33m\u001b[0m\u001b[0m\n\u001b[0m\u001b[0;32m   7350\u001b[0m         )\n\u001b[0;32m   7351\u001b[0m \u001b[1;33m\u001b[0m\u001b[0m\n",
      "\u001b[1;32m~\\AppData\\Local\\Continuum\\anaconda3\\lib\\site-packages\\pandas\\core\\reshape\\merge.py\u001b[0m in \u001b[0;36mmerge\u001b[1;34m(left, right, how, on, left_on, right_on, left_index, right_index, sort, suffixes, copy, indicator, validate)\u001b[0m\n\u001b[0;32m     79\u001b[0m         \u001b[0mcopy\u001b[0m\u001b[1;33m=\u001b[0m\u001b[0mcopy\u001b[0m\u001b[1;33m,\u001b[0m\u001b[1;33m\u001b[0m\u001b[1;33m\u001b[0m\u001b[0m\n\u001b[0;32m     80\u001b[0m         \u001b[0mindicator\u001b[0m\u001b[1;33m=\u001b[0m\u001b[0mindicator\u001b[0m\u001b[1;33m,\u001b[0m\u001b[1;33m\u001b[0m\u001b[1;33m\u001b[0m\u001b[0m\n\u001b[1;32m---> 81\u001b[1;33m         \u001b[0mvalidate\u001b[0m\u001b[1;33m=\u001b[0m\u001b[0mvalidate\u001b[0m\u001b[1;33m,\u001b[0m\u001b[1;33m\u001b[0m\u001b[1;33m\u001b[0m\u001b[0m\n\u001b[0m\u001b[0;32m     82\u001b[0m     )\n\u001b[0;32m     83\u001b[0m     \u001b[1;32mreturn\u001b[0m \u001b[0mop\u001b[0m\u001b[1;33m.\u001b[0m\u001b[0mget_result\u001b[0m\u001b[1;33m(\u001b[0m\u001b[1;33m)\u001b[0m\u001b[1;33m\u001b[0m\u001b[1;33m\u001b[0m\u001b[0m\n",
      "\u001b[1;32m~\\AppData\\Local\\Continuum\\anaconda3\\lib\\site-packages\\pandas\\core\\reshape\\merge.py\u001b[0m in \u001b[0;36m__init__\u001b[1;34m(self, left, right, how, on, left_on, right_on, axis, left_index, right_index, sort, suffixes, copy, indicator, validate)\u001b[0m\n\u001b[0;32m    624\u001b[0m             \u001b[0mself\u001b[0m\u001b[1;33m.\u001b[0m\u001b[0mright_join_keys\u001b[0m\u001b[1;33m,\u001b[0m\u001b[1;33m\u001b[0m\u001b[1;33m\u001b[0m\u001b[0m\n\u001b[0;32m    625\u001b[0m             \u001b[0mself\u001b[0m\u001b[1;33m.\u001b[0m\u001b[0mjoin_names\u001b[0m\u001b[1;33m,\u001b[0m\u001b[1;33m\u001b[0m\u001b[1;33m\u001b[0m\u001b[0m\n\u001b[1;32m--> 626\u001b[1;33m         ) = self._get_merge_keys()\n\u001b[0m\u001b[0;32m    627\u001b[0m \u001b[1;33m\u001b[0m\u001b[0m\n\u001b[0;32m    628\u001b[0m         \u001b[1;31m# validate the merge keys dtypes. We may need to coerce\u001b[0m\u001b[1;33m\u001b[0m\u001b[1;33m\u001b[0m\u001b[1;33m\u001b[0m\u001b[0m\n",
      "\u001b[1;32m~\\AppData\\Local\\Continuum\\anaconda3\\lib\\site-packages\\pandas\\core\\reshape\\merge.py\u001b[0m in \u001b[0;36m_get_merge_keys\u001b[1;34m(self)\u001b[0m\n\u001b[0;32m   1031\u001b[0m \u001b[1;33m\u001b[0m\u001b[0m\n\u001b[0;32m   1032\u001b[0m         \u001b[1;32mif\u001b[0m \u001b[0mright_drop\u001b[0m\u001b[1;33m:\u001b[0m\u001b[1;33m\u001b[0m\u001b[1;33m\u001b[0m\u001b[0m\n\u001b[1;32m-> 1033\u001b[1;33m             \u001b[0mself\u001b[0m\u001b[1;33m.\u001b[0m\u001b[0mright\u001b[0m \u001b[1;33m=\u001b[0m \u001b[0mself\u001b[0m\u001b[1;33m.\u001b[0m\u001b[0mright\u001b[0m\u001b[1;33m.\u001b[0m\u001b[0m_drop_labels_or_levels\u001b[0m\u001b[1;33m(\u001b[0m\u001b[0mright_drop\u001b[0m\u001b[1;33m)\u001b[0m\u001b[1;33m\u001b[0m\u001b[1;33m\u001b[0m\u001b[0m\n\u001b[0m\u001b[0;32m   1034\u001b[0m \u001b[1;33m\u001b[0m\u001b[0m\n\u001b[0;32m   1035\u001b[0m         \u001b[1;32mreturn\u001b[0m \u001b[0mleft_keys\u001b[0m\u001b[1;33m,\u001b[0m \u001b[0mright_keys\u001b[0m\u001b[1;33m,\u001b[0m \u001b[0mjoin_names\u001b[0m\u001b[1;33m\u001b[0m\u001b[1;33m\u001b[0m\u001b[0m\n",
      "\u001b[1;32m~\\AppData\\Local\\Continuum\\anaconda3\\lib\\site-packages\\pandas\\core\\generic.py\u001b[0m in \u001b[0;36m_drop_labels_or_levels\u001b[1;34m(self, keys, axis)\u001b[0m\n\u001b[0;32m   1851\u001b[0m         \u001b[1;31m# This ensures that we always perform exactly one copy.\u001b[0m\u001b[1;33m\u001b[0m\u001b[1;33m\u001b[0m\u001b[1;33m\u001b[0m\u001b[0m\n\u001b[0;32m   1852\u001b[0m         \u001b[1;31m# ``copy`` and/or ``inplace`` options could be added in the future.\u001b[0m\u001b[1;33m\u001b[0m\u001b[1;33m\u001b[0m\u001b[1;33m\u001b[0m\u001b[0m\n\u001b[1;32m-> 1853\u001b[1;33m         \u001b[0mdropped\u001b[0m \u001b[1;33m=\u001b[0m \u001b[0mself\u001b[0m\u001b[1;33m.\u001b[0m\u001b[0mcopy\u001b[0m\u001b[1;33m(\u001b[0m\u001b[1;33m)\u001b[0m\u001b[1;33m\u001b[0m\u001b[1;33m\u001b[0m\u001b[0m\n\u001b[0m\u001b[0;32m   1854\u001b[0m \u001b[1;33m\u001b[0m\u001b[0m\n\u001b[0;32m   1855\u001b[0m         \u001b[1;32mif\u001b[0m \u001b[0maxis\u001b[0m \u001b[1;33m==\u001b[0m \u001b[1;36m0\u001b[0m\u001b[1;33m:\u001b[0m\u001b[1;33m\u001b[0m\u001b[1;33m\u001b[0m\u001b[0m\n",
      "\u001b[1;32m~\\AppData\\Local\\Continuum\\anaconda3\\lib\\site-packages\\pandas\\core\\generic.py\u001b[0m in \u001b[0;36mcopy\u001b[1;34m(self, deep)\u001b[0m\n\u001b[0;32m   5994\u001b[0m         \u001b[0mdtype\u001b[0m\u001b[1;33m:\u001b[0m \u001b[0mobject\u001b[0m\u001b[1;33m\u001b[0m\u001b[1;33m\u001b[0m\u001b[0m\n\u001b[0;32m   5995\u001b[0m         \"\"\"\n\u001b[1;32m-> 5996\u001b[1;33m         \u001b[0mdata\u001b[0m \u001b[1;33m=\u001b[0m \u001b[0mself\u001b[0m\u001b[1;33m.\u001b[0m\u001b[0m_data\u001b[0m\u001b[1;33m.\u001b[0m\u001b[0mcopy\u001b[0m\u001b[1;33m(\u001b[0m\u001b[0mdeep\u001b[0m\u001b[1;33m=\u001b[0m\u001b[0mdeep\u001b[0m\u001b[1;33m)\u001b[0m\u001b[1;33m\u001b[0m\u001b[1;33m\u001b[0m\u001b[0m\n\u001b[0m\u001b[0;32m   5997\u001b[0m         \u001b[1;32mreturn\u001b[0m \u001b[0mself\u001b[0m\u001b[1;33m.\u001b[0m\u001b[0m_constructor\u001b[0m\u001b[1;33m(\u001b[0m\u001b[0mdata\u001b[0m\u001b[1;33m)\u001b[0m\u001b[1;33m.\u001b[0m\u001b[0m__finalize__\u001b[0m\u001b[1;33m(\u001b[0m\u001b[0mself\u001b[0m\u001b[1;33m)\u001b[0m\u001b[1;33m\u001b[0m\u001b[1;33m\u001b[0m\u001b[0m\n\u001b[0;32m   5998\u001b[0m \u001b[1;33m\u001b[0m\u001b[0m\n",
      "\u001b[1;32m~\\AppData\\Local\\Continuum\\anaconda3\\lib\\site-packages\\pandas\\core\\internals\\managers.py\u001b[0m in \u001b[0;36mcopy\u001b[1;34m(self, deep)\u001b[0m\n\u001b[0;32m    786\u001b[0m         \u001b[1;32melse\u001b[0m\u001b[1;33m:\u001b[0m\u001b[1;33m\u001b[0m\u001b[1;33m\u001b[0m\u001b[0m\n\u001b[0;32m    787\u001b[0m             \u001b[0mnew_axes\u001b[0m \u001b[1;33m=\u001b[0m \u001b[0mlist\u001b[0m\u001b[1;33m(\u001b[0m\u001b[0mself\u001b[0m\u001b[1;33m.\u001b[0m\u001b[0maxes\u001b[0m\u001b[1;33m)\u001b[0m\u001b[1;33m\u001b[0m\u001b[1;33m\u001b[0m\u001b[0m\n\u001b[1;32m--> 788\u001b[1;33m         \u001b[1;32mreturn\u001b[0m \u001b[0mself\u001b[0m\u001b[1;33m.\u001b[0m\u001b[0mapply\u001b[0m\u001b[1;33m(\u001b[0m\u001b[1;34m\"copy\"\u001b[0m\u001b[1;33m,\u001b[0m \u001b[0maxes\u001b[0m\u001b[1;33m=\u001b[0m\u001b[0mnew_axes\u001b[0m\u001b[1;33m,\u001b[0m \u001b[0mdeep\u001b[0m\u001b[1;33m=\u001b[0m\u001b[0mdeep\u001b[0m\u001b[1;33m,\u001b[0m \u001b[0mdo_integrity_check\u001b[0m\u001b[1;33m=\u001b[0m\u001b[1;32mFalse\u001b[0m\u001b[1;33m)\u001b[0m\u001b[1;33m\u001b[0m\u001b[1;33m\u001b[0m\u001b[0m\n\u001b[0m\u001b[0;32m    789\u001b[0m \u001b[1;33m\u001b[0m\u001b[0m\n\u001b[0;32m    790\u001b[0m     \u001b[1;32mdef\u001b[0m \u001b[0mas_array\u001b[0m\u001b[1;33m(\u001b[0m\u001b[0mself\u001b[0m\u001b[1;33m,\u001b[0m \u001b[0mtranspose\u001b[0m\u001b[1;33m=\u001b[0m\u001b[1;32mFalse\u001b[0m\u001b[1;33m,\u001b[0m \u001b[0mitems\u001b[0m\u001b[1;33m=\u001b[0m\u001b[1;32mNone\u001b[0m\u001b[1;33m)\u001b[0m\u001b[1;33m:\u001b[0m\u001b[1;33m\u001b[0m\u001b[1;33m\u001b[0m\u001b[0m\n",
      "\u001b[1;32m~\\AppData\\Local\\Continuum\\anaconda3\\lib\\site-packages\\pandas\\core\\internals\\managers.py\u001b[0m in \u001b[0;36mapply\u001b[1;34m(self, f, axes, filter, do_integrity_check, consolidate, **kwargs)\u001b[0m\n\u001b[0;32m    436\u001b[0m                     \u001b[0mkwargs\u001b[0m\u001b[1;33m[\u001b[0m\u001b[0mk\u001b[0m\u001b[1;33m]\u001b[0m \u001b[1;33m=\u001b[0m \u001b[0mobj\u001b[0m\u001b[1;33m.\u001b[0m\u001b[0mreindex\u001b[0m\u001b[1;33m(\u001b[0m\u001b[0mb_items\u001b[0m\u001b[1;33m,\u001b[0m \u001b[0maxis\u001b[0m\u001b[1;33m=\u001b[0m\u001b[0maxis\u001b[0m\u001b[1;33m,\u001b[0m \u001b[0mcopy\u001b[0m\u001b[1;33m=\u001b[0m\u001b[0malign_copy\u001b[0m\u001b[1;33m)\u001b[0m\u001b[1;33m\u001b[0m\u001b[1;33m\u001b[0m\u001b[0m\n\u001b[0;32m    437\u001b[0m \u001b[1;33m\u001b[0m\u001b[0m\n\u001b[1;32m--> 438\u001b[1;33m             \u001b[0mapplied\u001b[0m \u001b[1;33m=\u001b[0m \u001b[0mgetattr\u001b[0m\u001b[1;33m(\u001b[0m\u001b[0mb\u001b[0m\u001b[1;33m,\u001b[0m \u001b[0mf\u001b[0m\u001b[1;33m)\u001b[0m\u001b[1;33m(\u001b[0m\u001b[1;33m**\u001b[0m\u001b[0mkwargs\u001b[0m\u001b[1;33m)\u001b[0m\u001b[1;33m\u001b[0m\u001b[1;33m\u001b[0m\u001b[0m\n\u001b[0m\u001b[0;32m    439\u001b[0m             \u001b[0mresult_blocks\u001b[0m \u001b[1;33m=\u001b[0m \u001b[0m_extend_blocks\u001b[0m\u001b[1;33m(\u001b[0m\u001b[0mapplied\u001b[0m\u001b[1;33m,\u001b[0m \u001b[0mresult_blocks\u001b[0m\u001b[1;33m)\u001b[0m\u001b[1;33m\u001b[0m\u001b[1;33m\u001b[0m\u001b[0m\n\u001b[0;32m    440\u001b[0m \u001b[1;33m\u001b[0m\u001b[0m\n",
      "\u001b[1;32m~\\AppData\\Local\\Continuum\\anaconda3\\lib\\site-packages\\pandas\\core\\internals\\blocks.py\u001b[0m in \u001b[0;36mcopy\u001b[1;34m(self, deep)\u001b[0m\n\u001b[0;32m    769\u001b[0m         \u001b[0mvalues\u001b[0m \u001b[1;33m=\u001b[0m \u001b[0mself\u001b[0m\u001b[1;33m.\u001b[0m\u001b[0mvalues\u001b[0m\u001b[1;33m\u001b[0m\u001b[1;33m\u001b[0m\u001b[0m\n\u001b[0;32m    770\u001b[0m         \u001b[1;32mif\u001b[0m \u001b[0mdeep\u001b[0m\u001b[1;33m:\u001b[0m\u001b[1;33m\u001b[0m\u001b[1;33m\u001b[0m\u001b[0m\n\u001b[1;32m--> 771\u001b[1;33m             \u001b[0mvalues\u001b[0m \u001b[1;33m=\u001b[0m \u001b[0mvalues\u001b[0m\u001b[1;33m.\u001b[0m\u001b[0mcopy\u001b[0m\u001b[1;33m(\u001b[0m\u001b[1;33m)\u001b[0m\u001b[1;33m\u001b[0m\u001b[1;33m\u001b[0m\u001b[0m\n\u001b[0m\u001b[0;32m    772\u001b[0m         \u001b[1;32mreturn\u001b[0m \u001b[0mself\u001b[0m\u001b[1;33m.\u001b[0m\u001b[0mmake_block_same_class\u001b[0m\u001b[1;33m(\u001b[0m\u001b[0mvalues\u001b[0m\u001b[1;33m,\u001b[0m \u001b[0mndim\u001b[0m\u001b[1;33m=\u001b[0m\u001b[0mself\u001b[0m\u001b[1;33m.\u001b[0m\u001b[0mndim\u001b[0m\u001b[1;33m)\u001b[0m\u001b[1;33m\u001b[0m\u001b[1;33m\u001b[0m\u001b[0m\n\u001b[0;32m    773\u001b[0m \u001b[1;33m\u001b[0m\u001b[0m\n",
      "\u001b[1;31mMemoryError\u001b[0m: Unable to allocate array with shape (2, 8880169) and data type object"
     ]
    }
   ],
   "source": [
    "# merged_orsay_defacto_data = df_orsay.merge(df_defacto, on='sfid', how='inner')\n",
    "#df_defacto.kunde_id = df_defacto.kunde_id.astype('str')\n",
    "merged_orsay_defacto_data = df_orsay.merge(df_defacto, on='sfid', how='inner')\n",
    "print('We loose ' + str(df_orsay.shape[0] - merged_orsay_defacto_data.shape[0]) + ' customers with DeFacto merging')\n",
    "\n",
    "\n",
    "\n",
    "print('Correlation coefficients between DeFacto and Orsay scoring:')\n",
    "print(merged_orsay_defacto_data.corr()['score'])"
   ]
  },
  {
   "cell_type": "code",
   "execution_count": 32,
   "metadata": {
    "ExecuteTime": {
     "end_time": "2020-03-03T07:02:07.149007Z",
     "start_time": "2020-03-03T07:02:06.917006Z"
    }
   },
   "outputs": [
    {
     "data": {
      "text/html": [
       "<div>\n",
       "<style scoped>\n",
       "    .dataframe tbody tr th:only-of-type {\n",
       "        vertical-align: middle;\n",
       "    }\n",
       "\n",
       "    .dataframe tbody tr th {\n",
       "        vertical-align: top;\n",
       "    }\n",
       "\n",
       "    .dataframe thead th {\n",
       "        text-align: right;\n",
       "    }\n",
       "</style>\n",
       "<table border=\"1\" class=\"dataframe\">\n",
       "  <thead>\n",
       "    <tr style=\"text-align: right;\">\n",
       "      <th></th>\n",
       "      <th>kunde_id</th>\n",
       "      <th>kunde_konto_kz_ref_land</th>\n",
       "      <th>kunde_dim_abc</th>\n",
       "      <th>score</th>\n",
       "    </tr>\n",
       "  </thead>\n",
       "  <tbody>\n",
       "    <tr>\n",
       "      <th>0</th>\n",
       "      <td>40289583</td>\n",
       "      <td>RO</td>\n",
       "      <td>4</td>\n",
       "      <td>0.039480</td>\n",
       "    </tr>\n",
       "    <tr>\n",
       "      <th>1</th>\n",
       "      <td>40291148</td>\n",
       "      <td>RO</td>\n",
       "      <td>4</td>\n",
       "      <td>0.033108</td>\n",
       "    </tr>\n",
       "    <tr>\n",
       "      <th>2</th>\n",
       "      <td>40291800</td>\n",
       "      <td>PL</td>\n",
       "      <td>4</td>\n",
       "      <td>0.039685</td>\n",
       "    </tr>\n",
       "    <tr>\n",
       "      <th>3</th>\n",
       "      <td>40291126</td>\n",
       "      <td>DE</td>\n",
       "      <td>4</td>\n",
       "      <td>0.030001</td>\n",
       "    </tr>\n",
       "    <tr>\n",
       "      <th>4</th>\n",
       "      <td>40291420</td>\n",
       "      <td>PL</td>\n",
       "      <td>4</td>\n",
       "      <td>0.035346</td>\n",
       "    </tr>\n",
       "    <tr>\n",
       "      <th>...</th>\n",
       "      <td>...</td>\n",
       "      <td>...</td>\n",
       "      <td>...</td>\n",
       "      <td>...</td>\n",
       "    </tr>\n",
       "    <tr>\n",
       "      <th>7748925</th>\n",
       "      <td>32596219</td>\n",
       "      <td>DE</td>\n",
       "      <td>4</td>\n",
       "      <td>0.030092</td>\n",
       "    </tr>\n",
       "    <tr>\n",
       "      <th>7748926</th>\n",
       "      <td>32597359</td>\n",
       "      <td>CZ</td>\n",
       "      <td>3</td>\n",
       "      <td>0.059771</td>\n",
       "    </tr>\n",
       "    <tr>\n",
       "      <th>7748927</th>\n",
       "      <td>32603095</td>\n",
       "      <td>PL</td>\n",
       "      <td>4</td>\n",
       "      <td>0.072415</td>\n",
       "    </tr>\n",
       "    <tr>\n",
       "      <th>7748928</th>\n",
       "      <td>32834129</td>\n",
       "      <td>PL</td>\n",
       "      <td>3</td>\n",
       "      <td>0.084508</td>\n",
       "    </tr>\n",
       "    <tr>\n",
       "      <th>7748929</th>\n",
       "      <td>32835389</td>\n",
       "      <td>PL</td>\n",
       "      <td>5</td>\n",
       "      <td>0.031555</td>\n",
       "    </tr>\n",
       "  </tbody>\n",
       "</table>\n",
       "<p>7748930 rows × 4 columns</p>\n",
       "</div>"
      ],
      "text/plain": [
       "         kunde_id kunde_konto_kz_ref_land  kunde_dim_abc     score\n",
       "0        40289583                      RO              4  0.039480\n",
       "1        40291148                      RO              4  0.033108\n",
       "2        40291800                      PL              4  0.039685\n",
       "3        40291126                      DE              4  0.030001\n",
       "4        40291420                      PL              4  0.035346\n",
       "...           ...                     ...            ...       ...\n",
       "7748925  32596219                      DE              4  0.030092\n",
       "7748926  32597359                      CZ              3  0.059771\n",
       "7748927  32603095                      PL              4  0.072415\n",
       "7748928  32834129                      PL              3  0.084508\n",
       "7748929  32835389                      PL              5  0.031555\n",
       "\n",
       "[7748930 rows x 4 columns]"
      ]
     },
     "execution_count": 32,
     "metadata": {},
     "output_type": "execute_result"
    }
   ],
   "source": [
    "df_defacto"
   ]
  },
  {
   "cell_type": "code",
   "execution_count": null,
   "metadata": {
    "ExecuteTime": {
     "start_time": "2020-02-24T15:21:47.100Z"
    }
   },
   "outputs": [
    {
     "name": "stderr",
     "output_type": "stream",
     "text": [
      "C:\\Users\\jhernandez-lallement\\AppData\\Local\\Continuum\\anaconda3\\lib\\site-packages\\plotnine\\layer.py:452: PlotnineWarning: geom_point : Removed 13999 rows containing missing values.\n",
      "  self.data = self.geom.handle_na(self.data)\n"
     ]
    }
   ],
   "source": [
    "(p9.ggplot(mapping=p9.aes(x='norm_purchase', y='score'), data=merged_orsay_defacto_data)\n",
    "+ p9.geom_point( alpha=0.1))"
   ]
  },
  {
   "cell_type": "code",
   "execution_count": 225,
   "metadata": {
    "ExecuteTime": {
     "end_time": "2020-02-24T15:16:12.292089Z",
     "start_time": "2020-02-24T15:16:12.057833Z"
    }
   },
   "outputs": [
    {
     "data": {
      "text/html": [
       "<div>\n",
       "<style scoped>\n",
       "    .dataframe tbody tr th:only-of-type {\n",
       "        vertical-align: middle;\n",
       "    }\n",
       "\n",
       "    .dataframe tbody tr th {\n",
       "        vertical-align: top;\n",
       "    }\n",
       "\n",
       "    .dataframe thead th {\n",
       "        text-align: right;\n",
       "    }\n",
       "</style>\n",
       "<table border=\"1\" class=\"dataframe\">\n",
       "  <thead>\n",
       "    <tr style=\"text-align: right;\">\n",
       "      <th></th>\n",
       "      <th>sfid</th>\n",
       "      <th>frequency</th>\n",
       "      <th>recency</th>\n",
       "      <th>T</th>\n",
       "      <th>monetary_value</th>\n",
       "      <th>pred_purch_coming_week=4</th>\n",
       "      <th>norm_purchase</th>\n",
       "      <th>scoringidentifier</th>\n",
       "      <th>score</th>\n",
       "    </tr>\n",
       "  </thead>\n",
       "  <tbody>\n",
       "    <tr>\n",
       "      <th>1612457</th>\n",
       "      <td>0035800000h7Df2AAE</td>\n",
       "      <td>48.0</td>\n",
       "      <td>59.0</td>\n",
       "      <td>91.0</td>\n",
       "      <td>62.116667</td>\n",
       "      <td>0.000031</td>\n",
       "      <td>0.000009</td>\n",
       "      <td>Spring Special 2020</td>\n",
       "      <td>0.592438</td>\n",
       "    </tr>\n",
       "    <tr>\n",
       "      <th>1672744</th>\n",
       "      <td>0035800000lSq87AAC</td>\n",
       "      <td>24.0</td>\n",
       "      <td>39.0</td>\n",
       "      <td>85.0</td>\n",
       "      <td>132.846667</td>\n",
       "      <td>0.000083</td>\n",
       "      <td>0.000024</td>\n",
       "      <td>Spring Special 2020</td>\n",
       "      <td>0.611608</td>\n",
       "    </tr>\n",
       "    <tr>\n",
       "      <th>1634443</th>\n",
       "      <td>0035800000iBTtBAAW</td>\n",
       "      <td>53.0</td>\n",
       "      <td>62.0</td>\n",
       "      <td>90.0</td>\n",
       "      <td>75.367925</td>\n",
       "      <td>0.000089</td>\n",
       "      <td>0.000026</td>\n",
       "      <td>Spring Special 2020</td>\n",
       "      <td>0.979622</td>\n",
       "    </tr>\n",
       "    <tr>\n",
       "      <th>1665312</th>\n",
       "      <td>0035800000kqHhpAAE</td>\n",
       "      <td>42.0</td>\n",
       "      <td>60.0</td>\n",
       "      <td>91.0</td>\n",
       "      <td>118.965000</td>\n",
       "      <td>0.000371</td>\n",
       "      <td>0.000107</td>\n",
       "      <td>Spring Special 2020</td>\n",
       "      <td>0.767284</td>\n",
       "    </tr>\n",
       "    <tr>\n",
       "      <th>2221704</th>\n",
       "      <td>0035800001VOn0XAAT</td>\n",
       "      <td>20.0</td>\n",
       "      <td>32.0</td>\n",
       "      <td>70.0</td>\n",
       "      <td>208.754500</td>\n",
       "      <td>0.001315</td>\n",
       "      <td>0.000379</td>\n",
       "      <td>Spring Special 2020</td>\n",
       "      <td>0.507836</td>\n",
       "    </tr>\n",
       "    <tr>\n",
       "      <th>...</th>\n",
       "      <td>...</td>\n",
       "      <td>...</td>\n",
       "      <td>...</td>\n",
       "      <td>...</td>\n",
       "      <td>...</td>\n",
       "      <td>...</td>\n",
       "      <td>...</td>\n",
       "      <td>...</td>\n",
       "      <td>...</td>\n",
       "    </tr>\n",
       "    <tr>\n",
       "      <th>2204235</th>\n",
       "      <td>0035800001UHKnbAAH</td>\n",
       "      <td>7.0</td>\n",
       "      <td>72.0</td>\n",
       "      <td>72.0</td>\n",
       "      <td>134.661429</td>\n",
       "      <td>0.346945</td>\n",
       "      <td>0.099908</td>\n",
       "      <td>Spring Special 2020</td>\n",
       "      <td>0.732246</td>\n",
       "    </tr>\n",
       "    <tr>\n",
       "      <th>1772246</th>\n",
       "      <td>0035800000xgJGVAA2</td>\n",
       "      <td>7.0</td>\n",
       "      <td>72.0</td>\n",
       "      <td>72.0</td>\n",
       "      <td>129.675714</td>\n",
       "      <td>0.346945</td>\n",
       "      <td>0.099908</td>\n",
       "      <td>Spring Special 2020</td>\n",
       "      <td>0.642193</td>\n",
       "    </tr>\n",
       "    <tr>\n",
       "      <th>1243630</th>\n",
       "      <td>0035800000HVRCTAA5</td>\n",
       "      <td>7.0</td>\n",
       "      <td>72.0</td>\n",
       "      <td>72.0</td>\n",
       "      <td>89.147993</td>\n",
       "      <td>0.346945</td>\n",
       "      <td>0.099908</td>\n",
       "      <td>Spring Special 2020</td>\n",
       "      <td>0.656836</td>\n",
       "    </tr>\n",
       "    <tr>\n",
       "      <th>717284</th>\n",
       "      <td>0035800000Ge3hpAAB</td>\n",
       "      <td>8.0</td>\n",
       "      <td>71.0</td>\n",
       "      <td>82.0</td>\n",
       "      <td>166.848750</td>\n",
       "      <td>0.347262</td>\n",
       "      <td>0.100000</td>\n",
       "      <td>Spring Special 2020</td>\n",
       "      <td>0.507302</td>\n",
       "    </tr>\n",
       "    <tr>\n",
       "      <th>790557</th>\n",
       "      <td>0035800000GgCqPAAV</td>\n",
       "      <td>8.0</td>\n",
       "      <td>71.0</td>\n",
       "      <td>82.0</td>\n",
       "      <td>39.235000</td>\n",
       "      <td>0.347262</td>\n",
       "      <td>0.100000</td>\n",
       "      <td>Spring Special 2020</td>\n",
       "      <td>0.501970</td>\n",
       "    </tr>\n",
       "  </tbody>\n",
       "</table>\n",
       "<p>4914 rows × 9 columns</p>\n",
       "</div>"
      ],
      "text/plain": [
       "                       sfid  frequency  recency     T  monetary_value  \\\n",
       "1612457  0035800000h7Df2AAE       48.0     59.0  91.0       62.116667   \n",
       "1672744  0035800000lSq87AAC       24.0     39.0  85.0      132.846667   \n",
       "1634443  0035800000iBTtBAAW       53.0     62.0  90.0       75.367925   \n",
       "1665312  0035800000kqHhpAAE       42.0     60.0  91.0      118.965000   \n",
       "2221704  0035800001VOn0XAAT       20.0     32.0  70.0      208.754500   \n",
       "...                     ...        ...      ...   ...             ...   \n",
       "2204235  0035800001UHKnbAAH        7.0     72.0  72.0      134.661429   \n",
       "1772246  0035800000xgJGVAA2        7.0     72.0  72.0      129.675714   \n",
       "1243630  0035800000HVRCTAA5        7.0     72.0  72.0       89.147993   \n",
       "717284   0035800000Ge3hpAAB        8.0     71.0  82.0      166.848750   \n",
       "790557   0035800000GgCqPAAV        8.0     71.0  82.0       39.235000   \n",
       "\n",
       "         pred_purch_coming_week=4  norm_purchase    scoringidentifier  \\\n",
       "1612457                  0.000031       0.000009  Spring Special 2020   \n",
       "1672744                  0.000083       0.000024  Spring Special 2020   \n",
       "1634443                  0.000089       0.000026  Spring Special 2020   \n",
       "1665312                  0.000371       0.000107  Spring Special 2020   \n",
       "2221704                  0.001315       0.000379  Spring Special 2020   \n",
       "...                           ...            ...                  ...   \n",
       "2204235                  0.346945       0.099908  Spring Special 2020   \n",
       "1772246                  0.346945       0.099908  Spring Special 2020   \n",
       "1243630                  0.346945       0.099908  Spring Special 2020   \n",
       "717284                   0.347262       0.100000  Spring Special 2020   \n",
       "790557                   0.347262       0.100000  Spring Special 2020   \n",
       "\n",
       "            score  \n",
       "1612457  0.592438  \n",
       "1672744  0.611608  \n",
       "1634443  0.979622  \n",
       "1665312  0.767284  \n",
       "2221704  0.507836  \n",
       "...           ...  \n",
       "2204235  0.732246  \n",
       "1772246  0.642193  \n",
       "1243630  0.656836  \n",
       "717284   0.507302  \n",
       "790557   0.501970  \n",
       "\n",
       "[4914 rows x 9 columns]"
      ]
     },
     "execution_count": 225,
     "metadata": {},
     "output_type": "execute_result"
    }
   ],
   "source": [
    "# Look for divergent customers\n",
    "(merged_orsay_defacto_data.loc[(merged_orsay_defacto_data.norm_purchase < 0.1) & (merged_orsay_defacto_data.score > 0.5)]\n",
    ".sort_values(by='norm_purchase', ascending=True)\n",
    ")"
   ]
  },
  {
   "cell_type": "markdown",
   "metadata": {},
   "source": [
    "# CLV"
   ]
  },
  {
   "cell_type": "code",
   "execution_count": 35,
   "metadata": {
    "ExecuteTime": {
     "end_time": "2020-02-24T13:56:25.319445Z",
     "start_time": "2020-02-24T13:56:24.960031Z"
    }
   },
   "outputs": [
    {
     "data": {
      "text/html": [
       "<div>\n",
       "<style scoped>\n",
       "    .dataframe tbody tr th:only-of-type {\n",
       "        vertical-align: middle;\n",
       "    }\n",
       "\n",
       "    .dataframe tbody tr th {\n",
       "        vertical-align: top;\n",
       "    }\n",
       "\n",
       "    .dataframe thead th {\n",
       "        text-align: right;\n",
       "    }\n",
       "</style>\n",
       "<table border=\"1\" class=\"dataframe\">\n",
       "  <thead>\n",
       "    <tr style=\"text-align: right;\">\n",
       "      <th></th>\n",
       "      <th>monetary_value</th>\n",
       "      <th>frequency</th>\n",
       "    </tr>\n",
       "  </thead>\n",
       "  <tbody>\n",
       "    <tr>\n",
       "      <th>monetary_value</th>\n",
       "      <td>1.000000</td>\n",
       "      <td>0.122942</td>\n",
       "    </tr>\n",
       "    <tr>\n",
       "      <th>frequency</th>\n",
       "      <td>0.122942</td>\n",
       "      <td>1.000000</td>\n",
       "    </tr>\n",
       "  </tbody>\n",
       "</table>\n",
       "</div>"
      ],
      "text/plain": [
       "                monetary_value  frequency\n",
       "monetary_value        1.000000   0.122942\n",
       "frequency             0.122942   1.000000"
      ]
     },
     "execution_count": 35,
     "metadata": {},
     "output_type": "execute_result"
    }
   ],
   "source": [
    "returning_customers_summary = summary.copy()\n",
    "returning_customers_summary = returning_customers_summary[returning_customers_summary['monetary_value']>0]\n",
    "returning_customers_summary[['monetary_value', 'frequency']].corr()"
   ]
  },
  {
   "cell_type": "code",
   "execution_count": 36,
   "metadata": {
    "ExecuteTime": {
     "end_time": "2020-02-24T13:56:34.056168Z",
     "start_time": "2020-02-24T13:56:25.475928Z"
    }
   },
   "outputs": [
    {
     "name": "stdout",
     "output_type": "stream",
     "text": [
      "<lifetimes.GammaGammaFitter: fitted with 1314789 subjects, p: 5.85, q: 1.69, v: 6.93>\n"
     ]
    }
   ],
   "source": [
    "from lifetimes import GammaGammaFitter\n",
    "\n",
    "ggf = GammaGammaFitter(penalizer_coef = 0.001)\n",
    "ggf.fit(returning_customers_summary['frequency'],\n",
    "        returning_customers_summary['monetary_value'])\n",
    "print(ggf)"
   ]
  },
  {
   "cell_type": "code",
   "execution_count": 122,
   "metadata": {
    "ExecuteTime": {
     "end_time": "2020-02-24T14:25:30.639179Z",
     "start_time": "2020-02-24T14:25:30.402331Z"
    }
   },
   "outputs": [],
   "source": [
    "clv = ggf.conditional_expected_average_profit(returning_customers_summary['frequency'],\n",
    "                                              returning_customers_summary['monetary_value']\n",
    "                  \n",
    "                                             )"
   ]
  },
  {
   "cell_type": "code",
   "execution_count": 38,
   "metadata": {
    "ExecuteTime": {
     "end_time": "2020-02-24T13:56:54.376205Z",
     "start_time": "2020-02-24T13:56:34.290640Z"
    }
   },
   "outputs": [],
   "source": [
    "from lifetimes import BetaGeoFitter,ParetoNBDFitter\n",
    "bgf = BetaGeoFitter(penalizer_coef=0.001)\n",
    "# refit the BG model to the summary_with_money_value dataset\n",
    "bgf.fit(returning_customers_summary['frequency'], \n",
    "        returning_customers_summary['recency'], \n",
    "        returning_customers_summary['T'],\n",
    "        returning_customers_summary['monetary_value'])\n",
    "\n",
    "clv_dcf = ggf.customer_lifetime_value(\n",
    "    bgf, #the model to use to predict the number of future transactions\n",
    "    returning_customers_summary['frequency'],\n",
    "    returning_customers_summary['recency'],\n",
    "    returning_customers_summary['T'],\n",
    "    returning_customers_summary['monetary_value'],\n",
    "    time=1, # months\n",
    "    discount_rate=0.01,# monthly discount rate ~ 12.7% annually\n",
    "    freq = 'W')"
   ]
  },
  {
   "cell_type": "code",
   "execution_count": 185,
   "metadata": {
    "ExecuteTime": {
     "end_time": "2020-02-24T14:41:07.436590Z",
     "start_time": "2020-02-24T14:41:05.388036Z"
    }
   },
   "outputs": [],
   "source": [
    "clv_to_merge = pd.DataFrame(clv).merge(clv_dcf,on='sfid', how='left').reset_index().rename(columns={'clv': 'clv_dcf',\n",
    "                                                                                                    0: 'clv'})\n",
    "clv_to_merge = (clv_to_merge\n",
    ".assign(clv = lambda d: d['clv'].fillna(value=0))\n",
    ".assign(clv_dcf = lambda d: d['clv_dcf'].fillna(value=0))\n",
    ".assign(norm_clv = lambda d: normalize(d['clv']))\n",
    ".assign(norm_clv_dcf = lambda d: normalize(d['clv_dcf']))\n",
    ")"
   ]
  },
  {
   "cell_type": "code",
   "execution_count": 186,
   "metadata": {
    "ExecuteTime": {
     "end_time": "2020-02-24T14:41:10.249442Z",
     "start_time": "2020-02-24T14:41:07.436590Z"
    }
   },
   "outputs": [],
   "source": [
    "merged_final_data = pd.merge(merged_orsay_defacto_data, clv_to_merge, on= 'sfid', how= 'left')"
   ]
  },
  {
   "cell_type": "code",
   "execution_count": 216,
   "metadata": {
    "ExecuteTime": {
     "end_time": "2020-02-24T14:59:38.918816Z",
     "start_time": "2020-02-24T14:59:38.512757Z"
    }
   },
   "outputs": [],
   "source": [
    "merged_final_data = merged_final_data.assign(overall_score = lambda d: normalize(d.clv * d.norm_purchase))"
   ]
  },
  {
   "cell_type": "code",
   "execution_count": 221,
   "metadata": {
    "ExecuteTime": {
     "end_time": "2020-02-24T15:13:47.945839Z",
     "start_time": "2020-02-24T15:13:47.321043Z"
    }
   },
   "outputs": [
    {
     "data": {
      "text/plain": [
       "<matplotlib.axes._subplots.AxesSubplot at 0x19bddf85a88>"
      ]
     },
     "execution_count": 221,
     "metadata": {},
     "output_type": "execute_result"
    },
    {
     "data": {
      "image/png": "[encoded data removed]",
      "text/plain": [
       "<Figure size 432x288 with 1 Axes>"
      ]
     },
     "metadata": {
      "needs_background": "light"
     },
     "output_type": "display_data"
    }
   ],
   "source": [
    "merged_final_data.norm_clv.plot(kind='hist', bins=100)"
   ]
  },
  {
   "cell_type": "code",
   "execution_count": 218,
   "metadata": {
    "ExecuteTime": {
     "end_time": "2020-02-24T14:59:54.953001Z",
     "start_time": "2020-02-24T14:59:44.779987Z"
    }
   },
   "outputs": [
    {
     "data": {
      "text/plain": [
       "<matplotlib.axes._subplots.AxesSubplot at 0x19bdd4d06c8>"
      ]
     },
     "execution_count": 218,
     "metadata": {},
     "output_type": "execute_result"
    },
    {
     "data": {
      "image/png": "[encoded data removed]",
      "text/plain": [
       "<Figure size 432x288 with 1 Axes>"
      ]
     },
     "metadata": {
      "needs_background": "light"
     },
     "output_type": "display_data"
    }
   ],
   "source": [
    "merged_final_data.plot(kind='scatter', x='norm_purchase', y='overall_score')"
   ]
  },
  {
   "cell_type": "code",
   "execution_count": 219,
   "metadata": {
    "ExecuteTime": {
     "end_time": "2020-02-24T15:00:05.141859Z",
     "start_time": "2020-02-24T14:59:54.953001Z"
    }
   },
   "outputs": [
    {
     "data": {
      "text/plain": [
       "<matplotlib.axes._subplots.AxesSubplot at 0x19bdd479cc8>"
      ]
     },
     "execution_count": 219,
     "metadata": {},
     "output_type": "execute_result"
    },
    {
     "data": {
      "image/png": "[encoded data removed]",
      "text/plain": [
       "<Figure size 432x288 with 1 Axes>"
      ]
     },
     "metadata": {
      "needs_background": "light"
     },
     "output_type": "display_data"
    }
   ],
   "source": [
    "merged_final_data.plot(kind='scatter', x='score', y='overall_score')"
   ]
  },
  {
   "cell_type": "code",
   "execution_count": 215,
   "metadata": {
    "ExecuteTime": {
     "end_time": "2020-02-24T14:55:45.475063Z",
     "start_time": "2020-02-24T14:55:32.942331Z"
    }
   },
   "outputs": [
    {
     "data": {
      "text/plain": [
       "<matplotlib.axes._subplots.AxesSubplot at 0x19bd244c348>"
      ]
     },
     "execution_count": 215,
     "metadata": {},
     "output_type": "execute_result"
    },
    {
     "data": {
      "image/png": "[encoded data removed]",
      "text/plain": [
       "<Figure size 432x288 with 1 Axes>"
      ]
     },
     "metadata": {
      "needs_background": "light"
     },
     "output_type": "display_data"
    }
   ],
   "source": [
    "merged_final_data.plot(kind='scatter', x='score', y='norm_purchase')"
   ]
  },
  {
   "cell_type": "code",
   "execution_count": 195,
   "metadata": {
    "ExecuteTime": {
     "end_time": "2020-02-24T14:43:44.201430Z",
     "start_time": "2020-02-24T14:43:43.998431Z"
    }
   },
   "outputs": [
    {
     "data": {
      "text/plain": [
       "Index(['sfid', 'frequency', 'recency', 'T', 'monetary_value',\n",
       "       'pred_purch_coming_week=4', 'norm_purchase', 'scoringidentifier',\n",
       "       'score', 'clv', 'clv_dcf', 'norm_clv', 'norm_clv_dcf', 'overall_score'],\n",
       "      dtype='object')"
      ]
     },
     "execution_count": 195,
     "metadata": {},
     "output_type": "execute_result"
    }
   ],
   "source": [
    "merged_final_data.columns"
   ]
  },
  {
   "cell_type": "code",
   "execution_count": 110,
   "metadata": {
    "ExecuteTime": {
     "end_time": "2020-02-24T14:22:14.299401Z",
     "start_time": "2020-02-24T14:22:13.736851Z"
    }
   },
   "outputs": [],
   "source": [
    "merged_final_data[['clv', \n",
    "                   'clv_dcf', \n",
    "                   'norm_clv',\n",
    "                   'norm_clv_dcf',\n",
    "                   'overall_score',\n",
    "                   'overall_score_norm']] = (merged_final_data[['clv', \n",
    "                                                               'clv_dcf', \n",
    "                                                               'norm_clv', \n",
    "                                                               'norm_clv_dcf',\n",
    "                                                                'overall_score',\n",
    "                                                                ]]\n",
    ".fillna(value = 0)\n",
    ")"
   ]
  },
  {
   "cell_type": "code",
   "execution_count": 5,
   "metadata": {
    "ExecuteTime": {
     "end_time": "2020-02-25T09:28:44.923141Z",
     "start_time": "2020-02-25T09:28:44.682517Z"
    }
   },
   "outputs": [
    {
     "ename": "NameError",
     "evalue": "name 'merged_final_data' is not defined",
     "output_type": "error",
     "traceback": [
      "\u001b[1;31m---------------------------------------------------------------------------\u001b[0m",
      "\u001b[1;31mNameError\u001b[0m                                 Traceback (most recent call last)",
      "\u001b[1;32m<ipython-input-5-b7be19fdfbab>\u001b[0m in \u001b[0;36m<module>\u001b[1;34m\u001b[0m\n\u001b[1;32m----> 1\u001b[1;33m \u001b[0mmerged_final_data\u001b[0m\u001b[1;33m.\u001b[0m\u001b[0mloc\u001b[0m\u001b[1;33m[\u001b[0m\u001b[1;33m(\u001b[0m\u001b[0mmerged_final_data\u001b[0m\u001b[1;33m.\u001b[0m\u001b[0mnorm_purchase\u001b[0m \u001b[1;33m<\u001b[0m \u001b[1;36m0.1\u001b[0m\u001b[1;33m)\u001b[0m \u001b[1;33m&\u001b[0m \u001b[1;33m(\u001b[0m\u001b[0mmerged_final_data\u001b[0m\u001b[1;33m.\u001b[0m\u001b[0mclv\u001b[0m \u001b[1;33m>\u001b[0m \u001b[1;36m0.1\u001b[0m\u001b[1;33m)\u001b[0m\u001b[1;33m]\u001b[0m\u001b[1;33m.\u001b[0m\u001b[0mmean\u001b[0m\u001b[1;33m(\u001b[0m\u001b[1;33m)\u001b[0m\u001b[1;33m\u001b[0m\u001b[1;33m\u001b[0m\u001b[0m\n\u001b[0m",
      "\u001b[1;31mNameError\u001b[0m: name 'merged_final_data' is not defined"
     ]
    }
   ],
   "source": [
    "merged_final_data.loc[(merged_final_data.norm_purchase < 0.1) & (merged_final_data.clv > 0.1)].mean()"
   ]
  },
  {
   "cell_type": "code",
   "execution_count": null,
   "metadata": {},
   "outputs": [],
   "source": []
  }
 ],
 "metadata": {
  "kernelspec": {
   "display_name": "Python 3",
   "language": "python",
   "name": "python3"
  },
  "language_info": {
   "codemirror_mode": {
    "name": "ipython",
    "version": 3
   },
   "file_extension": ".py",
   "mimetype": "text/x-python",
   "name": "python",
   "nbconvert_exporter": "python",
   "pygments_lexer": "ipython3",
   "version": "3.7.7"
  }
 },
 "nbformat": 4,
 "nbformat_minor": 2
}
