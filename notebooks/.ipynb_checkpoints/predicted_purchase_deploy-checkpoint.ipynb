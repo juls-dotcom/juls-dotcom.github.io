{
 "cells": [
  {
   "cell_type": "code",
   "execution_count": 19,
   "metadata": {
    "ExecuteTime": {
     "end_time": "2020-01-31T09:50:14.749188Z",
     "start_time": "2020-01-31T09:50:14.609018Z"
    }
   },
   "outputs": [
    {
     "name": "stdout",
     "output_type": "stream",
     "text": [
      "The autoreload extension is already loaded. To reload it, use:\n",
      "  %reload_ext autoreload\n"
     ]
    }
   ],
   "source": [
    "%load_ext autoreload\n",
    "%autoreload 2\n",
    "#plt.rcParams['figure.figsize'] = (16,8)"
   ]
  },
  {
   "cell_type": "markdown",
   "metadata": {},
   "source": [
    "## Import data"
   ]
  },
  {
   "cell_type": "code",
   "execution_count": 2,
   "metadata": {
    "ExecuteTime": {
     "end_time": "2020-01-31T09:45:24.608657Z",
     "start_time": "2020-01-31T09:45:18.521389Z"
    }
   },
   "outputs": [],
   "source": [
    "import pandas as pd\n",
    "from purchase_prediction.import_data import import_transaction_club, import_transaction_ecom, import_sfid_email_ecom"
   ]
  },
  {
   "cell_type": "code",
   "execution_count": 3,
   "metadata": {
    "ExecuteTime": {
     "end_time": "2020-01-31T09:47:01.307533Z",
     "start_time": "2020-01-31T09:45:24.608657Z"
    }
   },
   "outputs": [
    {
     "name": "stderr",
     "output_type": "stream",
     "text": [
      "C:\\Users\\jhernandez-lallement\\AppData\\Local\\Continuum\\anaconda3\\lib\\site-packages\\IPython\\core\\interactiveshell.py:3242: DtypeWarning: Columns (1) have mixed types. Specify dtype option on import or set low_memory=False.\n",
      "  if (await self.run_code(code, result,  async_=asy)):\n"
     ]
    },
    {
     "name": "stdout",
     "output_type": "stream",
     "text": [
      "514212 lost ECom non Club customers based on Email merge\n"
     ]
    }
   ],
   "source": [
    "# Import Club Customers\n",
    "df_club = import_transaction_club(country='DE', start_observation_period='01012018', end_observation_period='01012020')\n",
    "# Import ECom NonClub Customers\n",
    "df_etmp = import_transaction_ecom(country='DE', start_observation_period='01012018', end_observation_period='01012020')\n",
    "# Import keys linking mails and SFID\n",
    "df_keys = import_sfid_email_ecom('Export_ClientInfo20200131.csv')\n",
    "# Select these customers that have a valid email from ECom NonClub\n",
    "df_ecom = df_etmp.merge(df_keys, on= 'Email', how='inner')\n",
    "print(str(df_etmp.shape[0] - df_ecom.shape[0])+' lost ECom non Club customers based on Email merge')"
   ]
  },
  {
   "cell_type": "markdown",
   "metadata": {},
   "source": [
    "## Munge data"
   ]
  },
  {
   "cell_type": "code",
   "execution_count": 6,
   "metadata": {
    "ExecuteTime": {
     "end_time": "2020-01-31T09:47:45.093355Z",
     "start_time": "2020-01-31T09:47:44.985781Z"
    }
   },
   "outputs": [],
   "source": [
    "from purchase_prediction.munging_pipeline import (start_pipeline, \n",
    "                                                  select_valid_cards, \n",
    "                                                  lower_cols, \n",
    "                                                  def_types, \n",
    "                                                  down_sample,\n",
    "                                                  correct_timestamps, \n",
    "                                                  correct_for_retourned,\n",
    "                                                  drop_retours,\n",
    "                                                  assign_customer_type\n",
    "                                                 )\n",
    "\n",
    "from purchase_prediction.munging_pipeline_ecom import (rename_cols_ecom,\n",
    "                                                       correct_timestamps_ecom,\n",
    "                                                       def_types_ecom,\n",
    "                                                       drop_cols\n",
    "                                                       )"
   ]
  },
  {
   "cell_type": "code",
   "execution_count": 8,
   "metadata": {
    "ExecuteTime": {
     "end_time": "2020-01-31T09:48:40.694821Z",
     "start_time": "2020-01-31T09:48:24.263282Z"
    },
    "scrolled": true
   },
   "outputs": [
    {
     "name": "stdout",
     "output_type": "stream",
     "text": [
      "f/ select_valid_cards cleaned: 3568337 (i.e., 22.51% of initial data) entries from input dataf.\n",
      "\n",
      "There are 2621687 customers.\n"
     ]
    }
   ],
   "source": [
    "df_club_clean = (df_club\n",
    ".pipe(start_pipeline)\n",
    ".pipe(select_valid_cards)\n",
    ".pipe(lower_cols)            \n",
    ".pipe(correct_timestamps)\n",
    ".pipe(def_types)\n",
    "#.pipe(down_sample, threshold=50000)\n",
    "#.pipe(correct_for_retourned) # This steps is very long (should be optimized). Only use if monetary value required.\n",
    ".pipe(drop_retours)   \n",
    ".pipe(assign_customer_type,label='club')\n",
    ")\n",
    "\n",
    "print('')\n",
    "print('There are ' + str(df_club_clean.groupby(by='customer_salesforce_id').count().shape[0]) + ' customers.')"
   ]
  },
  {
   "cell_type": "code",
   "execution_count": 9,
   "metadata": {
    "ExecuteTime": {
     "end_time": "2020-01-31T09:48:40.841843Z",
     "start_time": "2020-01-31T09:48:40.694821Z"
    }
   },
   "outputs": [
    {
     "data": {
      "text/html": [
       "<div>\n",
       "<style scoped>\n",
       "    .dataframe tbody tr th:only-of-type {\n",
       "        vertical-align: middle;\n",
       "    }\n",
       "\n",
       "    .dataframe tbody tr th {\n",
       "        vertical-align: top;\n",
       "    }\n",
       "\n",
       "    .dataframe thead th {\n",
       "        text-align: right;\n",
       "    }\n",
       "</style>\n",
       "<table border=\"1\" class=\"dataframe\">\n",
       "  <thead>\n",
       "    <tr style=\"text-align: right;\">\n",
       "      <th></th>\n",
       "      <th>club_card_number</th>\n",
       "      <th>customer_salesforce_id</th>\n",
       "      <th>date</th>\n",
       "      <th>club_card_last_receipt_date</th>\n",
       "      <th>club_card_first_receipt_date</th>\n",
       "      <th>receipt_id</th>\n",
       "      <th>count_receipts</th>\n",
       "      <th>turnover_with_vat_euro</th>\n",
       "      <th>receipt_date</th>\n",
       "      <th>customer_type</th>\n",
       "    </tr>\n",
       "  </thead>\n",
       "  <tbody>\n",
       "    <tr>\n",
       "      <th>3568337</th>\n",
       "      <td>20151</td>\n",
       "      <td>0031i00000MIOlpAAH</td>\n",
       "      <td>2018/05/24 00:00:00</td>\n",
       "      <td>2019-11-08</td>\n",
       "      <td>2009-09-03</td>\n",
       "      <td>1358442957</td>\n",
       "      <td>1</td>\n",
       "      <td>43.97</td>\n",
       "      <td>2018-05-24</td>\n",
       "      <td>club</td>\n",
       "    </tr>\n",
       "  </tbody>\n",
       "</table>\n",
       "</div>"
      ],
      "text/plain": [
       "         club_card_number customer_salesforce_id                 date  \\\n",
       "3568337             20151     0031i00000MIOlpAAH  2018/05/24 00:00:00   \n",
       "\n",
       "        club_card_last_receipt_date club_card_first_receipt_date  receipt_id  \\\n",
       "3568337                  2019-11-08                   2009-09-03  1358442957   \n",
       "\n",
       "         count_receipts  turnover_with_vat_euro receipt_date customer_type  \n",
       "3568337               1                   43.97   2018-05-24          club  "
      ]
     },
     "execution_count": 9,
     "metadata": {},
     "output_type": "execute_result"
    }
   ],
   "source": [
    "df_club_clean.head(1)"
   ]
  },
  {
   "cell_type": "code",
   "execution_count": 12,
   "metadata": {
    "ExecuteTime": {
     "end_time": "2020-01-31T09:49:06.556420Z",
     "start_time": "2020-01-31T09:49:06.268279Z"
    }
   },
   "outputs": [
    {
     "name": "stdout",
     "output_type": "stream",
     "text": [
      "\n",
      "There are 93147 Ecom non club customers.\n"
     ]
    }
   ],
   "source": [
    "df_ecom_clean = (df_ecom\n",
    ".pipe(start_pipeline)\n",
    ".pipe(rename_cols_ecom)\n",
    ".pipe(correct_timestamps_ecom)            \n",
    ".pipe(def_types_ecom)\n",
    ".pipe(drop_cols)   \n",
    ".pipe(assign_customer_type, label='ecom_nonclub')\n",
    ")\n",
    "\n",
    "print('')\n",
    "print('There are ' + str(df_ecom_clean.groupby(by='eshop_id').count().shape[0]) + ' Ecom non club customers.')"
   ]
  },
  {
   "cell_type": "code",
   "execution_count": 13,
   "metadata": {
    "ExecuteTime": {
     "end_time": "2020-01-31T09:49:07.121909Z",
     "start_time": "2020-01-31T09:49:07.009663Z"
    }
   },
   "outputs": [
    {
     "data": {
      "text/html": [
       "<div>\n",
       "<style scoped>\n",
       "    .dataframe tbody tr th:only-of-type {\n",
       "        vertical-align: middle;\n",
       "    }\n",
       "\n",
       "    .dataframe tbody tr th {\n",
       "        vertical-align: top;\n",
       "    }\n",
       "\n",
       "    .dataframe thead th {\n",
       "        text-align: right;\n",
       "    }\n",
       "</style>\n",
       "<table border=\"1\" class=\"dataframe\">\n",
       "  <thead>\n",
       "    <tr style=\"text-align: right;\">\n",
       "      <th></th>\n",
       "      <th>eshop_id</th>\n",
       "      <th>club_card_number</th>\n",
       "      <th>date</th>\n",
       "      <th>receipt_id</th>\n",
       "      <th>turnover_with_vat_euro</th>\n",
       "      <th>sfid</th>\n",
       "      <th>customer_type</th>\n",
       "    </tr>\n",
       "  </thead>\n",
       "  <tbody>\n",
       "    <tr>\n",
       "      <th>0</th>\n",
       "      <td>3.001736e+09</td>\n",
       "      <td>-1</td>\n",
       "      <td>2018-01-01</td>\n",
       "      <td>230242848</td>\n",
       "      <td>54.78042</td>\n",
       "      <td>0031i000004UZMuAAO</td>\n",
       "      <td>ecom_nonclub</td>\n",
       "    </tr>\n",
       "  </tbody>\n",
       "</table>\n",
       "</div>"
      ],
      "text/plain": [
       "       eshop_id  club_card_number       date  receipt_id  \\\n",
       "0  3.001736e+09                -1 2018-01-01   230242848   \n",
       "\n",
       "   turnover_with_vat_euro                sfid customer_type  \n",
       "0                54.78042  0031i000004UZMuAAO  ecom_nonclub  "
      ]
     },
     "execution_count": 13,
     "metadata": {},
     "output_type": "execute_result"
    }
   ],
   "source": [
    "df_ecom_clean.head(1)"
   ]
  },
  {
   "cell_type": "code",
   "execution_count": 20,
   "metadata": {
    "ExecuteTime": {
     "end_time": "2020-01-31T09:50:23.729564Z",
     "start_time": "2020-01-31T09:50:23.605041Z"
    }
   },
   "outputs": [],
   "source": [
    "from purchase_prediction.ml_pipeline import (select_recent_members, \n",
    "                                             date_benchmarking, \n",
    "                                             compute_age_recency, \n",
    "                                             rename_cols, \n",
    "                                             select_ml_data, \n",
    "                                                 )\n",
    "\n",
    "from purchase_prediction.ml_pipeline_ecom import (select_receipt_dates_ecom, \n",
    "                                                  compute_age_recency_ecom, \n",
    "                                                  rename_cols_ecom_ml, \n",
    "                                                  add_frequency, \n",
    "                                                  select_ml_data_ecom, \n",
    "                                                     )"
   ]
  },
  {
   "cell_type": "code",
   "execution_count": 21,
   "metadata": {
    "ExecuteTime": {
     "end_time": "2020-01-31T09:50:32.895601Z",
     "start_time": "2020-01-31T09:50:24.483177Z"
    }
   },
   "outputs": [
    {
     "name": "stdout",
     "output_type": "stream",
     "text": [
      "Data cleansing yields 1577041 lost customers.\n",
      "#Customers select for ML pipeline = 1137701\n"
     ]
    }
   ],
   "source": [
    "df_club_ml = (df_club_clean\n",
    ".pipe(start_pipeline)\n",
    ".pipe(select_recent_members,\n",
    "      timestamp_bef='2018-01-01T00',\n",
    "      timestamp_aft='2020-01-01T00',\n",
    "      action = \"between\")\n",
    ".pipe(date_benchmarking, upper_benchmark = '2020-01-01T00')\n",
    ".pipe(compute_age_recency,timestamp_ref = '2020-01-01T00')\n",
    ".pipe(rename_cols)\n",
    ".pipe(select_ml_data)\n",
    ")\n",
    "\n",
    "lost_customers = df_club_clean.groupby(by='club_card_number').count().shape[0] - df_club_ml.groupby(by='club_card_number').count().shape[0]\n",
    "print('Data cleansing yields ' + str(lost_customers) + ' lost customers.')\n",
    "print('#Customers select for ML pipeline = ' + str(df_club_ml.groupby(by='club_card_number').count().shape[0]))"
   ]
  },
  {
   "cell_type": "code",
   "execution_count": 22,
   "metadata": {
    "ExecuteTime": {
     "end_time": "2020-01-31T09:50:33.325148Z",
     "start_time": "2020-01-31T09:50:32.895601Z"
    }
   },
   "outputs": [
    {
     "name": "stdout",
     "output_type": "stream",
     "text": [
      "Data cleansing yields -93146 lost customers.\n",
      "#Customers select for ML pipeline = 93147\n"
     ]
    }
   ],
   "source": [
    "df_ecom_ml = (df_ecom_clean\n",
    ".pipe(select_receipt_dates_ecom)\n",
    ".pipe(compute_age_recency_ecom)\n",
    ".pipe(rename_cols_ecom_ml)\n",
    ".pipe(add_frequency)\n",
    ".pipe(select_ml_data_ecom)              \n",
    "             )\n",
    "\n",
    "lost_customers = df_ecom_clean.groupby(by='club_card_number').count().shape[0] - df_ecom_ml.groupby(by='club_card_number').count().shape[0]\n",
    "print('Data cleansing yields ' + str(lost_customers) + ' lost customers.')\n",
    "print('#Customers select for ML pipeline = ' + str(df_ecom_ml.groupby(by='club_card_number').count().shape[0]))"
   ]
  },
  {
   "cell_type": "code",
   "execution_count": 27,
   "metadata": {
    "ExecuteTime": {
     "end_time": "2020-01-31T09:51:35.849962Z",
     "start_time": "2020-01-31T09:51:34.782441Z"
    }
   },
   "outputs": [],
   "source": [
    "# POOLING CLUB & ECOM\n",
    "df_ml = (pd.concat([df_club_ml, df_ecom_ml], axis=0, join='outer', sort=False)\n",
    "        .dropna() # Some customers have missing SFID\n",
    "        )"
   ]
  },
  {
   "cell_type": "code",
   "execution_count": 28,
   "metadata": {
    "ExecuteTime": {
     "end_time": "2020-01-31T09:51:35.974386Z",
     "start_time": "2020-01-31T09:51:35.849962Z"
    }
   },
   "outputs": [
    {
     "data": {
      "text/html": [
       "<div>\n",
       "<style scoped>\n",
       "    .dataframe tbody tr th:only-of-type {\n",
       "        vertical-align: middle;\n",
       "    }\n",
       "\n",
       "    .dataframe tbody tr th {\n",
       "        vertical-align: top;\n",
       "    }\n",
       "\n",
       "    .dataframe thead th {\n",
       "        text-align: right;\n",
       "    }\n",
       "</style>\n",
       "<table border=\"1\" class=\"dataframe\">\n",
       "  <thead>\n",
       "    <tr style=\"text-align: right;\">\n",
       "      <th></th>\n",
       "      <th>sfid</th>\n",
       "      <th>club_card_number</th>\n",
       "      <th>age_in_weeks</th>\n",
       "      <th>recency_in_weeks</th>\n",
       "      <th>frequency</th>\n",
       "      <th>monetary_value</th>\n",
       "      <th>receipt_issue_date</th>\n",
       "      <th>customer_type</th>\n",
       "    </tr>\n",
       "  </thead>\n",
       "  <tbody>\n",
       "    <tr>\n",
       "      <th>37</th>\n",
       "      <td>0035800001M2fefAAB</td>\n",
       "      <td>1.000005e+09</td>\n",
       "      <td>98.142857</td>\n",
       "      <td>82.571429</td>\n",
       "      <td>1.0</td>\n",
       "      <td>23.990000</td>\n",
       "      <td>2019/02/09 00:00:00</td>\n",
       "      <td>club</td>\n",
       "    </tr>\n",
       "    <tr>\n",
       "      <th>38</th>\n",
       "      <td>0035800001NEpVmAAL</td>\n",
       "      <td>1.000006e+09</td>\n",
       "      <td>96.428571</td>\n",
       "      <td>93.857143</td>\n",
       "      <td>1.0</td>\n",
       "      <td>29.990000</td>\n",
       "      <td>2018/09/26 00:00:00</td>\n",
       "      <td>club</td>\n",
       "    </tr>\n",
       "    <tr>\n",
       "      <th>39</th>\n",
       "      <td>0035800001NEpVmAAL</td>\n",
       "      <td>1.000006e+09</td>\n",
       "      <td>96.428571</td>\n",
       "      <td>93.857143</td>\n",
       "      <td>1.0</td>\n",
       "      <td>29.990000</td>\n",
       "      <td>2018/10/01 00:00:00</td>\n",
       "      <td>club</td>\n",
       "    </tr>\n",
       "    <tr>\n",
       "      <th>40</th>\n",
       "      <td>0035800001NHi9lAAD</td>\n",
       "      <td>1.000006e+09</td>\n",
       "      <td>95.428571</td>\n",
       "      <td>95.000000</td>\n",
       "      <td>1.0</td>\n",
       "      <td>12.990000</td>\n",
       "      <td>2018/11/29 00:00:00</td>\n",
       "      <td>club</td>\n",
       "    </tr>\n",
       "    <tr>\n",
       "      <th>43</th>\n",
       "      <td>0035800001FMDVSAA5</td>\n",
       "      <td>1.000024e+09</td>\n",
       "      <td>58.142857</td>\n",
       "      <td>38.142857</td>\n",
       "      <td>1.0</td>\n",
       "      <td>17.990000</td>\n",
       "      <td>2019/08/14 00:00:00</td>\n",
       "      <td>club</td>\n",
       "    </tr>\n",
       "    <tr>\n",
       "      <th>...</th>\n",
       "      <td>...</td>\n",
       "      <td>...</td>\n",
       "      <td>...</td>\n",
       "      <td>...</td>\n",
       "      <td>...</td>\n",
       "      <td>...</td>\n",
       "      <td>...</td>\n",
       "      <td>...</td>\n",
       "    </tr>\n",
       "    <tr>\n",
       "      <th>171281</th>\n",
       "      <td>0031i00000RykLvAAJ</td>\n",
       "      <td>4.006210e+09</td>\n",
       "      <td>0.000000</td>\n",
       "      <td>0.000000</td>\n",
       "      <td>1.0</td>\n",
       "      <td>14.303336</td>\n",
       "      <td>2020-01-01 00:00:00</td>\n",
       "      <td>ecom_nonclub</td>\n",
       "    </tr>\n",
       "    <tr>\n",
       "      <th>171282</th>\n",
       "      <td>0031i000002rvu0AAA</td>\n",
       "      <td>4.006211e+09</td>\n",
       "      <td>0.000000</td>\n",
       "      <td>0.000000</td>\n",
       "      <td>1.0</td>\n",
       "      <td>11.617420</td>\n",
       "      <td>2020-01-01 00:00:00</td>\n",
       "      <td>ecom_nonclub</td>\n",
       "    </tr>\n",
       "    <tr>\n",
       "      <th>171283</th>\n",
       "      <td>0035800000cnuLIAAY</td>\n",
       "      <td>3.000784e+09</td>\n",
       "      <td>0.000000</td>\n",
       "      <td>0.000000</td>\n",
       "      <td>1.0</td>\n",
       "      <td>7.230050</td>\n",
       "      <td>2020-01-01 00:00:00</td>\n",
       "      <td>ecom_nonclub</td>\n",
       "    </tr>\n",
       "    <tr>\n",
       "      <th>171284</th>\n",
       "      <td>0035800000HX1tcAAD</td>\n",
       "      <td>4.005478e+09</td>\n",
       "      <td>0.000000</td>\n",
       "      <td>0.000000</td>\n",
       "      <td>1.0</td>\n",
       "      <td>71.645798</td>\n",
       "      <td>2020-01-01 00:00:00</td>\n",
       "      <td>ecom_nonclub</td>\n",
       "    </tr>\n",
       "    <tr>\n",
       "      <th>171285</th>\n",
       "      <td>0031i00000GUVqYAAX</td>\n",
       "      <td>4.006211e+09</td>\n",
       "      <td>0.000000</td>\n",
       "      <td>0.000000</td>\n",
       "      <td>1.0</td>\n",
       "      <td>9.327160</td>\n",
       "      <td>2020-01-01 00:00:00</td>\n",
       "      <td>ecom_nonclub</td>\n",
       "    </tr>\n",
       "  </tbody>\n",
       "</table>\n",
       "<p>2651065 rows × 8 columns</p>\n",
       "</div>"
      ],
      "text/plain": [
       "                      sfid  club_card_number  age_in_weeks  recency_in_weeks  \\\n",
       "37      0035800001M2fefAAB      1.000005e+09     98.142857         82.571429   \n",
       "38      0035800001NEpVmAAL      1.000006e+09     96.428571         93.857143   \n",
       "39      0035800001NEpVmAAL      1.000006e+09     96.428571         93.857143   \n",
       "40      0035800001NHi9lAAD      1.000006e+09     95.428571         95.000000   \n",
       "43      0035800001FMDVSAA5      1.000024e+09     58.142857         38.142857   \n",
       "...                    ...               ...           ...               ...   \n",
       "171281  0031i00000RykLvAAJ      4.006210e+09      0.000000          0.000000   \n",
       "171282  0031i000002rvu0AAA      4.006211e+09      0.000000          0.000000   \n",
       "171283  0035800000cnuLIAAY      3.000784e+09      0.000000          0.000000   \n",
       "171284  0035800000HX1tcAAD      4.005478e+09      0.000000          0.000000   \n",
       "171285  0031i00000GUVqYAAX      4.006211e+09      0.000000          0.000000   \n",
       "\n",
       "        frequency  monetary_value   receipt_issue_date customer_type  \n",
       "37            1.0       23.990000  2019/02/09 00:00:00          club  \n",
       "38            1.0       29.990000  2018/09/26 00:00:00          club  \n",
       "39            1.0       29.990000  2018/10/01 00:00:00          club  \n",
       "40            1.0       12.990000  2018/11/29 00:00:00          club  \n",
       "43            1.0       17.990000  2019/08/14 00:00:00          club  \n",
       "...           ...             ...                  ...           ...  \n",
       "171281        1.0       14.303336  2020-01-01 00:00:00  ecom_nonclub  \n",
       "171282        1.0       11.617420  2020-01-01 00:00:00  ecom_nonclub  \n",
       "171283        1.0        7.230050  2020-01-01 00:00:00  ecom_nonclub  \n",
       "171284        1.0       71.645798  2020-01-01 00:00:00  ecom_nonclub  \n",
       "171285        1.0        9.327160  2020-01-01 00:00:00  ecom_nonclub  \n",
       "\n",
       "[2651065 rows x 8 columns]"
      ]
     },
     "execution_count": 28,
     "metadata": {},
     "output_type": "execute_result"
    }
   ],
   "source": [
    "df_ml"
   ]
  },
  {
   "cell_type": "markdown",
   "metadata": {},
   "source": [
    "<div class=\\\"alert alert-block alert-warning\\\">\n",
    "<b>Intermediate commentary:</b> <br> \n",
    "frequency = number of time units the customer had a purchase on <br>\n",
    "age is time in arbitrary units since first purchase <br>\n",
    "Recency is age of customer at last purchase. <br>  \n",
    "monterary_value (not showed above) is the average value of the customer (eg, sum of purchases). <br> \n",
    "</div>"
   ]
  },
  {
   "cell_type": "markdown",
   "metadata": {},
   "source": [
    "## Model fit & test"
   ]
  },
  {
   "cell_type": "markdown",
   "metadata": {},
   "source": [
    "### Assumptions of the BG/NBD model\n",
    "\n",
    "(i) While active, the number of transactions madeby a customer\n",
    "follows a Poisson process with trans-action rate lambda. <br>\n",
    "This is equivalent to assuming that thetime between transactions \n",
    "is distributed exponential with transaction rate\n",
    "\n",
    "\\begin{equation*}\n",
    "\\left(\\ f(t_j | t_j-1 ; \\lambda \\right) = \\left( \\ \\lambda e{}^{-\\lambda(t_j - t_j-1) } \\right)       \\left( t_j ; t_j-1 > 0\\right)\n",
    "\\end{equation*}\n",
    "\n",
    "(ii) Heterogeneity in lambda follows a gamma distribution\n",
    "\n",
    "\\begin{equation*}\n",
    "\\left( \\ f(\\lambda | r, \\alpha \\right) = \\left( \\ \\frac{\\alpha^r \\lambda^{r-1} e^{-\\lambda \\alpha}}{\\Gamma r} \\right)       \\left(\\lambda > 0\\right)\n",
    "\\end{equation*}\n",
    "\n",
    "\n",
    "(iii) After  any  transaction,  a  customer  becomesinactive  with  probabilityp.  Therefore  the  point  at which the customer “drops out” is distributed across transactions according to a (shifted) geometric distribution\n",
    "\n",
    "\\begin{equation*}\n",
    "\\left( \\ p(1-p)^{j-1}\\right) \\left(\\ j = 1, 2, 3 ...\\right)\n",
    "\\end{equation*}\n",
    "\n",
    "(iv) Heterogeneity inpfollows a beta distribution\n",
    "\n",
    "\\begin{equation*}\n",
    "\\left(\\ f(p | a,b \\right) = \\left( \\ \\frac{p^{a-1} (1-p)^{b-1}}{B(a,b)} \\right)  \\left( 0 \\leq p \\leq 1\\right)\n",
    "\\end{equation*}\n",
    "\n",
    "(v) The transaction rate lambda and the dropout probability p vary independently across customers"
   ]
  },
  {
   "cell_type": "code",
   "execution_count": 30,
   "metadata": {
    "ExecuteTime": {
     "end_time": "2020-01-31T09:52:45.541797Z",
     "start_time": "2020-01-31T09:51:51.063646Z"
    }
   },
   "outputs": [],
   "source": [
    "# Import models\n",
    "from lifetimes import BetaGeoFitter,ParetoNBDFitter\n",
    "bgf = BetaGeoFitter(penalizer_coef=0.001)\n",
    "#bgf_Pareto = ParetoNBDFitter(penalizer_coef=0.1)\n",
    "\n",
    "# Verify that the model is doing a relatively good job at predicting values\n",
    "from lifetimes.utils import calibration_and_holdout_data\n",
    "# This function creates a summary of each customer over a calibration and holdout period (training and testing)\n",
    "# It accepts transaction data, and returns a DataFrame of sufficient statistics.\n",
    "summary_cal_holdout = calibration_and_holdout_data(df_ml, 'sfid', 'receipt_issue_date',\n",
    "                                                    calibration_period_end='2019-01-01',\n",
    "                                                    observation_period_end='2020-01-01',\n",
    "                                                    freq='W',\n",
    "                                                    monetary_value_col = 'monetary_value')"
   ]
  },
  {
   "cell_type": "code",
   "execution_count": 31,
   "metadata": {
    "ExecuteTime": {
     "end_time": "2020-01-31T09:57:04.410347Z",
     "start_time": "2020-01-31T09:56:05.575713Z"
    }
   },
   "outputs": [
    {
     "data": {
      "text/html": [
       "<div>\n",
       "<style scoped>\n",
       "    .dataframe tbody tr th:only-of-type {\n",
       "        vertical-align: middle;\n",
       "    }\n",
       "\n",
       "    .dataframe tbody tr th {\n",
       "        vertical-align: top;\n",
       "    }\n",
       "\n",
       "    .dataframe thead th {\n",
       "        text-align: right;\n",
       "    }\n",
       "</style>\n",
       "<table border=\"1\" class=\"dataframe\">\n",
       "  <thead>\n",
       "    <tr style=\"text-align: right;\">\n",
       "      <th></th>\n",
       "      <th>coef</th>\n",
       "      <th>se(coef)</th>\n",
       "      <th>lower 95% bound</th>\n",
       "      <th>upper 95% bound</th>\n",
       "    </tr>\n",
       "  </thead>\n",
       "  <tbody>\n",
       "    <tr>\n",
       "      <th>r</th>\n",
       "      <td>0.313494</td>\n",
       "      <td>0.001571</td>\n",
       "      <td>0.310415</td>\n",
       "      <td>0.316573</td>\n",
       "    </tr>\n",
       "    <tr>\n",
       "      <th>alpha</th>\n",
       "      <td>10.195495</td>\n",
       "      <td>0.075029</td>\n",
       "      <td>10.048438</td>\n",
       "      <td>10.342551</td>\n",
       "    </tr>\n",
       "    <tr>\n",
       "      <th>a</th>\n",
       "      <td>0.389684</td>\n",
       "      <td>0.006074</td>\n",
       "      <td>0.377779</td>\n",
       "      <td>0.401590</td>\n",
       "    </tr>\n",
       "    <tr>\n",
       "      <th>b</th>\n",
       "      <td>0.987852</td>\n",
       "      <td>0.015202</td>\n",
       "      <td>0.958056</td>\n",
       "      <td>1.017648</td>\n",
       "    </tr>\n",
       "  </tbody>\n",
       "</table>\n",
       "</div>"
      ],
      "text/plain": [
       "            coef  se(coef)  lower 95% bound  upper 95% bound\n",
       "r       0.313494  0.001571         0.310415         0.316573\n",
       "alpha  10.195495  0.075029        10.048438        10.342551\n",
       "a       0.389684  0.006074         0.377779         0.401590\n",
       "b       0.987852  0.015202         0.958056         1.017648"
      ]
     },
     "execution_count": 31,
     "metadata": {},
     "output_type": "execute_result"
    },
    {
     "data": {
      "image/png": "[encoded data removed]",
      "text/plain": [
       "<Figure size 432x288 with 1 Axes>"
      ]
     },
     "metadata": {
      "needs_background": "light"
     },
     "output_type": "display_data"
    }
   ],
   "source": [
    "from lifetimes.plotting import plot_calibration_purchases_vs_holdout_purchases\n",
    "\n",
    "bgf.fit(summary_cal_holdout['frequency_cal'], \n",
    "        summary_cal_holdout['recency_cal'], \n",
    "        summary_cal_holdout['T_cal'])\n",
    "plot_calibration_purchases_vs_holdout_purchases(bgf, summary_cal_holdout)\n",
    "\n",
    "# Model summary\n",
    "bgf.summary"
   ]
  },
  {
   "cell_type": "code",
   "execution_count": 92,
   "metadata": {
    "ExecuteTime": {
     "end_time": "2020-01-28T17:02:12.414866Z",
     "start_time": "2020-01-28T17:02:12.258601Z"
    },
    "collapsed": true
   },
   "outputs": [
    {
     "ename": "ValueError",
     "evalue": "cannot convert float NaN to integer",
     "output_type": "error",
     "traceback": [
      "\u001b[1;31m---------------------------------------------------------------------------\u001b[0m",
      "\u001b[1;31mValueError\u001b[0m                                Traceback (most recent call last)",
      "\u001b[1;32m<ipython-input-92-aec1b696fcc3>\u001b[0m in \u001b[0;36m<module>\u001b[1;34m\u001b[0m\n\u001b[0;32m      6\u001b[0m \u001b[1;31m#days_since_birth = 200\u001b[0m\u001b[1;33m\u001b[0m\u001b[1;33m\u001b[0m\u001b[1;33m\u001b[0m\u001b[0m\n\u001b[0;32m      7\u001b[0m days_since_birth = round((pd.to_timedelta(pd.Timestamp('2020-01-01T00') \n\u001b[1;32m----> 8\u001b[1;33m                   - pd.Timestamp((df_ml[df_ml['club_card_number'] == id]['receipt_issue_date'].min()))).days) / 7)\n\u001b[0m\u001b[0;32m      9\u001b[0m \u001b[0msp_trans\u001b[0m \u001b[1;33m=\u001b[0m \u001b[0mdf_ml\u001b[0m\u001b[1;33m.\u001b[0m\u001b[0mloc\u001b[0m\u001b[1;33m[\u001b[0m\u001b[0mdf_ml\u001b[0m\u001b[1;33m[\u001b[0m\u001b[1;34m'club_card_number'\u001b[0m\u001b[1;33m]\u001b[0m \u001b[1;33m==\u001b[0m \u001b[0mid\u001b[0m\u001b[1;33m]\u001b[0m\u001b[1;33m\u001b[0m\u001b[1;33m\u001b[0m\u001b[0m\n\u001b[0;32m     10\u001b[0m plot_history_alive(bgf, \n",
      "\u001b[1;31mValueError\u001b[0m: cannot convert float NaN to integer"
     ]
    }
   ],
   "source": [
    "## We can visualize one particular customer\n",
    "# from lifetimes.plotting import plot_history_alive\n",
    "\n",
    "# # id = 2244229397 \n",
    "# id = 7004575757\n",
    "# #days_since_birth = 200\n",
    "# days_since_birth = round((pd.to_timedelta(pd.Timestamp('2020-01-01T00') \n",
    "#                   - pd.Timestamp((df_ml[df_ml['club_card_number'] == id]['receipt_issue_date'].min()))).days) / 7)\n",
    "# sp_trans = df_ml.loc[df_ml['club_card_number'] == id]\n",
    "# plot_history_alive(bgf, \n",
    "#                    days_since_birth, \n",
    "#                    sp_trans, \n",
    "#                    'receipt_issue_date',\n",
    "#                    xlim=['2018-01-01T00','2020-01-01T00']);"
   ]
  },
  {
   "cell_type": "markdown",
   "metadata": {},
   "source": [
    "## Model fit over all data to predict 2020"
   ]
  },
  {
   "cell_type": "code",
   "execution_count": 33,
   "metadata": {
    "ExecuteTime": {
     "end_time": "2020-01-31T09:59:08.563656Z",
     "start_time": "2020-01-31T09:58:54.295999Z"
    }
   },
   "outputs": [
    {
     "data": {
      "text/html": [
       "<div>\n",
       "<style scoped>\n",
       "    .dataframe tbody tr th:only-of-type {\n",
       "        vertical-align: middle;\n",
       "    }\n",
       "\n",
       "    .dataframe tbody tr th {\n",
       "        vertical-align: top;\n",
       "    }\n",
       "\n",
       "    .dataframe thead th {\n",
       "        text-align: right;\n",
       "    }\n",
       "</style>\n",
       "<table border=\"1\" class=\"dataframe\">\n",
       "  <thead>\n",
       "    <tr style=\"text-align: right;\">\n",
       "      <th></th>\n",
       "      <th>frequency</th>\n",
       "      <th>recency</th>\n",
       "      <th>T</th>\n",
       "      <th>monetary_value</th>\n",
       "    </tr>\n",
       "    <tr>\n",
       "      <th>sfid</th>\n",
       "      <th></th>\n",
       "      <th></th>\n",
       "      <th></th>\n",
       "      <th></th>\n",
       "    </tr>\n",
       "  </thead>\n",
       "  <tbody>\n",
       "    <tr>\n",
       "      <th>0035800001deteVAAQ</th>\n",
       "      <td>2.0</td>\n",
       "      <td>43.0</td>\n",
       "      <td>89.0</td>\n",
       "      <td>41.195</td>\n",
       "    </tr>\n",
       "    <tr>\n",
       "      <th>0031i000001uYF8AAM</th>\n",
       "      <td>0.0</td>\n",
       "      <td>0.0</td>\n",
       "      <td>63.0</td>\n",
       "      <td>0.000</td>\n",
       "    </tr>\n",
       "  </tbody>\n",
       "</table>\n",
       "</div>"
      ],
      "text/plain": [
       "                    frequency  recency     T  monetary_value\n",
       "sfid                                                        \n",
       "0035800001deteVAAQ        2.0     43.0  89.0          41.195\n",
       "0031i000001uYF8AAM        0.0      0.0  63.0           0.000"
      ]
     },
     "execution_count": 33,
     "metadata": {},
     "output_type": "execute_result"
    }
   ],
   "source": [
    "# Transform transaction data into customer-based data with three attributes\n",
    "from lifetimes.utils import summary_data_from_transaction_data\n",
    "\n",
    "summary = summary_data_from_transaction_data(df_ml, \n",
    "                                             'sfid', \n",
    "                                             'receipt_issue_date', \n",
    "                                             observation_period_end='2020-01-01',\n",
    "                                             datetime_format = '%Y-%m-%d',\n",
    "                                             freq='W',\n",
    "                                             monetary_value_col = 'monetary_value')\n",
    "summary.sample(2)"
   ]
  },
  {
   "cell_type": "code",
   "execution_count": 34,
   "metadata": {
    "ExecuteTime": {
     "end_time": "2020-01-31T09:59:25.624046Z",
     "start_time": "2020-01-31T09:59:08.563656Z"
    }
   },
   "outputs": [
    {
     "data": {
      "text/html": [
       "<div>\n",
       "<style scoped>\n",
       "    .dataframe tbody tr th:only-of-type {\n",
       "        vertical-align: middle;\n",
       "    }\n",
       "\n",
       "    .dataframe tbody tr th {\n",
       "        vertical-align: top;\n",
       "    }\n",
       "\n",
       "    .dataframe thead th {\n",
       "        text-align: right;\n",
       "    }\n",
       "</style>\n",
       "<table border=\"1\" class=\"dataframe\">\n",
       "  <thead>\n",
       "    <tr style=\"text-align: right;\">\n",
       "      <th></th>\n",
       "      <th>coef</th>\n",
       "      <th>se(coef)</th>\n",
       "      <th>lower 95% bound</th>\n",
       "      <th>upper 95% bound</th>\n",
       "    </tr>\n",
       "  </thead>\n",
       "  <tbody>\n",
       "    <tr>\n",
       "      <th>r</th>\n",
       "      <td>0.338722</td>\n",
       "      <td>0.000933</td>\n",
       "      <td>0.336894</td>\n",
       "      <td>0.340550</td>\n",
       "    </tr>\n",
       "    <tr>\n",
       "      <th>alpha</th>\n",
       "      <td>13.160704</td>\n",
       "      <td>0.053887</td>\n",
       "      <td>13.055085</td>\n",
       "      <td>13.266324</td>\n",
       "    </tr>\n",
       "    <tr>\n",
       "      <th>a</th>\n",
       "      <td>0.319184</td>\n",
       "      <td>0.002815</td>\n",
       "      <td>0.313667</td>\n",
       "      <td>0.324701</td>\n",
       "    </tr>\n",
       "    <tr>\n",
       "      <th>b</th>\n",
       "      <td>1.166088</td>\n",
       "      <td>0.010891</td>\n",
       "      <td>1.144742</td>\n",
       "      <td>1.187435</td>\n",
       "    </tr>\n",
       "  </tbody>\n",
       "</table>\n",
       "</div>"
      ],
      "text/plain": [
       "            coef  se(coef)  lower 95% bound  upper 95% bound\n",
       "r       0.338722  0.000933         0.336894         0.340550\n",
       "alpha  13.160704  0.053887        13.055085        13.266324\n",
       "a       0.319184  0.002815         0.313667         0.324701\n",
       "b       1.166088  0.010891         1.144742         1.187435"
      ]
     },
     "execution_count": 34,
     "metadata": {},
     "output_type": "execute_result"
    }
   ],
   "source": [
    "from lifetimes import BetaGeoFitter\n",
    "\n",
    "# similar API to scikit-learn and lifelines.\n",
    "# I am using some penalizer due to low sample size, see lifetimes documentation.\n",
    "bgf = BetaGeoFitter(penalizer_coef=0.001)\n",
    "bgf.fit(summary['frequency'], summary['recency'], summary['T'])\n",
    "bgf.summary"
   ]
  },
  {
   "cell_type": "code",
   "execution_count": 35,
   "metadata": {
    "ExecuteTime": {
     "end_time": "2020-01-31T09:59:27.396193Z",
     "start_time": "2020-01-31T09:59:25.624046Z"
    }
   },
   "outputs": [],
   "source": [
    "# Add predicted purchases to summary dataframe\n",
    "# Predicted purchases are calculated for a given time window t\n",
    "t = 4\n",
    "summary['pred_purch_coming_week=' + str(t)] = (bgf.conditional_expected_number_of_purchases_up_to_time\n",
    "                                               (\n",
    "                                                t, \n",
    "                                                summary['frequency'], \n",
    "                                                summary['recency'], \n",
    "                                                summary['T']\n",
    "                                               )\n",
    "                                              )"
   ]
  },
  {
   "cell_type": "code",
   "execution_count": 36,
   "metadata": {
    "ExecuteTime": {
     "end_time": "2020-01-31T10:03:27.834288Z",
     "start_time": "2020-01-31T09:59:27.396193Z"
    }
   },
   "outputs": [
    {
     "data": {
      "text/plain": [
       "<matplotlib.axes._subplots.AxesSubplot at 0x1191b6460c8>"
      ]
     },
     "execution_count": 36,
     "metadata": {},
     "output_type": "execute_result"
    },
    {
     "data": {
      "image/png": "[encoded data removed]",
      "text/plain": [
       "<Figure size 432x288 with 1 Axes>"
      ]
     },
     "metadata": {
      "needs_background": "light"
     },
     "output_type": "display_data"
    }
   ],
   "source": [
    "from lifetimes.plotting import plot_period_transactions\n",
    "plot_period_transactions(bgf)"
   ]
  },
  {
   "cell_type": "code",
   "execution_count": 37,
   "metadata": {
    "ExecuteTime": {
     "end_time": "2020-01-31T10:03:28.020036Z",
     "start_time": "2020-01-31T10:03:27.834288Z"
    }
   },
   "outputs": [
    {
     "data": {
      "text/plain": [
       "0.01699379487165054"
      ]
     },
     "execution_count": 37,
     "metadata": {},
     "output_type": "execute_result"
    }
   ],
   "source": [
    "# Based on customer history, we can predict what an individuals future purchases might look like:\n",
    "individual = summary.iloc[12386]\n",
    "# The below function is an alias to `bfg.conditional_expected_number_of_purchases_up_to_time`\n",
    "bgf.predict(t, individual['frequency'], individual['recency'], individual['T'])"
   ]
  },
  {
   "cell_type": "markdown",
   "metadata": {
    "heading_collapsed": true
   },
   "source": [
    "## CLV: Including transactional component"
   ]
  },
  {
   "cell_type": "markdown",
   "metadata": {
    "hidden": true
   },
   "source": [
    "The model we are going to use to estimate the CLV for our userbase is called the Gamma-Gamma submodel"
   ]
  },
  {
   "cell_type": "code",
   "execution_count": 30,
   "metadata": {
    "ExecuteTime": {
     "end_time": "2020-01-21T15:37:45.421284Z",
     "start_time": "2020-01-21T15:37:45.253406Z"
    },
    "hidden": true
   },
   "outputs": [],
   "source": [
    "returning_customers_summary = summary[summary['frequency']>0]\n",
    "returning_customers_summary = returning_customers_summary[returning_customers_summary['monetary_value']>0]"
   ]
  },
  {
   "cell_type": "code",
   "execution_count": 31,
   "metadata": {
    "ExecuteTime": {
     "end_time": "2020-01-21T15:37:46.850240Z",
     "start_time": "2020-01-21T15:37:45.483743Z"
    },
    "hidden": true
   },
   "outputs": [
    {
     "name": "stdout",
     "output_type": "stream",
     "text": [
      "<lifetimes.GammaGammaFitter: fitted with 146041 subjects, p: 2.57, q: 7.34, v: 72.77>\n"
     ]
    }
   ],
   "source": [
    "from lifetimes import GammaGammaFitter\n",
    "\n",
    "ggf = GammaGammaFitter(penalizer_coef = 0)\n",
    "ggf.fit(returning_customers_summary['frequency'],\n",
    "        returning_customers_summary['monetary_value'])\n",
    "print(ggf)"
   ]
  },
  {
   "cell_type": "code",
   "execution_count": 32,
   "metadata": {
    "ExecuteTime": {
     "end_time": "2020-01-21T15:37:47.025509Z",
     "start_time": "2020-01-21T15:37:46.850240Z"
    },
    "hidden": true
   },
   "outputs": [
    {
     "data": {
      "text/plain": [
       "SFID\n",
       "0031i000001rNF1AAM    44.444453\n",
       "0031i000001rNFTAA2    22.291376\n",
       "0031i000001rNFqAAM    26.594675\n",
       "0031i000001rNFsAAM    25.847123\n",
       "0031i000001rNFyAAM    34.599406\n",
       "                        ...    \n",
       "0035800001gxc6QAAQ    26.397166\n",
       "0035800001gxc6SAAQ    22.611276\n",
       "0035800001gxc6VAAQ    29.594729\n",
       "0035800001gxc6YAAQ    27.814581\n",
       "0035800001gxcANAAY    25.869441\n",
       "Length: 146041, dtype: float64"
      ]
     },
     "execution_count": 32,
     "metadata": {},
     "output_type": "execute_result"
    }
   ],
   "source": [
    "ggf.conditional_expected_average_profit(returning_customers_summary['frequency'],\n",
    "                                        returning_customers_summary['monetary_value'])"
   ]
  },
  {
   "cell_type": "code",
   "execution_count": 33,
   "metadata": {
    "ExecuteTime": {
     "end_time": "2020-01-21T15:37:49.833967Z",
     "start_time": "2020-01-21T15:37:49.662151Z"
    },
    "hidden": true
   },
   "outputs": [
    {
     "name": "stdout",
     "output_type": "stream",
     "text": [
      "Expected conditional average profit: 29.545295749978077, Average profit: 29.086106804148933\n"
     ]
    }
   ],
   "source": [
    "print(\"Expected conditional average profit: %s, Average profit: %s\" % (\n",
    "    ggf.conditional_expected_average_profit(\n",
    "        returning_customers_summary['frequency'],\n",
    "        returning_customers_summary['monetary_value']\n",
    "    ).mean(),\n",
    "    returning_customers_summary[returning_customers_summary['frequency']>0]['monetary_value'].mean()\n",
    "))"
   ]
  },
  {
   "cell_type": "code",
   "execution_count": 34,
   "metadata": {
    "ExecuteTime": {
     "end_time": "2020-01-21T15:37:53.408001Z",
     "start_time": "2020-01-21T15:37:51.373614Z"
    },
    "hidden": true
   },
   "outputs": [
    {
     "data": {
      "text/plain": [
       "<lifetimes.BetaGeoFitter: fitted with 146041 subjects, a: 0.30, alpha: 34.78, b: 1.17, r: 2.64>"
      ]
     },
     "execution_count": 34,
     "metadata": {},
     "output_type": "execute_result"
    }
   ],
   "source": [
    "# refit the BG model to the summary_with_money_value dataset\n",
    "bgf.fit(returning_customers_summary['frequency'], \n",
    "        returning_customers_summary['recency'], \n",
    "        returning_customers_summary['T'],\n",
    "        returning_customers_summary['monetary_value'])"
   ]
  },
  {
   "cell_type": "code",
   "execution_count": 35,
   "metadata": {
    "ExecuteTime": {
     "end_time": "2020-01-21T15:37:55.946396Z",
     "start_time": "2020-01-21T15:37:54.145535Z"
    },
    "hidden": true
   },
   "outputs": [],
   "source": [
    "clv = ggf.customer_lifetime_value(\n",
    "    bgf, #the model to use to predict the number of future transactions\n",
    "    returning_customers_summary['frequency'],\n",
    "    returning_customers_summary['recency'],\n",
    "    returning_customers_summary['T'],\n",
    "    returning_customers_summary['monetary_value'],\n",
    "    time=12, # months\n",
    "    discount_rate=0.01,# monthly discount rate ~ 12.7% annually\n",
    "    freq = 'W')"
   ]
  },
  {
   "cell_type": "code",
   "execution_count": 36,
   "metadata": {
    "ExecuteTime": {
     "end_time": "2020-01-21T15:37:56.093369Z",
     "start_time": "2020-01-21T15:37:55.946396Z"
    },
    "hidden": true
   },
   "outputs": [
    {
     "data": {
      "text/plain": [
       "SFID\n",
       "0031i000001rNF1AAM    427.336419\n",
       "0031i000001rNFTAA2     87.320614\n",
       "0031i000001rNFqAAM    304.170638\n",
       "0031i000001rNFsAAM     29.479645\n",
       "0031i000001rNFyAAM     22.895223\n",
       "                         ...    \n",
       "0035800001gxc6QAAQ     10.528726\n",
       "0035800001gxc6SAAQ     73.148015\n",
       "0035800001gxc6VAAQ     81.321041\n",
       "0035800001gxc6YAAQ     11.777538\n",
       "0035800001gxcANAAY     27.161048\n",
       "Name: clv, Length: 146041, dtype: float64"
      ]
     },
     "execution_count": 36,
     "metadata": {},
     "output_type": "execute_result"
    }
   ],
   "source": [
    "clv"
   ]
  },
  {
   "cell_type": "code",
   "execution_count": 37,
   "metadata": {
    "ExecuteTime": {
     "end_time": "2020-01-21T15:38:11.814532Z",
     "start_time": "2020-01-21T15:38:11.658315Z"
    },
    "hidden": true
   },
   "outputs": [],
   "source": [
    "def normalize(df):\n",
    "    result = df.copy()\n",
    "    #for feature_name in df.columns:\n",
    "    result = result.values\n",
    "    max_value = df.max()\n",
    "    min_value = df.min()\n",
    "    result = (df - min_value) / (max_value - min_value)\n",
    "    return result"
   ]
  },
  {
   "cell_type": "code",
   "execution_count": 38,
   "metadata": {
    "ExecuteTime": {
     "end_time": "2020-01-21T15:38:12.424309Z",
     "start_time": "2020-01-21T15:38:11.999085Z"
    },
    "hidden": true
   },
   "outputs": [
    {
     "data": {
      "text/plain": [
       "<matplotlib.axes._subplots.AxesSubplot at 0x16869d104c8>"
      ]
     },
     "execution_count": 38,
     "metadata": {},
     "output_type": "execute_result"
    },
    {
     "data": {
      "image/png": "[encoded data removed]",
      "text/plain": [
       "<Figure size 432x288 with 1 Axes>"
      ]
     },
     "metadata": {
      "needs_background": "light"
     },
     "output_type": "display_data"
    }
   ],
   "source": [
    "normalize(clv).plot(kind='hist', bins = 100)"
   ]
  },
  {
   "cell_type": "markdown",
   "metadata": {},
   "source": [
    "## Comparison DeFacto"
   ]
  },
  {
   "cell_type": "code",
   "execution_count": 53,
   "metadata": {
    "ExecuteTime": {
     "end_time": "2020-01-31T10:05:57.082443Z",
     "start_time": "2020-01-31T10:05:53.553791Z"
    }
   },
   "outputs": [],
   "source": [
    "import os\n",
    "import plotnine as p9"
   ]
  },
  {
   "cell_type": "code",
   "execution_count": 40,
   "metadata": {
    "ExecuteTime": {
     "end_time": "2020-01-31T10:03:52.801371Z",
     "start_time": "2020-01-31T10:03:41.202066Z"
    }
   },
   "outputs": [],
   "source": [
    "path = 'u:\\\\Projects\\\\datasets\\\\customer_history\\\\DeFacto_scores'\n",
    "file = 'Orsay_Promo_salesforce_January_2020.csv' # PreSale January 2020\n",
    "file = '20190913_Score_Winter_Celebration.csv'   # Winter Celebration December 2019\n",
    "file = '20191025_Winter_Presale_Daten_Score.csv' # Winter PreSale  2019\n",
    "os.chdir(path)\n",
    "os.getcwd()\n",
    "\n",
    "## Import data\n",
    "files = os.listdir()\n",
    "df_defacto = pd.read_csv(files[files.index(file)],sep=';', \n",
    "                          header = 0,\n",
    "                          decimal=\",\")"
   ]
  },
  {
   "cell_type": "code",
   "execution_count": 69,
   "metadata": {
    "ExecuteTime": {
     "end_time": "2020-01-31T08:21:35.198323Z",
     "start_time": "2020-01-31T08:21:30.324073Z"
    }
   },
   "outputs": [
    {
     "data": {
      "text/plain": [
       "2997"
      ]
     },
     "execution_count": 69,
     "metadata": {},
     "output_type": "execute_result"
    }
   ],
   "source": [
    "df_defacto.shape[0] - df_defacto.SFID.unique().shape[0]"
   ]
  },
  {
   "cell_type": "code",
   "execution_count": 48,
   "metadata": {
    "ExecuteTime": {
     "end_time": "2020-01-31T10:05:24.391489Z",
     "start_time": "2020-01-31T10:05:24.235252Z"
    }
   },
   "outputs": [],
   "source": [
    "df_defacto.columns = [c.lower() for c in df_defacto.columns]"
   ]
  },
  {
   "cell_type": "code",
   "execution_count": 41,
   "metadata": {
    "ExecuteTime": {
     "end_time": "2020-01-31T10:04:02.659858Z",
     "start_time": "2020-01-31T10:04:02.503621Z"
    }
   },
   "outputs": [],
   "source": [
    "def normalize(df):\n",
    "    result = df.copy()\n",
    "    #for feature_name in df.columns:\n",
    "    result = result.values\n",
    "    max_value = df.max()\n",
    "    min_value = df.min()\n",
    "    result = (df - min_value) / (max_value - min_value)\n",
    "    return result"
   ]
  },
  {
   "cell_type": "code",
   "execution_count": 49,
   "metadata": {
    "ExecuteTime": {
     "end_time": "2020-01-31T10:05:27.147089Z",
     "start_time": "2020-01-31T10:05:26.912686Z"
    }
   },
   "outputs": [
    {
     "data": {
      "text/html": [
       "<div>\n",
       "<style scoped>\n",
       "    .dataframe tbody tr th:only-of-type {\n",
       "        vertical-align: middle;\n",
       "    }\n",
       "\n",
       "    .dataframe tbody tr th {\n",
       "        vertical-align: top;\n",
       "    }\n",
       "\n",
       "    .dataframe thead th {\n",
       "        text-align: right;\n",
       "    }\n",
       "</style>\n",
       "<table border=\"1\" class=\"dataframe\">\n",
       "  <thead>\n",
       "    <tr style=\"text-align: right;\">\n",
       "      <th></th>\n",
       "      <th>sfid</th>\n",
       "      <th>frequency</th>\n",
       "      <th>recency</th>\n",
       "      <th>T</th>\n",
       "      <th>monetary_value</th>\n",
       "      <th>pred_purch_coming_week=4</th>\n",
       "      <th>norm_purchase</th>\n",
       "    </tr>\n",
       "  </thead>\n",
       "  <tbody>\n",
       "    <tr>\n",
       "      <th>0</th>\n",
       "      <td>0031i000001rNElAAM</td>\n",
       "      <td>1.0</td>\n",
       "      <td>1.0</td>\n",
       "      <td>68.0</td>\n",
       "      <td>117.950000</td>\n",
       "      <td>0.017084</td>\n",
       "      <td>0.006287</td>\n",
       "    </tr>\n",
       "    <tr>\n",
       "      <th>1</th>\n",
       "      <td>0031i000001rNLxAAM</td>\n",
       "      <td>0.0</td>\n",
       "      <td>0.0</td>\n",
       "      <td>14.0</td>\n",
       "      <td>0.000000</td>\n",
       "      <td>0.048887</td>\n",
       "      <td>0.017991</td>\n",
       "    </tr>\n",
       "    <tr>\n",
       "      <th>2</th>\n",
       "      <td>0031i000001rNNiAAM</td>\n",
       "      <td>1.0</td>\n",
       "      <td>1.0</td>\n",
       "      <td>38.0</td>\n",
       "      <td>35.990000</td>\n",
       "      <td>0.040933</td>\n",
       "      <td>0.015064</td>\n",
       "    </tr>\n",
       "    <tr>\n",
       "      <th>3</th>\n",
       "      <td>0031i000001rNRDAA2</td>\n",
       "      <td>0.0</td>\n",
       "      <td>0.0</td>\n",
       "      <td>22.0</td>\n",
       "      <td>0.000000</td>\n",
       "      <td>0.037932</td>\n",
       "      <td>0.013959</td>\n",
       "    </tr>\n",
       "    <tr>\n",
       "      <th>4</th>\n",
       "      <td>0031i000001rNTnAAM</td>\n",
       "      <td>0.0</td>\n",
       "      <td>0.0</td>\n",
       "      <td>61.0</td>\n",
       "      <td>0.000000</td>\n",
       "      <td>0.018131</td>\n",
       "      <td>0.006672</td>\n",
       "    </tr>\n",
       "    <tr>\n",
       "      <th>...</th>\n",
       "      <td>...</td>\n",
       "      <td>...</td>\n",
       "      <td>...</td>\n",
       "      <td>...</td>\n",
       "      <td>...</td>\n",
       "      <td>...</td>\n",
       "      <td>...</td>\n",
       "    </tr>\n",
       "    <tr>\n",
       "      <th>1148559</th>\n",
       "      <td>0035800001gxdDIAAY</td>\n",
       "      <td>1.0</td>\n",
       "      <td>27.0</td>\n",
       "      <td>68.0</td>\n",
       "      <td>25.990000</td>\n",
       "      <td>0.038484</td>\n",
       "      <td>0.014162</td>\n",
       "    </tr>\n",
       "    <tr>\n",
       "      <th>1148560</th>\n",
       "      <td>0035800001gxdGhAAI</td>\n",
       "      <td>0.0</td>\n",
       "      <td>0.0</td>\n",
       "      <td>68.0</td>\n",
       "      <td>0.000000</td>\n",
       "      <td>0.016578</td>\n",
       "      <td>0.006101</td>\n",
       "    </tr>\n",
       "    <tr>\n",
       "      <th>1148561</th>\n",
       "      <td>0035800001gxdIrAAI</td>\n",
       "      <td>0.0</td>\n",
       "      <td>0.0</td>\n",
       "      <td>68.0</td>\n",
       "      <td>0.000000</td>\n",
       "      <td>0.016578</td>\n",
       "      <td>0.006101</td>\n",
       "    </tr>\n",
       "    <tr>\n",
       "      <th>1148562</th>\n",
       "      <td>0035800001gxdJgAAI</td>\n",
       "      <td>4.0</td>\n",
       "      <td>63.0</td>\n",
       "      <td>68.0</td>\n",
       "      <td>43.592500</td>\n",
       "      <td>0.192769</td>\n",
       "      <td>0.070941</td>\n",
       "    </tr>\n",
       "    <tr>\n",
       "      <th>1148563</th>\n",
       "      <td>0035800001gxdJhAAI</td>\n",
       "      <td>3.0</td>\n",
       "      <td>94.0</td>\n",
       "      <td>98.0</td>\n",
       "      <td>11.663333</td>\n",
       "      <td>0.107262</td>\n",
       "      <td>0.039473</td>\n",
       "    </tr>\n",
       "  </tbody>\n",
       "</table>\n",
       "<p>1148564 rows × 7 columns</p>\n",
       "</div>"
      ],
      "text/plain": [
       "                       sfid  frequency  recency     T  monetary_value  \\\n",
       "0        0031i000001rNElAAM        1.0      1.0  68.0      117.950000   \n",
       "1        0031i000001rNLxAAM        0.0      0.0  14.0        0.000000   \n",
       "2        0031i000001rNNiAAM        1.0      1.0  38.0       35.990000   \n",
       "3        0031i000001rNRDAA2        0.0      0.0  22.0        0.000000   \n",
       "4        0031i000001rNTnAAM        0.0      0.0  61.0        0.000000   \n",
       "...                     ...        ...      ...   ...             ...   \n",
       "1148559  0035800001gxdDIAAY        1.0     27.0  68.0       25.990000   \n",
       "1148560  0035800001gxdGhAAI        0.0      0.0  68.0        0.000000   \n",
       "1148561  0035800001gxdIrAAI        0.0      0.0  68.0        0.000000   \n",
       "1148562  0035800001gxdJgAAI        4.0     63.0  68.0       43.592500   \n",
       "1148563  0035800001gxdJhAAI        3.0     94.0  98.0       11.663333   \n",
       "\n",
       "         pred_purch_coming_week=4  norm_purchase  \n",
       "0                        0.017084       0.006287  \n",
       "1                        0.048887       0.017991  \n",
       "2                        0.040933       0.015064  \n",
       "3                        0.037932       0.013959  \n",
       "4                        0.018131       0.006672  \n",
       "...                           ...            ...  \n",
       "1148559                  0.038484       0.014162  \n",
       "1148560                  0.016578       0.006101  \n",
       "1148561                  0.016578       0.006101  \n",
       "1148562                  0.192769       0.070941  \n",
       "1148563                  0.107262       0.039473  \n",
       "\n",
       "[1148564 rows x 7 columns]"
      ]
     },
     "execution_count": 49,
     "metadata": {},
     "output_type": "execute_result"
    }
   ],
   "source": [
    "df_orsay = summary.copy()\n",
    "df_orsay = df_orsay.assign(norm_purchase = lambda d: normalize(d['pred_purch_coming_week=4']))\n",
    "df_orsay.reset_index(level=0, inplace=True)\n",
    "df_orsay"
   ]
  },
  {
   "cell_type": "code",
   "execution_count": 50,
   "metadata": {
    "ExecuteTime": {
     "end_time": "2020-01-31T10:05:36.457130Z",
     "start_time": "2020-01-31T10:05:28.081465Z"
    }
   },
   "outputs": [],
   "source": [
    "merged_orsay_defacto_data = df_orsay.merge(df_defacto, on='sfid', how='inner')"
   ]
  },
  {
   "cell_type": "code",
   "execution_count": 56,
   "metadata": {
    "ExecuteTime": {
     "end_time": "2020-01-31T10:08:10.174355Z",
     "start_time": "2020-01-31T10:06:29.907511Z"
    }
   },
   "outputs": [
    {
     "data": {
      "image/png": "[encoded data removed]",
      "text/plain": [
       "<Figure size 640x480 with 1 Axes>"
      ]
     },
     "metadata": {},
     "output_type": "display_data"
    },
    {
     "data": {
      "text/plain": [
       "<ggplot: (-9223371961215037160)>"
      ]
     },
     "execution_count": 56,
     "metadata": {},
     "output_type": "execute_result"
    }
   ],
   "source": [
    "(p9.ggplot(mapping=p9.aes(x='norm_purchase', y='score'), data=merged_orsay_defacto_data)\n",
    "+ p9.geom_point())"
   ]
  },
  {
   "cell_type": "code",
   "execution_count": 64,
   "metadata": {
    "ExecuteTime": {
     "end_time": "2020-01-31T08:20:39.194477Z",
     "start_time": "2020-01-31T08:20:38.881940Z"
    }
   },
   "outputs": [
    {
     "data": {
      "text/html": [
       "<div>\n",
       "<style scoped>\n",
       "    .dataframe tbody tr th:only-of-type {\n",
       "        vertical-align: middle;\n",
       "    }\n",
       "\n",
       "    .dataframe tbody tr th {\n",
       "        vertical-align: top;\n",
       "    }\n",
       "\n",
       "    .dataframe thead th {\n",
       "        text-align: right;\n",
       "    }\n",
       "</style>\n",
       "<table border=\"1\" class=\"dataframe\">\n",
       "  <thead>\n",
       "    <tr style=\"text-align: right;\">\n",
       "      <th></th>\n",
       "      <th>frequency</th>\n",
       "      <th>recency</th>\n",
       "      <th>T</th>\n",
       "      <th>monetary_value</th>\n",
       "      <th>pred_purch_coming_week=4</th>\n",
       "      <th>norm_purchase</th>\n",
       "      <th>Score</th>\n",
       "    </tr>\n",
       "  </thead>\n",
       "  <tbody>\n",
       "    <tr>\n",
       "      <th>frequency</th>\n",
       "      <td>1.000000</td>\n",
       "      <td>0.695484</td>\n",
       "      <td>0.224029</td>\n",
       "      <td>0.421136</td>\n",
       "      <td>0.850366</td>\n",
       "      <td>0.850366</td>\n",
       "      <td>0.650439</td>\n",
       "    </tr>\n",
       "    <tr>\n",
       "      <th>recency</th>\n",
       "      <td>0.695484</td>\n",
       "      <td>1.000000</td>\n",
       "      <td>0.382875</td>\n",
       "      <td>0.459184</td>\n",
       "      <td>0.536075</td>\n",
       "      <td>0.536075</td>\n",
       "      <td>0.429065</td>\n",
       "    </tr>\n",
       "    <tr>\n",
       "      <th>T</th>\n",
       "      <td>0.224029</td>\n",
       "      <td>0.382875</td>\n",
       "      <td>1.000000</td>\n",
       "      <td>0.114563</td>\n",
       "      <td>-0.084582</td>\n",
       "      <td>-0.084582</td>\n",
       "      <td>-0.122340</td>\n",
       "    </tr>\n",
       "    <tr>\n",
       "      <th>monetary_value</th>\n",
       "      <td>0.421136</td>\n",
       "      <td>0.459184</td>\n",
       "      <td>0.114563</td>\n",
       "      <td>1.000000</td>\n",
       "      <td>0.365688</td>\n",
       "      <td>0.365688</td>\n",
       "      <td>0.412887</td>\n",
       "    </tr>\n",
       "    <tr>\n",
       "      <th>pred_purch_coming_week=4</th>\n",
       "      <td>0.850366</td>\n",
       "      <td>0.536075</td>\n",
       "      <td>-0.084582</td>\n",
       "      <td>0.365688</td>\n",
       "      <td>1.000000</td>\n",
       "      <td>1.000000</td>\n",
       "      <td>0.739959</td>\n",
       "    </tr>\n",
       "    <tr>\n",
       "      <th>norm_purchase</th>\n",
       "      <td>0.850366</td>\n",
       "      <td>0.536075</td>\n",
       "      <td>-0.084582</td>\n",
       "      <td>0.365688</td>\n",
       "      <td>1.000000</td>\n",
       "      <td>1.000000</td>\n",
       "      <td>0.739959</td>\n",
       "    </tr>\n",
       "    <tr>\n",
       "      <th>Score</th>\n",
       "      <td>0.650439</td>\n",
       "      <td>0.429065</td>\n",
       "      <td>-0.122340</td>\n",
       "      <td>0.412887</td>\n",
       "      <td>0.739959</td>\n",
       "      <td>0.739959</td>\n",
       "      <td>1.000000</td>\n",
       "    </tr>\n",
       "  </tbody>\n",
       "</table>\n",
       "</div>"
      ],
      "text/plain": [
       "                          frequency   recency         T  monetary_value  \\\n",
       "frequency                  1.000000  0.695484  0.224029        0.421136   \n",
       "recency                    0.695484  1.000000  0.382875        0.459184   \n",
       "T                          0.224029  0.382875  1.000000        0.114563   \n",
       "monetary_value             0.421136  0.459184  0.114563        1.000000   \n",
       "pred_purch_coming_week=4   0.850366  0.536075 -0.084582        0.365688   \n",
       "norm_purchase              0.850366  0.536075 -0.084582        0.365688   \n",
       "Score                      0.650439  0.429065 -0.122340        0.412887   \n",
       "\n",
       "                          pred_purch_coming_week=4  norm_purchase     Score  \n",
       "frequency                                 0.850366       0.850366  0.650439  \n",
       "recency                                   0.536075       0.536075  0.429065  \n",
       "T                                        -0.084582      -0.084582 -0.122340  \n",
       "monetary_value                            0.365688       0.365688  0.412887  \n",
       "pred_purch_coming_week=4                  1.000000       1.000000  0.739959  \n",
       "norm_purchase                             1.000000       1.000000  0.739959  \n",
       "Score                                     0.739959       0.739959  1.000000  "
      ]
     },
     "execution_count": 64,
     "metadata": {},
     "output_type": "execute_result"
    }
   ],
   "source": [
    "merged_orsay_defacto_data.corr()"
   ]
  },
  {
   "cell_type": "code",
   "execution_count": null,
   "metadata": {},
   "outputs": [],
   "source": []
  }
 ],
 "metadata": {
  "kernelspec": {
   "display_name": "Python 3",
   "language": "python",
   "name": "python3"
  },
  "language_info": {
   "codemirror_mode": {
    "name": "ipython",
    "version": 3
   },
   "file_extension": ".py",
   "mimetype": "text/x-python",
   "name": "python",
   "nbconvert_exporter": "python",
   "pygments_lexer": "ipython3",
   "version": "3.7.7"
  }
 },
 "nbformat": 4,
 "nbformat_minor": 2
}
