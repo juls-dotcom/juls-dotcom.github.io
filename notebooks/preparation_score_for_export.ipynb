{
 "cells": [
  {
   "cell_type": "code",
   "execution_count": 1,
   "metadata": {
    "ExecuteTime": {
     "end_time": "2020-03-16T07:49:07.723348Z",
     "start_time": "2020-03-16T07:48:54.760563Z"
    }
   },
   "outputs": [],
   "source": [
    "import pandas as pd\n",
    "import plotnine as p9\n",
    "import numpy as np\n",
    "import os"
   ]
  },
  {
   "cell_type": "code",
   "execution_count": 2,
   "metadata": {
    "ExecuteTime": {
     "end_time": "2020-03-16T07:49:12.805240Z",
     "start_time": "2020-03-16T07:49:07.724203Z"
    }
   },
   "outputs": [],
   "source": [
    "\n",
    "path = 'D:\\\\Projects\\\\datasets\\\\customer_history\\\\DeFacto_scores'\n",
    "os.chdir(path)\n",
    "df_defacto = pd.read_csv('Score_Dress_Special_March_2020.csv',\n",
    "                        delimiter=';',\n",
    "                        decimal=',')\n",
    "df_defacto.columns = [c.lower() for c in df_defacto.columns]"
   ]
  },
  {
   "cell_type": "code",
   "execution_count": 3,
   "metadata": {
    "ExecuteTime": {
     "end_time": "2020-03-16T07:49:12.814206Z",
     "start_time": "2020-03-16T07:49:12.806208Z"
    }
   },
   "outputs": [],
   "source": [
    "path = 'D:\\\\Projects\\\\datasets\\\\customer_history\\\\selection_March_2020'\n",
    "os.chdir(path)"
   ]
  },
  {
   "cell_type": "code",
   "execution_count": 4,
   "metadata": {
    "ExecuteTime": {
     "end_time": "2020-03-16T07:49:58.129274Z",
     "start_time": "2020-03-16T07:49:12.816206Z"
    }
   },
   "outputs": [],
   "source": [
    "df_orsay = pd.read_csv('output_scores_orsay_all_countries_one_file_06032020.csv',\n",
    "                       engine='python',\n",
    "                       error_bad_lines=False)"
   ]
  },
  {
   "cell_type": "code",
   "execution_count": 7,
   "metadata": {
    "ExecuteTime": {
     "end_time": "2020-03-16T08:01:38.503959Z",
     "start_time": "2020-03-16T08:01:38.489959Z"
    }
   },
   "outputs": [
    {
     "data": {
      "text/html": [
       "<div>\n",
       "<style scoped>\n",
       "    .dataframe tbody tr th:only-of-type {\n",
       "        vertical-align: middle;\n",
       "    }\n",
       "\n",
       "    .dataframe tbody tr th {\n",
       "        vertical-align: top;\n",
       "    }\n",
       "\n",
       "    .dataframe thead th {\n",
       "        text-align: right;\n",
       "    }\n",
       "</style>\n",
       "<table border=\"1\" class=\"dataframe\">\n",
       "  <thead>\n",
       "    <tr style=\"text-align: right;\">\n",
       "      <th></th>\n",
       "      <th>Unnamed: 0</th>\n",
       "      <th>sfid</th>\n",
       "      <th>frequency</th>\n",
       "      <th>recency</th>\n",
       "      <th>T</th>\n",
       "      <th>monetary_value</th>\n",
       "      <th>pred_purch_coming_week=4</th>\n",
       "      <th>norm_purchase</th>\n",
       "    </tr>\n",
       "  </thead>\n",
       "  <tbody>\n",
       "    <tr>\n",
       "      <th>0</th>\n",
       "      <td>0</td>\n",
       "      <td>0031i000001rNElAAM</td>\n",
       "      <td>1.0</td>\n",
       "      <td>1.0</td>\n",
       "      <td>55.0</td>\n",
       "      <td>117.950000</td>\n",
       "      <td>0.053829</td>\n",
       "      <td>0.015498</td>\n",
       "    </tr>\n",
       "    <tr>\n",
       "      <th>1</th>\n",
       "      <td>1</td>\n",
       "      <td>0031i000001rNF0AAM</td>\n",
       "      <td>5.0</td>\n",
       "      <td>45.0</td>\n",
       "      <td>56.0</td>\n",
       "      <td>19.042000</td>\n",
       "      <td>0.311833</td>\n",
       "      <td>0.089780</td>\n",
       "    </tr>\n",
       "    <tr>\n",
       "      <th>2</th>\n",
       "      <td>2</td>\n",
       "      <td>0031i000001rNF1AAM</td>\n",
       "      <td>21.0</td>\n",
       "      <td>63.0</td>\n",
       "      <td>68.0</td>\n",
       "      <td>46.718568</td>\n",
       "      <td>1.039928</td>\n",
       "      <td>0.299407</td>\n",
       "    </tr>\n",
       "    <tr>\n",
       "      <th>3</th>\n",
       "      <td>3</td>\n",
       "      <td>0031i000001rNF5AAM</td>\n",
       "      <td>9.0</td>\n",
       "      <td>47.0</td>\n",
       "      <td>55.0</td>\n",
       "      <td>45.621111</td>\n",
       "      <td>0.545092</td>\n",
       "      <td>0.156938</td>\n",
       "    </tr>\n",
       "    <tr>\n",
       "      <th>4</th>\n",
       "      <td>4</td>\n",
       "      <td>0031i000001rNF6AAM</td>\n",
       "      <td>0.0</td>\n",
       "      <td>0.0</td>\n",
       "      <td>55.0</td>\n",
       "      <td>0.000000</td>\n",
       "      <td>0.037157</td>\n",
       "      <td>0.010698</td>\n",
       "    </tr>\n",
       "    <tr>\n",
       "      <th>...</th>\n",
       "      <td>...</td>\n",
       "      <td>...</td>\n",
       "      <td>...</td>\n",
       "      <td>...</td>\n",
       "      <td>...</td>\n",
       "      <td>...</td>\n",
       "      <td>...</td>\n",
       "      <td>...</td>\n",
       "    </tr>\n",
       "    <tr>\n",
       "      <th>7079603</th>\n",
       "      <td>7079603</td>\n",
       "      <td>0035800001gxdDGAAY</td>\n",
       "      <td>5.0</td>\n",
       "      <td>46.0</td>\n",
       "      <td>55.0</td>\n",
       "      <td>20.932000</td>\n",
       "      <td>0.317680</td>\n",
       "      <td>0.091464</td>\n",
       "    </tr>\n",
       "    <tr>\n",
       "      <th>7079604</th>\n",
       "      <td>7079604</td>\n",
       "      <td>0035800001gxdDHAAY</td>\n",
       "      <td>0.0</td>\n",
       "      <td>0.0</td>\n",
       "      <td>55.0</td>\n",
       "      <td>0.000000</td>\n",
       "      <td>0.037157</td>\n",
       "      <td>0.010698</td>\n",
       "    </tr>\n",
       "    <tr>\n",
       "      <th>7079605</th>\n",
       "      <td>7079605</td>\n",
       "      <td>0035800001gxdDIAAY</td>\n",
       "      <td>1.0</td>\n",
       "      <td>27.0</td>\n",
       "      <td>55.0</td>\n",
       "      <td>25.990000</td>\n",
       "      <td>0.082436</td>\n",
       "      <td>0.023734</td>\n",
       "    </tr>\n",
       "    <tr>\n",
       "      <th>7079606</th>\n",
       "      <td>7079606</td>\n",
       "      <td>0035800001gxdJgAAI</td>\n",
       "      <td>4.0</td>\n",
       "      <td>48.0</td>\n",
       "      <td>55.0</td>\n",
       "      <td>34.470964</td>\n",
       "      <td>0.261727</td>\n",
       "      <td>0.075354</td>\n",
       "    </tr>\n",
       "    <tr>\n",
       "      <th>7079607</th>\n",
       "      <td>7079607</td>\n",
       "      <td>0035800001gxdJhAAI</td>\n",
       "      <td>2.0</td>\n",
       "      <td>30.0</td>\n",
       "      <td>85.0</td>\n",
       "      <td>12.495000</td>\n",
       "      <td>0.085995</td>\n",
       "      <td>0.024759</td>\n",
       "    </tr>\n",
       "  </tbody>\n",
       "</table>\n",
       "<p>7079608 rows × 8 columns</p>\n",
       "</div>"
      ],
      "text/plain": [
       "         Unnamed: 0                sfid  frequency  recency     T  \\\n",
       "0                 0  0031i000001rNElAAM        1.0      1.0  55.0   \n",
       "1                 1  0031i000001rNF0AAM        5.0     45.0  56.0   \n",
       "2                 2  0031i000001rNF1AAM       21.0     63.0  68.0   \n",
       "3                 3  0031i000001rNF5AAM        9.0     47.0  55.0   \n",
       "4                 4  0031i000001rNF6AAM        0.0      0.0  55.0   \n",
       "...             ...                 ...        ...      ...   ...   \n",
       "7079603     7079603  0035800001gxdDGAAY        5.0     46.0  55.0   \n",
       "7079604     7079604  0035800001gxdDHAAY        0.0      0.0  55.0   \n",
       "7079605     7079605  0035800001gxdDIAAY        1.0     27.0  55.0   \n",
       "7079606     7079606  0035800001gxdJgAAI        4.0     48.0  55.0   \n",
       "7079607     7079607  0035800001gxdJhAAI        2.0     30.0  85.0   \n",
       "\n",
       "         monetary_value  pred_purch_coming_week=4  norm_purchase  \n",
       "0            117.950000                  0.053829       0.015498  \n",
       "1             19.042000                  0.311833       0.089780  \n",
       "2             46.718568                  1.039928       0.299407  \n",
       "3             45.621111                  0.545092       0.156938  \n",
       "4              0.000000                  0.037157       0.010698  \n",
       "...                 ...                       ...            ...  \n",
       "7079603       20.932000                  0.317680       0.091464  \n",
       "7079604        0.000000                  0.037157       0.010698  \n",
       "7079605       25.990000                  0.082436       0.023734  \n",
       "7079606       34.470964                  0.261727       0.075354  \n",
       "7079607       12.495000                  0.085995       0.024759  \n",
       "\n",
       "[7079608 rows x 8 columns]"
      ]
     },
     "execution_count": 7,
     "metadata": {},
     "output_type": "execute_result"
    }
   ],
   "source": [
    "df_orsay"
   ]
  },
  {
   "cell_type": "code",
   "execution_count": null,
   "metadata": {
    "ExecuteTime": {
     "end_time": "2020-03-12T14:44:15.349956Z",
     "start_time": "2020-03-12T14:44:13.385984Z"
    }
   },
   "outputs": [],
   "source": [
    "df_orsay_to_export = df_orsay.copy()\n",
    "\n",
    "df_orsay_to_export = (df_orsay_to_export.drop(columns={'Unnamed: 0', \n",
    "                                 'frequency',\n",
    "                                 'recency',\n",
    "                                 'T',\n",
    "                                 'monetary_value',\n",
    "                                 'pred_purch_coming_week=4'})\n",
    "                  .rename(columns={'sfid': 'SFID',\n",
    "                                   'norm_purchase': 'Score'})\n",
    "                  .assign(ScoringIdentifier = 'Orsay_Dress_Special_2020')\n",
    "                 # .assign(Score = lambda d: d.Score.round(decimals=6).astype(str).str.replace('.', ','))\n",
    "    )[['SFID', 'ScoringIdentifier', 'Score']]"
   ]
  },
  {
   "cell_type": "code",
   "execution_count": 22,
   "metadata": {
    "ExecuteTime": {
     "end_time": "2020-03-12T14:45:02.633201Z",
     "start_time": "2020-03-12T14:44:33.814127Z"
    }
   },
   "outputs": [],
   "source": [
    "df_orsay_to_export.to_csv('orsay_customer_to_integrate_v3.csv', index=False)"
   ]
  },
  {
   "cell_type": "code",
   "execution_count": 23,
   "metadata": {
    "ExecuteTime": {
     "end_time": "2020-03-12T14:57:53.753565Z",
     "start_time": "2020-03-12T14:57:53.746566Z"
    }
   },
   "outputs": [
    {
     "data": {
      "text/plain": [
       "SFID                  object\n",
       "ScoringIdentifier     object\n",
       "Score                float64\n",
       "dtype: object"
      ]
     },
     "execution_count": 23,
     "metadata": {},
     "output_type": "execute_result"
    }
   ],
   "source": [
    "df_orsay_to_export.dtypes"
   ]
  },
  {
   "cell_type": "code",
   "execution_count": 5,
   "metadata": {
    "ExecuteTime": {
     "end_time": "2020-03-12T14:08:08.781367Z",
     "start_time": "2020-03-12T14:08:03.575331Z"
    }
   },
   "outputs": [],
   "source": [
    "df_country_keys = pd.read_csv('BI_sfid_to_contry.csv')\n",
    "df_country_keys = df_country_keys.rename(columns={'SALESFORCEID': 'sfid', \n",
    "                                                  'ACC_COUNTRY': 'account_country',\n",
    "                                                  'CUST_COUNTRY': 'member_country'})"
   ]
  },
  {
   "cell_type": "code",
   "execution_count": 6,
   "metadata": {
    "ExecuteTime": {
     "end_time": "2020-03-12T14:08:36.538339Z",
     "start_time": "2020-03-12T14:08:08.783337Z"
    }
   },
   "outputs": [],
   "source": [
    "# Merge DeFacto and Orsay scores\n",
    "merged_dat = pd.merge(df_defacto, df_orsay[['sfid', 'norm_purchase']], how='outer', on= 'sfid')\n",
    "# Merge country identifier\n",
    "merged_dat = pd.merge(merged_dat, df_country_keys, how='left', on= 'sfid')\n",
    "# Rename columns\n",
    "merged_dat = merged_dat.rename(columns={'norm_purchase': 'orsay_score',\n",
    "                                        'score': 'defacto_score'}).reset_index(drop=True)"
   ]
  },
  {
   "cell_type": "code",
   "execution_count": 24,
   "metadata": {
    "ExecuteTime": {
     "end_time": "2020-03-12T16:55:10.702364Z",
     "start_time": "2020-03-12T16:44:29.113346Z"
    }
   },
   "outputs": [
    {
     "name": "stderr",
     "output_type": "stream",
     "text": [
      "C:\\Users\\jhernandez-lallement\\AppData\\Local\\Continuum\\anaconda3\\lib\\site-packages\\plotnine\\layer.py:452: PlotnineWarning: geom_point : Removed 1378494 rows containing missing values.\n",
      "  self.data = self.geom.handle_na(self.data)\n"
     ]
    },
    {
     "data": {
      "image/png": "[encoded data removed]",
      "text/plain": [
       "<Figure size 640x480 with 1 Axes>"
      ]
     },
     "metadata": {},
     "output_type": "display_data"
    },
    {
     "data": {
      "text/plain": [
       "<ggplot: (-9223371954937707120)>"
      ]
     },
     "execution_count": 24,
     "metadata": {},
     "output_type": "execute_result"
    }
   ],
   "source": [
    "my_custom_theme = p9.theme(axis_text_x = p9.element_text(color=\"grey\", size=8,\n",
    "                                                         angle=0, hjust=.5),\n",
    "                           axis_text_y = p9.element_text(color=\"grey\", size=8,\n",
    "                                                         angle=0, hjust=1.0),\n",
    "                           figure_size=(12, 6))\n",
    "\n",
    "(p9.ggplot() \n",
    "+ p9.geom_point(mapping=p9.aes(x='defacto_score', y='orsay_score'), data=merged_dat, alpha=0.1)\n",
    "+ p9.labs(title='Comparison scoring - Dress Special 2020')\n",
    ")"
   ]
  },
  {
   "cell_type": "code",
   "execution_count": 25,
   "metadata": {
    "ExecuteTime": {
     "end_time": "2020-03-12T17:06:13.928966Z",
     "start_time": "2020-03-12T16:55:10.704329Z"
    }
   },
   "outputs": [
    {
     "name": "stderr",
     "output_type": "stream",
     "text": [
      "C:\\Users\\jhernandez-lallement\\AppData\\Local\\Continuum\\anaconda3\\lib\\site-packages\\plotnine\\ggplot.py:729: PlotnineWarning: Saving 8 x 6 in image.\n",
      "  from_inches(height, units), units), PlotnineWarning)\n",
      "C:\\Users\\jhernandez-lallement\\AppData\\Local\\Continuum\\anaconda3\\lib\\site-packages\\plotnine\\ggplot.py:730: PlotnineWarning: Filename: filename.png\n",
      "  warn('Filename: {}'.format(filename), PlotnineWarning)\n",
      "C:\\Users\\jhernandez-lallement\\AppData\\Local\\Continuum\\anaconda3\\lib\\site-packages\\plotnine\\layer.py:452: PlotnineWarning: geom_point : Removed 1378494 rows containing missing values.\n",
      "  self.data = self.geom.handle_na(self.data)\n"
     ]
    }
   ],
   "source": [
    "plt.save('filename.png', height=6, width=8)"
   ]
  },
  {
   "cell_type": "code",
   "execution_count": 26,
   "metadata": {
    "ExecuteTime": {
     "end_time": "2020-03-12T18:06:51.267694Z",
     "start_time": "2020-03-12T18:06:51.262693Z"
    }
   },
   "outputs": [
    {
     "data": {
      "text/plain": [
       "'D:\\\\Projects\\\\datasets\\\\customer_history\\\\selection_March_2020'"
      ]
     },
     "execution_count": 26,
     "metadata": {},
     "output_type": "execute_result"
    }
   ],
   "source": [
    "pwd"
   ]
  },
  {
   "cell_type": "code",
   "execution_count": 10,
   "metadata": {
    "ExecuteTime": {
     "end_time": "2020-03-10T08:06:52.522808Z",
     "start_time": "2020-03-10T08:06:52.517808Z"
    }
   },
   "outputs": [],
   "source": [
    "number_WH_country = {\n",
    "    'AT': 15000,\n",
    "    'CH': 0,\n",
    "    'CZ':38000,\n",
    "    'HU':20000,\n",
    "    'DE':38000,\n",
    "    'PL':38000,\n",
    "    'SK':11000,\n",
    "    'RO':10000,\n",
    "    'HR':5000,\n",
    "    'RS':5000,\n",
    "    'SI':5000\n",
    "                    }"
   ]
  },
  {
   "cell_type": "code",
   "execution_count": 11,
   "metadata": {
    "ExecuteTime": {
     "end_time": "2020-03-10T08:07:41.844612Z",
     "start_time": "2020-03-10T08:06:52.523809Z"
    }
   },
   "outputs": [
    {
     "name": "stdout",
     "output_type": "stream",
     "text": [
      "Calculating now for country = DE\n",
      " Done appending for country = DE\n",
      "Calculating now for country = RO\n",
      " Done appending for country = RO\n",
      "Calculating now for country = RS\n",
      " Done appending for country = RS\n",
      "Calculating now for country = PL\n",
      " Done appending for country = PL\n",
      "Calculating now for country = CH\n",
      " Done appending for country = CH\n",
      "Calculating now for country = SK\n",
      " Done appending for country = SK\n",
      "Calculating now for country = HR\n",
      " Done appending for country = HR\n",
      "Calculating now for country = AT\n",
      " Done appending for country = AT\n",
      "Calculating now for country = HU\n",
      " Done appending for country = HU\n",
      "Calculating now for country = CZ\n",
      " Done appending for country = CZ\n",
      "Calculating now for country = SI\n",
      " Done appending for country = SI\n"
     ]
    }
   ],
   "source": [
    "final_df = pd.DataFrame()\n",
    "for i in merged_dat.account_country.dropna().unique():\n",
    "    #Isolate country\n",
    "    df_curr = merged_dat.loc[merged_dat.account_country == i]\n",
    "    print('Calculating now for country = ' + str(i))\n",
    "    # Fetch maximum white mail customers\n",
    "    max_cust = [v for k,v in number_WH_country.items() if k == i][0]\n",
    "    # Create binary mask according to maximum number of White Mail per country\n",
    "    mask = pd.concat([pd.Series(np.ones(max_cust)), pd.Series(np.zeros(df_curr.shape[0] - max_cust))]).reset_index(drop=True)\n",
    "    # Sort according to Orsay score and assign mask\n",
    "    df_curr = df_curr.sort_values(by='orsay_score', ascending=False).reset_index(drop=True)\n",
    "    df_curr = df_curr.assign(orsay_mask = mask)\n",
    "    # Sort according to DeFacto score and assign mask\n",
    "    df_curr = df_curr.sort_values(by='defacto_score', ascending=False).reset_index()\n",
    "    df_curr = df_curr.assign(defacto_mask = mask) \n",
    "    \n",
    "    final_df = final_df.append(df_curr)\n",
    "    print(' Done appending for country = ' + str(i))"
   ]
  },
  {
   "cell_type": "code",
   "execution_count": 12,
   "metadata": {
    "ExecuteTime": {
     "end_time": "2020-03-10T08:08:30.891104Z",
     "start_time": "2020-03-10T08:08:28.602608Z"
    }
   },
   "outputs": [
    {
     "data": {
      "text/html": [
       "<div>\n",
       "<style scoped>\n",
       "    .dataframe tbody tr th:only-of-type {\n",
       "        vertical-align: middle;\n",
       "    }\n",
       "\n",
       "    .dataframe tbody tr th {\n",
       "        vertical-align: top;\n",
       "    }\n",
       "\n",
       "    .dataframe thead th {\n",
       "        text-align: right;\n",
       "    }\n",
       "</style>\n",
       "<table border=\"1\" class=\"dataframe\">\n",
       "  <thead>\n",
       "    <tr style=\"text-align: right;\">\n",
       "      <th></th>\n",
       "      <th>index</th>\n",
       "      <th>sfid</th>\n",
       "      <th>scoringidentifier</th>\n",
       "      <th>defacto_score</th>\n",
       "      <th>orsay_score</th>\n",
       "      <th>account_country</th>\n",
       "      <th>member_country</th>\n",
       "      <th>orsay_mask</th>\n",
       "      <th>defacto_mask</th>\n",
       "    </tr>\n",
       "  </thead>\n",
       "  <tbody>\n",
       "    <tr>\n",
       "      <th>20000</th>\n",
       "      <td>11278</td>\n",
       "      <td>0035800000zpNyDAAU</td>\n",
       "      <td>Dress Special 2020</td>\n",
       "      <td>0.278214</td>\n",
       "      <td>0.260491</td>\n",
       "      <td>HU</td>\n",
       "      <td>HU</td>\n",
       "      <td>1.0</td>\n",
       "      <td>0.0</td>\n",
       "    </tr>\n",
       "    <tr>\n",
       "      <th>20001</th>\n",
       "      <td>15751</td>\n",
       "      <td>0035800000yrjf7AAA</td>\n",
       "      <td>Dress Special 2020</td>\n",
       "      <td>0.278207</td>\n",
       "      <td>0.230070</td>\n",
       "      <td>HU</td>\n",
       "      <td>HU</td>\n",
       "      <td>1.0</td>\n",
       "      <td>0.0</td>\n",
       "    </tr>\n",
       "    <tr>\n",
       "      <th>20002</th>\n",
       "      <td>13931</td>\n",
       "      <td>0031i000001rNmpAAE</td>\n",
       "      <td>Dress Special 2020</td>\n",
       "      <td>0.278191</td>\n",
       "      <td>0.241055</td>\n",
       "      <td>HU</td>\n",
       "      <td>HU</td>\n",
       "      <td>1.0</td>\n",
       "      <td>0.0</td>\n",
       "    </tr>\n",
       "    <tr>\n",
       "      <th>20005</th>\n",
       "      <td>6816</td>\n",
       "      <td>0035800001a3TehAAE</td>\n",
       "      <td>Dress Special 2020</td>\n",
       "      <td>0.278186</td>\n",
       "      <td>0.312624</td>\n",
       "      <td>HU</td>\n",
       "      <td>HU</td>\n",
       "      <td>1.0</td>\n",
       "      <td>0.0</td>\n",
       "    </tr>\n",
       "    <tr>\n",
       "      <th>20012</th>\n",
       "      <td>15587</td>\n",
       "      <td>0031i000004uHUPAA2</td>\n",
       "      <td>Dress Special 2020</td>\n",
       "      <td>0.278154</td>\n",
       "      <td>0.231287</td>\n",
       "      <td>HU</td>\n",
       "      <td>HU</td>\n",
       "      <td>1.0</td>\n",
       "      <td>0.0</td>\n",
       "    </tr>\n",
       "    <tr>\n",
       "      <th>...</th>\n",
       "      <td>...</td>\n",
       "      <td>...</td>\n",
       "      <td>...</td>\n",
       "      <td>...</td>\n",
       "      <td>...</td>\n",
       "      <td>...</td>\n",
       "      <td>...</td>\n",
       "      <td>...</td>\n",
       "      <td>...</td>\n",
       "    </tr>\n",
       "    <tr>\n",
       "      <th>392536</th>\n",
       "      <td>19923</td>\n",
       "      <td>0031i00000SrwyQAAR</td>\n",
       "      <td>NaN</td>\n",
       "      <td>NaN</td>\n",
       "      <td>0.208399</td>\n",
       "      <td>HU</td>\n",
       "      <td>HU</td>\n",
       "      <td>1.0</td>\n",
       "      <td>0.0</td>\n",
       "    </tr>\n",
       "    <tr>\n",
       "      <th>392537</th>\n",
       "      <td>19928</td>\n",
       "      <td>0031i00000RHWF8AAP</td>\n",
       "      <td>NaN</td>\n",
       "      <td>NaN</td>\n",
       "      <td>0.208386</td>\n",
       "      <td>HU</td>\n",
       "      <td>HU</td>\n",
       "      <td>1.0</td>\n",
       "      <td>0.0</td>\n",
       "    </tr>\n",
       "    <tr>\n",
       "      <th>392538</th>\n",
       "      <td>19935</td>\n",
       "      <td>0031i00000PbYKAAA3</td>\n",
       "      <td>NaN</td>\n",
       "      <td>NaN</td>\n",
       "      <td>0.208334</td>\n",
       "      <td>HU</td>\n",
       "      <td>HU</td>\n",
       "      <td>1.0</td>\n",
       "      <td>0.0</td>\n",
       "    </tr>\n",
       "    <tr>\n",
       "      <th>392539</th>\n",
       "      <td>19949</td>\n",
       "      <td>0031i00000SOR7tAAH</td>\n",
       "      <td>NaN</td>\n",
       "      <td>NaN</td>\n",
       "      <td>0.208300</td>\n",
       "      <td>HU</td>\n",
       "      <td>HU</td>\n",
       "      <td>1.0</td>\n",
       "      <td>0.0</td>\n",
       "    </tr>\n",
       "    <tr>\n",
       "      <th>392540</th>\n",
       "      <td>19992</td>\n",
       "      <td>0031i00000SQT3aAAH</td>\n",
       "      <td>NaN</td>\n",
       "      <td>NaN</td>\n",
       "      <td>0.208080</td>\n",
       "      <td>HU</td>\n",
       "      <td>HU</td>\n",
       "      <td>1.0</td>\n",
       "      <td>0.0</td>\n",
       "    </tr>\n",
       "  </tbody>\n",
       "</table>\n",
       "<p>7360 rows × 9 columns</p>\n",
       "</div>"
      ],
      "text/plain": [
       "        index                sfid   scoringidentifier  defacto_score  \\\n",
       "20000   11278  0035800000zpNyDAAU  Dress Special 2020       0.278214   \n",
       "20001   15751  0035800000yrjf7AAA  Dress Special 2020       0.278207   \n",
       "20002   13931  0031i000001rNmpAAE  Dress Special 2020       0.278191   \n",
       "20005    6816  0035800001a3TehAAE  Dress Special 2020       0.278186   \n",
       "20012   15587  0031i000004uHUPAA2  Dress Special 2020       0.278154   \n",
       "...       ...                 ...                 ...            ...   \n",
       "392536  19923  0031i00000SrwyQAAR                 NaN            NaN   \n",
       "392537  19928  0031i00000RHWF8AAP                 NaN            NaN   \n",
       "392538  19935  0031i00000PbYKAAA3                 NaN            NaN   \n",
       "392539  19949  0031i00000SOR7tAAH                 NaN            NaN   \n",
       "392540  19992  0031i00000SQT3aAAH                 NaN            NaN   \n",
       "\n",
       "        orsay_score account_country member_country  orsay_mask  defacto_mask  \n",
       "20000      0.260491              HU             HU         1.0           0.0  \n",
       "20001      0.230070              HU             HU         1.0           0.0  \n",
       "20002      0.241055              HU             HU         1.0           0.0  \n",
       "20005      0.312624              HU             HU         1.0           0.0  \n",
       "20012      0.231287              HU             HU         1.0           0.0  \n",
       "...             ...             ...            ...         ...           ...  \n",
       "392536     0.208399              HU             HU         1.0           0.0  \n",
       "392537     0.208386              HU             HU         1.0           0.0  \n",
       "392538     0.208334              HU             HU         1.0           0.0  \n",
       "392539     0.208300              HU             HU         1.0           0.0  \n",
       "392540     0.208080              HU             HU         1.0           0.0  \n",
       "\n",
       "[7360 rows x 9 columns]"
      ]
     },
     "execution_count": 12,
     "metadata": {},
     "output_type": "execute_result"
    }
   ],
   "source": [
    "(final_df.loc[(\n",
    "                (final_df.account_country == 'PL') \n",
    "               |(final_df.account_country == 'DE')\n",
    "               |(final_df.account_country == 'CZ')\n",
    "               |(final_df.account_country == 'HU')\n",
    "              )\n",
    "              & ((final_df.orsay_mask   == 1) \n",
    "              & ( final_df.defacto_mask == 0))]\n",
    ")#.dropna().tail(50)"
   ]
  },
  {
   "cell_type": "code",
   "execution_count": null,
   "metadata": {},
   "outputs": [],
   "source": []
  },
  {
   "cell_type": "code",
   "execution_count": null,
   "metadata": {},
   "outputs": [],
   "source": []
  },
  {
   "cell_type": "code",
   "execution_count": null,
   "metadata": {},
   "outputs": [],
   "source": []
  },
  {
   "cell_type": "code",
   "execution_count": null,
   "metadata": {},
   "outputs": [],
   "source": []
  },
  {
   "cell_type": "code",
   "execution_count": null,
   "metadata": {},
   "outputs": [],
   "source": []
  },
  {
   "cell_type": "code",
   "execution_count": 65,
   "metadata": {
    "ExecuteTime": {
     "end_time": "2020-03-09T09:31:27.928854Z",
     "start_time": "2020-03-09T09:31:19.905758Z"
    }
   },
   "outputs": [],
   "source": [
    "merged_dat = (merged_dat\n",
    "              .assign(source = merged_dat[['defacto_score', 'orsay_score']].idxmax(axis=1))\n",
    "              .assign(final_score = merged_dat[['defacto_score', 'orsay_score']].max(axis=1))\n",
    "              .assign(defacto_minus_orsay = lambda d: d.score - d.norm_purchase)\n",
    "                )"
   ]
  },
  {
   "cell_type": "code",
   "execution_count": 73,
   "metadata": {
    "ExecuteTime": {
     "end_time": "2020-03-09T09:36:07.534388Z",
     "start_time": "2020-03-09T09:36:07.206244Z"
    }
   },
   "outputs": [],
   "source": [
    "merged_dat = merged_dat[['sfid',\n",
    "                        'scoringidentifier', \n",
    "                        'final_score', \n",
    "                        'score',\n",
    "                        'norm_purchase',\n",
    "                        'source',            \n",
    "                        'defacto_minus_orsay']]"
   ]
  },
  {
   "cell_type": "code",
   "execution_count": 75,
   "metadata": {
    "ExecuteTime": {
     "end_time": "2020-03-09T09:37:00.456308Z",
     "start_time": "2020-03-09T09:36:59.771274Z"
    }
   },
   "outputs": [],
   "source": [
    "merged_dat = merged_dat.rename(columns={'score': 'defacto_score',\n",
    "                           'norm_purchase' : 'orsay_score',\n",
    "                           'final_score': 'score'})"
   ]
  },
  {
   "cell_type": "code",
   "execution_count": 76,
   "metadata": {
    "ExecuteTime": {
     "end_time": "2020-03-09T09:40:41.627023Z",
     "start_time": "2020-03-09T09:37:28.855109Z"
    }
   },
   "outputs": [],
   "source": [
    "merged_dat.to_csv('scores_for_export_09032020.csv')"
   ]
  },
  {
   "cell_type": "code",
   "execution_count": 77,
   "metadata": {
    "ExecuteTime": {
     "end_time": "2020-03-09T09:40:41.634927Z",
     "start_time": "2020-03-09T09:40:41.628923Z"
    }
   },
   "outputs": [
    {
     "data": {
      "text/plain": [
       "'U:\\\\Projects\\\\datasets\\\\customer_history\\\\selection_March_2020'"
      ]
     },
     "execution_count": 77,
     "metadata": {},
     "output_type": "execute_result"
    }
   ],
   "source": [
    "pwd"
   ]
  },
  {
   "cell_type": "code",
   "execution_count": 78,
   "metadata": {
    "ExecuteTime": {
     "end_time": "2020-03-09T09:41:26.133543Z",
     "start_time": "2020-03-09T09:41:26.119541Z"
    }
   },
   "outputs": [
    {
     "data": {
      "text/html": [
       "<div>\n",
       "<style scoped>\n",
       "    .dataframe tbody tr th:only-of-type {\n",
       "        vertical-align: middle;\n",
       "    }\n",
       "\n",
       "    .dataframe tbody tr th {\n",
       "        vertical-align: top;\n",
       "    }\n",
       "\n",
       "    .dataframe thead th {\n",
       "        text-align: right;\n",
       "    }\n",
       "</style>\n",
       "<table border=\"1\" class=\"dataframe\">\n",
       "  <thead>\n",
       "    <tr style=\"text-align: right;\">\n",
       "      <th></th>\n",
       "      <th>sfid</th>\n",
       "      <th>scoringidentifier</th>\n",
       "      <th>score</th>\n",
       "      <th>defacto_score</th>\n",
       "      <th>orsay_score</th>\n",
       "      <th>source</th>\n",
       "      <th>defacto_minus_orsay</th>\n",
       "    </tr>\n",
       "  </thead>\n",
       "  <tbody>\n",
       "    <tr>\n",
       "      <th>0</th>\n",
       "      <td>0035800000Ge5oAAAR</td>\n",
       "      <td>Dress Special 2020</td>\n",
       "      <td>0.225776</td>\n",
       "      <td>0.225776</td>\n",
       "      <td>0.142543</td>\n",
       "      <td>score</td>\n",
       "      <td>0.083233</td>\n",
       "    </tr>\n",
       "    <tr>\n",
       "      <th>1</th>\n",
       "      <td>0031i00000PZQvUAAX</td>\n",
       "      <td>Dress Special 2020</td>\n",
       "      <td>0.073314</td>\n",
       "      <td>0.073314</td>\n",
       "      <td>NaN</td>\n",
       "      <td>score</td>\n",
       "      <td>NaN</td>\n",
       "    </tr>\n",
       "    <tr>\n",
       "      <th>2</th>\n",
       "      <td>0031i00000Pa5dJAAR</td>\n",
       "      <td>Dress Special 2020</td>\n",
       "      <td>0.096238</td>\n",
       "      <td>0.096238</td>\n",
       "      <td>NaN</td>\n",
       "      <td>score</td>\n",
       "      <td>NaN</td>\n",
       "    </tr>\n",
       "    <tr>\n",
       "      <th>3</th>\n",
       "      <td>0031i00000PalQMAAZ</td>\n",
       "      <td>Dress Special 2020</td>\n",
       "      <td>0.060715</td>\n",
       "      <td>0.060715</td>\n",
       "      <td>NaN</td>\n",
       "      <td>score</td>\n",
       "      <td>NaN</td>\n",
       "    </tr>\n",
       "    <tr>\n",
       "      <th>4</th>\n",
       "      <td>0031i00000PbKcAAAV</td>\n",
       "      <td>Dress Special 2020</td>\n",
       "      <td>0.031991</td>\n",
       "      <td>0.031991</td>\n",
       "      <td>NaN</td>\n",
       "      <td>score</td>\n",
       "      <td>NaN</td>\n",
       "    </tr>\n",
       "    <tr>\n",
       "      <th>...</th>\n",
       "      <td>...</td>\n",
       "      <td>...</td>\n",
       "      <td>...</td>\n",
       "      <td>...</td>\n",
       "      <td>...</td>\n",
       "      <td>...</td>\n",
       "      <td>...</td>\n",
       "    </tr>\n",
       "    <tr>\n",
       "      <th>8229616</th>\n",
       "      <td>0031i00000Otu6RAAR</td>\n",
       "      <td>Dress Special 2020</td>\n",
       "      <td>0.249112</td>\n",
       "      <td>0.249112</td>\n",
       "      <td>0.179634</td>\n",
       "      <td>score</td>\n",
       "      <td>0.069478</td>\n",
       "    </tr>\n",
       "    <tr>\n",
       "      <th>8229617</th>\n",
       "      <td>0035800001gxZuBAAU</td>\n",
       "      <td>Dress Special 2020</td>\n",
       "      <td>0.021028</td>\n",
       "      <td>0.021028</td>\n",
       "      <td>0.015498</td>\n",
       "      <td>score</td>\n",
       "      <td>0.005530</td>\n",
       "    </tr>\n",
       "    <tr>\n",
       "      <th>8229618</th>\n",
       "      <td>0035800000xyNHDAA2</td>\n",
       "      <td>Dress Special 2020</td>\n",
       "      <td>0.145093</td>\n",
       "      <td>0.145093</td>\n",
       "      <td>0.074491</td>\n",
       "      <td>score</td>\n",
       "      <td>0.070602</td>\n",
       "    </tr>\n",
       "    <tr>\n",
       "      <th>8229619</th>\n",
       "      <td>0035800000yNWFDAA4</td>\n",
       "      <td>Dress Special 2020</td>\n",
       "      <td>0.622626</td>\n",
       "      <td>0.622626</td>\n",
       "      <td>0.228822</td>\n",
       "      <td>score</td>\n",
       "      <td>0.393804</td>\n",
       "    </tr>\n",
       "    <tr>\n",
       "      <th>8229620</th>\n",
       "      <td>0031i00000HhVN8AAN</td>\n",
       "      <td>Dress Special 2020</td>\n",
       "      <td>0.099170</td>\n",
       "      <td>0.087076</td>\n",
       "      <td>0.099170</td>\n",
       "      <td>norm_purchase</td>\n",
       "      <td>-0.012094</td>\n",
       "    </tr>\n",
       "  </tbody>\n",
       "</table>\n",
       "<p>8229621 rows × 7 columns</p>\n",
       "</div>"
      ],
      "text/plain": [
       "                       sfid   scoringidentifier     score  defacto_score  \\\n",
       "0        0035800000Ge5oAAAR  Dress Special 2020  0.225776       0.225776   \n",
       "1        0031i00000PZQvUAAX  Dress Special 2020  0.073314       0.073314   \n",
       "2        0031i00000Pa5dJAAR  Dress Special 2020  0.096238       0.096238   \n",
       "3        0031i00000PalQMAAZ  Dress Special 2020  0.060715       0.060715   \n",
       "4        0031i00000PbKcAAAV  Dress Special 2020  0.031991       0.031991   \n",
       "...                     ...                 ...       ...            ...   \n",
       "8229616  0031i00000Otu6RAAR  Dress Special 2020  0.249112       0.249112   \n",
       "8229617  0035800001gxZuBAAU  Dress Special 2020  0.021028       0.021028   \n",
       "8229618  0035800000xyNHDAA2  Dress Special 2020  0.145093       0.145093   \n",
       "8229619  0035800000yNWFDAA4  Dress Special 2020  0.622626       0.622626   \n",
       "8229620  0031i00000HhVN8AAN  Dress Special 2020  0.099170       0.087076   \n",
       "\n",
       "         orsay_score         source  defacto_minus_orsay  \n",
       "0           0.142543          score             0.083233  \n",
       "1                NaN          score                  NaN  \n",
       "2                NaN          score                  NaN  \n",
       "3                NaN          score                  NaN  \n",
       "4                NaN          score                  NaN  \n",
       "...              ...            ...                  ...  \n",
       "8229616     0.179634          score             0.069478  \n",
       "8229617     0.015498          score             0.005530  \n",
       "8229618     0.074491          score             0.070602  \n",
       "8229619     0.228822          score             0.393804  \n",
       "8229620     0.099170  norm_purchase            -0.012094  \n",
       "\n",
       "[8229621 rows x 7 columns]"
      ]
     },
     "execution_count": 78,
     "metadata": {},
     "output_type": "execute_result"
    }
   ],
   "source": [
    "merged_dat"
   ]
  }
 ],
 "metadata": {
  "kernelspec": {
   "display_name": "Python 3",
   "language": "python",
   "name": "python3"
  },
  "language_info": {
   "codemirror_mode": {
    "name": "ipython",
    "version": 3
   },
   "file_extension": ".py",
   "mimetype": "text/x-python",
   "name": "python",
   "nbconvert_exporter": "python",
   "pygments_lexer": "ipython3",
   "version": "3.7.5"
  }
 },
 "nbformat": 4,
 "nbformat_minor": 2
}
