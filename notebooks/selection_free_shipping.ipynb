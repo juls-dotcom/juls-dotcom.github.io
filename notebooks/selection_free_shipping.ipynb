{
 "cells": [
  {
   "cell_type": "code",
   "execution_count": 1,
   "metadata": {
    "ExecuteTime": {
     "end_time": "2020-02-07T09:06:41.598886Z",
     "start_time": "2020-02-07T09:06:38.250149Z"
    }
   },
   "outputs": [],
   "source": [
    "import os\n",
    "import pandas as pd"
   ]
  },
  {
   "cell_type": "markdown",
   "metadata": {},
   "source": [
    "### Get NL Score data"
   ]
  },
  {
   "cell_type": "code",
   "execution_count": 2,
   "metadata": {
    "ExecuteTime": {
     "end_time": "2020-02-07T09:06:41.614503Z",
     "start_time": "2020-02-07T09:06:41.598886Z"
    }
   },
   "outputs": [],
   "source": [
    "path = 'U:\\\\Projects\\\\datasets\\\\mails\\\\mc'\n",
    "os.chdir(path)"
   ]
  },
  {
   "cell_type": "code",
   "execution_count": 4,
   "metadata": {
    "ExecuteTime": {
     "end_time": "2020-02-07T09:08:16.743516Z",
     "start_time": "2020-02-07T09:07:38.276734Z"
    }
   },
   "outputs": [],
   "source": [
    "# df_1 = pd.read_csv('GetDatSegment20200127.csv',\n",
    "#                  sep = ';',\n",
    "#                  encoding='utf-16'\n",
    "#                 )\n",
    "\n",
    "df_segment = pd.read_csv('Export_ClientInfo20200131.csv',\n",
    "                 sep = ';',\n",
    "                 encoding='utf-16'\n",
    "                )"
   ]
  },
  {
   "cell_type": "code",
   "execution_count": 7,
   "metadata": {
    "ExecuteTime": {
     "end_time": "2020-02-07T09:09:57.276027Z",
     "start_time": "2020-02-07T09:09:57.164975Z"
    }
   },
   "outputs": [],
   "source": [
    "# There is one wrong entry in the data\n",
    "df_segment.loc[1909820,'Email_Confirmation_Date'] = pd.Timestamp('2013-08-01 18:00:00')"
   ]
  },
  {
   "cell_type": "code",
   "execution_count": 51,
   "metadata": {
    "ExecuteTime": {
     "end_time": "2020-02-03T15:10:56.933744Z",
     "start_time": "2020-02-03T15:10:53.011430Z"
    }
   },
   "outputs": [
    {
     "data": {
      "text/html": [
       "<div>\n",
       "<style scoped>\n",
       "    .dataframe tbody tr th:only-of-type {\n",
       "        vertical-align: middle;\n",
       "    }\n",
       "\n",
       "    .dataframe tbody tr th {\n",
       "        vertical-align: top;\n",
       "    }\n",
       "\n",
       "    .dataframe thead th {\n",
       "        text-align: right;\n",
       "    }\n",
       "</style>\n",
       "<table border=\"1\" class=\"dataframe\">\n",
       "  <thead>\n",
       "    <tr style=\"text-align: right;\">\n",
       "      <th></th>\n",
       "      <th>SubscriberKey</th>\n",
       "      <th>Country</th>\n",
       "      <th>Language</th>\n",
       "      <th>LastOpenDate</th>\n",
       "      <th>FirstName</th>\n",
       "      <th>Salutation</th>\n",
       "      <th>EmailOptInStatus</th>\n",
       "      <th>PreferredStore</th>\n",
       "      <th>CardID</th>\n",
       "      <th>Birthdate</th>\n",
       "      <th>...</th>\n",
       "      <th>ScoreGroup</th>\n",
       "      <th>GSBTN</th>\n",
       "      <th>Age</th>\n",
       "      <th>AppCustomer</th>\n",
       "      <th>PrefPhysOpen</th>\n",
       "      <th>NextPhysOpen</th>\n",
       "      <th>Welcome</th>\n",
       "      <th>Push</th>\n",
       "      <th>non_profitable</th>\n",
       "      <th>test</th>\n",
       "    </tr>\n",
       "  </thead>\n",
       "  <tbody>\n",
       "    <tr>\n",
       "      <th>0</th>\n",
       "      <td>0031i000001ra07AAA</td>\n",
       "      <td>RO</td>\n",
       "      <td>NaN</td>\n",
       "      <td>2020-01-10 05:22:03</td>\n",
       "      <td>NaN</td>\n",
       "      <td>NaN</td>\n",
       "      <td>a</td>\n",
       "      <td>NaN</td>\n",
       "      <td>NaN</td>\n",
       "      <td>NaN</td>\n",
       "      <td>...</td>\n",
       "      <td>Activate</td>\n",
       "      <td>NaN</td>\n",
       "      <td>NaN</td>\n",
       "      <td>NaN</td>\n",
       "      <td>NaN</td>\n",
       "      <td>NaN</td>\n",
       "      <td>NaN</td>\n",
       "      <td>NaN</td>\n",
       "      <td>False</td>\n",
       "      <td>2018-09-24</td>\n",
       "    </tr>\n",
       "    <tr>\n",
       "      <th>1</th>\n",
       "      <td>0031i000001ra60AAA</td>\n",
       "      <td>HU</td>\n",
       "      <td>NaN</td>\n",
       "      <td>2020-01-01 01:58:40</td>\n",
       "      <td>NaN</td>\n",
       "      <td>NaN</td>\n",
       "      <td>a</td>\n",
       "      <td>NaN</td>\n",
       "      <td>NaN</td>\n",
       "      <td>NaN</td>\n",
       "      <td>...</td>\n",
       "      <td>Activate</td>\n",
       "      <td>NaN</td>\n",
       "      <td>NaN</td>\n",
       "      <td>NaN</td>\n",
       "      <td>NaN</td>\n",
       "      <td>NaN</td>\n",
       "      <td>NaN</td>\n",
       "      <td>NaN</td>\n",
       "      <td>False</td>\n",
       "      <td>2018-10-09</td>\n",
       "    </tr>\n",
       "    <tr>\n",
       "      <th>2</th>\n",
       "      <td>0031i000001ra81AAA</td>\n",
       "      <td>DE</td>\n",
       "      <td>de</td>\n",
       "      <td>2020-01-23 00:06:44</td>\n",
       "      <td>Evgenia</td>\n",
       "      <td>Mrs.</td>\n",
       "      <td>a</td>\n",
       "      <td>NaN</td>\n",
       "      <td>2.103731e+09</td>\n",
       "      <td>1985-03-11 00:00:00</td>\n",
       "      <td>...</td>\n",
       "      <td>Regain</td>\n",
       "      <td>NaN</td>\n",
       "      <td>34.0</td>\n",
       "      <td>NaN</td>\n",
       "      <td>NaN</td>\n",
       "      <td>NaN</td>\n",
       "      <td>NaN</td>\n",
       "      <td>NaN</td>\n",
       "      <td>True</td>\n",
       "      <td>2019-10-06</td>\n",
       "    </tr>\n",
       "    <tr>\n",
       "      <th>3</th>\n",
       "      <td>0031i000001ra8PAAQ</td>\n",
       "      <td>DE</td>\n",
       "      <td>NaN</td>\n",
       "      <td>2019-09-09 13:31:13</td>\n",
       "      <td>NaN</td>\n",
       "      <td>NaN</td>\n",
       "      <td>a</td>\n",
       "      <td>NaN</td>\n",
       "      <td>NaN</td>\n",
       "      <td>NaN</td>\n",
       "      <td>...</td>\n",
       "      <td>Activate</td>\n",
       "      <td>NaN</td>\n",
       "      <td>NaN</td>\n",
       "      <td>NaN</td>\n",
       "      <td>NaN</td>\n",
       "      <td>NaN</td>\n",
       "      <td>NaN</td>\n",
       "      <td>NaN</td>\n",
       "      <td>False</td>\n",
       "      <td>2018-09-18</td>\n",
       "    </tr>\n",
       "    <tr>\n",
       "      <th>4</th>\n",
       "      <td>0031i000001raazAAA</td>\n",
       "      <td>DE</td>\n",
       "      <td>NaN</td>\n",
       "      <td>2020-01-25 01:41:10</td>\n",
       "      <td>Karin</td>\n",
       "      <td>Frau</td>\n",
       "      <td>a</td>\n",
       "      <td>NaN</td>\n",
       "      <td>NaN</td>\n",
       "      <td>NaN</td>\n",
       "      <td>...</td>\n",
       "      <td>Base</td>\n",
       "      <td>NaN</td>\n",
       "      <td>NaN</td>\n",
       "      <td>NaN</td>\n",
       "      <td>NaN</td>\n",
       "      <td>NaN</td>\n",
       "      <td>NaN</td>\n",
       "      <td>NaN</td>\n",
       "      <td>False</td>\n",
       "      <td>2018-09-19</td>\n",
       "    </tr>\n",
       "    <tr>\n",
       "      <th>...</th>\n",
       "      <td>...</td>\n",
       "      <td>...</td>\n",
       "      <td>...</td>\n",
       "      <td>...</td>\n",
       "      <td>...</td>\n",
       "      <td>...</td>\n",
       "      <td>...</td>\n",
       "      <td>...</td>\n",
       "      <td>...</td>\n",
       "      <td>...</td>\n",
       "      <td>...</td>\n",
       "      <td>...</td>\n",
       "      <td>...</td>\n",
       "      <td>...</td>\n",
       "      <td>...</td>\n",
       "      <td>...</td>\n",
       "      <td>...</td>\n",
       "      <td>...</td>\n",
       "      <td>...</td>\n",
       "      <td>...</td>\n",
       "      <td>...</td>\n",
       "    </tr>\n",
       "    <tr>\n",
       "      <th>2853796</th>\n",
       "      <td>0035800001Z0ZRRAA3</td>\n",
       "      <td>DE</td>\n",
       "      <td>de</td>\n",
       "      <td>2019-09-28 07:39:35</td>\n",
       "      <td>sarah</td>\n",
       "      <td>Mrs.</td>\n",
       "      <td>a</td>\n",
       "      <td>NaN</td>\n",
       "      <td>2.132816e+09</td>\n",
       "      <td>1995-05-09 00:00:00</td>\n",
       "      <td>...</td>\n",
       "      <td>Activate</td>\n",
       "      <td>NaN</td>\n",
       "      <td>24.0</td>\n",
       "      <td>NaN</td>\n",
       "      <td>NaN</td>\n",
       "      <td>NaN</td>\n",
       "      <td>NaN</td>\n",
       "      <td>NaN</td>\n",
       "      <td>False</td>\n",
       "      <td>2018-06-28</td>\n",
       "    </tr>\n",
       "    <tr>\n",
       "      <th>2853797</th>\n",
       "      <td>0035800001Z0ZRrAAN</td>\n",
       "      <td>PL</td>\n",
       "      <td>pl</td>\n",
       "      <td>2019-04-23 04:19:30</td>\n",
       "      <td>AGNIESZKA</td>\n",
       "      <td>Mrs.</td>\n",
       "      <td>a</td>\n",
       "      <td>NaN</td>\n",
       "      <td>5.048216e+09</td>\n",
       "      <td>1994-12-13 00:00:00</td>\n",
       "      <td>...</td>\n",
       "      <td>Regain</td>\n",
       "      <td>NaN</td>\n",
       "      <td>24.0</td>\n",
       "      <td>NaN</td>\n",
       "      <td>NaN</td>\n",
       "      <td>NaN</td>\n",
       "      <td>NaN</td>\n",
       "      <td>NaN</td>\n",
       "      <td>False</td>\n",
       "      <td>2018-06-28</td>\n",
       "    </tr>\n",
       "    <tr>\n",
       "      <th>2853798</th>\n",
       "      <td>0035800001Z0ZRUAA3</td>\n",
       "      <td>CZ</td>\n",
       "      <td>cs</td>\n",
       "      <td>2019-07-07 07:44:06</td>\n",
       "      <td>Petra</td>\n",
       "      <td>Mrs.</td>\n",
       "      <td>a</td>\n",
       "      <td>NaN</td>\n",
       "      <td>4.014569e+09</td>\n",
       "      <td>1999-03-15 00:00:00</td>\n",
       "      <td>...</td>\n",
       "      <td>Activate</td>\n",
       "      <td>NaN</td>\n",
       "      <td>20.0</td>\n",
       "      <td>NaN</td>\n",
       "      <td>NaN</td>\n",
       "      <td>NaN</td>\n",
       "      <td>NaN</td>\n",
       "      <td>NaN</td>\n",
       "      <td>False</td>\n",
       "      <td>2018-06-28</td>\n",
       "    </tr>\n",
       "    <tr>\n",
       "      <th>2853799</th>\n",
       "      <td>0035800001Z0ZRXAA3</td>\n",
       "      <td>AT</td>\n",
       "      <td>de</td>\n",
       "      <td>2019-12-17 01:51:57</td>\n",
       "      <td>Lisa</td>\n",
       "      <td>Mrs.</td>\n",
       "      <td>a</td>\n",
       "      <td>NaN</td>\n",
       "      <td>2.245274e+09</td>\n",
       "      <td>1992-11-08 00:00:00</td>\n",
       "      <td>...</td>\n",
       "      <td>Activate</td>\n",
       "      <td>NaN</td>\n",
       "      <td>27.0</td>\n",
       "      <td>NaN</td>\n",
       "      <td>NaN</td>\n",
       "      <td>NaN</td>\n",
       "      <td>NaN</td>\n",
       "      <td>NaN</td>\n",
       "      <td>False</td>\n",
       "      <td>2018-06-28</td>\n",
       "    </tr>\n",
       "    <tr>\n",
       "      <th>2853800</th>\n",
       "      <td>0035800001Z0ZT0AAN</td>\n",
       "      <td>DE</td>\n",
       "      <td>de</td>\n",
       "      <td>2020-01-16 05:36:34</td>\n",
       "      <td>Bärbel</td>\n",
       "      <td>Mrs.</td>\n",
       "      <td>a</td>\n",
       "      <td>NaN</td>\n",
       "      <td>2.133428e+09</td>\n",
       "      <td>1959-01-29 00:00:00</td>\n",
       "      <td>...</td>\n",
       "      <td>Base</td>\n",
       "      <td>NaN</td>\n",
       "      <td>60.0</td>\n",
       "      <td>NaN</td>\n",
       "      <td>NaN</td>\n",
       "      <td>NaN</td>\n",
       "      <td>NaN</td>\n",
       "      <td>NaN</td>\n",
       "      <td>False</td>\n",
       "      <td>2018-06-28</td>\n",
       "    </tr>\n",
       "  </tbody>\n",
       "</table>\n",
       "<p>2853801 rows × 52 columns</p>\n",
       "</div>"
      ],
      "text/plain": [
       "              SubscriberKey Country Language         LastOpenDate  FirstName  \\\n",
       "0        0031i000001ra07AAA      RO      NaN  2020-01-10 05:22:03        NaN   \n",
       "1        0031i000001ra60AAA      HU      NaN  2020-01-01 01:58:40        NaN   \n",
       "2        0031i000001ra81AAA      DE       de  2020-01-23 00:06:44    Evgenia   \n",
       "3        0031i000001ra8PAAQ      DE      NaN  2019-09-09 13:31:13        NaN   \n",
       "4        0031i000001raazAAA      DE      NaN  2020-01-25 01:41:10      Karin   \n",
       "...                     ...     ...      ...                  ...        ...   \n",
       "2853796  0035800001Z0ZRRAA3      DE       de  2019-09-28 07:39:35      sarah   \n",
       "2853797  0035800001Z0ZRrAAN      PL       pl  2019-04-23 04:19:30  AGNIESZKA   \n",
       "2853798  0035800001Z0ZRUAA3      CZ       cs  2019-07-07 07:44:06      Petra   \n",
       "2853799  0035800001Z0ZRXAA3      AT       de  2019-12-17 01:51:57       Lisa   \n",
       "2853800  0035800001Z0ZT0AAN      DE       de  2020-01-16 05:36:34     Bärbel   \n",
       "\n",
       "        Salutation EmailOptInStatus  PreferredStore        CardID  \\\n",
       "0              NaN                a             NaN           NaN   \n",
       "1              NaN                a             NaN           NaN   \n",
       "2             Mrs.                a             NaN  2.103731e+09   \n",
       "3              NaN                a             NaN           NaN   \n",
       "4             Frau                a             NaN           NaN   \n",
       "...            ...              ...             ...           ...   \n",
       "2853796       Mrs.                a             NaN  2.132816e+09   \n",
       "2853797       Mrs.                a             NaN  5.048216e+09   \n",
       "2853798       Mrs.                a             NaN  4.014569e+09   \n",
       "2853799       Mrs.                a             NaN  2.245274e+09   \n",
       "2853800       Mrs.                a             NaN  2.133428e+09   \n",
       "\n",
       "                   Birthdate  ...  ScoreGroup GSBTN   Age AppCustomer  \\\n",
       "0                        NaN  ...    Activate   NaN   NaN         NaN   \n",
       "1                        NaN  ...    Activate   NaN   NaN         NaN   \n",
       "2        1985-03-11 00:00:00  ...      Regain   NaN  34.0         NaN   \n",
       "3                        NaN  ...    Activate   NaN   NaN         NaN   \n",
       "4                        NaN  ...        Base   NaN   NaN         NaN   \n",
       "...                      ...  ...         ...   ...   ...         ...   \n",
       "2853796  1995-05-09 00:00:00  ...    Activate   NaN  24.0         NaN   \n",
       "2853797  1994-12-13 00:00:00  ...      Regain   NaN  24.0         NaN   \n",
       "2853798  1999-03-15 00:00:00  ...    Activate   NaN  20.0         NaN   \n",
       "2853799  1992-11-08 00:00:00  ...    Activate   NaN  27.0         NaN   \n",
       "2853800  1959-01-29 00:00:00  ...        Base   NaN  60.0         NaN   \n",
       "\n",
       "         PrefPhysOpen NextPhysOpen Welcome  Push non_profitable        test  \n",
       "0                 NaN          NaN     NaN   NaN          False  2018-09-24  \n",
       "1                 NaN          NaN     NaN   NaN          False  2018-10-09  \n",
       "2                 NaN          NaN     NaN   NaN           True  2019-10-06  \n",
       "3                 NaN          NaN     NaN   NaN          False  2018-09-18  \n",
       "4                 NaN          NaN     NaN   NaN          False  2018-09-19  \n",
       "...               ...          ...     ...   ...            ...         ...  \n",
       "2853796           NaN          NaN     NaN   NaN          False  2018-06-28  \n",
       "2853797           NaN          NaN     NaN   NaN          False  2018-06-28  \n",
       "2853798           NaN          NaN     NaN   NaN          False  2018-06-28  \n",
       "2853799           NaN          NaN     NaN   NaN          False  2018-06-28  \n",
       "2853800           NaN          NaN     NaN   NaN          False  2018-06-28  \n",
       "\n",
       "[2853801 rows x 52 columns]"
      ]
     },
     "execution_count": 51,
     "metadata": {},
     "output_type": "execute_result"
    }
   ],
   "source": [
    "df_segment = df_segment.assign(test = lambda d: pd.to_datetime(d['Email_Confirmation_Date']).dt.date)"
   ]
  },
  {
   "cell_type": "markdown",
   "metadata": {},
   "source": [
    "### Get Transaction Score data"
   ]
  },
  {
   "cell_type": "code",
   "execution_count": 9,
   "metadata": {
    "ExecuteTime": {
     "end_time": "2020-01-31T09:04:30.424389Z",
     "start_time": "2020-01-31T09:04:30.408941Z"
    }
   },
   "outputs": [],
   "source": [
    "path = 'U:\\\\Projects\\\\datasets\\\\customer_history\\\\scores_28_01_2020'\n",
    "os.chdir(path)"
   ]
  },
  {
   "cell_type": "code",
   "execution_count": 10,
   "metadata": {
    "ExecuteTime": {
     "end_time": "2020-01-31T09:04:33.646822Z",
     "start_time": "2020-01-31T09:04:30.553197Z"
    }
   },
   "outputs": [],
   "source": [
    "df_score = pd.read_csv('scores_DE_01012018_01012020.csv',\n",
    "                 sep = ',',\n",
    "                 #encoding='utf-16'\n",
    "                )"
   ]
  },
  {
   "cell_type": "code",
   "execution_count": 11,
   "metadata": {
    "ExecuteTime": {
     "end_time": "2020-01-31T09:04:33.678090Z",
     "start_time": "2020-01-31T09:04:33.646822Z"
    }
   },
   "outputs": [
    {
     "data": {
      "text/html": [
       "<div>\n",
       "<style scoped>\n",
       "    .dataframe tbody tr th:only-of-type {\n",
       "        vertical-align: middle;\n",
       "    }\n",
       "\n",
       "    .dataframe tbody tr th {\n",
       "        vertical-align: top;\n",
       "    }\n",
       "\n",
       "    .dataframe thead th {\n",
       "        text-align: right;\n",
       "    }\n",
       "</style>\n",
       "<table border=\"1\" class=\"dataframe\">\n",
       "  <thead>\n",
       "    <tr style=\"text-align: right;\">\n",
       "      <th></th>\n",
       "      <th>SFID</th>\n",
       "      <th>frequency</th>\n",
       "      <th>recency</th>\n",
       "      <th>T</th>\n",
       "      <th>monetary_value</th>\n",
       "      <th>pred_purch_coming_week=4</th>\n",
       "    </tr>\n",
       "  </thead>\n",
       "  <tbody>\n",
       "    <tr>\n",
       "      <th>0</th>\n",
       "      <td>0035800001HcHRSAA3</td>\n",
       "      <td>80.0</td>\n",
       "      <td>104.0</td>\n",
       "      <td>104.0</td>\n",
       "      <td>46.371750</td>\n",
       "      <td>2.714102e+00</td>\n",
       "    </tr>\n",
       "    <tr>\n",
       "      <th>1</th>\n",
       "      <td>0035800001WEgIjAAL</td>\n",
       "      <td>74.0</td>\n",
       "      <td>93.0</td>\n",
       "      <td>95.0</td>\n",
       "      <td>123.655270</td>\n",
       "      <td>2.682960e+00</td>\n",
       "    </tr>\n",
       "    <tr>\n",
       "      <th>2</th>\n",
       "      <td>0035800001YT3UBAA1</td>\n",
       "      <td>60.0</td>\n",
       "      <td>78.0</td>\n",
       "      <td>80.0</td>\n",
       "      <td>290.201500</td>\n",
       "      <td>2.519411e+00</td>\n",
       "    </tr>\n",
       "    <tr>\n",
       "      <th>3</th>\n",
       "      <td>0031i00000OsCmVAAV</td>\n",
       "      <td>49.0</td>\n",
       "      <td>72.0</td>\n",
       "      <td>72.0</td>\n",
       "      <td>42.351429</td>\n",
       "      <td>2.281784e+00</td>\n",
       "    </tr>\n",
       "    <tr>\n",
       "      <th>4</th>\n",
       "      <td>0035800001de9t4AAA</td>\n",
       "      <td>51.0</td>\n",
       "      <td>77.0</td>\n",
       "      <td>77.0</td>\n",
       "      <td>53.605882</td>\n",
       "      <td>2.244270e+00</td>\n",
       "    </tr>\n",
       "    <tr>\n",
       "      <th>...</th>\n",
       "      <td>...</td>\n",
       "      <td>...</td>\n",
       "      <td>...</td>\n",
       "      <td>...</td>\n",
       "      <td>...</td>\n",
       "      <td>...</td>\n",
       "    </tr>\n",
       "    <tr>\n",
       "      <th>1095119</th>\n",
       "      <td>0035800001TX2biAAD</td>\n",
       "      <td>30.0</td>\n",
       "      <td>39.0</td>\n",
       "      <td>86.0</td>\n",
       "      <td>98.836333</td>\n",
       "      <td>4.010110e-07</td>\n",
       "    </tr>\n",
       "    <tr>\n",
       "      <th>1095120</th>\n",
       "      <td>0035800001PSSP2AAP</td>\n",
       "      <td>12.0</td>\n",
       "      <td>12.0</td>\n",
       "      <td>92.0</td>\n",
       "      <td>13.034167</td>\n",
       "      <td>3.984637e-07</td>\n",
       "    </tr>\n",
       "    <tr>\n",
       "      <th>1095121</th>\n",
       "      <td>0035800001LL4bmAAD</td>\n",
       "      <td>14.0</td>\n",
       "      <td>18.0</td>\n",
       "      <td>98.0</td>\n",
       "      <td>149.087857</td>\n",
       "      <td>2.814344e-07</td>\n",
       "    </tr>\n",
       "    <tr>\n",
       "      <th>1095122</th>\n",
       "      <td>0035800001OoJZoAAN</td>\n",
       "      <td>13.0</td>\n",
       "      <td>13.0</td>\n",
       "      <td>93.0</td>\n",
       "      <td>21.898462</td>\n",
       "      <td>1.639623e-07</td>\n",
       "    </tr>\n",
       "    <tr>\n",
       "      <th>1095123</th>\n",
       "      <td>0035800001IutYkAAJ</td>\n",
       "      <td>21.0</td>\n",
       "      <td>31.0</td>\n",
       "      <td>102.0</td>\n",
       "      <td>75.977619</td>\n",
       "      <td>6.544350e-08</td>\n",
       "    </tr>\n",
       "  </tbody>\n",
       "</table>\n",
       "<p>1095124 rows × 6 columns</p>\n",
       "</div>"
      ],
      "text/plain": [
       "                       SFID  frequency  recency      T  monetary_value  \\\n",
       "0        0035800001HcHRSAA3       80.0    104.0  104.0       46.371750   \n",
       "1        0035800001WEgIjAAL       74.0     93.0   95.0      123.655270   \n",
       "2        0035800001YT3UBAA1       60.0     78.0   80.0      290.201500   \n",
       "3        0031i00000OsCmVAAV       49.0     72.0   72.0       42.351429   \n",
       "4        0035800001de9t4AAA       51.0     77.0   77.0       53.605882   \n",
       "...                     ...        ...      ...    ...             ...   \n",
       "1095119  0035800001TX2biAAD       30.0     39.0   86.0       98.836333   \n",
       "1095120  0035800001PSSP2AAP       12.0     12.0   92.0       13.034167   \n",
       "1095121  0035800001LL4bmAAD       14.0     18.0   98.0      149.087857   \n",
       "1095122  0035800001OoJZoAAN       13.0     13.0   93.0       21.898462   \n",
       "1095123  0035800001IutYkAAJ       21.0     31.0  102.0       75.977619   \n",
       "\n",
       "         pred_purch_coming_week=4  \n",
       "0                    2.714102e+00  \n",
       "1                    2.682960e+00  \n",
       "2                    2.519411e+00  \n",
       "3                    2.281784e+00  \n",
       "4                    2.244270e+00  \n",
       "...                           ...  \n",
       "1095119              4.010110e-07  \n",
       "1095120              3.984637e-07  \n",
       "1095121              2.814344e-07  \n",
       "1095122              1.639623e-07  \n",
       "1095123              6.544350e-08  \n",
       "\n",
       "[1095124 rows x 6 columns]"
      ]
     },
     "execution_count": 11,
     "metadata": {},
     "output_type": "execute_result"
    }
   ],
   "source": [
    "df_score"
   ]
  },
  {
   "cell_type": "code",
   "execution_count": 7,
   "metadata": {
    "ExecuteTime": {
     "end_time": "2020-01-29T08:29:31.666850Z",
     "start_time": "2020-01-29T08:29:31.635594Z"
    }
   },
   "outputs": [
    {
     "data": {
      "text/html": [
       "<div>\n",
       "<style scoped>\n",
       "    .dataframe tbody tr th:only-of-type {\n",
       "        vertical-align: middle;\n",
       "    }\n",
       "\n",
       "    .dataframe tbody tr th {\n",
       "        vertical-align: top;\n",
       "    }\n",
       "\n",
       "    .dataframe thead th {\n",
       "        text-align: right;\n",
       "    }\n",
       "</style>\n",
       "<table border=\"1\" class=\"dataframe\">\n",
       "  <thead>\n",
       "    <tr style=\"text-align: right;\">\n",
       "      <th></th>\n",
       "      <th>SFID</th>\n",
       "      <th>frequency</th>\n",
       "      <th>recency</th>\n",
       "      <th>T</th>\n",
       "      <th>monetary_value</th>\n",
       "      <th>pred_purch_coming_week=4</th>\n",
       "    </tr>\n",
       "  </thead>\n",
       "  <tbody>\n",
       "    <tr>\n",
       "      <th>0</th>\n",
       "      <td>0035800001HcHRSAA3</td>\n",
       "      <td>80.0</td>\n",
       "      <td>104.0</td>\n",
       "      <td>104.0</td>\n",
       "      <td>46.371750</td>\n",
       "      <td>2.714102e+00</td>\n",
       "    </tr>\n",
       "    <tr>\n",
       "      <th>1</th>\n",
       "      <td>0035800001WEgIjAAL</td>\n",
       "      <td>74.0</td>\n",
       "      <td>93.0</td>\n",
       "      <td>95.0</td>\n",
       "      <td>123.655270</td>\n",
       "      <td>2.682960e+00</td>\n",
       "    </tr>\n",
       "    <tr>\n",
       "      <th>2</th>\n",
       "      <td>0035800001YT3UBAA1</td>\n",
       "      <td>60.0</td>\n",
       "      <td>78.0</td>\n",
       "      <td>80.0</td>\n",
       "      <td>290.201500</td>\n",
       "      <td>2.519411e+00</td>\n",
       "    </tr>\n",
       "    <tr>\n",
       "      <th>3</th>\n",
       "      <td>0031i00000OsCmVAAV</td>\n",
       "      <td>49.0</td>\n",
       "      <td>72.0</td>\n",
       "      <td>72.0</td>\n",
       "      <td>42.351429</td>\n",
       "      <td>2.281784e+00</td>\n",
       "    </tr>\n",
       "    <tr>\n",
       "      <th>4</th>\n",
       "      <td>0035800001de9t4AAA</td>\n",
       "      <td>51.0</td>\n",
       "      <td>77.0</td>\n",
       "      <td>77.0</td>\n",
       "      <td>53.605882</td>\n",
       "      <td>2.244270e+00</td>\n",
       "    </tr>\n",
       "    <tr>\n",
       "      <th>...</th>\n",
       "      <td>...</td>\n",
       "      <td>...</td>\n",
       "      <td>...</td>\n",
       "      <td>...</td>\n",
       "      <td>...</td>\n",
       "      <td>...</td>\n",
       "    </tr>\n",
       "    <tr>\n",
       "      <th>1095119</th>\n",
       "      <td>0035800001TX2biAAD</td>\n",
       "      <td>30.0</td>\n",
       "      <td>39.0</td>\n",
       "      <td>86.0</td>\n",
       "      <td>98.836333</td>\n",
       "      <td>4.010110e-07</td>\n",
       "    </tr>\n",
       "    <tr>\n",
       "      <th>1095120</th>\n",
       "      <td>0035800001PSSP2AAP</td>\n",
       "      <td>12.0</td>\n",
       "      <td>12.0</td>\n",
       "      <td>92.0</td>\n",
       "      <td>13.034167</td>\n",
       "      <td>3.984637e-07</td>\n",
       "    </tr>\n",
       "    <tr>\n",
       "      <th>1095121</th>\n",
       "      <td>0035800001LL4bmAAD</td>\n",
       "      <td>14.0</td>\n",
       "      <td>18.0</td>\n",
       "      <td>98.0</td>\n",
       "      <td>149.087857</td>\n",
       "      <td>2.814344e-07</td>\n",
       "    </tr>\n",
       "    <tr>\n",
       "      <th>1095122</th>\n",
       "      <td>0035800001OoJZoAAN</td>\n",
       "      <td>13.0</td>\n",
       "      <td>13.0</td>\n",
       "      <td>93.0</td>\n",
       "      <td>21.898462</td>\n",
       "      <td>1.639623e-07</td>\n",
       "    </tr>\n",
       "    <tr>\n",
       "      <th>1095123</th>\n",
       "      <td>0035800001IutYkAAJ</td>\n",
       "      <td>21.0</td>\n",
       "      <td>31.0</td>\n",
       "      <td>102.0</td>\n",
       "      <td>75.977619</td>\n",
       "      <td>6.544350e-08</td>\n",
       "    </tr>\n",
       "  </tbody>\n",
       "</table>\n",
       "<p>1095124 rows × 6 columns</p>\n",
       "</div>"
      ],
      "text/plain": [
       "                       SFID  frequency  recency      T  monetary_value  \\\n",
       "0        0035800001HcHRSAA3       80.0    104.0  104.0       46.371750   \n",
       "1        0035800001WEgIjAAL       74.0     93.0   95.0      123.655270   \n",
       "2        0035800001YT3UBAA1       60.0     78.0   80.0      290.201500   \n",
       "3        0031i00000OsCmVAAV       49.0     72.0   72.0       42.351429   \n",
       "4        0035800001de9t4AAA       51.0     77.0   77.0       53.605882   \n",
       "...                     ...        ...      ...    ...             ...   \n",
       "1095119  0035800001TX2biAAD       30.0     39.0   86.0       98.836333   \n",
       "1095120  0035800001PSSP2AAP       12.0     12.0   92.0       13.034167   \n",
       "1095121  0035800001LL4bmAAD       14.0     18.0   98.0      149.087857   \n",
       "1095122  0035800001OoJZoAAN       13.0     13.0   93.0       21.898462   \n",
       "1095123  0035800001IutYkAAJ       21.0     31.0  102.0       75.977619   \n",
       "\n",
       "         pred_purch_coming_week=4  \n",
       "0                    2.714102e+00  \n",
       "1                    2.682960e+00  \n",
       "2                    2.519411e+00  \n",
       "3                    2.281784e+00  \n",
       "4                    2.244270e+00  \n",
       "...                           ...  \n",
       "1095119              4.010110e-07  \n",
       "1095120              3.984637e-07  \n",
       "1095121              2.814344e-07  \n",
       "1095122              1.639623e-07  \n",
       "1095123              6.544350e-08  \n",
       "\n",
       "[1095124 rows x 6 columns]"
      ]
     },
     "execution_count": 7,
     "metadata": {},
     "output_type": "execute_result"
    }
   ],
   "source": [
    "df_score"
   ]
  },
  {
   "cell_type": "code",
   "execution_count": 5,
   "metadata": {
    "ExecuteTime": {
     "end_time": "2020-01-29T14:42:42.282756Z",
     "start_time": "2020-01-29T14:42:40.927865Z"
    }
   },
   "outputs": [],
   "source": [
    "df_segment = df_segment.rename(columns={\n",
    "                            'SFID': 'SFID2',\n",
    "                            'SubscriberKey' : 'SFID'\n",
    "                                        }\n",
    "                              )"
   ]
  },
  {
   "cell_type": "code",
   "execution_count": 8,
   "metadata": {
    "ExecuteTime": {
     "end_time": "2020-01-29T14:42:55.550283Z",
     "start_time": "2020-01-29T14:42:55.519231Z"
    }
   },
   "outputs": [
    {
     "data": {
      "text/plain": [
       "Index(['SFID', 'Country', 'Language', 'LastOpenDate', 'FirstName',\n",
       "       'Salutation', 'EmailOptInStatus', 'PreferredStore', 'CardID',\n",
       "       'Birthdate', 'NumberOfPoints', 'AssociatedAccountID', 'Contest_Name',\n",
       "       'PreferredStoreName', 'PreferredStoreAddress', 'PreferredStoreCity',\n",
       "       'PreferredStorePostalCode', 'PreferredStoreID', 'RegistrationDate_Club',\n",
       "       'Email', 'Email_Opt_In_Source', 'Created_Date_SC',\n",
       "       'Email_Confirmation_Date', 'LastConfirmationDate',\n",
       "       'PreferredStoreCountry', 'Cluster', 'Subcluster', 'LastName',\n",
       "       'Next_Shop_Code', 'Next_Shop_Name', 'Distance_Cluster', 'Distance',\n",
       "       'RFM', 'TO12M', 'Transactions12M', 'ABC', 'Preferred_Channel',\n",
       "       'Preferred_KindOfProduct', 'Preferred_Category', 'Preferred_Lifestyle',\n",
       "       'Preferred_Family', 'Rank', 'ScoreGroup', 'GSBTN', 'Age', 'AppCustomer',\n",
       "       'PrefPhysOpen', 'NextPhysOpen', 'Welcome', 'Push', 'non_profitable'],\n",
       "      dtype='object')"
      ]
     },
     "execution_count": 8,
     "metadata": {},
     "output_type": "execute_result"
    }
   ],
   "source": [
    "df_segment.columns"
   ]
  },
  {
   "cell_type": "code",
   "execution_count": 10,
   "metadata": {
    "ExecuteTime": {
     "end_time": "2020-01-29T15:55:53.428963Z",
     "start_time": "2020-01-29T15:55:53.413335Z"
    }
   },
   "outputs": [
    {
     "ename": "NameError",
     "evalue": "name 'df_score' is not defined",
     "output_type": "error",
     "traceback": [
      "\u001b[1;31m---------------------------------------------------------------------------\u001b[0m",
      "\u001b[1;31mNameError\u001b[0m                                 Traceback (most recent call last)",
      "\u001b[1;32m<ipython-input-10-beb8b553508e>\u001b[0m in \u001b[0;36m<module>\u001b[1;34m\u001b[0m\n\u001b[1;32m----> 1\u001b[1;33m \u001b[0moverlap\u001b[0m \u001b[1;33m=\u001b[0m \u001b[0mpd\u001b[0m\u001b[1;33m.\u001b[0m\u001b[0mmerge\u001b[0m\u001b[1;33m(\u001b[0m\u001b[0mdf_segment\u001b[0m\u001b[1;33m,\u001b[0m\u001b[0mdf_score\u001b[0m\u001b[1;33m,\u001b[0m \u001b[0mhow\u001b[0m\u001b[1;33m=\u001b[0m\u001b[1;34m'inner'\u001b[0m\u001b[1;33m,\u001b[0m \u001b[0mon\u001b[0m\u001b[1;33m=\u001b[0m\u001b[1;34m'SFID'\u001b[0m\u001b[1;33m)\u001b[0m\u001b[1;33m\u001b[0m\u001b[1;33m\u001b[0m\u001b[0m\n\u001b[0m",
      "\u001b[1;31mNameError\u001b[0m: name 'df_score' is not defined"
     ]
    }
   ],
   "source": [
    "overlap = pd.merge(df_segment,df_score, how='inner', on='SFID')\n"
   ]
  },
  {
   "cell_type": "code",
   "execution_count": 9,
   "metadata": {
    "ExecuteTime": {
     "end_time": "2020-01-29T15:55:51.135335Z",
     "start_time": "2020-01-29T15:55:50.993395Z"
    }
   },
   "outputs": [
    {
     "ename": "NameError",
     "evalue": "name 'overlap' is not defined",
     "output_type": "error",
     "traceback": [
      "\u001b[1;31m---------------------------------------------------------------------------\u001b[0m",
      "\u001b[1;31mNameError\u001b[0m                                 Traceback (most recent call last)",
      "\u001b[1;32m<ipython-input-9-f680bca3a80e>\u001b[0m in \u001b[0;36m<module>\u001b[1;34m\u001b[0m\n\u001b[1;32m----> 1\u001b[1;33m \u001b[0mlen\u001b[0m\u001b[1;33m(\u001b[0m\u001b[0moverlap\u001b[0m\u001b[1;33m.\u001b[0m\u001b[0mSFID\u001b[0m\u001b[1;33m.\u001b[0m\u001b[0miloc\u001b[0m\u001b[1;33m[\u001b[0m\u001b[1;36m0\u001b[0m\u001b[1;33m]\u001b[0m\u001b[1;33m)\u001b[0m\u001b[1;33m\u001b[0m\u001b[1;33m\u001b[0m\u001b[0m\n\u001b[0m",
      "\u001b[1;31mNameError\u001b[0m: name 'overlap' is not defined"
     ]
    }
   ],
   "source": [
    "len(overlap.SFID.iloc[0])"
   ]
  },
  {
   "cell_type": "code",
   "execution_count": 16,
   "metadata": {
    "ExecuteTime": {
     "end_time": "2020-01-29T08:30:31.517216Z",
     "start_time": "2020-01-29T08:30:31.501589Z"
    }
   },
   "outputs": [],
   "source": [
    "import numpy as np"
   ]
  },
  {
   "cell_type": "code",
   "execution_count": 17,
   "metadata": {
    "ExecuteTime": {
     "end_time": "2020-01-29T08:30:33.046660Z",
     "start_time": "2020-01-29T08:30:32.658287Z"
    }
   },
   "outputs": [
    {
     "name": "stdout",
     "output_type": "stream",
     "text": [
      "74538\n"
     ]
    }
   ],
   "source": [
    "#Select Top and Base customers\n",
    "selected_segment = (overlap\n",
    ".loc[((overlap.ScoreGroup == 'Top') | (overlap.ScoreGroup == 'Base'))]\n",
    ".sort_values('pred_purch_coming_week=4', ascending=False)\n",
    ")\n",
    "threshold = int(np.round(selected_segment.shape[0] /2))\n",
    "print(threshold)"
   ]
  },
  {
   "cell_type": "code",
   "execution_count": 28,
   "metadata": {
    "ExecuteTime": {
     "end_time": "2020-01-29T08:38:12.737398Z",
     "start_time": "2020-01-29T08:38:12.721895Z"
    }
   },
   "outputs": [
    {
     "name": "stdout",
     "output_type": "stream",
     "text": [
      "74538\n"
     ]
    }
   ],
   "source": [
    "# Selects 50% best customers\n",
    "selected_customers_half = selected_segment.iloc[0:threshold,:]\n",
    "print(selected_customers_half.shape[0])"
   ]
  },
  {
   "cell_type": "code",
   "execution_count": 38,
   "metadata": {
    "ExecuteTime": {
     "end_time": "2020-01-29T08:42:03.619629Z",
     "start_time": "2020-01-29T08:42:03.514331Z"
    }
   },
   "outputs": [
    {
     "name": "stdout",
     "output_type": "stream",
     "text": [
      "148590\n"
     ]
    }
   ],
   "source": [
    "# Selects customers > 0.1 perdicted purchase\n",
    "selected_customers_above = selected_segment.loc[selected_segment['pred_purch_coming_week=4'] >=0.01]\n",
    "print(selected_customers_above.shape[0])"
   ]
  },
  {
   "cell_type": "code",
   "execution_count": 24,
   "metadata": {
    "ExecuteTime": {
     "end_time": "2020-01-29T08:37:58.633416Z",
     "start_time": "2020-01-29T08:37:58.617918Z"
    }
   },
   "outputs": [
    {
     "data": {
      "text/plain": [
       "'U:\\\\Projects\\\\datasets\\\\customer_history\\\\scores_28_01_2020'"
      ]
     },
     "execution_count": 24,
     "metadata": {},
     "output_type": "execute_result"
    }
   ],
   "source": [
    "pwd"
   ]
  },
  {
   "cell_type": "code",
   "execution_count": 21,
   "metadata": {
    "ExecuteTime": {
     "end_time": "2020-01-29T08:30:37.906163Z",
     "start_time": "2020-01-29T08:30:37.843373Z"
    }
   },
   "outputs": [],
   "source": [
    "to_export = (selected_customers_above.rename(columns={'SFID': 'SubscriberKey'})[[\n",
    "    'SubscriberKey',\n",
    "    'Country',\n",
    "    'Language',\n",
    "    'LastOpenDate',\n",
    "    'FirstName',\n",
    "    'Salutation',\n",
    "    'CardID',\n",
    "    'Birthdate',\n",
    "    'NumberOfPoints',\n",
    "    'PreferredStoreName',\n",
    "    'PreferredStoreAddress',\n",
    "    'PreferredStoreCity',\n",
    "    'PreferredStorePostalCode',\n",
    "    'PreferredStoreID',\n",
    "    'RegistrationDate_Club',\n",
    "    'Email'\n",
    "]])"
   ]
  },
  {
   "cell_type": "code",
   "execution_count": 22,
   "metadata": {
    "ExecuteTime": {
     "end_time": "2020-01-29T08:30:43.042338Z",
     "start_time": "2020-01-29T08:30:42.026438Z"
    }
   },
   "outputs": [],
   "source": [
    "import os\n",
    "path = 'U:\\\\Projects\\datasets\\\\customer_history\\\\scores_28_01_2020'\n",
    "os.chdir(path)\n",
    "country='DE'\n",
    "to_export.to_csv('scores_'\n",
    "                                +country\n",
    "                                +'_'\n",
    "                                +'01012018'\n",
    "                                +'_'\n",
    "                                +'01012020'\n",
    "                                +'_'\n",
    "                                +'above_0.1'\n",
    "                                +'.csv')"
   ]
  },
  {
   "cell_type": "code",
   "execution_count": null,
   "metadata": {},
   "outputs": [],
   "source": []
  }
 ],
 "metadata": {
  "kernelspec": {
   "display_name": "Python 3",
   "language": "python",
   "name": "python3"
  },
  "language_info": {
   "codemirror_mode": {
    "name": "ipython",
    "version": 3
   },
   "file_extension": ".py",
   "mimetype": "text/x-python",
   "name": "python",
   "nbconvert_exporter": "python",
   "pygments_lexer": "ipython3",
   "version": "3.7.5"
  }
 },
 "nbformat": 4,
 "nbformat_minor": 2
}
