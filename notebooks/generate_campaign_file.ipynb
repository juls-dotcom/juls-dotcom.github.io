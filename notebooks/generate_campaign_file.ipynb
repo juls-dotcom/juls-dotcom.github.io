{
 "cells": [
  {
   "cell_type": "code",
   "execution_count": 1,
   "metadata": {
    "ExecuteTime": {
     "end_time": "2020-03-25T14:04:46.490560Z",
     "start_time": "2020-03-25T14:04:41.244626Z"
    }
   },
   "outputs": [],
   "source": [
    "import pandas as pd\n",
    "import numpy as np\n",
    "import os\n",
    "import matplotlib.pyplot as plt\n",
    "plt.rcParams['figure.figsize'] = (16,4)"
   ]
  },
  {
   "cell_type": "code",
   "execution_count": 2,
   "metadata": {
    "ExecuteTime": {
     "end_time": "2020-03-25T14:05:00.053618Z",
     "start_time": "2020-03-25T14:04:46.493062Z"
    }
   },
   "outputs": [],
   "source": [
    "path = 'D:\\\\'\n",
    "os.chdir(path)\n",
    "file = 'Extract_Scoring_Export_DeFacto.csv'\n",
    "\n",
    "df_facto = pd.read_csv(file,\n",
    "                 sep= ',',\n",
    "                 engine='c',\n",
    "                 encoding='utf-16'\n",
    "                )"
   ]
  },
  {
   "cell_type": "code",
   "execution_count": 3,
   "metadata": {
    "ExecuteTime": {
     "end_time": "2020-03-25T14:05:02.552872Z",
     "start_time": "2020-03-25T14:05:00.056620Z"
    }
   },
   "outputs": [
    {
     "name": "stdout",
     "output_type": "stream",
     "text": [
      "Lost 6607 due to missing country\n"
     ]
    }
   ],
   "source": [
    "print('Lost '+str(df_facto.shape[0] - df_facto[df_facto['Country__c'].notnull()].shape[0]) + ' due to missing country')\n",
    "df_facto = df_facto[df_facto['Country__c'].notnull()]"
   ]
  },
  {
   "cell_type": "code",
   "execution_count": 4,
   "metadata": {
    "ExecuteTime": {
     "end_time": "2020-03-25T14:05:49.455672Z",
     "start_time": "2020-03-25T14:05:02.556371Z"
    }
   },
   "outputs": [],
   "source": [
    "path = 'D:\\\\'\n",
    "os.chdir(path)\n",
    "file = 'Extract_Scoring_Export_Orsay.csv'\n",
    "\n",
    "df_orsay = pd.read_csv(file,\n",
    "                 sep= ',',\n",
    "                 engine='python',\n",
    "                 encoding='utf-16',\n",
    "                 error_bad_lines=False\n",
    "                )"
   ]
  },
  {
   "cell_type": "code",
   "execution_count": 5,
   "metadata": {
    "ExecuteTime": {
     "end_time": "2020-03-25T14:05:52.062924Z",
     "start_time": "2020-03-25T14:05:49.458165Z"
    }
   },
   "outputs": [
    {
     "name": "stdout",
     "output_type": "stream",
     "text": [
      "Lost 21132 due to missing country\n"
     ]
    }
   ],
   "source": [
    "print('Lost '+str(df_orsay.shape[0] - df_orsay[df_orsay['Country__c'].notnull()].shape[0]) + ' due to missing country')\n",
    "df_orsay = df_orsay[df_orsay['Country__c'].notnull()]"
   ]
  },
  {
   "cell_type": "code",
   "execution_count": 6,
   "metadata": {
    "ExecuteTime": {
     "end_time": "2020-03-25T14:07:03.714152Z",
     "start_time": "2020-03-25T14:05:52.071921Z"
    }
   },
   "outputs": [
    {
     "name": "stderr",
     "output_type": "stream",
     "text": [
      "C:\\Users\\jhernandez-lallement\\AppData\\Local\\Continuum\\anaconda3\\lib\\site-packages\\pandas\\core\\indexing.py:205: SettingWithCopyWarning: \n",
      "A value is trying to be set on a copy of a slice from a DataFrame\n",
      "\n",
      "See the caveats in the documentation: http://pandas.pydata.org/pandas-docs/stable/user_guide/indexing.html#returning-a-view-versus-a-copy\n",
      "  self._setitem_with_indexer(indexer, value)\n"
     ]
    }
   ],
   "source": [
    "# Extract unprofitables\n",
    "unprofitable = pd.read_excel('unprofitable_customer_list_SFID.xlsx')\n",
    "# Fill NAs\n",
    "unprofitable['SubscriberKey (MKT Cloud)'].loc[(unprofitable['SubscriberKey (MKT Cloud)'].str.find('-')+1) == 1] = np.NaN\n",
    "# Replace NAs with MCloud ID\n",
    "unprofitable['SubscriberKey (MKT Cloud)'] = unprofitable['SubscriberKey (MKT Cloud)'].fillna(unprofitable['PersonContactId (commerce Cloud)'])\n",
    "# Join unprofitables to initial dataframe\n",
    "df_facto = df_facto.assign(unprofitable = pd.merge(df_facto['Id'], \n",
    "                                          unprofitable[['Returnrate (items)', 'SubscriberKey (MKT Cloud)']], \n",
    "                                          how='left',\n",
    "                                          left_on = 'Id',\n",
    "                                          right_on = 'SubscriberKey (MKT Cloud)'\n",
    "                                         )['Returnrate (items)']\n",
    "                                               )\n",
    "\n",
    "df_orsay = df_orsay.assign(unprofitable = pd.merge(df_orsay['Id'], \n",
    "                                          unprofitable[['Returnrate (items)', 'SubscriberKey (MKT Cloud)']], \n",
    "                                          how='left',\n",
    "                                          left_on = 'Id',\n",
    "                                          right_on = 'SubscriberKey (MKT Cloud)'\n",
    "                                         )['Returnrate (items)']\n",
    "                                               )"
   ]
  },
  {
   "cell_type": "code",
   "execution_count": 7,
   "metadata": {
    "ExecuteTime": {
     "end_time": "2020-03-25T14:07:03.725652Z",
     "start_time": "2020-03-25T14:07:03.718655Z"
    }
   },
   "outputs": [],
   "source": [
    "class style:\n",
    "   PURPLE = '\\033[95m'\n",
    "   CYAN = '\\033[96m'\n",
    "   DARKCYAN = '\\033[36m'\n",
    "   BLUE = '\\033[94m'\n",
    "   GREEN = '\\033[92m'\n",
    "   YELLOW = '\\033[93m'\n",
    "   RED = '\\033[91m'\n",
    "   BOLD = '\\033[1m'\n",
    "   UNDERLINE = '\\033[4m'\n",
    "   END = '\\033[0m'"
   ]
  },
  {
   "cell_type": "markdown",
   "metadata": {},
   "source": [
    "### Munging"
   ]
  },
  {
   "cell_type": "code",
   "execution_count": 8,
   "metadata": {
    "ExecuteTime": {
     "end_time": "2020-03-25T14:07:03.785652Z",
     "start_time": "2020-03-25T14:07:03.729154Z"
    }
   },
   "outputs": [],
   "source": [
    "# Munging Pipeline\n",
    "def start_pipeline(dataf):\n",
    "    dataf = dataf.copy()\n",
    "    return dataf\n",
    "\n",
    "def lower_cols(dataf):\n",
    "    dataf.columns = [c.lower() for c in dataf.columns]\n",
    "    dataf.columns = [c.replace(' ', '_') for c in dataf.columns]\n",
    "    return dataf\n",
    "\n",
    "def def_types(dataf):\n",
    "    dataf['id'] = dataf['id'].astype(float)\n",
    "    return dataf\n",
    "\n",
    "def rename_cols(dataf):\n",
    "    dataf = dataf.rename(columns={\n",
    "        'id': 'sales_force_id',\n",
    "        'email_opt_in_status__c': 'email_opt_in_status',\n",
    "        'whitemail_opt_in_status__c': 'whitemail_opt_in_status',\n",
    "        'push_opt_in_status__c': 'push_opt_in_status',\n",
    "        'country__c': 'country',\n",
    "        'employee_number__c': 'employee_number',\n",
    "        'permanent_control_group__c': 'permanent_ctrl',\n",
    "        'scoring__c': 'score',\n",
    "    })\n",
    "    return dataf\n",
    "    \n",
    "def campaign_ID(dataf):\n",
    "    # Number commented are for the DeFacto campaign for these countries\n",
    "    campaign_dict = {'AT': '7011i000000LmEmAAK',\n",
    "                     'CH': '7011i000000LmErAAK',\n",
    "                     'CZ': '7011i000000Ln8RAAS', #Orsay\n",
    "                     #'CZ':'7011i000000LmF1AAK', #DeFacto\n",
    "                     'DE': '7011i000000Ln8WAAS', #Orsay\n",
    "                     #'DE':'7011i000000LmF6AAK', #DeFacto\n",
    "                     'HR': '7011i000000LmFBAA0',\n",
    "                     'HU': '7011i000000Ln8HAAS', #Orsay\n",
    "                     #'HU':'7011i000000LmFGAA0', #DeFacto\n",
    "                     'PL': '7011i000000Ln8MAAS', #Orsay\n",
    "                     #'PL':'7011i000000LmFLAA0', #DeFacto\n",
    "                     'RO': '7011i000000LmFMAA0',\n",
    "                     'RS': '7011i000000LmFQAA0',\n",
    "                     'SI': '7011i000000LmFVAA0',\n",
    "                     'SK': '7011i000000LmFaAAK'\n",
    "                    }\n",
    "\n",
    "    dataf = dataf.assign(campaign_ID = dataf['country'].map(campaign_dict))\n",
    "    return dataf\n",
    "\n",
    "def exclude_employees(dataf):\n",
    "    # Exclude only for White Mail\n",
    "    print('Lost employees: ' +str(dataf.loc[~(dataf['employee_number'].isna())].shape[0]))\n",
    "    dataf = dataf.loc[(dataf['employee_number'].isna())]\n",
    "    return dataf.drop(columns={'employee_number', 'email'})\n",
    "\n",
    "def exclude_unprofitables(dataf):\n",
    "    print('Lost unprofitables: ' +str(dataf.loc[~(dataf.unprofitable.isna())].shape[0]))\n",
    "    dataf = dataf.loc[dataf.unprofitable.isna()]\n",
    "    return dataf.drop(columns={'unprofitable'})\n",
    "\n",
    "def boolearize_opt_ins(dataf):\n",
    "    # IMPROVE!!\n",
    "    dataf[['email_opt_in_status', 'whitemail_opt_in_status', 'push_opt_in_status']].fillna('x', inplace=True)\n",
    "    dataf['email_opt_in_status'] = (np.where(dataf['email_opt_in_status']\n",
    "                                        .isin(['a']), dataf['email_opt_in_status'], '0'))\n",
    "    dataf['whitemail_opt_in_status'] = (np.where(dataf['whitemail_opt_in_status']\n",
    "                                        .isin(['a']), dataf['whitemail_opt_in_status'], '0'))\n",
    "    dataf['push_opt_in_status'] = (np.where(dataf['push_opt_in_status']\n",
    "                                        .isin(['a']), dataf['push_opt_in_status'], '0'))\n",
    "    \n",
    "    # Assign communication stream code\n",
    "    cols = ['email_opt_in_status', 'whitemail_opt_in_status', 'push_opt_in_status']    \n",
    "    dataf = dataf.assign(comm_stream_code = dataf[cols].sum(1)).drop(cols, 1)\n",
    "    \n",
    "    # Assign communication stream label\n",
    "    # First position = Email\n",
    "    # Second position = WH\n",
    "    # Third position = Push\n",
    "    comm_dict = {'WH_Email_Push':   'aaa', \n",
    "                 'WH_Email':        'aa0',\n",
    "                 'WH_Push':         '0aa',\n",
    "                 'WH':              '0a0',\n",
    "                 'Email_Push':      'a0a',\n",
    "                 'Email':           'a00', \n",
    "                 'Push':            '00a',\n",
    "                 'None':            '000'\n",
    "                }\n",
    "    inv_map = {v: k for k, v in comm_dict.items()}\n",
    "        \n",
    "    dataf = dataf.assign(comm_stream = dataf['comm_stream_code'].map(inv_map))\n",
    "    # For some reason, there is no WH_Email_Push category\n",
    "    # Thus, replace them with WH_Email\n",
    "    dataf.loc[dataf['comm_stream'] == 'WH_Email_Push', 'comm_stream'] = 'WH_Email'   \n",
    "    return dataf.drop(columns={'comm_stream_code'})\n",
    "\n",
    "def boolearize_permanent_ctrl(dataf):\n",
    "    permanent_ctrl = dataf['permanent_ctrl'] == 1\n",
    "    dataf = dataf.assign(permanent_ctrl = permanent_ctrl)\n",
    "    return dataf\n",
    "\n",
    "def sort_per_score(dataf):\n",
    "    dataf = dataf.assign(white_mail = dataf.comm_stream.str.contains('WH'))\n",
    "    return (dataf\n",
    "            .sort_values(by=['white_mail', 'score'], ascending=False)\n",
    "            .reset_index(drop=True)\n",
    "            .drop(columns={'white_mail'}))\n",
    "\n",
    "def compute_campaign_controls(dataf, percent_ctrl, lower_threshold_for_ctrl, upper_threshold_for_ctrl):\n",
    "    dataf = dataf.sort_values(by='comm_stream')\n",
    "    # List possible communication streams\n",
    "    dict_group = dataf.comm_stream.unique()\n",
    "    # Preallocate mask that will be copied on final frame\n",
    "    curr_mask = pd.Series()\n",
    "    print('Report for creation of Campaign Controls')\n",
    "    print('')\n",
    "    print(style.BLUE + \n",
    "          'Base proportion for control group size = ' \n",
    "          + style.END\n",
    "          + style.BOLD \n",
    "          + str(percent_ctrl*100) + '%' \n",
    "          + style.END)\n",
    "    print(style.BLUE +\n",
    "          'Minimum group size to create control = ' \n",
    "          + style.END\n",
    "          + style.BOLD           \n",
    "          + str(lower_threshold_for_ctrl) \n",
    "          + ' customers.'\n",
    "          + style.END)\n",
    "    print(style.BLUE +\n",
    "          'Maximum group size for control = ' \n",
    "          + style.END\n",
    "          + style.BOLD          \n",
    "          + str(upper_threshold_for_ctrl) + ' customers.'\n",
    "          + style.END)\n",
    "    print()\n",
    "    # Loop over communication stream\n",
    "    # This is suboptimal. Use groupby+apply but so far I did not manage to make it work\n",
    "    for i in range(0, len(dict_group)):\n",
    "        curr_comm_stream = dataf.loc[dataf['comm_stream'] == dict_group[i]]\n",
    "        iMask = mask(curr_comm_stream, \n",
    "                     percent_ctrl = percent_ctrl,\n",
    "                     lower_threshold_for_ctrl=lower_threshold_for_ctrl, \n",
    "                     upper_threshold_for_ctrl=upper_threshold_for_ctrl)\n",
    "        curr_mask = curr_mask.append(iMask)\n",
    "    # Sort the index to allocate the mask to dataf\n",
    "    curr_mask = curr_mask.astype(int).sort_index()\n",
    "    # Assign Campaign Control column\n",
    "    dataf = dataf.assign(campaign_ctrl = curr_mask == 1)\n",
    "    # Replace None since SalesForce needs empty cells\n",
    "    dataf.comm_stream = dataf.comm_stream.str.replace('None', '')\n",
    "    return dataf   \n",
    "\n",
    "\n",
    "def ceil_number_WH(dataf, country, ceil):\n",
    "    \n",
    "    number_of_customers_to_nullify = dataf.loc[dataf.comm_stream.str.contains('WH')].shape[0] - ceil\n",
    "    selected_WH = (dataf\n",
    "                    .loc[dataf.comm_stream.str.contains('WH')]\n",
    "                    \n",
    "                    .iloc[-number_of_customers_to_nullify:]\n",
    "                    .assign(comm_stream = dataf.comm_stream.str\n",
    "                            .replace('WH_', '')\n",
    "                            .replace('WH', '')\n",
    "                            #.replace('_Push', 'Push')\n",
    "                           )\n",
    "                    )\n",
    "    dataf.update(selected_WH)\n",
    "    print('Selected the best ' + str(ceil) + ' customers for WH for country = '+ str(country))\n",
    "    return dataf\n",
    "    \n",
    "def reorganize_columns(dataf):    \n",
    "    return dataf[['sales_force_id', \n",
    "                  'campaign_ID', \n",
    "                  'comm_stream', \n",
    "                  'permanent_ctrl',\n",
    "                  'campaign_ctrl',\n",
    "                  'country',\n",
    "                  'score'\n",
    "                 ]].reset_index(drop=True)\n",
    "\n",
    "\n",
    "\n",
    "    "
   ]
  },
  {
   "cell_type": "code",
   "execution_count": 9,
   "metadata": {
    "ExecuteTime": {
     "end_time": "2020-03-25T14:07:03.802653Z",
     "start_time": "2020-03-25T14:07:03.788654Z"
    }
   },
   "outputs": [],
   "source": [
    "def mask(dataf, percent_ctrl = 0.01, lower_threshold_for_ctrl=300, upper_threshold_for_ctrl=1000):\n",
    "\n",
    "    # Set control size to percentage of total\n",
    "    ctrl_size = (np.ceil(percent_ctrl*dataf.shape[0])).astype(int)\n",
    "    # Set control size to maximum of 1000 if we get more than that\n",
    "    if ctrl_size >= upper_threshold_for_ctrl: \n",
    "            ctrl_size = int(upper_threshold_for_ctrl)    \n",
    "            print('Too many customers in control ' + str(dataf['comm_stream'].iloc[0]) + '. '\n",
    "            + 'Control size = ' + str(ctrl_size))\n",
    "            print('')\n",
    "    # Set control size to 0 if we have not enough customers to compute control group\n",
    "    elif ctrl_size < lower_threshold_for_ctrl:\n",
    "            ctrl_size = int(0)\n",
    "#         mask_ctrl = np.zeros(dataf.shape[0]) # No controls if less than X individuals\n",
    "            (print('Not enough customers in control ' + str(dataf['comm_stream'].iloc[0]+'. ')\n",
    "            + 'Only '+ str(dataf.shape[0]) + ' customers for ' +  str(dataf['comm_stream'].iloc[0])))\n",
    "            print('')\n",
    "    else:        \n",
    "        print('Between ' + str(lower_threshold_for_ctrl) \n",
    "          +  ' and ' + str(upper_threshold_for_ctrl) + ' customers in control '  +  str(dataf['comm_stream'].iloc[0]) + '. '\n",
    "        + str(percent_ctrl*100) + '% taken as ctrl size (' + str(ctrl_size) + ' customers).')\n",
    "        print('')\n",
    "        \n",
    "    experiment_size = (dataf.shape[0] - ctrl_size)#.astype(int)\n",
    "    # Create final binary mask, and use index from dataf for later merge\n",
    "    mask_ctrl =  pd.Series(np.random.permutation(np.concatenate([np.ones(ctrl_size,\n",
    "                                                                   #dtype=np.int64\n",
    "                                                                        ),\n",
    "                                                                 np.zeros(experiment_size,\n",
    "                                                                   #dtype=np.int64\n",
    "                                                                   )])),\n",
    "                          index=dataf.index)\n",
    "    return mask_ctrl"
   ]
  },
  {
   "cell_type": "markdown",
   "metadata": {},
   "source": [
    "### Run pipeline"
   ]
  },
  {
   "cell_type": "code",
   "execution_count": 10,
   "metadata": {
    "ExecuteTime": {
     "end_time": "2020-03-25T14:07:03.817152Z",
     "start_time": "2020-03-25T14:07:03.807653Z"
    }
   },
   "outputs": [],
   "source": [
    "# Dictionnary stating the number of white mails per country, including controls!\n",
    "number_WH_country = {\n",
    "    'AT': 18000,\n",
    "    'CH': 0,\n",
    "    'CZ':41660,\n",
    "    'HU':22400,\n",
    "    'DE':41660,\n",
    "    'PL':41600,\n",
    "    'SK':12500,\n",
    "    'RO':11500,\n",
    "    'HR':6000,\n",
    "    'RS':6000,\n",
    "    'SI':6000\n",
    "                    }\n",
    "\n",
    "# Dictionnary stating the percent of customers that should be put in control group\n",
    "percent_control_country = {\n",
    "    'AT': 0.13,\n",
    "    'CH': 0.03,\n",
    "    'CZ': 0.11,#0.07,\n",
    "    'HU': 0.30,#0.07,\n",
    "    'DE': 0.11,#0.07,\n",
    "    'PL': 0.11,#0.07,\n",
    "    'SK': 0.14,\n",
    "    'RO': 0.15,\n",
    "    'HR': 0.18,\n",
    "    'RS': 0.18,\n",
    "    'SI': 0.2    \n",
    "    \n",
    "}"
   ]
  },
  {
   "cell_type": "code",
   "execution_count": 11,
   "metadata": {
    "ExecuteTime": {
     "end_time": "2020-03-25T14:07:03.837155Z",
     "start_time": "2020-03-25T14:07:03.819654Z"
    }
   },
   "outputs": [
    {
     "data": {
      "text/plain": [
       "207320"
      ]
     },
     "execution_count": 11,
     "metadata": {},
     "output_type": "execute_result"
    }
   ],
   "source": [
    "np.array([v for k,v in number_WH_country.items()]).sum()"
   ]
  },
  {
   "cell_type": "code",
   "execution_count": 12,
   "metadata": {
    "ExecuteTime": {
     "end_time": "2020-03-25T14:07:03.850652Z",
     "start_time": "2020-03-25T14:07:03.843653Z"
    }
   },
   "outputs": [],
   "source": [
    "list_country = ['DE', 'PL', 'HU', 'CZ']"
   ]
  },
  {
   "cell_type": "code",
   "execution_count": 25,
   "metadata": {
    "ExecuteTime": {
     "end_time": "2020-03-25T14:47:23.157484Z",
     "start_time": "2020-03-25T14:44:57.588458Z"
    },
    "scrolled": false
   },
   "outputs": [
    {
     "name": "stdout",
     "output_type": "stream",
     "text": [
      "Lost employees: 5642\n",
      "Selected the best 41600 customers for WH for country = PL\n",
      "Report for creation of Campaign Controls\n",
      "\n",
      "\u001b[94mBase proportion for control group size = \u001b[0m\u001b[1m11.0%\u001b[0m\n",
      "\u001b[94mMinimum group size to create control = \u001b[0m\u001b[1m0 customers.\u001b[0m\n",
      "\u001b[94mMaximum group size for control = \u001b[0m\u001b[1m2000 customers.\u001b[0m\n",
      "\n",
      "Too many customers in control . Control size = 2000\n",
      "\n",
      "Too many customers in control Email. Control size = 2000\n",
      "\n",
      "Between 0 and 2000 customers in control Email_Push. 11.0% taken as ctrl size (327 customers).\n",
      "\n",
      "Too many customers in control None. Control size = 2000\n",
      "\n",
      "Too many customers in control Push. Control size = 2000\n",
      "\n",
      "Between 0 and 2000 customers in control WH. 11.0% taken as ctrl size (1486 customers).\n",
      "\n",
      "Too many customers in control WH_Email. Control size = 2000\n",
      "\n",
      "Between 0 and 2000 customers in control WH_Push. 11.0% taken as ctrl size (766 customers).\n",
      "\n",
      "Lost employees: 2116\n",
      "Selected the best 41660 customers for WH for country = CZ\n",
      "Report for creation of Campaign Controls\n",
      "\n",
      "\u001b[94mBase proportion for control group size = \u001b[0m\u001b[1m11.0%\u001b[0m\n",
      "\u001b[94mMinimum group size to create control = \u001b[0m\u001b[1m0 customers.\u001b[0m\n",
      "\u001b[94mMaximum group size for control = \u001b[0m\u001b[1m2000 customers.\u001b[0m\n",
      "\n",
      "Too many customers in control . Control size = 2000\n",
      "\n",
      "Too many customers in control Email. Control size = 2000\n",
      "\n",
      "Between 0 and 2000 customers in control Email_Push. 11.0% taken as ctrl size (81 customers).\n",
      "\n",
      "Between 0 and 2000 customers in control None. 11.0% taken as ctrl size (1384 customers).\n",
      "\n",
      "Between 0 and 2000 customers in control Push. 11.0% taken as ctrl size (883 customers).\n",
      "\n",
      "Between 0 and 2000 customers in control WH. 11.0% taken as ctrl size (1700 customers).\n",
      "\n",
      "Too many customers in control WH_Email. Control size = 2000\n",
      "\n",
      "Between 0 and 2000 customers in control WH_Push. 11.0% taken as ctrl size (325 customers).\n",
      "\n",
      "Lost employees: 5795\n",
      "Selected the best 41660 customers for WH for country = DE\n",
      "Report for creation of Campaign Controls\n",
      "\n",
      "\u001b[94mBase proportion for control group size = \u001b[0m\u001b[1m11.0%\u001b[0m\n",
      "\u001b[94mMinimum group size to create control = \u001b[0m\u001b[1m0 customers.\u001b[0m\n",
      "\u001b[94mMaximum group size for control = \u001b[0m\u001b[1m2000 customers.\u001b[0m\n",
      "\n",
      "Too many customers in control . Control size = 2000\n",
      "\n",
      "Too many customers in control Email. Control size = 2000\n",
      "\n",
      "Between 0 and 2000 customers in control Email_Push. 11.0% taken as ctrl size (364 customers).\n",
      "\n",
      "Too many customers in control None. Control size = 2000\n",
      "\n",
      "Too many customers in control Push. Control size = 2000\n",
      "\n",
      "Between 0 and 2000 customers in control WH. 11.0% taken as ctrl size (1042 customers).\n",
      "\n",
      "Too many customers in control WH_Email. Control size = 2000\n",
      "\n",
      "Between 0 and 2000 customers in control WH_Push. 11.0% taken as ctrl size (632 customers).\n",
      "\n",
      "Lost employees: 125\n",
      "Selected the best 6000 customers for WH for country = SI\n",
      "Report for creation of Campaign Controls\n",
      "\n",
      "\u001b[94mBase proportion for control group size = \u001b[0m\u001b[1m20.0%\u001b[0m\n",
      "\u001b[94mMinimum group size to create control = \u001b[0m\u001b[1m0 customers.\u001b[0m\n",
      "\u001b[94mMaximum group size for control = \u001b[0m\u001b[1m2000 customers.\u001b[0m\n",
      "\n",
      "Too many customers in control . Control size = 2000\n",
      "\n",
      "Too many customers in control Email. Control size = 2000\n",
      "\n",
      "Between 0 and 2000 customers in control None. 20.0% taken as ctrl size (88 customers).\n",
      "\n",
      "Between 0 and 2000 customers in control Push. 20.0% taken as ctrl size (138 customers).\n",
      "\n",
      "Between 0 and 2000 customers in control WH. 20.0% taken as ctrl size (148 customers).\n",
      "\n",
      "Between 0 and 2000 customers in control WH_Email. 20.0% taken as ctrl size (1023 customers).\n",
      "\n",
      "Between 0 and 2000 customers in control WH_Push. 20.0% taken as ctrl size (30 customers).\n",
      "\n",
      "Lost employees: 1066\n",
      "Selected the best 18000 customers for WH for country = AT\n",
      "Report for creation of Campaign Controls\n",
      "\n",
      "\u001b[94mBase proportion for control group size = \u001b[0m\u001b[1m13.0%\u001b[0m\n",
      "\u001b[94mMinimum group size to create control = \u001b[0m\u001b[1m0 customers.\u001b[0m\n",
      "\u001b[94mMaximum group size for control = \u001b[0m\u001b[1m2000 customers.\u001b[0m\n",
      "\n",
      "Too many customers in control . Control size = 2000\n",
      "\n",
      "Too many customers in control Email. Control size = 2000\n",
      "\n",
      "Between 0 and 2000 customers in control Email_Push. 13.0% taken as ctrl size (69 customers).\n",
      "\n",
      "Too many customers in control None. Control size = 2000\n",
      "\n",
      "Between 0 and 2000 customers in control Push. 13.0% taken as ctrl size (1466 customers).\n",
      "\n",
      "Between 0 and 2000 customers in control WH. 13.0% taken as ctrl size (846 customers).\n",
      "\n",
      "Between 0 and 2000 customers in control WH_Email. 13.0% taken as ctrl size (1270 customers).\n",
      "\n",
      "Between 0 and 2000 customers in control WH_Push. 13.0% taken as ctrl size (225 customers).\n",
      "\n",
      "Lost employees: 490\n",
      "Selected the best 11500 customers for WH for country = RO\n",
      "Report for creation of Campaign Controls\n",
      "\n",
      "\u001b[94mBase proportion for control group size = \u001b[0m\u001b[1m15.0%\u001b[0m\n",
      "\u001b[94mMinimum group size to create control = \u001b[0m\u001b[1m0 customers.\u001b[0m\n",
      "\u001b[94mMaximum group size for control = \u001b[0m\u001b[1m2000 customers.\u001b[0m\n",
      "\n",
      "Too many customers in control . Control size = 2000\n",
      "\n",
      "Too many customers in control Email. Control size = 2000\n",
      "\n",
      "Between 0 and 2000 customers in control Email_Push. 15.0% taken as ctrl size (28 customers).\n",
      "\n",
      "Between 0 and 2000 customers in control None. 15.0% taken as ctrl size (395 customers).\n",
      "\n",
      "Between 0 and 2000 customers in control Push. 15.0% taken as ctrl size (774 customers).\n",
      "\n",
      "Between 0 and 2000 customers in control WH. 15.0% taken as ctrl size (441 customers).\n",
      "\n",
      "Between 0 and 2000 customers in control WH_Email. 15.0% taken as ctrl size (1151 customers).\n",
      "\n",
      "Between 0 and 2000 customers in control WH_Push. 15.0% taken as ctrl size (134 customers).\n",
      "\n",
      "Lost employees: 438\n",
      "Selected the best 12500 customers for WH for country = SK\n",
      "Report for creation of Campaign Controls\n",
      "\n",
      "\u001b[94mBase proportion for control group size = \u001b[0m\u001b[1m14.000000000000002%\u001b[0m\n",
      "\u001b[94mMinimum group size to create control = \u001b[0m\u001b[1m0 customers.\u001b[0m\n",
      "\u001b[94mMaximum group size for control = \u001b[0m\u001b[1m2000 customers.\u001b[0m\n",
      "\n",
      "Too many customers in control . Control size = 2000\n",
      "\n",
      "Too many customers in control Email. Control size = 2000\n",
      "\n",
      "Between 0 and 2000 customers in control Email_Push. 14.000000000000002% taken as ctrl size (10 customers).\n",
      "\n",
      "Between 0 and 2000 customers in control None. 14.000000000000002% taken as ctrl size (212 customers).\n",
      "\n",
      "Between 0 and 2000 customers in control Push. 14.000000000000002% taken as ctrl size (341 customers).\n",
      "\n",
      "Between 0 and 2000 customers in control WH. 14.000000000000002% taken as ctrl size (494 customers).\n",
      "\n",
      "Between 0 and 2000 customers in control WH_Email. 14.000000000000002% taken as ctrl size (1157 customers).\n",
      "\n",
      "Between 0 and 2000 customers in control WH_Push. 14.000000000000002% taken as ctrl size (101 customers).\n",
      "\n",
      "Lost employees: 194\n",
      "Selected the best 22400 customers for WH for country = HU\n",
      "Report for creation of Campaign Controls\n",
      "\n",
      "\u001b[94mBase proportion for control group size = \u001b[0m\u001b[1m30.0%\u001b[0m\n",
      "\u001b[94mMinimum group size to create control = \u001b[0m\u001b[1m0 customers.\u001b[0m\n",
      "\u001b[94mMaximum group size for control = \u001b[0m\u001b[1m2000 customers.\u001b[0m\n",
      "\n",
      "Too many customers in control . Control size = 2000\n",
      "\n",
      "Too many customers in control Email. Control size = 2000\n",
      "\n",
      "Between 0 and 2000 customers in control Email_Push. 30.0% taken as ctrl size (115 customers).\n",
      "\n",
      "Between 0 and 2000 customers in control None. 30.0% taken as ctrl size (1002 customers).\n",
      "\n",
      "Too many customers in control Push. Control size = 2000\n",
      "\n",
      "Between 0 and 2000 customers in control WH. 30.0% taken as ctrl size (1190 customers).\n",
      "\n",
      "Too many customers in control WH_Email. Control size = 2000\n",
      "\n",
      "Between 0 and 2000 customers in control WH_Push. 30.0% taken as ctrl size (998 customers).\n",
      "\n",
      "Lost employees: 225\n",
      "Selected the best 0 customers for WH for country = CH\n",
      "Report for creation of Campaign Controls\n",
      "\n",
      "\u001b[94mBase proportion for control group size = \u001b[0m\u001b[1m3.0%\u001b[0m\n",
      "\u001b[94mMinimum group size to create control = \u001b[0m\u001b[1m0 customers.\u001b[0m\n",
      "\u001b[94mMaximum group size for control = \u001b[0m\u001b[1m2000 customers.\u001b[0m\n",
      "\n",
      "Too many customers in control . Control size = 2000\n",
      "\n",
      "Between 0 and 2000 customers in control Email. 3.0% taken as ctrl size (1365 customers).\n",
      "\n",
      "Between 0 and 2000 customers in control None. 3.0% taken as ctrl size (5 customers).\n",
      "\n",
      "Between 0 and 2000 customers in control Push. 3.0% taken as ctrl size (1 customers).\n",
      "\n",
      "Lost employees: 242\n",
      "Selected the best 6000 customers for WH for country = HR\n",
      "Report for creation of Campaign Controls\n",
      "\n",
      "\u001b[94mBase proportion for control group size = \u001b[0m\u001b[1m18.0%\u001b[0m\n",
      "\u001b[94mMinimum group size to create control = \u001b[0m\u001b[1m0 customers.\u001b[0m\n",
      "\u001b[94mMaximum group size for control = \u001b[0m\u001b[1m2000 customers.\u001b[0m\n",
      "\n",
      "Too many customers in control . Control size = 2000\n",
      "\n"
     ]
    },
    {
     "name": "stdout",
     "output_type": "stream",
     "text": [
      "Too many customers in control Email. Control size = 2000\n",
      "\n",
      "Between 0 and 2000 customers in control None. 18.0% taken as ctrl size (73 customers).\n",
      "\n",
      "Between 0 and 2000 customers in control Push. 18.0% taken as ctrl size (136 customers).\n",
      "\n",
      "Between 0 and 2000 customers in control WH. 18.0% taken as ctrl size (177 customers).\n",
      "\n",
      "Between 0 and 2000 customers in control WH_Email. 18.0% taken as ctrl size (873 customers).\n",
      "\n",
      "Between 0 and 2000 customers in control WH_Push. 18.0% taken as ctrl size (32 customers).\n",
      "\n",
      "Lost employees: 203\n",
      "Selected the best 6000 customers for WH for country = RS\n",
      "Report for creation of Campaign Controls\n",
      "\n",
      "\u001b[94mBase proportion for control group size = \u001b[0m\u001b[1m18.0%\u001b[0m\n",
      "\u001b[94mMinimum group size to create control = \u001b[0m\u001b[1m0 customers.\u001b[0m\n",
      "\u001b[94mMaximum group size for control = \u001b[0m\u001b[1m2000 customers.\u001b[0m\n",
      "\n",
      "Too many customers in control . Control size = 2000\n",
      "\n",
      "Too many customers in control Email. Control size = 2000\n",
      "\n",
      "Between 0 and 2000 customers in control None. 18.0% taken as ctrl size (134 customers).\n",
      "\n",
      "Between 0 and 2000 customers in control Push. 18.0% taken as ctrl size (9 customers).\n",
      "\n",
      "Between 0 and 2000 customers in control WH. 18.0% taken as ctrl size (198 customers).\n",
      "\n",
      "Between 0 and 2000 customers in control WH_Email. 18.0% taken as ctrl size (879 customers).\n",
      "\n",
      "Between 0 and 2000 customers in control WH_Push. 18.0% taken as ctrl size (5 customers).\n",
      "\n"
     ]
    }
   ],
   "source": [
    "df_final_facto = pd.DataFrame()\n",
    "#df_final_orsay = pd.DataFrame()\n",
    "for i in df_facto.Country__c.unique():#list_country:#\n",
    "    df_curr = df_facto.loc[df_facto.Country__c == i]\n",
    "    df_clean = (df_curr\n",
    "    .pipe(start_pipeline)        # Make a copy\n",
    "    .pipe(lower_cols)            # Lower case\n",
    "    .pipe(rename_cols)           # Rename for comprehension\n",
    "    .pipe(campaign_ID)           # Add campaign ID\n",
    "    .pipe(exclude_employees)     # Exclude employees\n",
    "    .pipe(exclude_unprofitables)\n",
    "    .pipe(boolearize_opt_ins)    # Make booleans with opt-ins\n",
    "    .pipe(boolearize_permanent_ctrl)\n",
    "    .pipe(sort_per_score)        # Sort\n",
    "    .pipe(ceil_number_WH, \n",
    "          ceil=[v for k,v in number_WH_country.items() if k == i][0], country=i)\n",
    "    .pipe(compute_campaign_controls, \n",
    "          percent_ctrl=[v for k,v in percent_control_country.items() if k == i][0], \n",
    "          lower_threshold_for_ctrl=0, \n",
    "          upper_threshold_for_ctrl=2000)\n",
    "    .pipe(reorganize_columns)            \n",
    "    )\n",
    "    df_final_facto = df_final_facto.append(df_clean)"
   ]
  },
  {
   "cell_type": "code",
   "execution_count": 26,
   "metadata": {
    "ExecuteTime": {
     "end_time": "2020-03-25T14:47:24.829443Z",
     "start_time": "2020-03-25T14:47:23.159438Z"
    }
   },
   "outputs": [],
   "source": [
    "temp = df_final_facto.loc[~(df_final_facto.unprofitable.isna())]"
   ]
  },
  {
   "cell_type": "code",
   "execution_count": 27,
   "metadata": {
    "ExecuteTime": {
     "end_time": "2020-03-25T14:47:29.712259Z",
     "start_time": "2020-03-25T14:47:24.831976Z"
    }
   },
   "outputs": [
    {
     "data": {
      "text/plain": [
       "207320"
      ]
     },
     "execution_count": 27,
     "metadata": {},
     "output_type": "execute_result"
    }
   ],
   "source": [
    "df_final_facto.comm_stream.str.contains('WH').sum()"
   ]
  },
  {
   "cell_type": "code",
   "execution_count": 29,
   "metadata": {
    "ExecuteTime": {
     "end_time": "2020-03-25T14:47:56.245678Z",
     "start_time": "2020-03-25T14:47:56.128025Z"
    }
   },
   "outputs": [],
   "source": [
    "temp.loc[temp.comm_stream.str.contains('WH')].to_csv('unprofitables_whitemail_DressSpecial.csv')"
   ]
  },
  {
   "cell_type": "code",
   "execution_count": 30,
   "metadata": {
    "ExecuteTime": {
     "end_time": "2020-03-25T14:47:59.829617Z",
     "start_time": "2020-03-25T14:47:59.822639Z"
    }
   },
   "outputs": [
    {
     "data": {
      "text/plain": [
       "'D:\\\\'"
      ]
     },
     "execution_count": 30,
     "metadata": {},
     "output_type": "execute_result"
    }
   ],
   "source": [
    "pwd"
   ]
  },
  {
   "cell_type": "code",
   "execution_count": 36,
   "metadata": {
    "ExecuteTime": {
     "end_time": "2020-03-25T11:51:04.131665Z",
     "start_time": "2020-03-25T11:50:08.121639Z"
    }
   },
   "outputs": [],
   "source": [
    "df_merged = (pd.merge(df_final_facto[['sales_force_id','comm_stream', 'score']].rename(columns={'comm_stream':'comm_stream_facto', \n",
    "                                                                                               'score':'score_facto'}), \n",
    "                     df_final_orsay, \n",
    "                     how='outer', \n",
    "                     on='sales_force_id', \n",
    "                     indicator=True\n",
    "                    )\n",
    "             .rename(columns={'_merge': 'source'})\n",
    "             .replace(['right_only','left_only', ''], ['orsay_only','defacto_only', np.NaN])\n",
    "             #\n",
    "            )"
   ]
  },
  {
   "cell_type": "code",
   "execution_count": 46,
   "metadata": {
    "ExecuteTime": {
     "end_time": "2020-03-24T12:38:05.330722Z",
     "start_time": "2020-03-24T12:37:20.885855Z"
    }
   },
   "outputs": [],
   "source": [
    "df_merged.to_csv('overall_data_for_campaign_valuation.csv')"
   ]
  },
  {
   "cell_type": "code",
   "execution_count": 38,
   "metadata": {
    "ExecuteTime": {
     "end_time": "2020-03-24T12:32:12.669236Z",
     "start_time": "2020-03-24T12:32:11.950309Z"
    }
   },
   "outputs": [],
   "source": [
    "df_facto_only = df_merged.loc[(df_merged['source'] == 'defacto_only')]"
   ]
  },
  {
   "cell_type": "code",
   "execution_count": 127,
   "metadata": {
    "ExecuteTime": {
     "end_time": "2020-03-24T14:58:30.943331Z",
     "start_time": "2020-03-24T14:58:30.490462Z"
    }
   },
   "outputs": [
    {
     "data": {
      "text/plain": [
       "5710"
      ]
     },
     "execution_count": 127,
     "metadata": {},
     "output_type": "execute_result"
    }
   ],
   "source": [
    "df_facto_only.comm_stream_facto.str.contains('WH')"
   ]
  },
  {
   "cell_type": "code",
   "execution_count": 81,
   "metadata": {
    "ExecuteTime": {
     "end_time": "2020-03-24T13:00:27.407753Z",
     "start_time": "2020-03-24T13:00:26.913706Z"
    }
   },
   "outputs": [],
   "source": [
    "df_orsay_only = df_merged.loc[(df_merged['source'] == 'orsay_only')]"
   ]
  },
  {
   "cell_type": "code",
   "execution_count": 131,
   "metadata": {
    "ExecuteTime": {
     "end_time": "2020-03-24T14:59:49.731437Z",
     "start_time": "2020-03-24T14:59:47.200095Z"
    }
   },
   "outputs": [],
   "source": [
    "df_all_facto = (df_merged\n",
    "                     .loc[(df_merged['source'] == 'facto_only') | (df_merged['source'] == 'both')]\n",
    "                     .dropna(subset=['comm_stream_facto'])\n",
    "                      )"
   ]
  },
  {
   "cell_type": "code",
   "execution_count": 37,
   "metadata": {
    "ExecuteTime": {
     "end_time": "2020-03-25T11:51:07.140713Z",
     "start_time": "2020-03-25T11:51:04.132665Z"
    }
   },
   "outputs": [],
   "source": [
    "df_orsay_with_facto = (df_merged\n",
    "                     .loc[(df_merged['source'] == 'orsay_only') | (df_merged['source'] == 'both')]\n",
    "                     .dropna(subset=['comm_stream'])\n",
    "                      )"
   ]
  },
  {
   "cell_type": "code",
   "execution_count": 38,
   "metadata": {
    "ExecuteTime": {
     "end_time": "2020-03-25T11:51:08.972812Z",
     "start_time": "2020-03-25T11:51:07.141705Z"
    }
   },
   "outputs": [],
   "source": [
    "df_selected_WH = df_orsay_with_facto.loc[df_orsay_with_facto.comm_stream.str.contains('WH')]"
   ]
  },
  {
   "cell_type": "code",
   "execution_count": 39,
   "metadata": {
    "ExecuteTime": {
     "end_time": "2020-03-25T11:51:08.995673Z",
     "start_time": "2020-03-25T11:51:08.974675Z"
    }
   },
   "outputs": [],
   "source": [
    "df_orsay_campaign = df_selected_WH.loc[df_selected_WH.comm_stream_facto.isna()]"
   ]
  },
  {
   "cell_type": "code",
   "execution_count": 40,
   "metadata": {
    "ExecuteTime": {
     "end_time": "2020-03-25T11:51:09.834703Z",
     "start_time": "2020-03-25T11:51:08.997669Z"
    }
   },
   "outputs": [],
   "source": [
    "df_final_orsay = df_orsay_campaign.loc[ \n",
    "                       (df_orsay_campaign.country == 'DE')\n",
    "                      |(df_orsay_campaign.country == 'PL')\n",
    "                      |(df_orsay_campaign.country == 'HU')\n",
    "                      |(df_orsay_campaign.country == 'CZ')].drop(columns={'comm_stream_facto','score_facto', 'source'})\n",
    "#.groupby('country').count()"
   ]
  },
  {
   "cell_type": "code",
   "execution_count": 48,
   "metadata": {
    "ExecuteTime": {
     "end_time": "2020-03-25T12:06:51.002720Z",
     "start_time": "2020-03-25T12:06:50.964720Z"
    }
   },
   "outputs": [
    {
     "data": {
      "text/plain": [
       "country  campaign_ctrl\n",
       "CZ       False            7800\n",
       "         True              941\n",
       "DE       False            8276\n",
       "         True              948\n",
       "HU       False            2449\n",
       "         True              868\n",
       "PL       False            8019\n",
       "         True              897\n",
       "Name: sales_force_id, dtype: int64"
      ]
     },
     "execution_count": 48,
     "metadata": {},
     "output_type": "execute_result"
    }
   ],
   "source": [
    "df_final_orsay.groupby(['country', 'campaign_ctrl']).count().sales_force_id"
   ]
  },
  {
   "cell_type": "code",
   "execution_count": 42,
   "metadata": {
    "ExecuteTime": {
     "end_time": "2020-03-25T11:51:09.881674Z",
     "start_time": "2020-03-25T11:51:09.877677Z"
    }
   },
   "outputs": [],
   "source": [
    "df_final_orsay.comm_stream = 'WH'"
   ]
  },
  {
   "cell_type": "code",
   "execution_count": 43,
   "metadata": {
    "ExecuteTime": {
     "end_time": "2020-03-25T11:51:09.902672Z",
     "start_time": "2020-03-25T11:51:09.883671Z"
    }
   },
   "outputs": [
    {
     "data": {
      "text/html": [
       "<div>\n",
       "<style scoped>\n",
       "    .dataframe tbody tr th:only-of-type {\n",
       "        vertical-align: middle;\n",
       "    }\n",
       "\n",
       "    .dataframe tbody tr th {\n",
       "        vertical-align: top;\n",
       "    }\n",
       "\n",
       "    .dataframe thead th {\n",
       "        text-align: right;\n",
       "    }\n",
       "</style>\n",
       "<table border=\"1\" class=\"dataframe\">\n",
       "  <thead>\n",
       "    <tr style=\"text-align: right;\">\n",
       "      <th></th>\n",
       "      <th>sales_force_id</th>\n",
       "      <th>campaign_ID</th>\n",
       "      <th>comm_stream</th>\n",
       "      <th>permanent_ctrl</th>\n",
       "      <th>campaign_ctrl</th>\n",
       "      <th>country</th>\n",
       "      <th>score</th>\n",
       "    </tr>\n",
       "  </thead>\n",
       "  <tbody>\n",
       "    <tr>\n",
       "      <th>6960</th>\n",
       "      <td>0031i000004uxKDAAY</td>\n",
       "      <td>7011i000000Ln8MAAS</td>\n",
       "      <td>WH</td>\n",
       "      <td>False</td>\n",
       "      <td>False</td>\n",
       "      <td>PL</td>\n",
       "      <td>0.279113</td>\n",
       "    </tr>\n",
       "    <tr>\n",
       "      <th>13127</th>\n",
       "      <td>0031i00000400dcAAA</td>\n",
       "      <td>7011i000000Ln8MAAS</td>\n",
       "      <td>WH</td>\n",
       "      <td>False</td>\n",
       "      <td>False</td>\n",
       "      <td>PL</td>\n",
       "      <td>0.241904</td>\n",
       "    </tr>\n",
       "    <tr>\n",
       "      <th>40856</th>\n",
       "      <td>0031i000004wCr9AAE</td>\n",
       "      <td>7011i000000Ln8MAAS</td>\n",
       "      <td>WH</td>\n",
       "      <td>False</td>\n",
       "      <td>False</td>\n",
       "      <td>PL</td>\n",
       "      <td>0.418322</td>\n",
       "    </tr>\n",
       "    <tr>\n",
       "      <th>45868</th>\n",
       "      <td>00358000016a1NxAAI</td>\n",
       "      <td>7011i000000Ln8MAAS</td>\n",
       "      <td>WH</td>\n",
       "      <td>False</td>\n",
       "      <td>False</td>\n",
       "      <td>PL</td>\n",
       "      <td>0.390619</td>\n",
       "    </tr>\n",
       "    <tr>\n",
       "      <th>55901</th>\n",
       "      <td>0035800000kmk2cAAA</td>\n",
       "      <td>7011i000000Ln8MAAS</td>\n",
       "      <td>WH</td>\n",
       "      <td>False</td>\n",
       "      <td>False</td>\n",
       "      <td>PL</td>\n",
       "      <td>0.254644</td>\n",
       "    </tr>\n",
       "    <tr>\n",
       "      <th>...</th>\n",
       "      <td>...</td>\n",
       "      <td>...</td>\n",
       "      <td>...</td>\n",
       "      <td>...</td>\n",
       "      <td>...</td>\n",
       "      <td>...</td>\n",
       "      <td>...</td>\n",
       "    </tr>\n",
       "    <tr>\n",
       "      <th>8582145</th>\n",
       "      <td>0035800000yrgTTAAY</td>\n",
       "      <td>7011i000000Ln8HAAS</td>\n",
       "      <td>WH</td>\n",
       "      <td>False</td>\n",
       "      <td>False</td>\n",
       "      <td>HU</td>\n",
       "      <td>0.312655</td>\n",
       "    </tr>\n",
       "    <tr>\n",
       "      <th>8582146</th>\n",
       "      <td>0035800000yrJ1qAAE</td>\n",
       "      <td>7011i000000Ln8HAAS</td>\n",
       "      <td>WH</td>\n",
       "      <td>False</td>\n",
       "      <td>False</td>\n",
       "      <td>HU</td>\n",
       "      <td>0.257586</td>\n",
       "    </tr>\n",
       "    <tr>\n",
       "      <th>8582147</th>\n",
       "      <td>0031i00000J5gXRAAZ</td>\n",
       "      <td>7011i000000Ln8HAAS</td>\n",
       "      <td>WH</td>\n",
       "      <td>False</td>\n",
       "      <td>True</td>\n",
       "      <td>HU</td>\n",
       "      <td>0.203875</td>\n",
       "    </tr>\n",
       "    <tr>\n",
       "      <th>8582148</th>\n",
       "      <td>0035800000yrdC1AAI</td>\n",
       "      <td>7011i000000Ln8HAAS</td>\n",
       "      <td>WH</td>\n",
       "      <td>False</td>\n",
       "      <td>False</td>\n",
       "      <td>HU</td>\n",
       "      <td>0.315886</td>\n",
       "    </tr>\n",
       "    <tr>\n",
       "      <th>8582149</th>\n",
       "      <td>00358000011BIMKAA4</td>\n",
       "      <td>7011i000000Ln8HAAS</td>\n",
       "      <td>WH</td>\n",
       "      <td>False</td>\n",
       "      <td>False</td>\n",
       "      <td>HU</td>\n",
       "      <td>0.257262</td>\n",
       "    </tr>\n",
       "  </tbody>\n",
       "</table>\n",
       "<p>30198 rows × 7 columns</p>\n",
       "</div>"
      ],
      "text/plain": [
       "             sales_force_id         campaign_ID comm_stream permanent_ctrl  \\\n",
       "6960     0031i000004uxKDAAY  7011i000000Ln8MAAS          WH          False   \n",
       "13127    0031i00000400dcAAA  7011i000000Ln8MAAS          WH          False   \n",
       "40856    0031i000004wCr9AAE  7011i000000Ln8MAAS          WH          False   \n",
       "45868    00358000016a1NxAAI  7011i000000Ln8MAAS          WH          False   \n",
       "55901    0035800000kmk2cAAA  7011i000000Ln8MAAS          WH          False   \n",
       "...                     ...                 ...         ...            ...   \n",
       "8582145  0035800000yrgTTAAY  7011i000000Ln8HAAS          WH          False   \n",
       "8582146  0035800000yrJ1qAAE  7011i000000Ln8HAAS          WH          False   \n",
       "8582147  0031i00000J5gXRAAZ  7011i000000Ln8HAAS          WH          False   \n",
       "8582148  0035800000yrdC1AAI  7011i000000Ln8HAAS          WH          False   \n",
       "8582149  00358000011BIMKAA4  7011i000000Ln8HAAS          WH          False   \n",
       "\n",
       "        campaign_ctrl country     score  \n",
       "6960            False      PL  0.279113  \n",
       "13127           False      PL  0.241904  \n",
       "40856           False      PL  0.418322  \n",
       "45868           False      PL  0.390619  \n",
       "55901           False      PL  0.254644  \n",
       "...               ...     ...       ...  \n",
       "8582145         False      HU  0.312655  \n",
       "8582146         False      HU  0.257586  \n",
       "8582147          True      HU  0.203875  \n",
       "8582148         False      HU  0.315886  \n",
       "8582149         False      HU  0.257262  \n",
       "\n",
       "[30198 rows x 7 columns]"
      ]
     },
     "execution_count": 43,
     "metadata": {},
     "output_type": "execute_result"
    }
   ],
   "source": [
    "df_final_orsay"
   ]
  },
  {
   "cell_type": "code",
   "execution_count": 44,
   "metadata": {
    "ExecuteTime": {
     "end_time": "2020-03-25T12:05:18.615100Z",
     "start_time": "2020-03-25T12:05:18.610106Z"
    }
   },
   "outputs": [],
   "source": [
    "filename = 'file_campaign_dress_special_2020_Orsay'"
   ]
  },
  {
   "cell_type": "code",
   "execution_count": 45,
   "metadata": {
    "ExecuteTime": {
     "end_time": "2020-03-25T12:05:20.979372Z",
     "start_time": "2020-03-25T12:05:20.818211Z"
    }
   },
   "outputs": [],
   "source": [
    "# Save campaign file\n",
    "df_final_orsay.to_csv(filename+'.csv', index=False)"
   ]
  },
  {
   "cell_type": "code",
   "execution_count": 46,
   "metadata": {
    "ExecuteTime": {
     "end_time": "2020-03-25T12:05:26.408059Z",
     "start_time": "2020-03-25T12:05:25.241056Z"
    },
    "scrolled": false
   },
   "outputs": [],
   "source": [
    "# Overall Descriptive Table with all values\n",
    "descriptive_table = pd.DataFrame(df_final_orsay.groupby(['country',\n",
    "                                                   'comm_stream', \n",
    "                                                   #'permanent_ctrl',\n",
    "                                                   'campaign_ctrl'\n",
    "                                                  ])\n",
    "                                 .describe()['score']['count'])    \n",
    "\n",
    "descriptive_table.to_csv(filename+'_descriptive.csv')"
   ]
  },
  {
   "cell_type": "code",
   "execution_count": 47,
   "metadata": {
    "ExecuteTime": {
     "end_time": "2020-03-25T12:05:31.129171Z",
     "start_time": "2020-03-25T12:05:31.043136Z"
    },
    "scrolled": false
   },
   "outputs": [],
   "source": [
    "# Descriptive Table with structured values\n",
    "temp=pd.DataFrame(df_final_orsay\n",
    "                   .groupby(['country',\n",
    "                             'comm_stream', \n",
    "                             #'permanent_ctrl',\n",
    "                             'campaign_ctrl'\n",
    "                            ])\n",
    "                   .describe()['score']['count']\n",
    "            )\n",
    "campaign_false = (temp\n",
    ".reset_index(level=['campaign_ctrl', 'comm_stream'])\n",
    ".replace('', np.NaN)\n",
    ".dropna()\n",
    ".reset_index()\n",
    ".groupby(['country', 'comm_stream'])#['count']\n",
    ".first()\n",
    ".rename(columns={'count': 'value_target'})\n",
    ".drop(columns={'campaign_ctrl'})\n",
    ")\n",
    "campaign_true = (temp\n",
    ".reset_index(level=['campaign_ctrl', 'comm_stream'])\n",
    ".replace('', np.NaN)\n",
    ".dropna()\n",
    ".reset_index()\n",
    ".groupby(['country', 'comm_stream'])#['count']\n",
    ".last()\n",
    ".rename(columns={'count': 'value_ctrl'})\n",
    ".drop(columns={'campaign_ctrl'})\n",
    ")\n",
    "\n",
    "pd.concat([campaign_false, campaign_true],axis=1).to_csv(filename+'_descriptive_structured.csv')"
   ]
  },
  {
   "cell_type": "code",
   "execution_count": 75,
   "metadata": {
    "ExecuteTime": {
     "end_time": "2020-03-24T12:51:45.840987Z",
     "start_time": "2020-03-24T12:51:45.810047Z"
    }
   },
   "outputs": [
    {
     "name": "stdout",
     "output_type": "stream",
     "text": [
      "DE\n",
      "Push: 0.0\n",
      "Email: 0.0\n",
      "WH: 9224.0\n"
     ]
    }
   ],
   "source": [
    "country='DE'\n",
    "temp=descriptive_table.loc[(country)].reset_index()\n",
    "print(str(country))\n",
    "stream = 'Push'\n",
    "idx = temp.comm_stream.str.contains(stream)\n",
    "print(str(stream)+': ' +str(temp.loc[idx]['count'].sum()))\n",
    "stream = 'Email'\n",
    "idx = temp.comm_stream.str.contains(stream)\n",
    "print(str(stream)+': ' +str(temp.loc[idx]['count'].sum()))\n",
    "stream = 'WH'\n",
    "idx = temp.comm_stream.str.contains(stream)\n",
    "print(str(stream)+': ' +str(temp.loc[idx]['count'].sum()))"
   ]
  },
  {
   "cell_type": "code",
   "execution_count": null,
   "metadata": {},
   "outputs": [],
   "source": []
  }
 ],
 "metadata": {
  "kernelspec": {
   "display_name": "Python 3",
   "language": "python",
   "name": "python3"
  },
  "language_info": {
   "codemirror_mode": {
    "name": "ipython",
    "version": 3
   },
   "file_extension": ".py",
   "mimetype": "text/x-python",
   "name": "python",
   "nbconvert_exporter": "python",
   "pygments_lexer": "ipython3",
   "version": "3.7.5"
  }
 },
 "nbformat": 4,
 "nbformat_minor": 2
}
