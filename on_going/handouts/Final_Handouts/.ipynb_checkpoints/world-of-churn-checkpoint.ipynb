{
 "cells": [
  {
   "cell_type": "code",
   "execution_count": 1,
   "metadata": {},
   "outputs": [],
   "source": [
    "import pandas as pd\n",
    "import numpy as np \n",
    "import plotnine as p9 "
   ]
  },
  {
   "cell_type": "code",
   "execution_count": 2,
   "metadata": {},
   "outputs": [],
   "source": [
    "df = pd.read_csv(\"<PATH TO YOUR FILE>\")"
   ]
  },
  {
   "cell_type": "code",
   "execution_count": null,
   "metadata": {},
   "outputs": [],
   "source": [
    "def start_pipeline(dataf):\n",
    "    return dataf.copy()\n",
    "\n",
    "def clean_dataset(dataf):\n",
    "    dataf.columns = [c.lower().replace(\" \", \"\") for c in dataf]\n",
    "    return dataf.drop(columns=\"zone\")\n",
    "\n",
    "def parse_types(dataf):\n",
    "    return (dataf\n",
    "            .assign(charclass = lambda d: d['charclass'].str.lower())\n",
    "            .assign(race = lambda d: d['race'].str.lower())\n",
    "            .assign(timestamp = lambda d: pd.to_datetime(d['timestamp'], format=\"%m/%d/%y %H:%M:%S\")))\n",
    "\n",
    "clean_df = (df\n",
    " .pipe(start_pipeline)\n",
    " .pipe(clean_dataset)\n",
    " .pipe(parse_types))"
   ]
  },
  {
   "cell_type": "code",
   "execution_count": null,
   "metadata": {},
   "outputs": [],
   "source": [
    "def add_churn_label(dataf, before_period=(\"2008-01-01\", \"2008-03-01\"), \n",
    "                    after_period=(\"2008-04-01\", \"2008-06-01\"), min_rows=10):\n",
    "    before_df = (dataf\n",
    "                 .loc[lambda d: d['timestamp'] >= pd.to_datetime(before_period[0])]\n",
    "                 .loc[lambda d: d['timestamp'] < pd.to_datetime(before_period[1])])\n",
    "\n",
    "    after_df = (dataf\n",
    "                 .loc[lambda d: d['timestamp'] >= pd.to_datetime(after_period[0])]\n",
    "                 .loc[lambda d: d['timestamp'] < pd.to_datetime(after_period[1])])\n",
    "\n",
    "    before_chars = (before_df\n",
    "     .groupby(\"char\")\n",
    "     .count()\n",
    "     .loc[lambda d: d['level'] > min_rows]\n",
    "     .reset_index()['char'])\n",
    "\n",
    "    after_chars = (after_df\n",
    "     .groupby(\"char\")\n",
    "     .count()\n",
    "     .reset_index()['char'])\n",
    "\n",
    "    return (before_df\n",
    "     .loc[lambda d: d['char'].isin(before_chars)]\n",
    "     .assign(churned = lambda d: d['char'].isin(after_chars) == False))\n",
    "\n",
    "def prep_ml_features(dataf):\n",
    "    return (dataf\n",
    "            .groupby(['char', 'churned', 'race', 'charclass'])\n",
    "            .apply(lambda d: pd.Series({\n",
    "                'guild': float((d['guild'] > 0).max()),\n",
    "                'min_timestamp': d['timestamp'].iloc[0],\n",
    "                'time_played': float(d.shape[0]), \n",
    "                'max_level': float(d['level'].max()),\n",
    "                'min_level': float(d['level'].min())\n",
    "            }))\n",
    "            .reset_index()\n",
    "            .assign(gamer = lambda d: (d['min_timestamp'] < pd.to_datetime(\"2008-01-01 05:00:00\")).astype(float))\n",
    "            .assign(level_speed = lambda d: (d['max_level'] - d['min_level'])/(d['time_played']))\n",
    "            .assign(churned = lambda d: d['churned'].astype(float))\n",
    "            .drop(columns=['char']))\n",
    "\n",
    "ml_df = (clean_df\n",
    " .pipe(add_churn_label, min_rows=20)\n",
    " .pipe(prep_ml_features))\n",
    "\n",
    "ml_df.head(2)"
   ]
  },
  {
   "cell_type": "code",
   "execution_count": null,
   "metadata": {},
   "outputs": [],
   "source": [
    "from sklearn.metrics import accuracy_score, precision_score, recall_score, confusion_matrix"
   ]
  },
  {
   "cell_type": "code",
   "execution_count": null,
   "metadata": {},
   "outputs": [],
   "source": [
    "color_function = {0.0: \"blue\", 1.0: \"red\"}\n",
    "colors = ml_df['churned'].map(lambda x: color_function.get(x))\n",
    "pltr = ml_df[['time_played', 'max_level', 'min_level', 'level_speed', 'gamer', 'guild']]\n",
    "\n",
    "pd.plotting.scatter_matrix(pltr, c=colors, alpha = 0.2, figsize = (6, 6));"
   ]
  },
  {
   "cell_type": "code",
   "execution_count": null,
   "metadata": {},
   "outputs": [],
   "source": [
    "from sklearn.linear_model import LogisticRegression\n",
    "from sklearn.neighbors import KNeighborsClassifier\n",
    "from sklearn.pipeline import Pipeline, FeatureUnion\n",
    "from sklearn.preprocessing import OneHotEncoder, StandardScaler\n",
    "from sklearn.metrics import mean_absolute_error, mean_squared_error, make_scorer, precision_score, recall_score\n",
    "from sklearn.model_selection import GridSearchCV\n",
    "\n",
    "from sklego.datasets import load_chicken\n",
    "from sklego.preprocessing import ColumnSelector"
   ]
  },
  {
   "cell_type": "code",
   "execution_count": null,
   "metadata": {},
   "outputs": [],
   "source": [
    "import itertools as it"
   ]
  },
  {
   "cell_type": "code",
   "execution_count": null,
   "metadata": {},
   "outputs": [],
   "source": [
    "pipe = Pipeline([\n",
    "    (\"grab\", ColumnSelector(['time_played', 'max_level', 'min_level', 'level_speed', 'gamer', 'guild'])),\n",
    "    (\"standardize\", StandardScaler()),\n",
    "    (\"model\", KNeighborsClassifier())\n",
    "])"
   ]
  },
  {
   "cell_type": "code",
   "execution_count": null,
   "metadata": {},
   "outputs": [],
   "source": [
    "\"-\".join(ColumnSelector(['time_played']).columns)"
   ]
  },
  {
   "cell_type": "code",
   "execution_count": null,
   "metadata": {},
   "outputs": [],
   "source": [
    "grab = [ColumnSelector(['time_played']), \n",
    "        ColumnSelector(['time_played', 'guild']), \n",
    "        ColumnSelector(['time_played', 'guild', 'gamer']), \n",
    "        ColumnSelector(['time_played', 'guild', 'gamer', 'max_level']), \n",
    "        ColumnSelector(['time_played', 'max_level', 'min_level', 'level_speed', 'gamer', 'guild'])]\n",
    "\n",
    "models = [KNeighborsClassifier(n,  weights=d) for n, d in it.product(range(14, 18), ['uniform', 'distance'])]\n",
    "\n",
    "mod = GridSearchCV(estimator=pipe, \n",
    "                   n_jobs=8,\n",
    "                   return_train_score=True,\n",
    "                   scoring={'precision': make_scorer(precision_score), \n",
    "                            'recall': make_scorer(recall_score)},\n",
    "                   refit='precision',\n",
    "                   cv=20, iid=True, \n",
    "                   param_grid={\"model\": models, 'grab': grab})\n",
    "\n",
    "mod.fit(ml_df, ml_df['churned']);"
   ]
  },
  {
   "cell_type": "code",
   "execution_count": null,
   "metadata": {},
   "outputs": [],
   "source": [
    "output_df = (pd.DataFrame(mod.cv_results_)\n",
    "             .assign(features=lambda d: [len(_.columns) for _ in d['param_grab']])\n",
    "             .assign(n_neighbors=lambda d: [_.n_neighbors for _ in d['param_model']])\n",
    "             .assign(knn_weights=lambda d: [_.weights for _ in d['param_model']]))"
   ]
  },
  {
   "cell_type": "code",
   "execution_count": null,
   "metadata": {},
   "outputs": [],
   "source": [
    "(p9.ggplot() + \n",
    "  p9.geom_point(data=output_df, \n",
    "                mapping=p9.aes(\"mean_test_precision\", \"std_test_precision\", shape=\"knn_weights\", color=\"features\")))"
   ]
  },
  {
   "cell_type": "code",
   "execution_count": null,
   "metadata": {},
   "outputs": [],
   "source": [
    "mod.best_estimator_.steps[-1][1].n_neighbors"
   ]
  },
  {
   "cell_type": "code",
   "execution_count": null,
   "metadata": {},
   "outputs": [],
   "source": [
    "(output_df\n",
    " .assign(param_model=lambda d: [f\"{_.n_neighbors}-{_.weights}\" for _ in d['param_model']])\n",
    " .sort_values(\"rank_test_precision\")\n",
    " .head(4)\n",
    " .T)"
   ]
  }
 ],
 "metadata": {
  "kernelspec": {
   "display_name": "Python 3",
   "language": "python",
   "name": "python3"
  },
  "language_info": {
   "codemirror_mode": {
    "name": "ipython",
    "version": 3
   },
   "file_extension": ".py",
   "mimetype": "text/x-python",
   "name": "python",
   "nbconvert_exporter": "python",
   "pygments_lexer": "ipython3",
   "version": "3.7.0"
  }
 },
 "nbformat": 4,
 "nbformat_minor": 2
}
