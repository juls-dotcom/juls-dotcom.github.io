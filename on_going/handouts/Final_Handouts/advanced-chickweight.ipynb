{
 "cells": [
  {
   "cell_type": "markdown",
   "metadata": {},
   "source": [
    "# Advanced Chickweight \n",
    "\n",
    "- joins/merges/concatenations \n",
    "- dealing with missing values dropna\n",
    "- transformations instead of aggregations "
   ]
  },
  {
   "cell_type": "code",
   "execution_count": null,
   "metadata": {},
   "outputs": [],
   "source": [
    "import numpy as np\n",
    "import pandas as pd\n",
    "%matplotlib inline\n",
    "\n",
    "url = 'http://koaning.io/old/theme/data/chickweight.csv'\n",
    "chickweight = (pd.read_csv(url).rename(str.lower, axis='columns'))"
   ]
  },
  {
   "cell_type": "markdown",
   "metadata": {},
   "source": [
    "## Combining Datasets "
   ]
  },
  {
   "cell_type": "code",
   "execution_count": null,
   "metadata": {},
   "outputs": [],
   "source": [
    "chickweight.set_index('diet').head()"
   ]
  },
  {
   "cell_type": "code",
   "execution_count": null,
   "metadata": {},
   "outputs": [],
   "source": [
    "agg = (chickweight\n",
    "       .groupby('diet')\n",
    "       .apply(lambda d: pd.Series({\"mean_weight\": np.mean(d['weight'])})))\n",
    "\n",
    "agg"
   ]
  },
  {
   "cell_type": "code",
   "execution_count": null,
   "metadata": {},
   "outputs": [],
   "source": [
    "chickweight.set_index(\"diet\").join(agg).sample(6)"
   ]
  },
  {
   "cell_type": "code",
   "execution_count": null,
   "metadata": {},
   "outputs": [],
   "source": [
    "chickweight.merge(agg.reset_index()).sample(6)"
   ]
  },
  {
   "cell_type": "markdown",
   "metadata": {},
   "source": [
    "You may notice that there is overlap in the functionality of `.join()` and `.merge()`. The difference is minor;\n",
    "\n",
    "- **join** will merge based on the indices as base behavior\n",
    "- **merge** will join based on overlapping column names as base behavior \n",
    "\n",
    "You don't have to use these functions implicitly though, you can also use them explicitly to describe what columns should be merged on what other columns."
   ]
  },
  {
   "cell_type": "code",
   "execution_count": null,
   "metadata": {},
   "outputs": [],
   "source": [
    "chickweight.merge(agg.reset_index(), on=\"diet\").sample(3)"
   ]
  },
  {
   "cell_type": "markdown",
   "metadata": {},
   "source": [
    "# Assignment \n",
    "\n",
    "Suppose that we have an extra dataframe with some information we'd like to get joined to our original dataframe."
   ]
  },
  {
   "cell_type": "code",
   "execution_count": null,
   "metadata": {},
   "outputs": [],
   "source": [
    "agg = (chickweight\n",
    "       .groupby(['diet', 'time'])\n",
    "       .apply(lambda d: pd.Series({\n",
    "           \"weight\": d['weight'].mean(), \n",
    "           \"variance\": d['weight'].var()}))\n",
    "       .reset_index()\n",
    "       .rename(columns={\"time\": \"tijd\"}))\n",
    "\n",
    "agg.head(3)"
   ]
  },
  {
   "cell_type": "markdown",
   "metadata": {},
   "source": [
    "Write a statement that will join the two dataframes using the `chickweight.merge()` command. Make sure that you join on both the diet as well as the time (even though one dataframe is mis-spelled). In order to make it a nice join you might want to read the documentation of `chickweight.merge()` in order to figure out what the suffix settings might do and what other `on` settings exist.\n",
    "\n",
    "Note that you should use a **single** `.merge()` command for the join and little else.\n",
    "\n",
    "## Bonus Points \n",
    "\n",
    "Can you also perform the join using `agg.merge()`? "
   ]
  },
  {
   "cell_type": "code",
   "execution_count": null,
   "metadata": {},
   "outputs": [],
   "source": [
    "%load answers/joined_frames.py"
   ]
  },
  {
   "cell_type": "markdown",
   "metadata": {},
   "source": [
    "## Computation Time \n",
    "\n",
    "In principle the operation we just did is quite common. You want to group by some information (things like say, average session length) and add this information to a raw dataset. To perform the aggregation first makes sense but especially for large dataframes the join operation that follows after can be a bit expensive. \n",
    "\n",
    "This is why there's also a `.transform()` method. This method will do the aggregation as well as the join in one go. To demonstrate how this works, let us first check what the mean weight is per diet."
   ]
  },
  {
   "cell_type": "code",
   "execution_count": null,
   "metadata": {},
   "outputs": [],
   "source": [
    "chickweight.groupby(\"diet\").mean()['weight']"
   ]
  },
  {
   "cell_type": "markdown",
   "metadata": {},
   "source": [
    "Next up we will use the `.transform()` method on the grouped object. We will first check the shape."
   ]
  },
  {
   "cell_type": "code",
   "execution_count": null,
   "metadata": {},
   "outputs": [],
   "source": [
    "transformed = chickweight.groupby(\"diet\").transform(np.mean)['weight']\n",
    "transformed.shape"
   ]
  },
  {
   "cell_type": "markdown",
   "metadata": {},
   "source": [
    "We note that what comes out has the same shape as what came in. Next we check if the value corresponds with the 1st diet."
   ]
  },
  {
   "cell_type": "code",
   "execution_count": null,
   "metadata": {},
   "outputs": [],
   "source": [
    "transformed.head()"
   ]
  },
  {
   "cell_type": "markdown",
   "metadata": {},
   "source": [
    "It is indeed so."
   ]
  },
  {
   "cell_type": "markdown",
   "metadata": {},
   "source": [
    "# Assignment\n",
    "\n",
    "Take the original `chickweight` dataframe and create these columns on the raw data without performing a join: \n",
    "\n",
    "1. **mean_weight_diet**: which calculates the mean weight per diet \n",
    "2. **mean_weight_diet_time**: which calculates the mean weight per diet at a given time\n",
    "3. **num_chickens_diet**: which calculates the total number of chickens per diet"
   ]
  },
  {
   "cell_type": "code",
   "execution_count": null,
   "metadata": {},
   "outputs": [],
   "source": [
    "%load answers/transforms.py"
   ]
  },
  {
   "cell_type": "markdown",
   "metadata": {},
   "source": [
    "# Analysis Assignment \n",
    "\n",
    "When do chickens grow the most? Does the growth per time depend on the diet? Is there even a difference?\n",
    "\n",
    "- **Hint 1**: google the `shift` function on a series and note that it works differently when a `groupby` is active.\n",
    "- **Hint 2**: there is also an alternative function you can use for this, can you find it in the documentation? "
   ]
  },
  {
   "cell_type": "code",
   "execution_count": null,
   "metadata": {},
   "outputs": [],
   "source": [
    "%load answers/chicken_growth.py"
   ]
  },
  {
   "cell_type": "code",
   "execution_count": null,
   "metadata": {},
   "outputs": [],
   "source": [
    "%load answers/analysis.py"
   ]
  }
 ],
 "metadata": {
  "kernelspec": {
   "display_name": "Python 3",
   "language": "python",
   "name": "python3"
  },
  "language_info": {
   "codemirror_mode": {
    "name": "ipython",
    "version": 3
   },
   "file_extension": ".py",
   "mimetype": "text/x-python",
   "name": "python",
   "nbconvert_exporter": "python",
   "pygments_lexer": "ipython3",
   "version": "3.7.0"
  }
 },
 "nbformat": 4,
 "nbformat_minor": 2
}
