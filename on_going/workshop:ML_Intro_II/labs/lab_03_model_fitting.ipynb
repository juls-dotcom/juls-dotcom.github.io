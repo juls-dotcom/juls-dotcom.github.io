{
 "cells": [
  {
   "cell_type": "markdown",
   "metadata": {},
   "source": [
    "# Lab 03 - Model Fitting"
   ]
  },
  {
   "cell_type": "code",
   "execution_count": null,
   "metadata": {},
   "outputs": [],
   "source": [
    "import matplotlib.pyplot as plt\n",
    "import numpy as np\n",
    "import pandas as pd\n",
    "import seaborn as sns\n",
    "from sklearn import datasets\n",
    "%matplotlib inline\n",
    "sns.set_style(\"darkgrid\")\n",
    "\n",
    "import sys\n",
    "sys.path.append('../')\n",
    "from lib.processing_functions import convert_to_pandas"
   ]
  },
  {
   "cell_type": "markdown",
   "metadata": {},
   "source": [
    "## Exercise goals:\n",
    "\n",
    "- get comfortable with the model fitting flow\n",
    "- train several common machine learning algorithms "
   ]
  },
  {
   "cell_type": "markdown",
   "metadata": {},
   "source": [
    "---\n",
    "## Exercise 1: Regression\n",
    "\n",
    "We will fit a regression estimator to Boston dataset, and have a look at the results."
   ]
  },
  {
   "cell_type": "code",
   "execution_count": null,
   "metadata": {},
   "outputs": [],
   "source": [
    "# load the Boston dataset\n",
    "X, y = convert_to_pandas(datasets.load_boston())\n",
    "X.head()"
   ]
  },
  {
   "cell_type": "markdown",
   "metadata": {},
   "source": [
    "### 1.1 Fit simple linear model"
   ]
  },
  {
   "cell_type": "markdown",
   "metadata": {},
   "source": [
    "Fit a simple `LinearRegression` estimator with model hyperparameter `normalize` set to `True` to the data:"
   ]
  },
  {
   "cell_type": "markdown",
   "metadata": {},
   "source": [
    "```python\n",
    "# TODO: Replace <FILL IN> with appropriate code\n",
    "# 1) import estimator class\n",
    "<FILL IN> \n",
    "\n",
    "#2) initialize estimator model with specific parameters\n",
    "reg = <FILL IN>\n",
    "\n",
    "#3) fit model on the data\n",
    "reg.<FILL IN>\n",
    "\n",
    "#4) predict output for input data\n",
    "y_pred = reg.<FILL IN>\n",
    "\n",
    "print(reg)\n",
    "```"
   ]
  },
  {
   "cell_type": "code",
   "execution_count": null,
   "metadata": {},
   "outputs": [],
   "source": [
    "%load ../answers/03_01_fit_linear.py"
   ]
  },
  {
   "cell_type": "markdown",
   "metadata": {},
   "source": [
    "### 1.2 Prediction result"
   ]
  },
  {
   "cell_type": "markdown",
   "metadata": {},
   "source": [
    "Use the `truth_vs_prediction` function below to plot `y` versus `y_pred`:"
   ]
  },
  {
   "cell_type": "code",
   "execution_count": null,
   "metadata": {},
   "outputs": [],
   "source": [
    "def truth_vs_prediction(y, y_pred):\n",
    "    \"\"\"plot truth version predictions\"\"\"\n",
    "    fig, ax = plt.subplots()\n",
    "    fig.set_size_inches(8.0, 8.0)\n",
    "    y_max = y.max()\n",
    "    ax.plot(y, y_pred, 'o', markersize=3)\n",
    "    ax.plot([0, y_max],[0, y_max],':k')\n",
    "    ax.set_xlabel('truth')\n",
    "    ax.set_ylabel('prediction')\n",
    "    ax.set_xlim(0, y_max)\n",
    "    ax.set_ylim(0, y_max)\n",
    "    ax.set_aspect('equal')\n",
    "    ax.set_title(\"truth versus prediction\")\n",
    "\n",
    "# plot truth versus prediction\n",
    "truth_vs_prediction(y, y_pred)"
   ]
  },
  {
   "cell_type": "markdown",
   "metadata": {},
   "source": [
    "**Question**: Does the truth versus prediction plot show systematic errors in the predictions? If so, what systematic errors do you see?"
   ]
  },
  {
   "cell_type": "markdown",
   "metadata": {},
   "source": [
    "Apply the estimator's `.score()` method to the `X` and `y` data: "
   ]
  },
  {
   "cell_type": "markdown",
   "metadata": {},
   "source": [
    "```python\n",
    "# TODO: Replace <FILL IN> with appropriate code\n",
    "# compute estimator's default score for X and y data\n",
    "score = reg.<FILL IN>\n",
    "```"
   ]
  },
  {
   "cell_type": "code",
   "execution_count": null,
   "metadata": {},
   "outputs": [],
   "source": [
    "%load ../answers/03_02_score_linear.py"
   ]
  },
  {
   "cell_type": "code",
   "execution_count": null,
   "metadata": {},
   "outputs": [],
   "source": [
    "print('prediction score: {}'.format(score))"
   ]
  },
  {
   "cell_type": "markdown",
   "metadata": {},
   "source": [
    "**Question**: Which scoring measure is used by the `score` method of this estimator (hint: `help(reg.score)`)?"
   ]
  },
  {
   "cell_type": "markdown",
   "metadata": {},
   "source": [
    "### 1.3 Estimated model parameters"
   ]
  },
  {
   "cell_type": "markdown",
   "metadata": {},
   "source": [
    "Extract and visualize the estimated model coeffients:"
   ]
  },
  {
   "cell_type": "markdown",
   "metadata": {},
   "source": [
    "```python\n",
    "# TODO: Replace <FILL IN> with appropriate code\n",
    "# extract estimated coeficients\n",
    "coef = reg.<FILL IN>\n",
    "```"
   ]
  },
  {
   "cell_type": "code",
   "execution_count": null,
   "metadata": {},
   "outputs": [],
   "source": [
    "%load ../answers/03_03_coefficient.py"
   ]
  },
  {
   "cell_type": "code",
   "execution_count": null,
   "metadata": {},
   "outputs": [],
   "source": [
    "# plot the estimated coefficients\n",
    "feature_coef = pd.DataFrame(list(zip(X.columns, coef)), columns =['feature', 'coefficient'])\n",
    "feature_coef.set_index('feature').plot(kind='bar', figsize=(10.0, 5.5))"
   ]
  },
  {
   "cell_type": "markdown",
   "metadata": {},
   "source": [
    "**Question**: What could be the reason that the estimated NOX coefficient is that large in size? Is it due to its awesome predictive power, or could something else be at play here? (hint: look at the descriptive statistics we computed in Lab 1)"
   ]
  },
  {
   "cell_type": "markdown",
   "metadata": {},
   "source": [
    "Didn't we also fit an intercept? Print its value below:"
   ]
  },
  {
   "cell_type": "markdown",
   "metadata": {},
   "source": [
    "```python\n",
    "# TODO: Replace <FILL IN> with appropriate code\n",
    "# extract the intercept\n",
    "intercept = reg.<FILL IN> \n",
    "```"
   ]
  },
  {
   "cell_type": "code",
   "execution_count": null,
   "metadata": {},
   "outputs": [],
   "source": [
    "%load ../answers/03_04_intercept.py"
   ]
  },
  {
   "cell_type": "code",
   "execution_count": null,
   "metadata": {},
   "outputs": [],
   "source": [
    "print(\"estimated intercept: {}\".format(intercept))"
   ]
  },
  {
   "cell_type": "markdown",
   "metadata": {},
   "source": [
    "**Question**: How should we initialize the `LinearRegression` estimator if we do not want to fit the intercept? "
   ]
  },
  {
   "cell_type": "markdown",
   "metadata": {},
   "source": [
    "---\n",
    "## Exercise 2: Classification \n",
    "\n",
    "Let's do some classification on the digits dataset."
   ]
  },
  {
   "cell_type": "code",
   "execution_count": null,
   "metadata": {},
   "outputs": [],
   "source": [
    "# load the digits dataset\n",
    "X, y = convert_to_pandas(datasets.load_digits())"
   ]
  },
  {
   "cell_type": "markdown",
   "metadata": {},
   "source": [
    "### 2.1 Fit linear SVM model"
   ]
  },
  {
   "cell_type": "markdown",
   "metadata": {},
   "source": [
    "Fit a the classifier `svm.LinearSVC` with `'l2'` `penalty` to the data:"
   ]
  },
  {
   "cell_type": "markdown",
   "metadata": {},
   "source": [
    "```python\n",
    "# TODO: Replace <FILL IN> with appropriate code\n",
    "# 1) import estimator class\n",
    "<FILL IN> \n",
    "\n",
    "#2) initialize estimator model with specific parameters\n",
    "clf = <FILL IN> \n",
    "\n",
    "#3) fit model on the data\n",
    "clf.<FILL IN> \n",
    "\n",
    "#4) predict output for input data\n",
    "y_pred = clf.<FILL IN> \n",
    "\n",
    "print(clf)\n",
    "```"
   ]
  },
  {
   "cell_type": "code",
   "execution_count": null,
   "metadata": {},
   "outputs": [],
   "source": [
    "%load ../answers/03_05_fit_svm.py"
   ]
  },
  {
   "cell_type": "markdown",
   "metadata": {},
   "source": [
    "### 2.1 Model score"
   ]
  },
  {
   "cell_type": "markdown",
   "metadata": {},
   "source": [
    "Apply the estimator's `score` method to the `X` and `y` data: "
   ]
  },
  {
   "cell_type": "markdown",
   "metadata": {},
   "source": [
    "```python\n",
    "# TODO: Replace <FILL IN> with appropriate code\n",
    "# compute score for X and y data\n",
    "score = clf.<FILL IN> \n",
    "```"
   ]
  },
  {
   "cell_type": "code",
   "execution_count": null,
   "metadata": {},
   "outputs": [],
   "source": [
    "%load ../answers/03_06_score_svm.py"
   ]
  },
  {
   "cell_type": "code",
   "execution_count": null,
   "metadata": {},
   "outputs": [],
   "source": [
    "print('prediction score: {}'.format(score))"
   ]
  },
  {
   "cell_type": "markdown",
   "metadata": {},
   "source": [
    "**Question**: Which scoring metric is used by the `score` method of this estimator? Why do you think our score is this good?"
   ]
  },
  {
   "cell_type": "markdown",
   "metadata": {},
   "source": [
    "### 2.3 Estimated model parameters"
   ]
  },
  {
   "cell_type": "markdown",
   "metadata": {},
   "source": [
    "Let's have a look at the fitted model coefficients:"
   ]
  },
  {
   "cell_type": "markdown",
   "metadata": {},
   "source": [
    "```python\n",
    "# TODO: Replace <FILL IN> with appropriate code\n",
    "# extract estimated coefficients\n",
    "coef = clf.<FILL IN> \n",
    "```"
   ]
  },
  {
   "cell_type": "code",
   "execution_count": null,
   "metadata": {},
   "outputs": [],
   "source": [
    "%load ../answers/03_07_coefficient.py"
   ]
  },
  {
   "cell_type": "code",
   "execution_count": null,
   "metadata": {},
   "outputs": [],
   "source": [
    "coef.shape"
   ]
  },
  {
   "cell_type": "markdown",
   "metadata": {},
   "source": [
    "Notice how the shape of the estimated `coef_` matrix is (10, 64); our classifier fitted ten models to solve this classification problem. \n",
    "\n",
    "The digits dataset has ten classes, this means here we are solving a [multiclass classification](https://en.wikipedia.org/wiki/Multiclass_classification classication) problem. The estimator deals with this problem by first converting it into a set of ten binary classification problems, using a so-called one-versus-rest strategy. It then fits one model for each binary problem. We will discuss this approach in more detail later on in this course."
   ]
  },
  {
   "cell_type": "markdown",
   "metadata": {},
   "source": [
    "Run the cell below to show the absolute mean estimated coefficients for the fitted models. Notice that resulting plot shows the absolute feature coefficient size mapped to their place in the digit image:"
   ]
  },
  {
   "cell_type": "code",
   "execution_count": null,
   "metadata": {},
   "outputs": [],
   "source": [
    "mean_abs_coefs = np.abs(clf.coef_).mean(axis=0)\n",
    "plt.matshow(mean_abs_coefs.reshape(8, 8))"
   ]
  },
  {
   "cell_type": "markdown",
   "metadata": {},
   "source": [
    "**Question**: The figure above shows that the estimated coefficents for the features at left and right border of the image are almost all zero or small. How does this relate to the result from Lab 1?"
   ]
  },
  {
   "cell_type": "markdown",
   "metadata": {},
   "source": [
    "---\n",
    "## Exercise 3: Dimensionality reduction"
   ]
  },
  {
   "cell_type": "markdown",
   "metadata": {},
   "source": [
    "Let's apply the unsupervised method of PCA to the digits datasets to reduce its dimensionality. "
   ]
  },
  {
   "cell_type": "code",
   "execution_count": null,
   "metadata": {},
   "outputs": [],
   "source": [
    "# load the digits dataset\n",
    "X, y = convert_to_pandas(datasets.load_digits())"
   ]
  },
  {
   "cell_type": "markdown",
   "metadata": {},
   "source": [
    "### 3.1 Fit PCA model\n",
    "\n",
    "Fit a `PCA` estimator with parameter `n_components` set to 2 to the data:"
   ]
  },
  {
   "cell_type": "markdown",
   "metadata": {},
   "source": [
    "```python\n",
    "# TODO: Replace <FILL IN> with appropriate code\n",
    "# 1) import estimator class\n",
    "<FILL IN>\n",
    "\n",
    "#2) initialize estimator model with specific parameters\n",
    "dec = <FILL IN>\n",
    "\n",
    "#3) fit model on the data\n",
    "dec.<FILL IN>\n",
    "\n",
    "#4) transform the input data\n",
    "X_trans = dec.<FILL IN>\n",
    "\n",
    "print(dec)\n",
    "```"
   ]
  },
  {
   "cell_type": "code",
   "execution_count": null,
   "metadata": {},
   "outputs": [],
   "source": [
    "%load ../answers/03_08_fit_pca.py"
   ]
  },
  {
   "cell_type": "markdown",
   "metadata": {},
   "source": [
    "### 3.2 Transformation result"
   ]
  },
  {
   "cell_type": "markdown",
   "metadata": {},
   "source": [
    "Print the shape of the tranformed feature data:"
   ]
  },
  {
   "cell_type": "code",
   "execution_count": null,
   "metadata": {},
   "outputs": [],
   "source": [
    "new_shape = X_trans.shape\n",
    "print(\"shape after transform: {}\".format(new_shape))"
   ]
  },
  {
   "cell_type": "markdown",
   "metadata": {},
   "source": [
    "**Question**: What would be the shape of `X_trans` if we initialize the PCA with `n_components=3`?"
   ]
  },
  {
   "cell_type": "markdown",
   "metadata": {},
   "source": [
    "Run the cell below to visualize this transformed feature data: "
   ]
  },
  {
   "cell_type": "code",
   "execution_count": null,
   "metadata": {},
   "outputs": [],
   "source": [
    "fig, ax = plt.subplots(figsize=(8, 6))\n",
    "fig.set_size_inches(11.5, 8.0)\n",
    "cax = ax.scatter(X_trans[:, 0], X_trans[:, 1], c=y, edgecolor='none', \n",
    "                 alpha=0.5, cmap=plt.cm.get_cmap('nipy_spectral', 10))\n",
    "cbar = fig.colorbar(cax, label='digit label', ticks=range(10))\n",
    "cbar.set_clim(-0.5, 9.5)\n",
    "fig.suptitle('transformed digit data', fontsize=16)"
   ]
  },
  {
   "cell_type": "markdown",
   "metadata": {},
   "source": [
    "**Question**: Which digits seem to the easiest to keep apart, and which ones are harder to separate?"
   ]
  },
  {
   "cell_type": "code",
   "execution_count": null,
   "metadata": {},
   "outputs": [],
   "source": [
    "%load ../answers/03_questions.py"
   ]
  }
 ],
 "metadata": {
  "anaconda-cloud": {},
  "kernelspec": {
   "display_name": "Python [default]",
   "language": "python",
   "name": "python3"
  },
  "language_info": {
   "codemirror_mode": {
    "name": "ipython",
    "version": 3
   },
   "file_extension": ".py",
   "mimetype": "text/x-python",
   "name": "python",
   "nbconvert_exporter": "python",
   "pygments_lexer": "ipython3",
   "version": "3.6.6"
  }
 },
 "nbformat": 4,
 "nbformat_minor": 1
}
