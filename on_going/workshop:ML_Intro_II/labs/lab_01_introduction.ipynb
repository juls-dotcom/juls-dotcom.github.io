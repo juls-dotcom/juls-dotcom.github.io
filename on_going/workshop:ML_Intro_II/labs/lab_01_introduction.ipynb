{
 "cells": [
  {
   "cell_type": "markdown",
   "metadata": {},
   "source": [
    "# Lab 01 - Introduction"
   ]
  },
  {
   "cell_type": "code",
   "execution_count": null,
   "metadata": {},
   "outputs": [],
   "source": [
    "import matplotlib.pyplot as plt\n",
    "import numpy as np\n",
    "import pandas as pd\n",
    "import seaborn as sns\n",
    "from sklearn import datasets\n",
    "%matplotlib inline\n",
    "sns.set_style(\"darkgrid\")\n",
    "\n",
    "import sys\n",
    "sys.path.append('../')\n",
    "from lib.processing_functions import convert_to_pandas"
   ]
  },
  {
   "cell_type": "markdown",
   "metadata": {},
   "source": [
    "## Exercise goals:\n",
    "\n",
    "- Familiarize yourself with the scikit-learn online documentation\n",
    "- Explore some of the datasets that will be used"
   ]
  },
  {
   "cell_type": "markdown",
   "metadata": {},
   "source": [
    "---\n",
    "## Exercise 1: Scikit-learn online documentation"
   ]
  },
  {
   "cell_type": "markdown",
   "metadata": {},
   "source": [
    "### 1.1 Display the estimator cheat-sheet\n",
    "\n",
    "Find the estimator cheat-sheet on the online documentation. Copy the image url and use it in the cell below to display the cheat sheet in this notebook:\n",
    "\n",
    "(In case this doesn't work: just keep it open in another tab in your browser.)"
   ]
  },
  {
   "cell_type": "markdown",
   "metadata": {},
   "source": [
    "```python\n",
    "# TODO: Replace <FILL IN> with appropriate code\n",
    "from IPython.display import Image\n",
    "url = <FILL IN>\n",
    "Image(url)\n",
    "```"
   ]
  },
  {
   "cell_type": "code",
   "execution_count": null,
   "metadata": {},
   "outputs": [],
   "source": [
    "%load ../answers/01_01_estimator.py"
   ]
  },
  {
   "cell_type": "markdown",
   "metadata": {},
   "source": [
    "### 1.2 Analyze the cheat-sheet \n",
    "\n",
    "- What are the four main classes of algorithms found on cheat-sheet?\n",
    "- If one wants to do classification on a moderate size text dataset, what does the cheat-sheet advise?\n",
    "- Use the scikit-learn website to figure out how the statement \"few features should be important\" on the cheat-sheet relates to the Lasso algorithm."
   ]
  },
  {
   "cell_type": "markdown",
   "metadata": {},
   "source": [
    "### 1.3 Scikit-learn documentation\n",
    "\n",
    "Click on the following link http://scikit-learn.org/stable/documentation.html and answer the questions below:\n",
    "\n",
    "- What are the 7 topics of the scikit-learn user guide?\n",
    "- Go to '1.1. Generalized Linear Models' of the user guide; make a list of the algorithms described here with which you're not yet familiar with.\n",
    "- What does the user guide state as the use-case for K-Means clustering in '2.3. Clustering'? \n",
    "- Use the API documentation to list three of the metrics present in the `sklearn.metrics` module. What is the required input for the `f1_score` function?"
   ]
  },
  {
   "cell_type": "markdown",
   "metadata": {},
   "source": [
    "---\n",
    "## Exercise 2: Boston dataset"
   ]
  },
  {
   "cell_type": "markdown",
   "metadata": {},
   "source": [
    "### 2.1 Dataset description:"
   ]
  },
  {
   "cell_type": "markdown",
   "metadata": {},
   "source": [
    "Consider the description of this dataset printed below:"
   ]
  },
  {
   "cell_type": "code",
   "execution_count": null,
   "metadata": {
    "scrolled": true
   },
   "outputs": [],
   "source": [
    "boston = datasets.load_boston()\n",
    "print(boston.DESCR)"
   ]
  },
  {
   "cell_type": "markdown",
   "metadata": {},
   "source": [
    "**Question**: For what type of learning problems is this dataset useful (eg. regression, classification or clustering)? "
   ]
  },
  {
   "cell_type": "markdown",
   "metadata": {},
   "source": [
    "### 2.2 Descriptive statistics\n",
    "\n",
    "Use pandas to show the descriptive statistics of this dataset:"
   ]
  },
  {
   "cell_type": "markdown",
   "metadata": {},
   "source": [
    "```python\n",
    "# TODO: Replace <FILL IN> with appropriate code\n",
    "# load the boston dataset\n",
    "X, y = convert_to_pandas(boston)\n",
    "\n",
    "# join features and targets\n",
    "all_data = X.join(y)\n",
    "\n",
    "# Show descriptive statistics\n",
    "all_data.<FILL IN>\n",
    "```"
   ]
  },
  {
   "cell_type": "code",
   "execution_count": null,
   "metadata": {},
   "outputs": [],
   "source": [
    "%load ../answers/01_02_descriptive.py"
   ]
  },
  {
   "cell_type": "markdown",
   "metadata": {},
   "source": [
    "**Question**: Which feature has the largest spread and which one the smallest spread? Is this useful information to know?"
   ]
  },
  {
   "cell_type": "markdown",
   "metadata": {},
   "source": [
    "### 2.3 Correlation "
   ]
  },
  {
   "cell_type": "markdown",
   "metadata": {},
   "source": [
    "Use Pandas to show that pairwise correlation of the target and all the features:"
   ]
  },
  {
   "cell_type": "markdown",
   "metadata": {},
   "source": [
    "```python\n",
    "# TODO: Replace <FILL IN> with appropriate code\n",
    "# compute all pair wise correlations\n",
    "pairwise_corr = all_data.<FILL IN>\n",
    "\n",
    "# display result:\n",
    "pairwise_corr['target'].plot(kind='bar');\n",
    "```"
   ]
  },
  {
   "cell_type": "code",
   "execution_count": null,
   "metadata": {},
   "outputs": [],
   "source": [
    "%load ../answers/01_03_correlation.py"
   ]
  },
  {
   "cell_type": "markdown",
   "metadata": {},
   "source": [
    "**Question**: Which feature has the largest (absolute) correlation with the target? Describe the found correlation."
   ]
  },
  {
   "cell_type": "markdown",
   "metadata": {},
   "source": [
    "---\n",
    "## Exercise 3: Digits dataset"
   ]
  },
  {
   "cell_type": "markdown",
   "metadata": {},
   "source": [
    "Import the digits dataset:"
   ]
  },
  {
   "cell_type": "code",
   "execution_count": null,
   "metadata": {},
   "outputs": [],
   "source": [
    "# load the digits dataset\n",
    "digits = datasets.load_digits()\n",
    "X, y = convert_to_pandas(digits)"
   ]
  },
  {
   "cell_type": "markdown",
   "metadata": {},
   "source": [
    "### 3.1 Display a digit\n",
    "\n",
    "Each feature in the dataset represents a pixel value of an 8x8 gray-scale image of a digit.\n",
    "The images are flattened in 64 features and each image is a row in `X`.\n",
    "\n",
    "Reshape `feature_vector` (a single image of `X`) as an 8x8 image matrix using `.values.reshape()` and use the `show_digit` function to display the result:"
   ]
  },
  {
   "cell_type": "code",
   "execution_count": null,
   "metadata": {},
   "outputs": [],
   "source": [
    "def show_digit(image, label=None, color='green', ax=None):\n",
    "    \"\"\"Shows a single digit.\n",
    "    \n",
    "    Parameters:\n",
    "    -----------\n",
    "    image : numpy 2D array\n",
    "        Image to show.\n",
    "    label : str, default None \n",
    "        Text to show on figure.\n",
    "    color : str, default 'green'\n",
    "        Color of text.\n",
    "    ax : matplotlib axes\n",
    "        Axis to plot on.\n",
    "    \"\"\"\n",
    "    if ax is None:\n",
    "        fig, ax = plt.subplots(1, 1, figsize=(2,2))\n",
    "    ax.imshow(image, cmap='binary', interpolation='nearest')\n",
    "    ax.set_axis_off()\n",
    "    if label is not None:\n",
    "        ax.text(0, 0, str(label), transform=ax.transAxes, color=color, \n",
    "                fontsize=16)"
   ]
  },
  {
   "cell_type": "markdown",
   "metadata": {},
   "source": [
    "```python\n",
    "# TODO: Replace <FILL IN> with appropriate code\n",
    "# select one feature vector\n",
    "feature_vector = X.iloc[65]\n",
    "\n",
    "# convert the feature vector into an image matrix\n",
    "image_matrix = feature_vector.<FILL IN>\n",
    "\n",
    "# display the digit\n",
    "show_digit(image_matrix)\n",
    "```"
   ]
  },
  {
   "cell_type": "code",
   "execution_count": null,
   "metadata": {},
   "outputs": [],
   "source": [
    "%load ../answers/01_04_display_digit.py"
   ]
  },
  {
   "cell_type": "markdown",
   "metadata": {},
   "source": [
    "### 3.2 Display 20 digits and their labels\n",
    "\n",
    "The function `display_digits` below shows multiple digits with their labels. Use the function to display 20 digits and their labels:"
   ]
  },
  {
   "cell_type": "code",
   "execution_count": null,
   "metadata": {},
   "outputs": [],
   "source": [
    "# TODO: Replace <FILL IN> with appropriate code\n",
    "def display_digits(X, y, y_pred=None, n_max=20):\n",
    "    \"\"\"Display multiple digits.\n",
    "    \n",
    "    Parameters\n",
    "    ----------\n",
    "    X : numpy ndarray or pandas DataFrame\n",
    "        Image data (size n_images x n_pixels).\n",
    "    y : iterable\n",
    "        True labels (size n_images x 1).\n",
    "    y_pred : iterable\n",
    "        Predicted labels (size n_images x 1).\n",
    "    n_max : int\n",
    "        Maximum images to plot.\n",
    "    \"\"\"\n",
    "    n = n_max if len(X) > n_max else len(X)\n",
    "    if not isinstance(X, pd.DataFrame):\n",
    "        X = pd.DataFrame(X[:n, :])\n",
    "    if not isinstance(y_pred, pd.Series) and y_pred is not None:\n",
    "        y_pred = pd.Series(y_pred)\n",
    "    ncol = 10\n",
    "    nrow = (n - 1) // ncol + 1\n",
    "    fig,axes = plt.subplots(nrow, ncol, figsize=(ncol, nrow))\n",
    "    fig.subplots_adjust(hspace=0.1, wspace=0.1)\n",
    "    for i,ax in enumerate(axes.flat):\n",
    "        if i<n:\n",
    "            image = X.iloc[i].values.reshape(8,8)\n",
    "            label = y.iloc[i] if y_pred is None else y_pred.iloc[i]\n",
    "            color = 'green' if y.iloc[i] == label else 'red'\n",
    "            show_digit(image, label, color, ax=ax)\n",
    "        else:\n",
    "            ax.axis('off')\n",
    "    return fig"
   ]
  },
  {
   "cell_type": "markdown",
   "metadata": {},
   "source": [
    "```python\n",
    "# display 20 digits        \n",
    "fig = <FILL IN>\n",
    "```"
   ]
  },
  {
   "cell_type": "code",
   "execution_count": null,
   "metadata": {},
   "outputs": [],
   "source": [
    "%load ../answers/01_05_display_20.py"
   ]
  },
  {
   "cell_type": "markdown",
   "metadata": {},
   "source": [
    "### 3.3 Target analysis"
   ]
  },
  {
   "cell_type": "markdown",
   "metadata": {},
   "source": [
    "When doing classification it is important to know if our dataset is balanced, or in other words: if the number of samples per class is approximately equal.\n",
    "\n",
    "Plot the value counts of the different labels in the data set:"
   ]
  },
  {
   "cell_type": "markdown",
   "metadata": {},
   "source": [
    "```python\n",
    "# TODO: Replace <FILL IN> with appropriate code\n",
    "# use the value counts method to count the labels \n",
    "label_counts = y.<FILL IN>\n",
    "\n",
    "# compute the average label count of all classes\n",
    "avg_count = label_counts.mean()\n",
    "print(\"avg label count: {}\".format(avg_count))\n",
    "\n",
    "# display the count for each label\n",
    "label_counts.sort_index().plot(kind='bar',title='target label counts');\n",
    "```"
   ]
  },
  {
   "cell_type": "code",
   "execution_count": null,
   "metadata": {},
   "outputs": [],
   "source": [
    "%load ../answers/01_06_target.py"
   ]
  },
  {
   "cell_type": "markdown",
   "metadata": {},
   "source": [
    "**Question**: Is the digits dataset balanced?"
   ]
  },
  {
   "cell_type": "markdown",
   "metadata": {},
   "source": [
    "### 3.4 Feature analysis"
   ]
  },
  {
   "cell_type": "markdown",
   "metadata": {},
   "source": [
    "To learn a bit more about the features in the digits data we will look at the histogram of a feature's values over all samples.\n",
    "\n",
    "Complete the cell below to show a histogram of the values of feature 35:"
   ]
  },
  {
   "cell_type": "markdown",
   "metadata": {},
   "source": [
    "```python\n",
    "# TODO: Replace <FILL IN> with appropriate code\n",
    "# specifiy which feature column to select\n",
    "sel_feature = 'feature_35'\n",
    "# plot histogram\n",
    "ax = X[sel_feature].<FILL IN>\n",
    "ax.set_title('Value histogram {}'.format(sel_feature));\n",
    "```"
   ]
  },
  {
   "cell_type": "code",
   "execution_count": null,
   "metadata": {},
   "outputs": [],
   "source": [
    "%load ../answers/01_07_feature.py"
   ]
  },
  {
   "cell_type": "markdown",
   "metadata": {},
   "source": [
    "**Question**: What does the histogram tell us about the value distribution of feature 35? What is the location of this feature in the digit image?"
   ]
  },
  {
   "cell_type": "markdown",
   "metadata": {},
   "source": [
    "Run the cell below to plot value histograms for each feature in the dataset. Note that the histogram's grid location corresponds to the pixel location in the 8 by 8 digit image.  "
   ]
  },
  {
   "cell_type": "code",
   "execution_count": null,
   "metadata": {
    "scrolled": false
   },
   "outputs": [],
   "source": [
    "g = sns.FacetGrid(pd.melt(X), col='features', col_wrap=8, size=1., aspect=1.1)\n",
    "bins = np.linspace(0, 16, 10)\n",
    "g.map(plt.hist, 'value' ,color=\"steelblue\", bins=bins)\n",
    "for ax in g.axes.flat:\n",
    "    ax.set_title('')\n",
    "    ax.set_aspect('auto')\n",
    "    ax.set_yticks([0,len(X)])\n",
    "    ax.set_xticks([0,16])\n",
    "g.fig.tight_layout(pad=0.4)\n",
    "g.fig.suptitle('feature value histograms', fontsize=16, y=1.02);"
   ]
  },
  {
   "cell_type": "markdown",
   "metadata": {},
   "source": [
    "**Question**: Based on this plot; which pixels do you think are the most useful for classification of the digits? And which ones will probably be less useful?"
   ]
  },
  {
   "cell_type": "code",
   "execution_count": null,
   "metadata": {},
   "outputs": [],
   "source": [
    "%load ../answers/01_questions.py"
   ]
  }
 ],
 "metadata": {
  "anaconda-cloud": {},
  "kernelspec": {
   "display_name": "Python [default]",
   "language": "python",
   "name": "python3"
  },
  "language_info": {
   "codemirror_mode": {
    "name": "ipython",
    "version": 3
   },
   "file_extension": ".py",
   "mimetype": "text/x-python",
   "name": "python",
   "nbconvert_exporter": "python",
   "pygments_lexer": "ipython3",
   "version": "3.6.6"
  }
 },
 "nbformat": 4,
 "nbformat_minor": 1
}
