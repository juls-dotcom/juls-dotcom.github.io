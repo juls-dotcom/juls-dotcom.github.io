{
 "cells": [
  {
   "cell_type": "code",
   "execution_count": 1,
   "metadata": {
    "slideshow": {
     "slide_type": "skip"
    }
   },
   "outputs": [
    {
     "name": "stderr",
     "output_type": "stream",
     "text": [
      "/Users/roel/anaconda/lib/python3.6/site-packages/statsmodels/compat/pandas.py:56: FutureWarning: The pandas.core.datetools module is deprecated and will be removed in a future version. Please use the pandas.tseries module instead.\n",
      "  from pandas.core import datetools\n"
     ]
    }
   ],
   "source": [
    "import numpy as np\n",
    "import pandas as pd\n",
    "import statsmodels.api as sm\n",
    "import matplotlib.pyplot as plt\n",
    "%matplotlib inline\n",
    "import seaborn as sns; sns.set_style('darkgrid')\n",
    "\n",
    "\n",
    "def illustrate_learning(a=1.3, b=0.5, n=30, r=1, make_prediction=False, random_lines=0, plot_errors=False):\n",
    "    np.random.seed(42)\n",
    "    def f(x, r_low=0, r_high=1): return (a * x + b + r * np.random.uniform(r_low, r_high, len(x)))\n",
    "\n",
    "    x = np.random.rand(n)\n",
    "    y = f(x)\n",
    "    fig, ax = plt.subplots()\n",
    "    ax.set_xlim([-0.05, 1.15])    \n",
    "    # plot regression result\n",
    "    sns.regplot(x, y, ci=None)\n",
    "    # plot random lines, similar to the fitted regression result\n",
    "    for _ in range(random_lines):\n",
    "        sns.regplot(x, f(x, r_low=-1, r_high=2), ci=None, scatter=False)\n",
    "    # make prediction with regression result\n",
    "    if make_prediction:\n",
    "        x_ = np.array(max(x) + 0.1).reshape(1,1) # funky\n",
    "        plt.plot(x_, f(x_), 'ro')\n",
    "    # plot largest two errors (positive and negative)\n",
    "    if plot_errors:\n",
    "        x_max, x_min = np.argmax(y - f(x)), np.argmin(y - f(x))\n",
    "        X = sm.add_constant(x)\n",
    "        model = sm.OLS(y, X).fit()\n",
    "        for i in [x_min, x_max]:\n",
    "            plt.vlines(x[i], ymin=model.predict([1, x[i]]), ymax=y[i], linestyle='--', color='black', linewidth=0.9)\n",
    "    plt.xlabel('x', fontsize=15)\n",
    "    plt.ylabel('f(x)', fontsize=15)\n",
    "    plt.show()"
   ]
  },
  {
   "cell_type": "markdown",
   "metadata": {
    "slideshow": {
     "slide_type": "slide"
    }
   },
   "source": [
    "# 2 - Machine Learning Concepts"
   ]
  },
  {
   "cell_type": "markdown",
   "metadata": {
    "slideshow": {
     "slide_type": "slide"
    }
   },
   "source": [
    "## Outline\n",
    "\n",
    "Goal: Explain various machine learning concepts to better understand how things work when doing ML with sklearn."
   ]
  },
  {
   "cell_type": "markdown",
   "metadata": {
    "slideshow": {
     "slide_type": "fragment"
    }
   },
   "source": [
    "Key topics:\n",
    "\n",
    "- **Vocabulary**: what data format do we use\n",
    "- **Types of learning**: prediction vs. inference\n",
    "- **Learning tasks**: know whether to apply supervised or unsupervised learning\n",
    "- **Optimization**: understand cost functions, gradient descent and learning rate\n",
    "- **Generalization**: explain underfitting, overfitting, and regularization"
   ]
  },
  {
   "cell_type": "markdown",
   "metadata": {
    "slideshow": {
     "slide_type": "subslide"
    }
   },
   "source": [
    "## Vocabulary\n",
    "\n",
    "* Input matrix $X$: describes the data, consists of $N$ observations each described by $M$ predictors/features/independent variables\n",
    "\n",
    "* Output vector $y$ (optional): target/labels/response/dependent variable, consists of $N$ values "
   ]
  },
  {
   "cell_type": "code",
   "execution_count": 2,
   "metadata": {
    "slideshow": {
     "slide_type": "skip"
    }
   },
   "outputs": [],
   "source": [
    "np.random.seed(41)\n",
    "n_col = 5 \n",
    "n_row = 10\n",
    "X = pd.DataFrame(data=np.random.randint(1,100, (n_row, n_col)), columns=[f'X{i}' for i in range(5)])\n",
    "y = pd.DataFrame(data=np.random.randint(0, 2, n_row), columns=['y'])"
   ]
  },
  {
   "cell_type": "code",
   "execution_count": 3,
   "metadata": {
    "slideshow": {
     "slide_type": "-"
    }
   },
   "outputs": [
    {
     "data": {
      "text/html": [
       "<div>\n",
       "<style>\n",
       "    .dataframe thead tr:only-child th {\n",
       "        text-align: right;\n",
       "    }\n",
       "\n",
       "    .dataframe thead th {\n",
       "        text-align: left;\n",
       "    }\n",
       "\n",
       "    .dataframe tbody tr th {\n",
       "        vertical-align: top;\n",
       "    }\n",
       "</style>\n",
       "<table border=\"1\" class=\"dataframe\">\n",
       "  <thead>\n",
       "    <tr style=\"text-align: right;\">\n",
       "      <th></th>\n",
       "      <th>X0</th>\n",
       "      <th>X1</th>\n",
       "      <th>X2</th>\n",
       "      <th>X3</th>\n",
       "      <th>X4</th>\n",
       "      <th>y</th>\n",
       "    </tr>\n",
       "  </thead>\n",
       "  <tbody>\n",
       "    <tr>\n",
       "      <th>0</th>\n",
       "      <td>65</td>\n",
       "      <td>36</td>\n",
       "      <td>13</td>\n",
       "      <td>99</td>\n",
       "      <td>81</td>\n",
       "      <td>1</td>\n",
       "    </tr>\n",
       "    <tr>\n",
       "      <th>1</th>\n",
       "      <td>66</td>\n",
       "      <td>90</td>\n",
       "      <td>24</td>\n",
       "      <td>86</td>\n",
       "      <td>27</td>\n",
       "      <td>0</td>\n",
       "    </tr>\n",
       "    <tr>\n",
       "      <th>2</th>\n",
       "      <td>57</td>\n",
       "      <td>4</td>\n",
       "      <td>36</td>\n",
       "      <td>51</td>\n",
       "      <td>71</td>\n",
       "      <td>1</td>\n",
       "    </tr>\n",
       "    <tr>\n",
       "      <th>3</th>\n",
       "      <td>85</td>\n",
       "      <td>87</td>\n",
       "      <td>62</td>\n",
       "      <td>52</td>\n",
       "      <td>93</td>\n",
       "      <td>0</td>\n",
       "    </tr>\n",
       "    <tr>\n",
       "      <th>4</th>\n",
       "      <td>89</td>\n",
       "      <td>76</td>\n",
       "      <td>93</td>\n",
       "      <td>53</td>\n",
       "      <td>56</td>\n",
       "      <td>1</td>\n",
       "    </tr>\n",
       "    <tr>\n",
       "      <th>5</th>\n",
       "      <td>18</td>\n",
       "      <td>99</td>\n",
       "      <td>82</td>\n",
       "      <td>29</td>\n",
       "      <td>54</td>\n",
       "      <td>1</td>\n",
       "    </tr>\n",
       "    <tr>\n",
       "      <th>6</th>\n",
       "      <td>20</td>\n",
       "      <td>14</td>\n",
       "      <td>62</td>\n",
       "      <td>96</td>\n",
       "      <td>35</td>\n",
       "      <td>1</td>\n",
       "    </tr>\n",
       "    <tr>\n",
       "      <th>7</th>\n",
       "      <td>59</td>\n",
       "      <td>5</td>\n",
       "      <td>60</td>\n",
       "      <td>2</td>\n",
       "      <td>77</td>\n",
       "      <td>1</td>\n",
       "    </tr>\n",
       "    <tr>\n",
       "      <th>8</th>\n",
       "      <td>13</td>\n",
       "      <td>36</td>\n",
       "      <td>5</td>\n",
       "      <td>70</td>\n",
       "      <td>21</td>\n",
       "      <td>1</td>\n",
       "    </tr>\n",
       "    <tr>\n",
       "      <th>9</th>\n",
       "      <td>6</td>\n",
       "      <td>45</td>\n",
       "      <td>23</td>\n",
       "      <td>35</td>\n",
       "      <td>47</td>\n",
       "      <td>0</td>\n",
       "    </tr>\n",
       "  </tbody>\n",
       "</table>\n",
       "</div>"
      ],
      "text/plain": [
       "   X0  X1  X2  X3  X4  y\n",
       "0  65  36  13  99  81  1\n",
       "1  66  90  24  86  27  0\n",
       "2  57   4  36  51  71  1\n",
       "3  85  87  62  52  93  0\n",
       "4  89  76  93  53  56  1\n",
       "5  18  99  82  29  54  1\n",
       "6  20  14  62  96  35  1\n",
       "7  59   5  60   2  77  1\n",
       "8  13  36   5  70  21  1\n",
       "9   6  45  23  35  47  0"
      ]
     },
     "execution_count": 3,
     "metadata": {},
     "output_type": "execute_result"
    }
   ],
   "source": [
    "pd.concat([X, y], axis=1)"
   ]
  },
  {
   "cell_type": "markdown",
   "metadata": {
    "slideshow": {
     "slide_type": "subslide"
    }
   },
   "source": [
    "### Examples \n",
    "\n",
    "Digit classification:\n",
    "* $X$: pixel intensities\n",
    "* $y$: digit label\n",
    "\n",
    "House price prediction\n",
    "* $X$: property features\n",
    "* $y$: house prices\n",
    "\n",
    "Clustering of website behaviour:\n",
    "* $X$: click characteristics"
   ]
  },
  {
   "cell_type": "markdown",
   "metadata": {
    "slideshow": {
     "slide_type": "slide"
    }
   },
   "source": [
    "## Types of learning"
   ]
  },
  {
   "cell_type": "markdown",
   "metadata": {
    "slideshow": {
     "slide_type": "subslide"
    }
   },
   "source": [
    "### Prediction"
   ]
  },
  {
   "cell_type": "markdown",
   "metadata": {
    "slideshow": {
     "slide_type": "fragment"
    }
   },
   "source": [
    "Use the learned model $\\hat{f}$ to predict the outcomes for new data points:\n",
    "\n",
    "$$\\hat{y}=\\hat{f}(X_{new})$$\n",
    "\n",
    "Where we want the prediction to be as close as possible to the real outcome:  $\\hat{y}\\approx y$."
   ]
  },
  {
   "cell_type": "markdown",
   "metadata": {
    "slideshow": {
     "slide_type": "fragment"
    }
   },
   "source": [
    "Prediction is done on new 'unseen' data"
   ]
  },
  {
   "cell_type": "markdown",
   "metadata": {
    "slideshow": {
     "slide_type": "subslide"
    }
   },
   "source": [
    "### Inference"
   ]
  },
  {
   "cell_type": "markdown",
   "metadata": {
    "slideshow": {
     "slide_type": "fragment"
    }
   },
   "source": [
    "Use the learned model $\\hat{f}$ to gain understanding of the relationships underlying the data.\n",
    "\n",
    "With inference we can answer questions like:\n",
    "\n",
    "- Which predictors are associated with the response, and what is (are) the most important predictor(s)? \n",
    "- Is there a positive or negative relationship between the response and each predictor?\n",
    "- Can a relationship be captured by a simple linear model, or is a more complex model necessary? "
   ]
  },
  {
   "cell_type": "markdown",
   "metadata": {
    "slideshow": {
     "slide_type": "subslide"
    }
   },
   "source": [
    "### Inference or prediction?\n",
    "\n",
    "Can you answer the following questions by prediction or by inference (or both)?\n",
    "\n",
    "- Which types of customers are likely to default on their loans? What is the most important factor causing these companies to default?\n",
    "\n",
    "- How much quarterly profit is your company going to generate during the upcoming five years?\n",
    "\n",
    "- What interesting products do you recommend to new customers? What marketing rules can be derived from this? "
   ]
  },
  {
   "cell_type": "markdown",
   "metadata": {
    "slideshow": {
     "slide_type": "slide"
    }
   },
   "source": [
    "## Learning tasks\n",
    "\n",
    "Machine learning tasks are typically classified into three broad categories:\n",
    "\n",
    "- **supervised** learning\n",
    "- **unsupervised** learning\n",
    "- **reinforcement** learning\n",
    "\n",
    "In this course we focus on solving the first two types of learning tasks."
   ]
  },
  {
   "cell_type": "markdown",
   "metadata": {
    "slideshow": {
     "slide_type": "subslide"
    }
   },
   "source": [
    "### Supervised learning "
   ]
  },
  {
   "cell_type": "markdown",
   "metadata": {
    "slideshow": {
     "slide_type": "fragment"
    }
   },
   "source": [
    "The ground truth is given: we know both $X$ and $y$.\n",
    "\n",
    "Goal: learn a model that relates $X$ to $y$ and allows us to do prediction of unseen data and/or inference.\n",
    "\n",
    "**Regression/classificaton**: \n",
    "\n",
    "$$ X, y \\xrightarrow{fit} \\text{model} \\xrightarrow{predict} \\text{model}\\left(X'\\right)=y_{pred}$$"
   ]
  },
  {
   "cell_type": "markdown",
   "metadata": {
    "slideshow": {
     "slide_type": "subslide"
    }
   },
   "source": [
    "### Unsupervised learning"
   ]
  },
  {
   "cell_type": "markdown",
   "metadata": {
    "slideshow": {
     "slide_type": "fragment"
    }
   },
   "source": [
    "We don't know the ground truth: we only know $X$.\n",
    "\n",
    "Goal: learn a model from unlabeled training data such that it can capture hidden structure present in the data.\n",
    "\n",
    "\n",
    "**Clustering**: \n",
    "\n",
    "$$ X \\xrightarrow{fit} \\text{model} \\xrightarrow{predict} \\text{model}\\left(X'\\right)=y_{pred}$$\n",
    "\n",
    "**Transformation**: \n",
    "\n",
    "$$ X \\xrightarrow{fit} \\text{model} \\xrightarrow{predict} \\text{model}\\left(X'\\right)=X_{trans}$$"
   ]
  },
  {
   "cell_type": "markdown",
   "metadata": {
    "slideshow": {
     "slide_type": "subslide"
    }
   },
   "source": [
    "### Supervised or unsupervised?\n",
    "\n",
    "- Find a way to automatically group all your customers based on their profiles\n",
    "- Predict for each customer if it is going to be able to pay the bill next month\n",
    "- Make daily predictions of the number of user interactions that your app is going to generate\n",
    "- Make a system that can identify unusual behaviour of your clients"
   ]
  },
  {
   "cell_type": "markdown",
   "metadata": {
    "slideshow": {
     "slide_type": "slide"
    }
   },
   "source": [
    "## Machine learning approaches\n",
    "\n",
    "\n",
    "The most common learning approaches can be categorized as follows:"
   ]
  },
  {
   "cell_type": "markdown",
   "metadata": {
    "slideshow": {
     "slide_type": "fragment"
    }
   },
   "source": [
    "- supervised learning:\n",
    "    - **regression**\n",
    "    - **classification**"
   ]
  },
  {
   "cell_type": "markdown",
   "metadata": {},
   "source": [
    "- unsupervised learning:\n",
    "    - **clustering**\n",
    "    - **dimensionality reduction**"
   ]
  },
  {
   "cell_type": "markdown",
   "metadata": {
    "slideshow": {
     "slide_type": "subslide"
    }
   },
   "source": [
    "### Regression\n",
    "\n",
    "Supervised learning task with the goal of predicting continuous outcomes."
   ]
  },
  {
   "cell_type": "markdown",
   "metadata": {
    "slideshow": {
     "slide_type": "fragment"
    }
   },
   "source": [
    "The variable $y$ is quantitative and can take on numerical values, for example:\n",
    "\n",
    "- stock price\n",
    "- human height\n",
    "- housing price"
   ]
  },
  {
   "cell_type": "markdown",
   "metadata": {
    "slideshow": {
     "slide_type": "subslide"
    }
   },
   "source": [
    "<img src=\"../images/regression_example.png\" style=\"display: block;margin-left: auto;margin-right: auto;height: 600px\"/>"
   ]
  },
  {
   "cell_type": "markdown",
   "metadata": {
    "slideshow": {
     "slide_type": "subslide"
    }
   },
   "source": [
    "### Classification\n",
    "\n",
    "Supervised learning task with the goal of predicting one or more discrete outcomes."
   ]
  },
  {
   "cell_type": "markdown",
   "metadata": {
    "slideshow": {
     "slide_type": "subslide"
    }
   },
   "source": [
    "The variable $y$ is a qualitative variable that can take on $K$ different classes, or categories. For example:\n",
    "\n",
    "- **binary** ($K=2$): email or spam, company defaults on debt (yes or no)\n",
    "- **multiclass** ($K>2$): brand of a product (brand A, B or C), color of traffic light (red, green or yellow)\n",
    "- **multilabel** ($K\\geq2$): objects in a photo (car, tree and human) "
   ]
  },
  {
   "cell_type": "markdown",
   "metadata": {
    "slideshow": {
     "slide_type": "subslide"
    }
   },
   "source": [
    "<img src=\"../images/classification_example.png\" style=\"display: block;margin-left: auto;margin-right: auto;height: 600px\"/>"
   ]
  },
  {
   "cell_type": "markdown",
   "metadata": {
    "slideshow": {
     "slide_type": "subslide"
    }
   },
   "source": [
    "### Clustering\n",
    "\n",
    "Unsupervised learning method with the goal of grouping samples together based on some similarity measure."
   ]
  },
  {
   "cell_type": "markdown",
   "metadata": {
    "slideshow": {
     "slide_type": "fragment"
    }
   },
   "source": [
    "Clustering is a great technique for:\n",
    "\n",
    "- structuring information\n",
    "- deriving meaningful relationships among data\n",
    "\n",
    "Note that it is usually hard to test whether the found clusters are 'good'."
   ]
  },
  {
   "cell_type": "markdown",
   "metadata": {
    "slideshow": {
     "slide_type": "subslide"
    }
   },
   "source": [
    "<img src=\"../images/clustering_example.png\" style=\"display: block;margin-left: auto;margin-right: auto;height: 600px\"/>"
   ]
  },
  {
   "cell_type": "markdown",
   "metadata": {
    "slideshow": {
     "slide_type": "subslide"
    }
   },
   "source": [
    "### Dimensionality reduction"
   ]
  },
  {
   "cell_type": "markdown",
   "metadata": {
    "slideshow": {
     "slide_type": "fragment"
    }
   },
   "source": [
    "Reducing the dimensionality of the data while retaining the systematic information present in the data.\n",
    "\n",
    "Dimensionality reduction is a great technique for:\n",
    "\n",
    "- removing noise from the data during feature preprocessing\n",
    "- visualizing high-dimensional data by projecting it down to 2 or 3 dimensions"
   ]
  },
  {
   "cell_type": "markdown",
   "metadata": {
    "slideshow": {
     "slide_type": "subslide"
    }
   },
   "source": [
    "<img src=\"../images/dimensionality_reduction.png\" style=\"display: block;margin-left: auto;margin-right: auto;\"/>"
   ]
  },
  {
   "cell_type": "markdown",
   "metadata": {
    "slideshow": {
     "slide_type": "subslide"
    }
   },
   "source": [
    "### Regression, classification or clustering?\n",
    "\n",
    "Which learning task corresponds to each of the following problems:\n",
    "\n",
    "- Detection of fraudulent transactions \n",
    "- Prediction of a company's credit rating\n",
    "- Prediction of a customer's churn probability\n",
    "- Categorization of all employees into 5 groups based on their HR profile "
   ]
  },
  {
   "cell_type": "markdown",
   "metadata": {
    "slideshow": {
     "slide_type": "slide"
    }
   },
   "source": [
    "# How it works"
   ]
  },
  {
   "cell_type": "markdown",
   "metadata": {
    "slideshow": {
     "slide_type": "subslide"
    }
   },
   "source": [
    "To explain how machine learning works, let's examine linear regression.\n",
    "\n",
    "Core concepts that we will touch upon are:\n",
    "* Cost function\n",
    "* Derivatives / Gradients\n",
    "* Learning rate\n",
    "\n",
    "At the end of this part you should understand what 'model fitting' entails."
   ]
  },
  {
   "cell_type": "markdown",
   "metadata": {
    "slideshow": {
     "slide_type": "subslide"
    }
   },
   "source": [
    "### Linear Regression \n",
    "\n",
    "How do we define a line?\n",
    "\n",
    "Each line is defined by a slope $\\mathbf{a}$ and an intercept parameter $\\mathbf{b}$:\n",
    "\n",
    "$$ y = \\mathbf{a} x + \\mathbf{b} $$\n",
    "\n",
    "Another notation with weights $\\mathbf{w}$:\n",
    "\n",
    "$$ y(\\mathbf{w}, \\mathbf{x}) = w_0 + w_1 x_1 (+ w_2 x_2 + ...)$$\n"
   ]
  },
  {
   "cell_type": "markdown",
   "metadata": {
    "slideshow": {
     "slide_type": "subslide"
    }
   },
   "source": [
    "### Linear Regression\n",
    "\n",
    "$$ y(\\mathbf{w}, \\mathbf{x}) = w_0 + w_1 x_1 $$"
   ]
  },
  {
   "cell_type": "code",
   "execution_count": 4,
   "metadata": {},
   "outputs": [
    {
     "data": {
      "image/png": "[encoded data removed]",
      "text/plain": [
       "<matplotlib.figure.Figure at 0x10a0f80f0>"
      ]
     },
     "metadata": {},
     "output_type": "display_data"
    }
   ],
   "source": [
    "illustrate_learning()"
   ]
  },
  {
   "cell_type": "markdown",
   "metadata": {
    "slideshow": {
     "slide_type": "subslide"
    }
   },
   "source": [
    "### What makes a good regression line?\n",
    "\n",
    "- Intercept parameter $w_0$ = ?\n",
    "- Slope parameter $w_1$ = ?"
   ]
  },
  {
   "cell_type": "markdown",
   "metadata": {
    "slideshow": {
     "slide_type": "fragment"
    }
   },
   "source": [
    "- Use the line that is somewhere in the middle\n",
    "- But how do we define \"middle\"?"
   ]
  },
  {
   "cell_type": "code",
   "execution_count": 5,
   "metadata": {
    "scrolled": true
   },
   "outputs": [
    {
     "data": {
      "image/png": "[encoded data removed]",
      "text/plain": [
       "<matplotlib.figure.Figure at 0x1188f1358>"
      ]
     },
     "metadata": {},
     "output_type": "display_data"
    }
   ],
   "source": [
    "illustrate_learning(random_lines=3)"
   ]
  },
  {
   "cell_type": "markdown",
   "metadata": {
    "slideshow": {
     "slide_type": "subslide"
    }
   },
   "source": [
    "### Residuals provide a measure of error\n",
    "\n",
    "Examine the differences between predicted (hypothesis) and true values (target).\n",
    "\n",
    "We use the following notation:\n",
    "* Prediction: $\\hat{y}_i = y(\\mathbf{w}, \\mathbf{x}^i)$ \n",
    "* Residual: $e_i = y_i-\\hat{y}_i$"
   ]
  },
  {
   "cell_type": "code",
   "execution_count": 6,
   "metadata": {},
   "outputs": [
    {
     "data": {
      "image/png": "[encoded data removed]",
      "text/plain": [
       "<matplotlib.figure.Figure at 0x118a6b860>"
      ]
     },
     "metadata": {},
     "output_type": "display_data"
    }
   ],
   "source": [
    "illustrate_learning(plot_errors=True)"
   ]
  },
  {
   "cell_type": "markdown",
   "metadata": {
    "slideshow": {
     "slide_type": "slide"
    }
   },
   "source": [
    "### Cost function\n",
    "\n",
    "We want to minimize residuals.\n",
    "\n",
    "Let's define a \"cost\" or \"loss\" function with the following properties:\n",
    "- smaller for lower error\n",
    "- larger for higher error\n",
    "\n",
    "For example, let's take the Mean Squared Error (MSE) cost function:\n",
    "\n",
    "$$ J(\\mathbf{w})  \n",
    " = \\frac{1}{n}\\sum_{i=1}^n(y_i-y(\\mathbf{w}, \\mathbf{x}^i))^2 \n",
    " = \\frac{1}{n}\\sum_{i=1}^n(e_i)^2 $$"
   ]
  },
  {
   "cell_type": "markdown",
   "metadata": {
    "slideshow": {
     "slide_type": "subslide"
    }
   },
   "source": [
    "### The cost function has an optimum\n",
    "\n",
    "In an optimum the derivative (slope) of the cost function with respect to one of the weights $ w_i $ is zero.\n",
    "\n",
    "In the case of multiple features, the multi-dimensional derivative is called a gradient.\n",
    "\n",
    "<img src=\"../images/cost_function_gradient.png\" style=\"display: block;margin-left: auto;margin-right: auto;width: 600px\"/>\n",
    "\n"
   ]
  },
  {
   "cell_type": "markdown",
   "metadata": {
    "slideshow": {
     "slide_type": "subslide"
    }
   },
   "source": [
    "### Gradient descent (1/2)\n",
    "\n",
    "The optimum can often not be found algebraically, thus we use numerical approximation by 'descending' the gradient. \n",
    "\n",
    "At each iteration the algorithm takes a step in the direction of the steepest descent, decreasing $ J(\\mathbf{w}) $ the most:\n",
    "\n",
    "* Goal: minimize $ J(\\mathbf{w}) $\n",
    "\n",
    "$$ J(\\mathbf{w})= \\frac{1}{n}\\sum_{i=1}^n\\left(y_i-y(\\mathbf{w}, \\mathbf{x}^i) \\right)^2 $$\n"
   ]
  },
  {
   "cell_type": "markdown",
   "metadata": {
    "slideshow": {
     "slide_type": "subslide"
    }
   },
   "source": [
    "### Gradient descent (2/2)\n",
    "\n",
    "* Start with some initial $ \\mathbf{w} $ and then for each $j$ perform an update on $ w^k_j $ in turn to get the new $ w^{k+1}_j $: \n",
    "\n",
    "$$ w^{k+1}_j := w^k_j - \\alpha \\frac{\\delta}{\\delta w_j} J(\\mathbf{w}^k) $$\n",
    "\n",
    "* Repeat until $ \\mathbf{w} $ converges:\n",
    "    - $ w^{k+1}_j $ is close to $ w^k_j $  \n",
    "    - $ J(\\mathbf{w}^{k+1}) $ is close to $ J(\\mathbf{w}^{k}) $ \n",
    "\n",
    "$ \\alpha $ in the above equation is called the **learning rate**.\n",
    "\n",
    "PS. read this [blog](http://mccormickml.com/2014/03/04/gradient-descent-derivation/) if you are interested in how to derive the above formulas."
   ]
  },
  {
   "cell_type": "markdown",
   "metadata": {
    "slideshow": {
     "slide_type": "subslide"
    }
   },
   "source": [
    "### Learning rate effects\n",
    "\n",
    "$$ w^{k+1}_j := w^k_j - \\alpha \\frac{\\delta}{\\delta w_j} J(\\mathbf{w}^k) $$\n",
    "\n",
    "The learning rate $ \\mathbf{\\alpha} $ determines how quickly or slowly the algorithm will converge to a solution.\n",
    "\n",
    "It is set by the user (but often tweaked as a *hyperparameter*).\n",
    "\n",
    "<img src=\"../images/optimal_learning_rate.jpg\" style=\"display: block;margin-left: auto;margin-right: auto;width: 600px\"/>\n"
   ]
  },
  {
   "cell_type": "markdown",
   "metadata": {
    "slideshow": {
     "slide_type": "subslide"
    }
   },
   "source": [
    "### Finding the global optimum...\n",
    "\n",
    "It's your goal as a machine learning practitioner to prevent getting stuck in a local optimum.\n",
    "\n",
    "There are different ways to achieve this, but the most important concepts are:\n",
    "* **Starting point**: initialize in a 'smart' way or try multiple random initializations\n",
    "* **Learning rate**: step size with which you walk through your search space\n",
    "    - To small? It might take too long to converge.\n",
    "    - To large? You might 'step over' the global optimum.\n",
    "\n",
    "<img src=\"../images/stuck_in_local_minimum.png\" style=\"display: block;margin-left: auto;margin-right: auto;width: 400px\"/>\n"
   ]
  },
  {
   "cell_type": "markdown",
   "metadata": {
    "slideshow": {
     "slide_type": "slide"
    }
   },
   "source": [
    "## Fitting regimes\n",
    "\n",
    "### Underfitting vs. Overfitting"
   ]
  },
  {
   "cell_type": "markdown",
   "metadata": {
    "slideshow": {
     "slide_type": "subslide"
    }
   },
   "source": [
    "A model's performance falls on a spectrum between these two regimes:\n",
    "* The model is **underfitting**: the model cannot learn the problem.\n",
    "* The model is **overfitting**: the model doesn't generalize.\n",
    "\n",
    "Below an example for regression where we range from underfitting on the left to overfitting on the right: \n",
    "\n",
    "<img src=\"../images/fitting_regimes.png\" style=\"display: block;margin-left: auto;margin-right: auto;width: 800px\"/>"
   ]
  },
  {
   "cell_type": "markdown",
   "metadata": {
    "slideshow": {
     "slide_type": "subslide"
    }
   },
   "source": [
    "And in the classification case:\n",
    "\n",
    "\n",
    "<img src=\"../images/under_overfitting.png\" style=\"display: block;margin-left: auto;margin-right: auto;width: 800px\"/>"
   ]
  },
  {
   "cell_type": "markdown",
   "metadata": {
    "slideshow": {
     "slide_type": "subslide"
    }
   },
   "source": [
    "### Underfitting (high bias)\n",
    "\n",
    "Underfitting means that the model is not able to learn the problem.\n",
    "* the data does not have the right information: it's missing features\n",
    "* the model is too simple and is not able to find complex relationships\n",
    "\n",
    "An underfitting model will be consistently wrong: it will make the same error for different data sets."
   ]
  },
  {
   "cell_type": "markdown",
   "metadata": {
    "slideshow": {
     "slide_type": "subslide"
    }
   },
   "source": [
    "### Overfitting (high variance)\n",
    "\n",
    "Overfitting means that the model doesn't generalize well.\n",
    "* the model learns to recognize the data instead of modelling the intrinsic relationships\n",
    "* the model learns too-complex relationships that have nothing to do with our problem\n",
    "\n",
    "An overfitting model will be inconsistently wrong: its error will vary for different data sets."
   ]
  },
  {
   "cell_type": "markdown",
   "metadata": {
    "slideshow": {
     "slide_type": "subslide"
    }
   },
   "source": [
    "### Example: underfitting vs overfitting\n",
    "\n",
    "Which model is overfitting/underfitting?\n",
    "\n",
    "![hs](../images/over-under-fitting-regression.png)"
   ]
  },
  {
   "cell_type": "markdown",
   "metadata": {
    "slideshow": {
     "slide_type": "slide"
    }
   },
   "source": [
    "# Generalization"
   ]
  },
  {
   "cell_type": "markdown",
   "metadata": {
    "slideshow": {
     "slide_type": "subslide"
    }
   },
   "source": [
    "### Generalization and errors\n",
    "\n",
    "The learned model $\\hat{f}$ is only useful if it is able to generalize from the data and allows for prediction and/or inference.\n",
    "\n",
    "This has consequences for what the model should learn:\n",
    "\n",
    "- it should **only** estimate the **systematic relationships** $f$ in the data\n",
    "- it should **ignore** the **random errors** $\\epsilon$ which do not generalize"
   ]
  },
  {
   "cell_type": "markdown",
   "metadata": {
    "slideshow": {
     "slide_type": "subslide"
    }
   },
   "source": [
    "Of the two learned models below, which one generalizes best?\n",
    "\n",
    "![truth_error](../images/two_learned_models.png)"
   ]
  },
  {
   "cell_type": "markdown",
   "metadata": {
    "slideshow": {
     "slide_type": "subslide"
    }
   },
   "source": [
    "### Occam's razor\n",
    "\n",
    "Among competing hypotheses, the one with the fewest assumptions should be selected.\n",
    "\n",
    "<img src=\"../images/William_of_Ockham.png\" style=\"display: block;margin-left: auto;margin-right: auto; height:400px\"/> \n",
    "\n",
    "In machine learning this translates to: *simple models generalize well*."
   ]
  },
  {
   "cell_type": "markdown",
   "metadata": {
    "slideshow": {
     "slide_type": "subslide"
    }
   },
   "source": [
    "### Model interpretability\n",
    "\n",
    "Increasing model complexity almost always results in decreasing interpretability: \n",
    "\n",
    "<img src=\"../images/interpretability_complexity.png\" style=\"display: block;margin-left: auto;margin-right: auto;width: 600px\"/>\n",
    "\n",
    "This is (usually) not a problem when only doing prediction, however it can make inference nearly impossible!"
   ]
  },
  {
   "cell_type": "markdown",
   "metadata": {
    "slideshow": {
     "slide_type": "slide"
    }
   },
   "source": [
    "## Reducing complexity"
   ]
  },
  {
   "cell_type": "markdown",
   "metadata": {
    "slideshow": {
     "slide_type": "subslide"
    }
   },
   "source": [
    "### Intuition\n",
    "\n",
    "How do you discourage complex models?\n",
    "\n",
    "<img src=\"../images/regularization_intuition1.png\" style=\"display: block;margin-left: auto;margin-right: auto;width: 350px\"/>"
   ]
  },
  {
   "cell_type": "markdown",
   "metadata": {
    "slideshow": {
     "slide_type": "subslide"
    }
   },
   "source": [
    "### Intuition\n",
    "\n",
    "How do you discourage complex models?\n",
    "\n",
    "Adjust the cost function! Penalize models with large high-order weights.\n",
    "\n",
    "<img src=\"../images/regularization_intuition2.png\" style=\"display: block;margin-left: auto;margin-right: auto;width: 700px\"/>\n",
    "\n",
    "The high-order terms should only be added if they provide predictive power. If not, constrain to 0!"
   ]
  },
  {
   "cell_type": "markdown",
   "metadata": {
    "slideshow": {
     "slide_type": "subslide"
    }
   },
   "source": [
    "### Regularization definitions (1/2)\n",
    "\n",
    "The two most common techniques are:\n",
    "\n",
    "1. L1 regularization (\"Lasso\" in the context of linear/logistic regression)\n",
    "    * Tries to push weights of least contributing features to zero. Model keeps only a few features.\n",
    "    * Therefore often also used for *feature selection*.\n",
    "\n",
    "$$ J_{L1}(\\mathbf{w})= \\frac{1}{n}\\sum_{i=1}^n\\left(y_i-y( \\mathbf{w},\\mathbf{x}^i) \\right)^2 + \\lambda \\sum_{j=1}^m \\left|w_j\\right| $$\n"
   ]
  },
  {
   "cell_type": "markdown",
   "metadata": {
    "slideshow": {
     "slide_type": "subslide"
    }
   },
   "source": [
    "### Regularization definitions (2/2)\n",
    "\n",
    "\n",
    "2. L2 regularization (\"Ridge\" in the context of linear/logistic regression)\n",
    "    * Weight decay\n",
    "    * Pushes weights of least contributing features to be small, but not zero.\n",
    "\n",
    "$$ J_{L2}(\\mathbf{w})= \\frac{1}{n}\\sum_{i=1}^n\\left(y_i-y(\\mathbf{w}, \\mathbf{x}^i) \\right)^2 + \\lambda \\sum_{j=1}^m w^2_j $$\n",
    "\n",
    "$ \\lambda $ in the above equation is called the **regularization parameter**.\n",
    "\n",
    "Note: you can also combine the two penalties, see for example [Elastic Net](http://scikit-learn.org/stable/modules/generated/sklearn.linear_model.ElasticNet.html)"
   ]
  },
  {
   "cell_type": "markdown",
   "metadata": {
    "slideshow": {
     "slide_type": "subslide"
    }
   },
   "source": [
    "### Regularization parameter\n",
    "\n",
    "$$ J_{L1}(\\mathbf{w})= \\frac{1}{n}\\sum_{i=1}^n\\left(y_i-y(\\mathbf{w}, \\mathbf{x}^i) \\right)^2 + \\lambda \\sum_{j=1}^m \\left|w_j\\right| $$\n",
    "$$ J_{L2}(\\mathbf{w})= \\frac{1}{n}\\sum_{i=1}^n\\left(y_i-y(\\mathbf{w}, \\mathbf{x}^i) \\right)^2 + \\lambda \\sum_{j=1}^m w^2_j $$\n",
    "\n",
    "Size of $ \\mathbf{\\lambda} $ is important:\n",
    "* If 0, you will bring in features that add **any** value at all -> model will be complex / high variance\n",
    "* If slightly increased, bring in features that add some value\n",
    "* If too big even the good features will **not** be brought in -> model will be too simple / low variance\n",
    "\n",
    "It is set by the user, but often tweaked as a *hyperparameter*."
   ]
  },
  {
   "cell_type": "markdown",
   "metadata": {
    "slideshow": {
     "slide_type": "slide"
    }
   },
   "source": [
    "## Recap\n",
    "\n",
    "Do you remember what the following terms mean?\n",
    "\n",
    "- **Types of learning**: inference and prediction\n",
    "- **Learning tasks**: supervised and unsupervised learning, clssification, clustering and dimensionality reduction\n",
    "- **Optimization**: cost functions, gradient descent and learning rate\n",
    "- **Generalization**: underfitting, overfitting, generalization, regularization, Lasso and Ridge"
   ]
  }
 ],
 "metadata": {
  "anaconda-cloud": {},
  "celltoolbar": "Slideshow",
  "kernelspec": {
   "display_name": "Python 3",
   "language": "python",
   "name": "python3"
  },
  "language_info": {
   "codemirror_mode": {
    "name": "ipython",
    "version": 3
   },
   "file_extension": ".py",
   "mimetype": "text/x-python",
   "name": "python",
   "nbconvert_exporter": "python",
   "pygments_lexer": "ipython3",
   "version": "3.7.4"
  },
  "livereveal": {
   "start_slideshow_at": "selected",
   "transition": "convex"
  }
 },
 "nbformat": 4,
 "nbformat_minor": 2
}
