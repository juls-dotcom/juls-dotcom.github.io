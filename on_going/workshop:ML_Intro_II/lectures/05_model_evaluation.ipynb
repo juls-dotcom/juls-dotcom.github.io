{
 "cells": [
  {
   "cell_type": "code",
   "execution_count": 1,
   "metadata": {
    "slideshow": {
     "slide_type": "skip"
    }
   },
   "outputs": [],
   "source": [
    "import matplotlib.pyplot as plt\n",
    "%matplotlib inline\n",
    "import numpy as np\n",
    "from sklearn import datasets\n",
    "\n",
    "import sys\n",
    "sys.path.append('../')\n",
    "from lib.processing_functions import convert_to_pandas"
   ]
  },
  {
   "cell_type": "markdown",
   "metadata": {
    "slideshow": {
     "slide_type": "slide"
    }
   },
   "source": [
    "# Model evaluation"
   ]
  },
  {
   "cell_type": "markdown",
   "metadata": {
    "slideshow": {
     "slide_type": "slide"
    }
   },
   "source": [
    "## Outline\n",
    "\n",
    "Goal: Show how the performance of a trained scikit-learn estimator can be evaluated"
   ]
  },
  {
   "cell_type": "markdown",
   "metadata": {
    "slideshow": {
     "slide_type": "fragment"
    }
   },
   "source": [
    "Key topics:\n",
    "\n",
    "- **Scorers and metric functions**: quantify the quality of a trained model \n",
    "- **Model persistence**: storing a trained estimator for future use"
   ]
  },
  {
   "cell_type": "markdown",
   "metadata": {
    "slideshow": {
     "slide_type": "subslide"
    }
   },
   "source": [
    "<img src=\"../images/example_workflow.png\" style=\"display: block;margin-left: auto;margin-right: auto;width: 600px\"/>"
   ]
  },
  {
   "cell_type": "markdown",
   "metadata": {
    "slideshow": {
     "slide_type": "subslide"
    }
   },
   "source": [
    "## Choice of performance metric\n",
    "\n",
    "The performance metric should follow from your business case:\n",
    "\n",
    "* Fraud detection: costly to check, optimize precision.\n",
    "* Lead generation: don't miss opportunities, optimize recall.\n",
    "* Loan default: get good expected revenue, optimize log loss.\n",
    "* Call center prioritization: get good ordering, optimize ROC AUC."
   ]
  },
  {
   "cell_type": "markdown",
   "metadata": {
    "slideshow": {
     "slide_type": "fragment"
    }
   },
   "source": [
    "Reality may break your metric: e.g. accuracy may be inflated for skewed data!"
   ]
  },
  {
   "cell_type": "markdown",
   "metadata": {
    "slideshow": {
     "slide_type": "subslide"
    }
   },
   "source": [
    "## Losses & scorers\n",
    "\n",
    "- Loss or cost function: cost of being wrong -> lower is better\n",
    "- Score function: score of the model -> higher is better"
   ]
  },
  {
   "cell_type": "markdown",
   "metadata": {
    "slideshow": {
     "slide_type": "slide"
    }
   },
   "source": [
    "## Example metrics"
   ]
  },
  {
   "cell_type": "markdown",
   "metadata": {
    "slideshow": {
     "slide_type": "subslide"
    }
   },
   "source": [
    "### Regression metric: MSE\n",
    "\n",
    "Mean squared error (MSE): loss function\n",
    " \n",
    "$$MSE=\\frac{1}{N}\\sum_{i=1}^N\\left(y_i-\\hat{y}_i\\right)^2$$\n",
    "\n",
    "* Average squared differences between the observed values $y$ and the predictions $\\hat{y}$.\n",
    "* $e_i=y_i-\\hat{y}_i$ is often referred to as the residual."
   ]
  },
  {
   "cell_type": "markdown",
   "metadata": {
    "slideshow": {
     "slide_type": "subslide"
    }
   },
   "source": [
    "### Regression metric: $R^2$\n",
    "\n",
    "\n",
    "\n",
    "\n",
    "Regression algorithms use by default an $R^2$ scoring method, the so-called explained variance score or coefficient of determination, calculated as\n",
    "\n",
    "$$ R^2 = 1 - \\frac{\\mathrm{residual \\, sum \\,of \\, squares}}{\\mathrm{total \\,sum \\, of \\, squares}} = 1 - \\frac{ \\lvert \\lvert \\mathrm{\\mathbf{y_{test}}} - \\mathrm{\\mathbf{y_{pred}}} \\rvert \\rvert^2}{ \\lvert \\lvert \\mathrm{\\mathbf{y_{test}}} - \\overline{\\mathrm{\\mathbf{y_{test}}}} \\rvert \\rvert^2} $$\n",
    "\n",
    "whose highest score, attained after a perfect prediction, is 1. The figure below will help us to wrap our heads around what it is we're trying to calculate, where $f$ in the right figure corresponds to $y_{pred}$:\n",
    "\n",
    "<img src=\"../images/r2.png\" style=\"display: block;margin-left: auto;margin-right: auto;\"/>\n",
    "Source: https://commons.wikimedia.org/w/index.php?curid=11398293\n",
    "\n",
    "The image on the left is the square of the distance from the test values to the average true value, while the image on the right is the square of the distance from the test values to the predicted values. The fraction is therefore the sum of the areas of the blue squares divided by the sum of the red squares, or a comparison of our prediction to a random guess. To minimize this fraction (and thus maximize the $R^2$ score), the goal is thus to minimize the size of the blue squares, i.e. predict a line which comes as close to the true values as possible.\n",
    "\n",
    "Alternatively, $R^2$ can also be viewed as a normalized version of the MSE: \n",
    "$$R^2 = 1 - \\frac{MSE}{Var(y)}$$"
   ]
  },
  {
   "cell_type": "markdown",
   "metadata": {
    "slideshow": {
     "slide_type": "subslide"
    }
   },
   "source": [
    "### Classification metric: confusion matrix\n",
    "\n",
    "Compare our predictions with the ground truth:\n",
    "\n",
    "<img src=\"../images/confusion_matrix.png\" style=\"display: block;margin-left: auto;margin-right: auto;\"/>"
   ]
  },
  {
   "cell_type": "markdown",
   "metadata": {
    "slideshow": {
     "slide_type": "subslide"
    }
   },
   "source": [
    "### Classification metrics: accuracy, precision, recall\n",
    "\n",
    "\n",
    "Accuracy: fraction of labels that are correctly classified\n",
    "\n",
    "$$A =\\frac{TP + TN}{FP + FN + TP + TN}$$\n",
    "\n",
    "\n",
    "Precision: fraction of positive predictions that are correct\n",
    "\n",
    "$$P = \\frac{TP}{FP + TP}$$ \n",
    "\n",
    "Recall: fraction of positive labels that are correctly classified \n",
    "\n",
    "$$R = \\frac{TP}{TP + FN}$$ "
   ]
  },
  {
   "cell_type": "markdown",
   "metadata": {
    "slideshow": {
     "slide_type": "slide"
    }
   },
   "source": [
    "## Model evaluation in scikit-learn\n",
    "\n",
    "Three approaches to model evaluation:\n",
    "\n",
    "- **Estimator score method**: all estimators have a score method that applies a 'default' evaluation criterion (see estimator's documentation)\n",
    "- **Scoring parameter**: tools that use cross-validation rely on an internal scoring strategy; the `scoring` parameter defines the model evaluation rules\n",
    "- **Metric functions**: `sklearn.metrics` contains several functions for assessing prediction error for specific purposes"
   ]
  },
  {
   "cell_type": "markdown",
   "metadata": {
    "slideshow": {
     "slide_type": "fragment"
    }
   },
   "source": [
    "Next we will discuss the latter two approaches in more detail."
   ]
  },
  {
   "cell_type": "markdown",
   "metadata": {
    "slideshow": {
     "slide_type": "slide"
    }
   },
   "source": [
    "## Parameter `scoring`\n",
    "\n",
    "Used in functions like `GridSearchCV` and `cross_val_score` and specifies the evaluation criterion used during cross-validation.\n",
    "\n",
    "Scikit-learn allows two types of scorers:\n",
    "\n",
    "- **common scorers**: the most commonly used scorers are passed as scoring parameter by name\n",
    "- **custom scorers**: a custom scorer created using the `make_scorer` function may also be passed as scoring parameters"
   ]
  },
  {
   "cell_type": "code",
   "execution_count": 2,
   "metadata": {
    "slideshow": {
     "slide_type": "subslide"
    }
   },
   "outputs": [
    {
     "data": {
      "text/plain": [
       "array([ 0.98039216,  0.96078431,  0.97916667])"
      ]
     },
     "execution_count": 2,
     "metadata": {},
     "output_type": "execute_result"
    }
   ],
   "source": [
    "from sklearn import datasets\n",
    "from sklearn.svm import SVC\n",
    "from sklearn.model_selection import cross_val_score\n",
    "from sklearn import metrics\n",
    "from sklearn import svm\n",
    "\n",
    "clf = SVC()\n",
    "X, y = convert_to_pandas(datasets.load_iris())\n",
    "cross_val_score(clf, X, y, scoring='accuracy')"
   ]
  },
  {
   "cell_type": "markdown",
   "metadata": {
    "slideshow": {
     "slide_type": "subslide"
    }
   },
   "source": [
    "### Common scorers\n",
    "\n",
    "An overview of the common scorers and their related metric functions:\n",
    "\n",
    "<table border=\"1\">\n",
    "<colgroup>\n",
    "<col width=\"40%\" />\n",
    "<col width=\"60%\" />\n",
    "</colgroup>\n",
    "<thead valign=\"bottom\">\n",
    "<tr class=\"row-odd\"><th class=\"head\">Scoring</th>\n",
    "<th class=\"head\">Function</th>\n",
    "</tr>\n",
    "</thead>\n",
    "<tbody valign=\"top\">\n",
    "<tr class=\"row-even\"><td><strong>Classification</strong></td>\n",
    "<td>&nbsp;</td>\n",
    "</tr>\n",
    "<tr class=\"row-odd\"><td>&#8216;accuracy&#8217;</td>\n",
    "<td><a class=\"reference internal\" href=\"http://scikit-learn.org/stable/modules/generated/sklearn.metrics.accuracy_score.html#sklearn.metrics.accuracy_score\" title=\"sklearn.metrics.accuracy_score\"><tt class=\"xref py py-func docutils literal\"><span class=\"pre\">metrics.accuracy_score</span></tt></a></td>\n",
    "</tr>\n",
    "<tr class=\"row-even\"><td>&#8216;average_precision&#8217;</td>\n",
    "<td><a class=\"reference internal\" href=\"http://scikit-learn.org/stable/modules/generated/sklearn.metrics.average_precision_score.html#sklearn.metrics.average_precision_score\" title=\"sklearn.metrics.average_precision_score\"><tt class=\"xref py py-func docutils literal\"><span class=\"pre\">metrics.average_precision_score</span></tt></a></td>\n",
    "</tr>\n",
    "<tr class=\"row-odd\"><td>&#8216;f1&#8217;</td>\n",
    "<td><a class=\"reference internal\" href=\"http://scikit-learn.org/stable/modules/generated/sklearn.metrics.f1_score.html#sklearn.metrics.f1_score\" title=\"sklearn.metrics.f1_score\"><tt class=\"xref py py-func docutils literal\"><span class=\"pre\">metrics.f1_score</span></tt></a></td>\n",
    "</tr>\n",
    "<tr class=\"row-even\"><td>&#8216;f1_micro&#8217;</td>\n",
    "<td><a class=\"reference internal\" href=\"http://scikit-learn.org/stable/modules/generated/sklearn.metrics.f1_score.html#sklearn.metrics.f1_score\" title=\"sklearn.metrics.f1_score\"><tt class=\"xref py py-func docutils literal\"><span class=\"pre\">metrics.f1_score</span></tt></a></td>\n",
    "</tr>\n",
    "<tr class=\"row-odd\"><td>&#8216;f1_macro&#8217;</td>\n",
    "<td><a class=\"reference internal\" href=\"http://scikit-learn.org/stable/modules/generated/sklearn.metrics.f1_score.html#sklearn.metrics.f1_score\" title=\"sklearn.metrics.f1_score\"><tt class=\"xref py py-func docutils literal\"><span class=\"pre\">metrics.f1_score</span></tt></a></td>\n",
    "</tr>\n",
    "<tr class=\"row-even\"><td>&#8216;f1_weighted&#8217;</td>\n",
    "<td><a class=\"reference internal\" href=\"http://scikit-learn.org/stable/modules/generated/sklearn.metrics.f1_score.html#sklearn.metrics.f1_score\" title=\"sklearn.metrics.f1_score\"><tt class=\"xref py py-func docutils literal\"><span class=\"pre\">metrics.f1_score</span></tt></a></td>\n",
    "</tr>\n",
    "<tr class=\"row-odd\"><td>&#8216;f1_samples&#8217;</td>\n",
    "<td><a class=\"reference internal\" href=\"http://scikit-learn.org/stable/modules/generated/sklearn.metrics.f1_score.html#sklearn.metrics.f1_score\" title=\"sklearn.metrics.f1_score\"><tt class=\"xref py py-func docutils literal\"><span class=\"pre\">metrics.f1_score</span></tt></a></td>\n",
    "</tr>\n",
    "<tr class=\"row-even\"><td>&#8216;log_loss&#8217;</td>\n",
    "<td><a class=\"reference internal\" href=\"http://scikit-learn.org/stable/modules/generated/sklearn.metrics.log_loss.html#sklearn.metrics.log_loss\" title=\"sklearn.metrics.log_loss\"><tt class=\"xref py py-func docutils literal\"><span class=\"pre\">metrics.log_loss</span></tt></a></td>\n",
    "</tr>\n",
    "<tr class=\"row-odd\"><td>&#8216;precision&#8217; etc.</td>\n",
    "<td><a class=\"reference internal\" href=\"http://scikit-learn.org/stable/modules/generated/sklearn.metrics.precision_score.html#sklearn.metrics.precision_score\" title=\"sklearn.metrics.precision_score\"><tt class=\"xref py py-func docutils literal\"><span class=\"pre\">metrics.precision_score</span></tt></a></td>\n",
    "</tr>\n",
    "<tr class=\"row-even\"><td>&#8216;recall&#8217; etc.</td>\n",
    "<td><a class=\"reference internal\" href=\"http://scikit-learn.org/stable/modules/generated/sklearn.metrics.recall_score.html#sklearn.metrics.recall_score\" title=\"sklearn.metrics.recall_score\"><tt class=\"xref py py-func docutils literal\"><span class=\"pre\">metrics.recall_score</span></tt></a></td>\n",
    "</tr>\n",
    "<tr class=\"row-odd\"><td>&#8216;roc_auc&#8217;</td>\n",
    "<td><a class=\"reference internal\" href=\"http://scikit-learn.org/stable/modules/generated/sklearn.metrics.roc_auc_score.html#sklearn.metrics.roc_auc_score\" title=\"sklearn.metrics.roc_auc_score\"><tt class=\"xref py py-func docutils literal\"><span class=\"pre\">metrics.roc_auc_score</span></tt></a></td>\n",
    "</tr>\n",
    "</tbody>\n",
    "</table>"
   ]
  },
  {
   "cell_type": "markdown",
   "metadata": {
    "slideshow": {
     "slide_type": "subslide"
    }
   },
   "source": [
    "<table border=\"1\">\n",
    "<colgroup>\n",
    "<col width=\"40%\" />\n",
    "<col width=\"60%\" />\n",
    "</colgroup>\n",
    "<thead valign=\"bottom\">\n",
    "<tr class=\"row-odd\"><th class=\"head\">Scoring</th>\n",
    "<th class=\"head\">Function</th>\n",
    "</tr>\n",
    "</thead>\n",
    "<tbody valign=\"top\">\n",
    "<tr class=\"row-even\"><td><strong>Clustering</strong></td>\n",
    "<td>&nbsp;</td>\n",
    "</tr>\n",
    "<tr class=\"row-odd\"><td>&#8216;adjusted_rand_score&#8217;</td>\n",
    "<td><a class=\"reference internal\" href=\"http://scikit-learn.org/stable/modules/generated/sklearn.metrics.adjusted_rand_score.html#sklearn.metrics.adjusted_rand_score\" title=\"sklearn.metrics.adjusted_rand_score\"><tt class=\"xref py py-func docutils literal\"><span class=\"pre\">metrics.adjusted_rand_score</span></tt></a></td>\n",
    "</tr>\n",
    "<tr class=\"row-even\"><td><strong>Regression</strong></td>\n",
    "<td>&nbsp;</td>\n",
    "</tr>\n",
    "<tr class=\"row-odd\"><td>&#8216;mean_absolute_error&#8217;</td>\n",
    "<td><a class=\"reference internal\" href=\"http://scikit-learn.org/stable/modules/generated/sklearn.metrics.mean_absolute_error.html#sklearn.metrics.mean_absolute_error\" title=\"sklearn.metrics.mean_absolute_error\"><tt class=\"xref py py-func docutils literal\"><span class=\"pre\">metrics.mean_absolute_error</span></tt></a></td>\n",
    "</tr>\n",
    "<tr class=\"row-even\"><td>&#8216;mean_squared_error&#8217;</td>\n",
    "<td><a class=\"reference internal\" href=\"http://scikit-learn.org/stable/modules/generated/sklearn.metrics.mean_squared_error.html#sklearn.metrics.mean_squared_error\" title=\"sklearn.metrics.mean_squared_error\"><tt class=\"xref py py-func docutils literal\"><span class=\"pre\">metrics.mean_squared_error</span></tt></a></td>\n",
    "</tr>\n",
    "<tr class=\"row-odd\"><td>&#8216;median_absolute_error&#8217;</td>\n",
    "<td><a class=\"reference internal\" href=\"http://scikit-learn.org/stable/modules/generated/sklearn.metrics.median_absolute_error.html#sklearn.metrics.median_absolute_error\" title=\"sklearn.metrics.median_absolute_error\"><tt class=\"xref py py-func docutils literal\"><span class=\"pre\">metrics.median_absolute_error</span></tt></a></td>\n",
    "</tr>\n",
    "<tr class=\"row-even\"><td>&#8216;r2&#8217;</td>\n",
    "<td><a class=\"reference internal\" href=\"http://scikit-learn.org/stable/modules/generateds/klearn.metrics.r2_score.html#sklearn.metrics.r2_score\" title=\"sklearn.metrics.r2_score\"><tt class=\"xref py py-func docutils literal\"><span class=\"pre\">metrics.r2_score</span></tt></a></td>\n",
    "</tr>\n",
    "</tbody>\n",
    "</table>\n"
   ]
  },
  {
   "cell_type": "markdown",
   "metadata": {
    "slideshow": {
     "slide_type": "slide"
    }
   },
   "source": [
    "##  Metric functions\n",
    "\n",
    "Functions that quantify prediction quality given the ground truth.\n",
    "\n",
    "- **score functions**: metrics that end with `_score` and return a value to maximize, *the higher the better*\n",
    "- **loss function**: metrics that end with `_error` or `_loss` and return a value to minimize, *the lower the better*"
   ]
  },
  {
   "cell_type": "markdown",
   "metadata": {
    "slideshow": {
     "slide_type": "subslide"
    }
   },
   "source": [
    "The the following type of metrics are available for the various different machine learning tasks:\n",
    "\n",
    "- Classification metrics\n",
    "- Multilabel ranking metrics\n",
    "- Regression metrics\n",
    "- Clustering metrics"
   ]
  },
  {
   "cell_type": "markdown",
   "metadata": {
    "slideshow": {
     "slide_type": "subslide"
    }
   },
   "source": [
    "## Classification metrics example\n",
    "\n",
    "Use the predicted labels to compute the recall, precision, accuracy and f1-score"
   ]
  },
  {
   "cell_type": "code",
   "execution_count": 3,
   "metadata": {},
   "outputs": [
    {
     "name": "stdout",
     "output_type": "stream",
     "text": [
      "For the predictions: [1, 0, 0, 0, 0, 0, 0]\n",
      "Recall: 0.33\n",
      "Precision: 1.00\n",
      "Accuracy score: 0.71\n",
      "f1 score: 0.50\n",
      "\n",
      "For the predictions: [1, 1, 1, 1, 1, 1, 1]\n",
      "Recall: 1.00\n",
      "Precision: 0.43\n",
      "Accuracy score: 0.43\n",
      "f1 score: 0.60\n",
      "\n"
     ]
    }
   ],
   "source": [
    "from sklearn import metrics\n",
    "\n",
    "y_true = np.array([1, 0, 0, 0, 1, 0, 1])\n",
    "y_preds = [[1, 0, 0, 0, 0, 0, 0], [1, 1, 1, 1, 1, 1, 1]]\n",
    "\n",
    "for y_pred in y_preds:\n",
    "    print(f'For the predictions: {y_pred}')\n",
    "    recall = metrics.recall_score(y_true, y_pred)\n",
    "    precision = metrics.precision_score(y_true, y_pred)\n",
    "    acc = metrics.accuracy_score(y_true, y_pred)\n",
    "    f1 = metrics.f1_score(y_true, y_pred)\n",
    "    print(\"Recall: {:1.2f}\".format(recall))\n",
    "    print(\"Precision: {:1.2f}\".format(precision))\n",
    "    print(\"Accuracy score: {:1.2f}\".format(acc))\n",
    "    print(\"f1 score: {:1.2f}\".format(f1))\n",
    "    print()"
   ]
  },
  {
   "cell_type": "markdown",
   "metadata": {
    "slideshow": {
     "slide_type": "subslide"
    }
   },
   "source": [
    "## Regression metrics example\n",
    "\n",
    "Compare the performance of the `mean_absolute_error` and `median_absolute_error` on `y` and `y_pred` values below and visualize both metrices and the absolute prediction errors:"
   ]
  },
  {
   "cell_type": "code",
   "execution_count": 4,
   "metadata": {},
   "outputs": [
    {
     "name": "stdout",
     "output_type": "stream",
     "text": [
      "Mean absolute error: 0.70\n",
      "Median absolute error: 0.25\n"
     ]
    }
   ],
   "source": [
    "from sklearn.metrics import mean_absolute_error, median_absolute_error\n",
    "\n",
    "y = np.array([0.5, 1.9, 3.5, 1, 6.2, 6.9])\n",
    "y_pred= np.array([1, 2.1, 3.4 ,3.9 , 6, 7.2])\n",
    "n = len(y)\n",
    "\n",
    "mean_error = mean_absolute_error(y, y_pred)\n",
    "median_error = median_absolute_error(y, y_pred)\n",
    "print('Mean absolute error: {:1.2f}'.format(mean_error))\n",
    "print('Median absolute error: {:1.2f}'.format(median_error))"
   ]
  },
  {
   "cell_type": "code",
   "execution_count": 5,
   "metadata": {
    "scrolled": false,
    "slideshow": {
     "slide_type": "subslide"
    }
   },
   "outputs": [
    {
     "data": {
      "image/png": "[encoded data removed]",
      "text/plain": [
       "<matplotlib.figure.Figure at 0x1164d4a20>"
      ]
     },
     "metadata": {},
     "output_type": "display_data"
    }
   ],
   "source": [
    "fig,ax = plt.subplots(figsize=(6,4))\n",
    "fig.set_size_inches(11.0, 8.5)\n",
    "ax.plot(range(n), np.abs(y-y_pred), label='abs error')\n",
    "ax.plot([0, n-1], [mean_error]*2, '--', label='mean')\n",
    "ax.plot([0, n-1], [median_error]*2, '--', label='median')\n",
    "_ = ax.legend()"
   ]
  },
  {
   "cell_type": "markdown",
   "metadata": {
    "slideshow": {
     "slide_type": "slide"
    }
   },
   "source": [
    "## Model persistence\n",
    "\n",
    "Goal: storing a scikit-learn model for future use without having to retrain!\n",
    "\n",
    "There are two methods that can be used:\n",
    "\n",
    "- **`pickle`**: using Python’s built-in persistence model; can pickle to both disk and string\n",
    "- **`joblib`**: similar to pickle only more efficient on objects that carry large `numpy` arrays; can only pickle to disk"
   ]
  },
  {
   "cell_type": "code",
   "execution_count": 6,
   "metadata": {
    "slideshow": {
     "slide_type": "subslide"
    }
   },
   "outputs": [
    {
     "name": "stdout",
     "output_type": "stream",
     "text": [
      "mkdir: ../output: File exists\n",
      "prediction with reloaded clf: ['setosa']\n"
     ]
    }
   ],
   "source": [
    "# use joblib to store on disk\n",
    "from sklearn import datasets\n",
    "from sklearn import svm\n",
    "from sklearn.externals import joblib\n",
    "\n",
    "! mkdir '../output'\n",
    "\n",
    "clf = svm.SVC()\n",
    "X, y = convert_to_pandas(datasets.load_iris())\n",
    "clf.fit(X, y)\n",
    "\n",
    "joblib.dump(clf, filename='../output/iris_svc.pkl')\n",
    "clf_j = joblib.load(filename='../output/iris_svc.pkl')\n",
    "print(\"prediction with reloaded clf: {}\".format(clf_j.predict(X.iloc[[0]])))"
   ]
  },
  {
   "cell_type": "markdown",
   "metadata": {
    "slideshow": {
     "slide_type": "subslide"
    }
   },
   "source": [
    "### Note on maintainability and security\n",
    "\n",
    "Please keep in mind that:\n",
    "\n",
    "- you should never unpickle untrusted data\n",
    "- models saved in one version of scikit-learn might not load in another version"
   ]
  },
  {
   "cell_type": "markdown",
   "metadata": {
    "slideshow": {
     "slide_type": "subslide"
    }
   },
   "source": [
    "To rebuild a similar model with future versions of scikit-learn, all metadata should be saved along the pickled model:\n",
    "\n",
    "- training data\n",
    "- python source code used to generate the model\n",
    "- versions of scikit-learn and its dependencies\n",
    "- cross-validation score obtained on the training data (to check if rebuild succeeded!)"
   ]
  },
  {
   "cell_type": "markdown",
   "metadata": {
    "slideshow": {
     "slide_type": "slide"
    }
   },
   "source": [
    "# Review \n",
    "\n",
    "1. What is the difference between false positive and false negative? \n",
    "2. What is the difference between precision and recall? \n",
    "3. Can you give an example of a situation where accuracy is less important than either precision or recall? "
   ]
  },
  {
   "cell_type": "markdown",
   "metadata": {
    "slideshow": {
     "slide_type": "slide"
    }
   },
   "source": [
    "# Exercises: [lab 5 - Model evaluation](../labs/lab_05_model_evaluation.ipynb)"
   ]
  }
 ],
 "metadata": {
  "anaconda-cloud": {},
  "celltoolbar": "Slideshow",
  "kernelspec": {
   "display_name": "Python [default]",
   "language": "python",
   "name": "python3"
  },
  "language_info": {
   "codemirror_mode": {
    "name": "ipython",
    "version": 3
   },
   "file_extension": ".py",
   "mimetype": "text/x-python",
   "name": "python",
   "nbconvert_exporter": "python",
   "pygments_lexer": "ipython3",
   "version": "3.6.1"
  },
  "livereveal": {
   "start_slideshow_at": "selected",
   "transition": "convex"
  }
 },
 "nbformat": 4,
 "nbformat_minor": 2
}
