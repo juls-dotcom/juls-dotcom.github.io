{
 "cells": [
  {
   "cell_type": "markdown",
   "metadata": {
    "slideshow": {
     "slide_type": "slide"
    }
   },
   "source": [
    "# 0 - Introduction"
   ]
  },
  {
   "cell_type": "markdown",
   "metadata": {
    "slideshow": {
     "slide_type": "slide"
    }
   },
   "source": [
    "## Goals of this course\n",
    "\n",
    "- Introduce machine learning fundamental concepts\n",
    "- Introduce the go-to machine learning algorithms\n",
    "- Introduce the scikit-learn API"
   ]
  },
  {
   "cell_type": "markdown",
   "metadata": {
    "slideshow": {
     "slide_type": "slide"
    }
   },
   "source": [
    "## Requirements\n",
    "This lecture requires the following packages:"
   ]
  },
  {
   "cell_type": "code",
   "execution_count": 5,
   "metadata": {
    "slideshow": {
     "slide_type": "subslide"
    }
   },
   "outputs": [
    {
     "name": "stdout",
     "output_type": "stream",
     "text": [
      "name: intro-ml-sklearn\r\n",
      "dependencies:\r\n",
      "- jupyter=1.0.0\r\n",
      "- matplotlib=2.2.2\r\n",
      "- numpy=1.13.1\r\n",
      "- pandas=0.23.3\r\n",
      "- python=3.6.6\r\n",
      "- scikit-learn=0.19.0\r\n",
      "- seaborn=0.9.0\r\n"
     ]
    }
   ],
   "source": [
    "! cat ../environment.yml"
   ]
  },
  {
   "cell_type": "markdown",
   "metadata": {
    "slideshow": {
     "slide_type": "slide"
    }
   },
   "source": [
    "To confirm the vesions of the modules in your environment, run:"
   ]
  },
  {
   "cell_type": "code",
   "execution_count": 4,
   "metadata": {
    "scrolled": true,
    "slideshow": {
     "slide_type": "fragment"
    }
   },
   "outputs": [
    {
     "name": "stdout",
     "output_type": "stream",
     "text": [
      "Python:  3.6.6\n",
      "jupyter:  1.0.0\n",
      "matplotlib:  2.2.2\n",
      "numpy:  1.13.1\n",
      "pandas:  0.23.3\n",
      "scikit-learn:  0.19.0\n",
      "scipy:  0.19.1\n",
      "seaborn:  0.9.0\n"
     ]
    }
   ],
   "source": [
    "import sys, numpy, pandas, scipy, matplotlib, sklearn, seaborn, jupyter\n",
    "print('Python: ', sys.version[:5])\n",
    "print('jupyter: ', jupyter.__version__)\n",
    "print('matplotlib: ', matplotlib.__version__)\n",
    "print('numpy: ', numpy.__version__)\n",
    "print('pandas: ', pandas.__version__)\n",
    "print('scikit-learn: ', sklearn.__version__)\n",
    "print('scipy: ', scipy.__version__)\n",
    "print('seaborn: ', seaborn.__version__)"
   ]
  }
 ],
 "metadata": {
  "anaconda-cloud": {},
  "celltoolbar": "Slideshow",
  "kernelspec": {
   "display_name": "Python 3",
   "language": "python",
   "name": "python3"
  },
  "language_info": {
   "codemirror_mode": {
    "name": "ipython",
    "version": 3
   },
   "file_extension": ".py",
   "mimetype": "text/x-python",
   "name": "python",
   "nbconvert_exporter": "python",
   "pygments_lexer": "ipython3",
   "version": "3.7.4"
  },
  "livereveal": {
   "start_slideshow_at": "selected",
   "transition": "convex"
  }
 },
 "nbformat": 4,
 "nbformat_minor": 1
}
