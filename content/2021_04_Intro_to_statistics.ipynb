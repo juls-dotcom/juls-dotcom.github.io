{
 "cells": [
  {
   "cell_type": "markdown",
   "metadata": {},
   "source": [
    "- title: course: (Stats Series) Introduction to Statistics\n",
    "- date: 2021-04-03 12:00\n",
    "- category: course\n",
    "- tags: python, statistics\n",
    "- slug: stat_intro\n",
    "- authors: Julien Hernandez Lallement\n",
    "- summary: An introduction to statistics\n",
    "- illustration: 2021_04_intro_stats.jpg"
   ]
  },
  {
   "cell_type": "markdown",
   "metadata": {},
   "source": [
    "### First real touch with Scary Stats..."
   ]
  },
  {
   "cell_type": "markdown",
   "metadata": {},
   "source": [
    "Welcome to my first attempt to teach and summarize a topic that I dreaded being in my early years of university: Statistics! \n",
    "\n",
    "Now, since I am a statistics users, but not a real teacher, I will do my best to describes the concepts and equations behind statistical testing as best as I can. By the same token, that will provide a nice refresh for me ;)"
   ]
  },
  {
   "cell_type": "markdown",
   "metadata": {},
   "source": [
    "I started using statistics for real when I started my PhD. Before that, I did not know much more than *t*-tests, mean and median, and maybe ANOVA, although not sure what the math was behind...\n",
    "My recommendation is thus to get a use case and try things out. You will run tests that are wrong, you will not respect assumptions, but at least, you will get increasingly familiar with the outputs and the parameters that one can play with.  Relatively fast, you will get familiar with the kind of tests you could or nor could not run on a given dataset, and feel more confident :)"
   ]
  },
  {
   "cell_type": "markdown",
   "metadata": {},
   "source": [
    "### First statistics use case"
   ]
  },
  {
   "cell_type": "markdown",
   "metadata": {},
   "source": [
    "Say you obtain some IQ `data` of a camel population. Per individual, you have a score ranging between 0 and 100, and you observe that 75% of these camels are above 80! Not too bad for a camel eh? That is quite strinking because you know for a fact that dromedars have an IQ around 30... (sorry to my dromedar readers, this is a joke example, of course).\n",
    "\n",
    "##### Theory\n",
    "The next thing you might try to do is to explain this data, coming up with a `theory`, i.e., a set of principles that explains a range of phenomenon (and in the best case, that is backed up by empirical data ;) )"
   ]
  },
  {
   "cell_type": "markdown",
   "metadata": {},
   "source": [
    "In our particular case, you might argue that camels have evolved in different environmental conditions than dromedars, which have pressured them to develop certain cognitive abilities that allows them to outperform dromedars in an IQ test."
   ]
  },
  {
   "cell_type": "markdown",
   "metadata": {},
   "source": [
    "###### Hypothesis\n",
    "Given this `theory`, you know can generate `hypothesis` that will allow you to put your `theory` to test. An hypothesis is an informed, theory- (and when possible data-) driven explanation for a given observation.  "
   ]
  },
  {
   "cell_type": "markdown",
   "metadata": {},
   "source": [
    "As an example, we could hypothesize that, if the theory were to be true, camels should outperform dromedars in other tests that measure similar processes than IQ. Similarly, we could hypothesize that dromedars' environment has a less rich food source than camels, which make them spend more time scavenging for foor, and in turn did not allow for IQ development. \n",
    "\n",
    "As you can see, hypothesis can be quite proximal or quite distal, meaning that some of them can feel quite far fetched. While scientists typically prefer to build the puzzle bit by bit, with more reasonable hypothesis, some breakthroughs have come from a far away piece of the puzzle that confirmed or was in line with the theory. "
   ]
  },
  {
   "cell_type": "markdown",
   "metadata": {},
   "source": [
    "###### Predictions\n",
    "Now that you have an hypothesis, you can make a prediction about it. \n",
    "In our case, the predition is that camels outperform dromedars in IQ related test. By doing this subtle, but instrumental step from `hypothesis` to `prediction`, we move from the conceptual world into a observable domain, where data comes in handy ;)"
   ]
  },
  {
   "cell_type": "markdown",
   "metadata": {},
   "source": [
    "##### Data\n",
    "Now, given our `hypothesis` and we get a second sample of camels & dromedars (always good to resample from the overall population, but more about that later) and test them on IQ related tests. \n",
    "If the camels outperform the dromedars in these tests, then our `hypothesis` is confirmed; otherwise, it is not, of course :D\n",
    "\n",
    "In turn this provides more information to complete our `theory`. Say the camels do not outperform the dromedars in these new tests. That is very interesting stuff! Why would they be particularly good and one test, and not others? One might want to look into the specifics of the tests, to try and pinpoint the actual processes camels are good at. In turn, you refine your `theory` and generate new `hypothesis`."
   ]
  },
  {
   "cell_type": "markdown",
   "metadata": {},
   "source": [
    "### Collecting data"
   ]
  },
  {
   "cell_type": "markdown",
   "metadata": {},
   "source": [
    "###### Defining variables"
   ]
  },
  {
   "cell_type": "markdown",
   "metadata": {},
   "source": [
    "So you are about to start your data collection on calmels & dromedars, to test your `hypothesis`.\n",
    "In order to do so, you collect so-called `variables`. As the name suggests, `variables` are measures than can change between individuals and situations, such as the height of people, the weight, the IQ, the location, etc...\n",
    "\n",
    "Typically, one would vary a particular variable and observe how the measurements changes according to these variations. In other words, we believe that some variables **cause** variations in a measurement or outcome variable.\n",
    "\n",
    "The variables that we think **cause** a variation are called **independent variables**. <br>\n",
    "The variables that we think **is affected by** a variation are called **dependent variables**.\n"
   ]
  },
  {
   "cell_type": "markdown",
   "metadata": {},
   "source": [
    "###### Type of data"
   ]
  },
  {
   "cell_type": "markdown",
   "metadata": {},
   "source": [
    "Depending on the type of measurement you are performing, your data can be classified in different types. Let's do through them:\n",
    "* **Categorical Variable**: this data is made up of categories. You can have gender (men/women), hair color, specie, etc....When only two options are possible, you would call this **binary data**. Otherwise, we typically talk about **nominal data**, if the categories are equivalent. In the last case, your categories would be somehow ordered (say you have different camel species, going from most furry to less furry), you would talk about **ordinal data**. This last one I have rarely encountered in my work, but depending on your field, you might stumble upon it often.\n",
    "* **Continous Variable**: this data contains data point that can take any value on the scale on which it ranges. Here as well you have different categories of continous variables (**interval**, which contains continous data separated by distances equivalent to the one they represent, **ratio**, etc...), but I found that this level of details is not very important to begin with. "
   ]
  },
  {
   "cell_type": "markdown",
   "metadata": {},
   "source": [
    "###### Designing data collection plan"
   ]
  },
  {
   "cell_type": "markdown",
   "metadata": {},
   "source": [
    "If you are collecting data yourself, there are a couple of things you should pay attenion for:\n",
    "* Seeked link: you should already known ahead whether you are looking for a **correlational** or **causal** link between the variables. For example, in fMRI research, we know that more neural activation (blood flow actually) goes hand in hand with observing a certain image for example. However, we cannot disentangle what caused what exactly. In order to so, we would have to design an experiment allowing for causal inference. \n",
    "* Design type: are you working with a **between subject** or **within subject** design. That will be define the types of statistics you area allowed to run on the data. As suggested by the name, **between subject** designs feature separate group of individuals that undergo different treatment, while **within subject** designs feature individuals that all undergo all conditions. Each designs will have advantages and inconvenients, and should be chosen carefully\n",
    "* Randomization: one nightmare of researchers is *noise*. Noise refers to unsystematic variations in the data, that is not due to the treatment or effect that one is applying or seeking. Keeping this variation to a minimum will ensure more sensitive measures during the data collection. For example, randomization should be applied to avoid *order effects* (you have two conditions, one following the other; participants might be more tired in the second condition, so you should randomize the starting condition across participants)\n"
   ]
  },
  {
   "cell_type": "markdown",
   "metadata": {},
   "source": [
    "### Data Quality"
   ]
  },
  {
   "cell_type": "markdown",
   "metadata": {},
   "source": [
    "This aspect is often disregarded in actual work, except if you work in research ;) \n",
    "How can you be sure that your data actually reflects some truth about the process you are interested in? \n",
    "\n",
    "If you are a researcher, who spends many hours in dark rooms collecting data, then you will do your best to ensure your data is correct and reliable, because you will publish it and build your career upon it, and you want it to be accurate and useful. Moreover, you will have collected the data, so you will known the pitfalls and advantages of it.\n",
    "\n",
    "However, if you work on other sectors, data is handed over to you, in different forms, and there might be, most likely there is, error in the measurements made when collecting that data. Say someone gives you the results of a camel IQ test. Maybe you do not know which test was used, which in turn might explain why another person with a separate dataset on the same topic has different results. Or maybe someone used camels from a different area, and this was again not reported.\n",
    "\n",
    "`Measurement errors` can and will happen. Scientists try to minimize that by reporting Method section as thoroughly as possible, to make sure all parameters and conditions are clear to everyone who read the results. They also try to minimize that by making their results as valid as possible (by replicating the results a few times, but see [here](https://www.nature.com/news/1-500-scientists-lift-the-lid-on-reproducibility-1.199)) and reliable as possible (by showing that the effect is or is not present under different conditions). "
   ]
  },
  {
   "cell_type": "markdown",
   "metadata": {},
   "source": [
    "### Data Analysis"
   ]
  },
  {
   "cell_type": "markdown",
   "metadata": {},
   "source": [
    "Let's use a famous example (Boston Housing dataset) to visualize some data, and see how preliminary visualizations and so-called `descriptive statistics` can already inform quite a bit on data trends."
   ]
  },
  {
   "cell_type": "code",
   "execution_count": 3,
   "metadata": {},
   "outputs": [
    {
     "data": {
      "text/html": [
       "<div>\n",
       "<style scoped>\n",
       "    .dataframe tbody tr th:only-of-type {\n",
       "        vertical-align: middle;\n",
       "    }\n",
       "\n",
       "    .dataframe tbody tr th {\n",
       "        vertical-align: top;\n",
       "    }\n",
       "\n",
       "    .dataframe thead th {\n",
       "        text-align: right;\n",
       "    }\n",
       "</style>\n",
       "<table border=\"1\" class=\"dataframe\">\n",
       "  <thead>\n",
       "    <tr style=\"text-align: right;\">\n",
       "      <th></th>\n",
       "      <th>crim</th>\n",
       "      <th>zn</th>\n",
       "      <th>indus</th>\n",
       "      <th>chas</th>\n",
       "      <th>nox</th>\n",
       "      <th>rm</th>\n",
       "      <th>age</th>\n",
       "      <th>dis</th>\n",
       "      <th>rad</th>\n",
       "      <th>tax</th>\n",
       "      <th>ptratio</th>\n",
       "      <th>b</th>\n",
       "      <th>lstat</th>\n",
       "      <th>medv</th>\n",
       "    </tr>\n",
       "  </thead>\n",
       "  <tbody>\n",
       "    <tr>\n",
       "      <th>0</th>\n",
       "      <td>0.00632</td>\n",
       "      <td>18.0</td>\n",
       "      <td>2.31</td>\n",
       "      <td>0</td>\n",
       "      <td>0.538</td>\n",
       "      <td>6.575</td>\n",
       "      <td>65.2</td>\n",
       "      <td>4.0900</td>\n",
       "      <td>1</td>\n",
       "      <td>296</td>\n",
       "      <td>15.3</td>\n",
       "      <td>396.90</td>\n",
       "      <td>4.98</td>\n",
       "      <td>24.0</td>\n",
       "    </tr>\n",
       "    <tr>\n",
       "      <th>1</th>\n",
       "      <td>0.02731</td>\n",
       "      <td>0.0</td>\n",
       "      <td>7.07</td>\n",
       "      <td>0</td>\n",
       "      <td>0.469</td>\n",
       "      <td>6.421</td>\n",
       "      <td>78.9</td>\n",
       "      <td>4.9671</td>\n",
       "      <td>2</td>\n",
       "      <td>242</td>\n",
       "      <td>17.8</td>\n",
       "      <td>396.90</td>\n",
       "      <td>9.14</td>\n",
       "      <td>21.6</td>\n",
       "    </tr>\n",
       "    <tr>\n",
       "      <th>2</th>\n",
       "      <td>0.02729</td>\n",
       "      <td>0.0</td>\n",
       "      <td>7.07</td>\n",
       "      <td>0</td>\n",
       "      <td>0.469</td>\n",
       "      <td>7.185</td>\n",
       "      <td>61.1</td>\n",
       "      <td>4.9671</td>\n",
       "      <td>2</td>\n",
       "      <td>242</td>\n",
       "      <td>17.8</td>\n",
       "      <td>392.83</td>\n",
       "      <td>4.03</td>\n",
       "      <td>34.7</td>\n",
       "    </tr>\n",
       "    <tr>\n",
       "      <th>3</th>\n",
       "      <td>0.03237</td>\n",
       "      <td>0.0</td>\n",
       "      <td>2.18</td>\n",
       "      <td>0</td>\n",
       "      <td>0.458</td>\n",
       "      <td>6.998</td>\n",
       "      <td>45.8</td>\n",
       "      <td>6.0622</td>\n",
       "      <td>3</td>\n",
       "      <td>222</td>\n",
       "      <td>18.7</td>\n",
       "      <td>394.63</td>\n",
       "      <td>2.94</td>\n",
       "      <td>33.4</td>\n",
       "    </tr>\n",
       "    <tr>\n",
       "      <th>4</th>\n",
       "      <td>0.06905</td>\n",
       "      <td>0.0</td>\n",
       "      <td>2.18</td>\n",
       "      <td>0</td>\n",
       "      <td>0.458</td>\n",
       "      <td>7.147</td>\n",
       "      <td>54.2</td>\n",
       "      <td>6.0622</td>\n",
       "      <td>3</td>\n",
       "      <td>222</td>\n",
       "      <td>18.7</td>\n",
       "      <td>396.90</td>\n",
       "      <td>5.33</td>\n",
       "      <td>36.2</td>\n",
       "    </tr>\n",
       "    <tr>\n",
       "      <th>...</th>\n",
       "      <td>...</td>\n",
       "      <td>...</td>\n",
       "      <td>...</td>\n",
       "      <td>...</td>\n",
       "      <td>...</td>\n",
       "      <td>...</td>\n",
       "      <td>...</td>\n",
       "      <td>...</td>\n",
       "      <td>...</td>\n",
       "      <td>...</td>\n",
       "      <td>...</td>\n",
       "      <td>...</td>\n",
       "      <td>...</td>\n",
       "      <td>...</td>\n",
       "    </tr>\n",
       "    <tr>\n",
       "      <th>501</th>\n",
       "      <td>0.06263</td>\n",
       "      <td>0.0</td>\n",
       "      <td>11.93</td>\n",
       "      <td>0</td>\n",
       "      <td>0.573</td>\n",
       "      <td>6.593</td>\n",
       "      <td>69.1</td>\n",
       "      <td>2.4786</td>\n",
       "      <td>1</td>\n",
       "      <td>273</td>\n",
       "      <td>21.0</td>\n",
       "      <td>391.99</td>\n",
       "      <td>9.67</td>\n",
       "      <td>22.4</td>\n",
       "    </tr>\n",
       "    <tr>\n",
       "      <th>502</th>\n",
       "      <td>0.04527</td>\n",
       "      <td>0.0</td>\n",
       "      <td>11.93</td>\n",
       "      <td>0</td>\n",
       "      <td>0.573</td>\n",
       "      <td>6.120</td>\n",
       "      <td>76.7</td>\n",
       "      <td>2.2875</td>\n",
       "      <td>1</td>\n",
       "      <td>273</td>\n",
       "      <td>21.0</td>\n",
       "      <td>396.90</td>\n",
       "      <td>9.08</td>\n",
       "      <td>20.6</td>\n",
       "    </tr>\n",
       "    <tr>\n",
       "      <th>503</th>\n",
       "      <td>0.06076</td>\n",
       "      <td>0.0</td>\n",
       "      <td>11.93</td>\n",
       "      <td>0</td>\n",
       "      <td>0.573</td>\n",
       "      <td>6.976</td>\n",
       "      <td>91.0</td>\n",
       "      <td>2.1675</td>\n",
       "      <td>1</td>\n",
       "      <td>273</td>\n",
       "      <td>21.0</td>\n",
       "      <td>396.90</td>\n",
       "      <td>5.64</td>\n",
       "      <td>23.9</td>\n",
       "    </tr>\n",
       "    <tr>\n",
       "      <th>504</th>\n",
       "      <td>0.10959</td>\n",
       "      <td>0.0</td>\n",
       "      <td>11.93</td>\n",
       "      <td>0</td>\n",
       "      <td>0.573</td>\n",
       "      <td>6.794</td>\n",
       "      <td>89.3</td>\n",
       "      <td>2.3889</td>\n",
       "      <td>1</td>\n",
       "      <td>273</td>\n",
       "      <td>21.0</td>\n",
       "      <td>393.45</td>\n",
       "      <td>6.48</td>\n",
       "      <td>22.0</td>\n",
       "    </tr>\n",
       "    <tr>\n",
       "      <th>505</th>\n",
       "      <td>0.04741</td>\n",
       "      <td>0.0</td>\n",
       "      <td>11.93</td>\n",
       "      <td>0</td>\n",
       "      <td>0.573</td>\n",
       "      <td>6.030</td>\n",
       "      <td>80.8</td>\n",
       "      <td>2.5050</td>\n",
       "      <td>1</td>\n",
       "      <td>273</td>\n",
       "      <td>21.0</td>\n",
       "      <td>396.90</td>\n",
       "      <td>7.88</td>\n",
       "      <td>11.9</td>\n",
       "    </tr>\n",
       "  </tbody>\n",
       "</table>\n",
       "<p>506 rows × 14 columns</p>\n",
       "</div>"
      ],
      "text/plain": [
       "        crim    zn  indus  chas    nox     rm   age     dis  rad  tax  \\\n",
       "0    0.00632  18.0   2.31     0  0.538  6.575  65.2  4.0900    1  296   \n",
       "1    0.02731   0.0   7.07     0  0.469  6.421  78.9  4.9671    2  242   \n",
       "2    0.02729   0.0   7.07     0  0.469  7.185  61.1  4.9671    2  242   \n",
       "3    0.03237   0.0   2.18     0  0.458  6.998  45.8  6.0622    3  222   \n",
       "4    0.06905   0.0   2.18     0  0.458  7.147  54.2  6.0622    3  222   \n",
       "..       ...   ...    ...   ...    ...    ...   ...     ...  ...  ...   \n",
       "501  0.06263   0.0  11.93     0  0.573  6.593  69.1  2.4786    1  273   \n",
       "502  0.04527   0.0  11.93     0  0.573  6.120  76.7  2.2875    1  273   \n",
       "503  0.06076   0.0  11.93     0  0.573  6.976  91.0  2.1675    1  273   \n",
       "504  0.10959   0.0  11.93     0  0.573  6.794  89.3  2.3889    1  273   \n",
       "505  0.04741   0.0  11.93     0  0.573  6.030  80.8  2.5050    1  273   \n",
       "\n",
       "     ptratio       b  lstat  medv  \n",
       "0       15.3  396.90   4.98  24.0  \n",
       "1       17.8  396.90   9.14  21.6  \n",
       "2       17.8  392.83   4.03  34.7  \n",
       "3       18.7  394.63   2.94  33.4  \n",
       "4       18.7  396.90   5.33  36.2  \n",
       "..       ...     ...    ...   ...  \n",
       "501     21.0  391.99   9.67  22.4  \n",
       "502     21.0  396.90   9.08  20.6  \n",
       "503     21.0  396.90   5.64  23.9  \n",
       "504     21.0  393.45   6.48  22.0  \n",
       "505     21.0  396.90   7.88  11.9  \n",
       "\n",
       "[506 rows x 14 columns]"
      ]
     },
     "execution_count": 3,
     "metadata": {},
     "output_type": "execute_result"
    }
   ],
   "source": [
    "df"
   ]
  },
  {
   "cell_type": "markdown",
   "metadata": {},
   "source": [
    "###### Frequency distribution"
   ]
  },
  {
   "cell_type": "markdown",
   "metadata": {},
   "source": [
    "Let's start by plotting a `frequency distribution`. That is almost **always** the first thing I do when getting new data, and in my opinion, nothing is more informative than a histogram. It plots the value of observations on the x-axis, and the count in each `bin` (which you can adapt) is displayed as a bar"
   ]
  },
  {
   "cell_type": "code",
   "execution_count": 35,
   "metadata": {},
   "outputs": [
    {
     "data": {
      "text/plain": [
       "Text(0, 0.5, 'count rm')"
      ]
     },
     "execution_count": 35,
     "metadata": {},
     "output_type": "execute_result"
    },
    {
     "data": {
      "image/png": "[encoded data removed]",
      "text/plain": [
       "<Figure size 432x288 with 1 Axes>"
      ]
     },
     "metadata": {
      "needs_background": "light"
     },
     "output_type": "display_data"
    }
   ],
   "source": [
    "plt = df.rm.plot(kind='hist', bins=20)\n",
    "plt.set_ylabel('count rm')"
   ]
  },
  {
   "cell_type": "markdown",
   "metadata": {},
   "source": [
    "This visualization already tells you a lot about how th `rm` variable is distributed. You can see that most values are between 5 and 7, and that some data points have more extreme values, either above or below this central values."
   ]
  },
  {
   "cell_type": "markdown",
   "metadata": {},
   "source": [
    "What you see here is called a `normal distribution`, also known as a `gaussian distribution`. It is characterized by a so-called bell-shaped curve, which implies, as written above, that the majority of data points lie around the center of the distribution. \n",
    "There are a series of statistical test that you can use to confirm that a distribution followed normality. I will talk about these in a follow up post, since I do not want to put any math in this introduction."
   ]
  },
  {
   "cell_type": "markdown",
   "metadata": {},
   "source": [
    "In some cases, the distribution takes on peculiar aspects which can be due to a lack of symmetry (called `skewness`) or a \"pointyness\" (called `kurtosis`). "
   ]
  },
  {
   "cell_type": "code",
   "execution_count": 24,
   "metadata": {},
   "outputs": [
    {
     "data": {
      "text/plain": [
       "Text(17.200000000000003, 0.5, 'count dis')"
      ]
     },
     "execution_count": 24,
     "metadata": {},
     "output_type": "execute_result"
    },
    {
     "data": {
      "image/png": "[encoded data removed]",
      "text/plain": [
       "<Figure size 432x288 with 1 Axes>"
      ]
     },
     "metadata": {
      "needs_background": "light"
     },
     "output_type": "display_data"
    }
   ],
   "source": [
    "lt = df.dis.plot(kind='hist', bins=10)\n",
    "plt.set_ylabel('count dis')"
   ]
  },
  {
   "cell_type": "markdown",
   "metadata": {},
   "source": [
    "Above, a positively skewed distribution (the opposive would be a symmetric flip of the distribution)."
   ]
  },
  {
   "cell_type": "code",
   "execution_count": 38,
   "metadata": {},
   "outputs": [
    {
     "data": {
      "text/plain": [
       "Text(0, 0.5, 'count rm')"
      ]
     },
     "execution_count": 38,
     "metadata": {},
     "output_type": "execute_result"
    },
    {
     "data": {
      "image/png": "[encoded data removed]",
      "text/plain": [
       "<Figure size 432x288 with 1 Axes>"
      ]
     },
     "metadata": {
      "needs_background": "light"
     },
     "output_type": "display_data"
    }
   ],
   "source": [
    "plt = df.rm.plot(kind='hist', bins=10)\n",
    "plt.set_ylabel('count rm')"
   ]
  },
  {
   "cell_type": "markdown",
   "metadata": {},
   "source": [
    "Above, a distribution with a positive kurtosis. Distribution with negative kurtosis are characterized by a flattening of the distribution)."
   ]
  },
  {
   "cell_type": "markdown",
   "metadata": {},
   "source": [
    "Here again, quick note on the `histogram` as maybe the most powerful tool of any data guy. Below you can see how the data looks relatively normal. "
   ]
  },
  {
   "cell_type": "code",
   "execution_count": 42,
   "metadata": {},
   "outputs": [
    {
     "data": {
      "text/plain": [
       "Text(0, 0.5, 'count rm')"
      ]
     },
     "execution_count": 42,
     "metadata": {},
     "output_type": "execute_result"
    },
    {
     "data": {
      "image/png": "[encoded data removed]",
      "text/plain": [
       "<Figure size 432x288 with 1 Axes>"
      ]
     },
     "metadata": {
      "needs_background": "light"
     },
     "output_type": "display_data"
    }
   ],
   "source": [
    "plt = df.medv.plot(kind='hist', bins=5)\n",
    "plt.set_ylabel('count rm')"
   ]
  },
  {
   "cell_type": "markdown",
   "metadata": {},
   "source": [
    "Now let's increase the bin size to observe more fine grained dynamics"
   ]
  },
  {
   "cell_type": "code",
   "execution_count": 43,
   "metadata": {},
   "outputs": [
    {
     "data": {
      "text/plain": [
       "Text(0, 0.5, 'count rm')"
      ]
     },
     "execution_count": 43,
     "metadata": {},
     "output_type": "execute_result"
    },
    {
     "data": {
      "image/png": "[encoded data removed]",
      "text/plain": [
       "<Figure size 432x288 with 1 Axes>"
      ]
     },
     "metadata": {
      "needs_background": "light"
     },
     "output_type": "display_data"
    }
   ],
   "source": [
    "plt = df.medv.plot(kind='hist', bins=100)\n",
    "plt.set_ylabel('count rm')"
   ]
  },
  {
   "cell_type": "markdown",
   "metadata": {},
   "source": [
    "Same distribution but we can see that many data points lay at the highest possible value, 50. Why is that? This would have been missed with the first histogram, which emphasizes the need of **taking your time** when exploring data."
   ]
  },
  {
   "cell_type": "markdown",
   "metadata": {},
   "source": [
    "###### Calculating the center of distributions"
   ]
  },
  {
   "cell_type": "markdown",
   "metadata": {},
   "source": [
    "One might want to come up with a single value to summarize distributions, which can be useful to make comparisons or reporting. While `distribution spread` seems like an important feature, let's focus here on how to summarize distributions:\n",
    "\n",
    "* **Mode:** The mode is the value that occurs the most frequently in the distribution, so basically, the tallest bar.\n",
    "* **Median:** The median is the middle value in the distribution when values are ranked in order of magnitude. I like to use this computation when the distribution has a large spread, or more importantly when many outliers might be present. Median, contrary to mean, is more resistant to outliers.\n",
    "* **Mean:** The mean is the sum of all values $x_i$ divided by the number of observations $n$\n",
    "\n",
    "$\\left (\\overline{x}  \\right) = \\left (\\frac{(\\sum x_i)}{(n}\\right)$"
   ]
  },
  {
   "cell_type": "markdown",
   "metadata": {},
   "source": [
    "###### Calculating the spread of distributions"
   ]
  },
  {
   "cell_type": "markdown",
   "metadata": {},
   "source": [
    "While `mode`, `median` and `mean` can be useful to quantify distributions, it might be useful to quantify as well the dispersion of distributions. This is very important, since two distributions might have the same `mean`, but very different spread. In turns this affects the conclusions you can make statistically.\n",
    "\n",
    "Again, there are several methods that one could use:\n",
    "* **Range:** take the largest value and subtract it from the smallest one. You can already see that, since it takes simply two value in the distribution into account, it is extremely affected by outliers in the data and might not be the right tool in most cases. You would probably have to complete the analysis with some measure on the distribution's shape (interquartile range, see below)\n",
    "* **Sum of Square:** the sum of square is probably the most widely (indirectly) used spread calculation. Before we get to its rationale, let's first talk about the `deviance`, which is the subtraction between each value in the distribution from the `mean` of the distribution. In mathematical terms: $dev = \\sum(x_i - \\overline{x})$ You can already how this can be problematic. Since the mean will automatically separate some value below and above, you will be adding values of opposite signs and cancel out important information in your data. As a result, people tend to square the deviations ( you could also remove the negative signs, from a mathematical point of view, but squaring is the standard method). This is known as the `Sum of Squared`: $SS = \\sum(x_i - \\overline{x})^2$\n",
    "* **Variance:** The problem with the `SS` is that it measures the total dispersion of the population, which we cannot use to compare across samples that differ in size. As a result, people tend to compute the `variance`, which follow the same logic as the `mean`, by diving the `SS` by the number of observations (minus 1, see [here](https://towardsdatascience.com/why-sample-variance-is-divided-by-n-1-89821b83ef6) for an explanation related to `degrees of freedom`, which I won't be discussing here). As a result, the variance can be computed as follows: $Var = \\frac{\\sum(x_i - \\overline{x})^2}{N-1}$\n",
    "* **Standard Deviation**: Finally, the measure that can be used to make meaningful comparison between samples. As you can see from the SS method, we circumvent deviations of opposite signs, but that comes at a cost: our unit of explanation is squared (because we squared every error). To obtain a measure that is conceptually easier to grasp and compare, we can square root the `variance` to obtain the `standard deviation`: $SD = \\sqrt(\\frac{\\sum(x_i - \\overline{x})^2}{N-1})$"
   ]
  },
  {
   "cell_type": "markdown",
   "metadata": {},
   "source": [
    "Standard deviation (SD) is probably the measure of distribution spread that you will be more familiar with. Low SD represent a distribution where the data points are close to one another. High SD indicates a large spread in the data. A SD = 0 represents a \"distribution' where all values are the same."
   ]
  },
  {
   "cell_type": "markdown",
   "metadata": {},
   "source": [
    "###### Inferring probabilities from frequency distributions"
   ]
  },
  {
   "cell_type": "markdown",
   "metadata": {},
   "source": [
    "We have talked about histograms before. I would like to quickly mention a useful concept which are `Probability Density Function` (PDF). I want to mention this here because many statistical tests that use t (*t*-tests), F (ANOVA) or other value have underlying `PDFs` which will provide much of the statistical power to that particular test. It is therefore important to understand at least the basics of `PDFs`."
   ]
  },
  {
   "cell_type": "markdown",
   "metadata": {},
   "source": [
    "A probability function could be defined as a perfect version of a given distribution, where the little irregularities of the histogram have been smoothed out. Like a histogram, the area under the curve tells you something about the probabilities of occurence of a given event"
   ]
  },
  {
   "cell_type": "code",
   "execution_count": 45,
   "metadata": {},
   "outputs": [
    {
     "data": {
      "text/plain": [
       "Text(0, 0.5, 'count rm')"
      ]
     },
     "execution_count": 45,
     "metadata": {},
     "output_type": "execute_result"
    },
    {
     "data": {
      "image/png": "[encoded data removed]",
      "text/plain": [
       "<Figure size 432x288 with 1 Axes>"
      ]
     },
     "metadata": {
      "needs_background": "light"
     },
     "output_type": "display_data"
    }
   ],
   "source": [
    "plt = df.rm.plot(kind='kde')\n",
    "plt.set_ylabel('count rm')"
   ]
  },
  {
   "cell_type": "markdown",
   "metadata": {},
   "source": [
    "The plot below uses a Kernel Density Estimation plot to display the distribution of the variable `rm`. "
   ]
  },
  {
   "cell_type": "markdown",
   "metadata": {},
   "source": [
    "The important thing with `PDFs` is that for each distribution, an underlying equation allows us to derive the probability of occurence of a given event"
   ]
  },
  {
   "cell_type": "code",
   "execution_count": null,
   "metadata": {},
   "outputs": [],
   "source": []
  }
 ],
 "metadata": {
  "kernelspec": {
   "display_name": "Python 3",
   "language": "python",
   "name": "python3"
  },
  "language_info": {
   "codemirror_mode": {
    "name": "ipython",
    "version": 3
   },
   "file_extension": ".py",
   "mimetype": "text/x-python",
   "name": "python",
   "nbconvert_exporter": "python",
   "pygments_lexer": "ipython3",
   "version": "3.7.4"
  }
 },
 "nbformat": 4,
 "nbformat_minor": 4
}
