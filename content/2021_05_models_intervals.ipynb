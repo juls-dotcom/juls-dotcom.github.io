{
 "cells": [
  {
   "cell_type": "markdown",
   "metadata": {},
   "source": [
    "- title: course: IN PREP (Stats Series) Getting started with statistical models\n",
    "- date: 2021-05-10 12:00\n",
    "- category: course\n",
    "- tags: python, statistics\n",
    "- slug: stat_models\n",
    "- authors: Julien Hernandez Lallement\n",
    "- summary: An introduction to statistics\n",
    "- illustration: 2021_04_intro_stats.jpg"
   ]
  },
  {
   "cell_type": "markdown",
   "metadata": {},
   "source": [
    "### Statistical Models"
   ]
  },
  {
   "cell_type": "markdown",
   "metadata": {},
   "source": [
    "Before we get into details regarding a few statistical tests, it might be important to discuss a few key concepts common across statistical models. That allowed me, back in the days, to unify different statistical models that I learned separately and had troubles connecting as part of the same world"
   ]
  },
  {
   "cell_type": "markdown",
   "metadata": {},
   "source": [
    "As we saw before, (data) scientists test hypothesis to come up with a model of how a certain phenomenon works. Some models might be quite good at capturing the truth of the process, while others might not be so good at it. The degree to which a model reflects the data used for analysis is the `fit` of the model. As I discussed in [other posts](https://juls-dotcom.github.io/machine_learn_intro_2.html), the fit is not everything, and the model should be generalizable. But I am getting ahead of myself...Let's go back to the fit."
   ]
  },
  {
   "cell_type": "markdown",
   "metadata": {},
   "source": [
    "###### Type of data"
   ]
  }
 ],
 "metadata": {
  "kernelspec": {
   "display_name": "Python 3",
   "language": "python",
   "name": "python3"
  },
  "language_info": {
   "codemirror_mode": {
    "name": "ipython",
    "version": 3
   },
   "file_extension": ".py",
   "mimetype": "text/x-python",
   "name": "python",
   "nbconvert_exporter": "python",
   "pygments_lexer": "ipython3",
   "version": "3.7.4"
  }
 },
 "nbformat": 4,
 "nbformat_minor": 4
}
