{
 "cells": [
  {
   "cell_type": "markdown",
   "metadata": {},
   "source": [
    "- title: tutorial: Creating a simple GUI with Tkinter\n",
    "- date: 2020-08-25 12:00\n",
    "- category: tutorial\n",
    "- tags: python, application\n",
    "- slug: honorary_2\n",
    "- authors: Julien Hernandez Lallement\n",
    "- summary: A simple GUI to help people interact with your code\n",
    "- illustration: 2020_08_honoraire.jpg"
   ]
  },
  {
   "cell_type": "markdown",
   "metadata": {},
   "source": [
    "In the previous post, I created a function, based on a business day calendar, to calculate fees that should be paid to a expert translator for hours worked during day or night, on business or weekend/holidays. \n",
    "\n",
    "Here, I wrote a small script to put all of that in the form of a GUI using Tkinter. This was new to me, so I followed tutorials, including [this](https://www.youtube.com/watch?v=YXPyB4XeYLA) very nice one I can recommend if you know nothing about Tkinter.\n",
    "\n",
    "Let's get started!"
   ]
  },
  {
   "cell_type": "markdown",
   "metadata": {},
   "source": [
    "First, I am going to copy paste the function I wrote in the previous post"
   ]
  },
  {
   "cell_type": "code",
   "execution_count": 2,
   "metadata": {},
   "outputs": [],
   "source": [
    "import pandas as pd\n",
    "from pandas.tseries.holiday import *\n",
    "from pandas.tseries.offsets import CustomBusinessDay\n",
    "\n",
    "class FrenchBusinessCalendar(AbstractHolidayCalendar):\n",
    "   rules = [\n",
    "        Holiday('New Years Day', month=1, day=1),\n",
    "        EasterMonday,\n",
    "        Holiday('Labour Day', month=5, day=1),\n",
    "        Holiday('Victory in Europe Day', month=5, day=8),\n",
    "        Holiday('Ascension Day', month=1, day=1, offset=[Easter(), Day(39)]),\n",
    "        Holiday('Bastille Day', month=7, day=14),\n",
    "        Holiday('Assumption of Mary to Heaven', month=8, day=15),\n",
    "        Holiday('All Saints Day', month=11, day=1),\n",
    "        Holiday('Armistice Day', month=11, day=11),\n",
    "        Holiday('Christmas Day', month=12, day=25)\n",
    "   ]\n",
    "\n",
    "French_BD = CustomBusinessDay(calendar=FrenchBusinessCalendar())\n",
    "s = pd.date_range('2016-12-29', end='2021-01-03', freq=French_BD)\n",
    "df = pd.DataFrame(s, columns=['Date'])\n",
    "\n",
    "# Define fares depending on day time\n",
    "normal_dict = {'day_first_hour_fare':'40',\n",
    "           'night_first_hour_fare':'49.50',\n",
    "           'day_subsequent_hour_fare': '32',\n",
    "           'night_subsequent_hour_fare': '37.50'\n",
    "          }\n",
    "\n",
    "holiday_dict = {'day_first_hour_fare':'49.50',\n",
    "                'night_first_hour_fare':'57',\n",
    "                'day_subsequent_hour_fare':'37.50',\n",
    "                'night_subsequent_hour_fare':'45'\n",
    "\n",
    "}\n"
   ]
  },
  {
   "cell_type": "markdown",
   "metadata": {},
   "source": [
    "I modified a bit the function, so that the ouput would not be the actual amount in euros needed to be paid, but a string displaying different information:"
   ]
  },
  {
   "cell_type": "code",
   "execution_count": 3,
   "metadata": {},
   "outputs": [],
   "source": [
    "def calculate_honorary(start_date, end_date, normal_dict, holiday_dict):\n",
    "    \"\"\"\n",
    "    Calculate the honorary for worked hours based on following rules\n",
    "\n",
    "    params: start_date (str), start date in format '%Y-%m-%d-H:M:S'\n",
    "    params: end_date (str), end date in format '%Y-%m-%d-H:M:S'\n",
    "    params: normal_dict (dict), business day fare dictionnary\n",
    "    params: holiday_dict (dict), holiday day fare dictionnary\n",
    "\n",
    "    #### Payment Rules\n",
    "\n",
    "    day is between 0700 and 2200\n",
    "    night is between 2200 and 0700\n",
    "\n",
    "    normal day fare:\n",
    "     * first hour = 40 euros\n",
    "     * subsequent hour = 32 euros\n",
    "\n",
    "    normal night fare\n",
    "     * first hour = 49.50 euros\n",
    "     * subsequent hour = 37.50 euros\n",
    "\n",
    "    holiday fare:\n",
    "     * first hour = 49.50 euros\n",
    "     * subsequent hour = 37.50 euros\n",
    "\n",
    "    holiday fare\n",
    "     * first hour = 57 euros\n",
    "     * subsequent hour = 45 euros\n",
    "    \"\"\"\n",
    "\n",
    "    # Transform dates to Timestamps\n",
    "    start_date = pd.Timestamp(start_date)\n",
    "    end_date = pd.Timestamp(end_date)\n",
    "\n",
    "    print('Start date: ' + str(start_date))\n",
    "    print('End date: ' + str(end_date))\n",
    "    print(' ')\n",
    "    # Get number of hours worked\n",
    "    number_hours_worked = int(pd.Timedelta(end_date - start_date, unit='h') / timedelta(hours=1))\n",
    "    if number_hours_worked < 0:\n",
    "        raise ValueError(\"End date happened before start date\")\n",
    "    else:\n",
    "        main_mess = 'You have worked ' + str(number_hours_worked) + ' hours.'\n",
    "        print(main_mess)\n",
    "\n",
    "    # Get actual hours relative to the day\n",
    "    worked_hours = pd.Series(pd.date_range(start_date, end_date, freq='H').hour)\n",
    "\n",
    "    # Get whether these hours were day or night shift\n",
    "    bins = [0, 7, 22]  # Day is defined between 0700 and 2200\n",
    "    labels = ['Night', 'Day']\n",
    "    shift = pd.cut(worked_hours, bins=bins, labels=labels, include_lowest=True).replace('Night1', 'Night')\n",
    "    hours_per_shift = pd.DataFrame(pd.concat([worked_hours, shift], axis=1)).groupby(1).count()\n",
    "    print(hours_per_shift)\n",
    "\n",
    "    # Verify whether start date is holiday\n",
    "    if (df.Date.astype(str).str.contains(start_date.strftime('%Y-%m-%d')).sum()) > 0:\n",
    "        # Day in calendar, so not holiday\n",
    "        start_holiday = False\n",
    "        fare_dict = normal_dict\n",
    "        start_date_mess = 'Start date is business day.'\n",
    "        print(start_date_mess)\n",
    "    else:\n",
    "        # Day not in calendar, so holiday\n",
    "        start_holiday = True\n",
    "        fare_dict = holiday_dict\n",
    "        start_date_mess = 'Start date is weekend or holiday'\n",
    "        print(start_date_mess)\n",
    "    if df.Date.astype(str).str.contains(end_date.strftime('%Y-%m-%d')).sum() > 0:\n",
    "        # Day in calendar, so not holiday\n",
    "        end_holiday = False\n",
    "        fare_dict = normal_dict\n",
    "        end_date_mess = 'End date is business day'\n",
    "        print(end_date_mess)\n",
    "    else:\n",
    "        # Day not in calendar, so holiday\n",
    "        end_holiday = True\n",
    "        fare_dict = holiday_dict\n",
    "        end_date_mess = 'End date is weekend or holiday'\n",
    "        print(end_date_mess)\n",
    "\n",
    "    honorary_night = ((hours_per_shift.T.Night.values - 1) * float(normal_dict.get(\"night_subsequent_hour_fare\"))\n",
    "                      + float(normal_dict.get(\"night_first_hour_fare\"))\n",
    "                      )\n",
    "\n",
    "    honorary_day = ((hours_per_shift.T.Day.values - 1) * int(normal_dict.get(\"day_subsequent_hour_fare\"))\n",
    "                    + int(normal_dict.get(\"day_first_hour_fare\"))\n",
    "                    )\n",
    "\n",
    "    honorary_total = int(honorary_day + honorary_night)\n",
    "\n",
    "    print(' ')\n",
    "    honorary_mess = 'You are owed ' + str(honorary_total) + ' euros.'\n",
    "    print(honorary_mess)\n",
    "\n",
    "    return ('Start date: ' + str(start_date) + '          '\n",
    "           + 'End date: ' + str(end_date) + '          '\n",
    "           +  start_date_mess + '               '\n",
    "           + end_date_mess+ '                   '\n",
    "           + main_mess + '                    '\n",
    "           + honorary_mess)"
   ]
  },
  {
   "cell_type": "markdown",
   "metadata": {},
   "source": [
    "Now, I can wrap this function in a GUI using Tkinter"
   ]
  },
  {
   "cell_type": "markdown",
   "metadata": {},
   "source": [
    "First, import the necessary packages:"
   ]
  },
  {
   "cell_type": "code",
   "execution_count": null,
   "metadata": {},
   "outputs": [],
   "source": [
    "from tkinter import *\n",
    "from tkcalendar import *\n",
    "from tkinter import messagebox"
   ]
  },
  {
   "cell_type": "markdown",
   "metadata": {},
   "source": [
    "We then start the Tkinter instance by calling `Tk()`, and giving it a title"
   ]
  },
  {
   "cell_type": "code",
   "execution_count": 7,
   "metadata": {},
   "outputs": [
    {
     "data": {
      "text/plain": [
       "''"
      ]
     },
     "execution_count": 7,
     "metadata": {},
     "output_type": "execute_result"
    }
   ],
   "source": [
    "root = Tk()\n",
    "root.title(\"Honorary Calculator\")"
   ]
  },
  {
   "cell_type": "markdown",
   "metadata": {},
   "source": [
    "Now, what I need is for the user to enter both a start and end date of mission, as well as a start and end hour of mission.\n",
    "To do so, I am using the Tkcalendar package (you will need to install it via pip), which provides a nice date picker GUI, see `Calendar` instance below\n",
    "\n",
    "I provide a date picker for the date, and a simple entry box for the hours of begin and end of mission, using the `Entry` instance below."
   ]
  },
  {
   "cell_type": "code",
   "execution_count": null,
   "metadata": {},
   "outputs": [],
   "source": [
    "# Create Calendar instance for the start date\n",
    "# Y, M & D just indicates the standard date to be showed when opening the calendar instance\n",
    "cal_start_date = Calendar(root, selectmode=\"day\",year=2020, month=6, day=1)\n",
    "\n",
    "# Create a frame around the Entry box for mission start hour\n",
    "frame_start_hour = LabelFrame(root, text='Start Hour(H:M:S)',padx=10,pady=10)\n",
    "frame_start_hour.grid(row=0,column=0,padx=10,pady=10)\n",
    "# Create an Entry Box in that frame\n",
    "e_start_hour = Entry(frame_start_hour,width=35,bg=\"black\", fg='white', borderwidth=5)\n",
    "\n",
    "# Calendar for End Date\n",
    "cal_end_date = Calendar(root, selectmode=\"day\",year=2020, month=6, day=1)\n",
    "cal_end_date.grid(row=1,column=1#padx=10,pady=10)\n",
    "# Box for end hour\n",
    "frame_end_hour = LabelFrame(root, text='End Hour (H:M:S)',padx=10,pady=10)\n",
    "# Entry for end hour\n",
    "e_end_hour = Entry(frame_end_hour,width=35,bg=\"black\", fg='white', borderwidth=5)"
   ]
  },
  {
   "cell_type": "markdown",
   "metadata": {},
   "source": [
    "That's it! Tkinter is really easy to use and intuitive, so you can get to quite nice results very fast. "
   ]
  },
  {
   "cell_type": "markdown",
   "metadata": {},
   "source": [
    "Now, let's mount all of that on the GUI window by defining different rows and columns"
   ]
  },
  {
   "cell_type": "code",
   "execution_count": null,
   "metadata": {},
   "outputs": [],
   "source": [
    "# Mount on GUI window\n",
    "cal_start_date.grid(row=1,column=0,padx=10,pady=10)\n",
    "e_start_hour.grid(row=1,column=0)\n",
    "                  \n",
    "frame_end_hour.grid(row=0,column=1,padx=10,pady=10)\n",
    "e_end_hour.grid(row=1,column=1)"
   ]
  },
  {
   "cell_type": "code",
   "execution_count": null,
   "metadata": {},
   "outputs": [],
   "source": [
    "If you now run this code, you will see the following GUI:\n",
    "    "
   ]
  },
  {
   "cell_type": "code",
   "execution_count": 12,
   "metadata": {},
   "outputs": [
    {
     "data": {
      "image/png": "[encoded data removed]",
      "text/plain": [
       "<IPython.core.display.Image object>"
      ]
     },
     "execution_count": 12,
     "metadata": {
      "image/png": {
       "height": 1200,
       "width": 1000
      }
     },
     "output_type": "execute_result"
    }
   ],
   "source": [
    "from IPython.display import Image\n",
    "PATH = \"/home/julien/website/content/images/2020_08_tkinter/\"\n",
    "Image(filename = PATH + \"screenshot_1.png\", width=1000, height=1200)"
   ]
  },
  {
   "cell_type": "markdown",
   "metadata": {},
   "source": [
    "Now, we need to create a interaction, so that pushing a button (that we define later) really does the fee calculation coded in the function.\n",
    "\n",
    "Since this GUI was coded for my mom, I really need a very easy, not fancy, interface that displays the message once the button is pressed.\n",
    "\n",
    "Hence, I decided to go for the `showinfo` messagebox, that will display the results in a info window (btw, this is the reason why I changed the output of the function to a series of string)."
   ]
  },
  {
   "cell_type": "code",
   "execution_count": null,
   "metadata": {},
   "outputs": [],
   "source": [
    "def popup():\n",
    "    messagebox.showinfo('Honorary Results', calculate_honorary(start_date=str(cal_start_date.get_date()) + ' '+ str(e_start_hour.get()),\n",
    "                                                                                                       end_date=str(cal_end_date.get_date()) + ' ' + str(e_end_hour.get()),\n",
    "                                                                                                       normal_dict=normal_dict,\n",
    "                                                                                                       holiday_dict=holiday_dict)\n",
    "                        )"
   ]
  },
  {
   "cell_type": "markdown",
   "metadata": {},
   "source": [
    "I now add a few buttons so that the user can interact with the GUI.\n",
    "\n",
    "Note that the `command` parameter is given the `popup` function, which in terms enables the user to use the function we defined previously to calculate the fees.\n",
    "\n",
    "I also add a Quit button, just because I can ;)"
   ]
  },
  {
   "cell_type": "code",
   "execution_count": null,
   "metadata": {},
   "outputs": [],
   "source": [
    "# Define Buttons\n",
    "\n",
    "button_confirm = Button(root, text=\"Calculate!\", padx=40, pady=20, command=popup)\n",
    "\n",
    "\n",
    "# Put the buttons on screen\n",
    "\n",
    "button_confirm.grid(row=2, column=0, columnspan=3)\n",
    "\n",
    "button_quit = Button(root, text = 'Exit Calculator', command=root.quit)\n",
    "button_quit.grid(row=3, column=0, columnspan=3)"
   ]
  },
  {
   "cell_type": "markdown",
   "metadata": {},
   "source": [
    "You would then be seeing something like this:"
   ]
  },
  {
   "cell_type": "code",
   "execution_count": 14,
   "metadata": {},
   "outputs": [
    {
     "data": {
      "image/png": "[encoded data removed]",
      "text/plain": [
       "<IPython.core.display.Image object>"
      ]
     },
     "execution_count": 14,
     "metadata": {
      "image/png": {
       "height": 1200,
       "width": 1000
      }
     },
     "output_type": "execute_result"
    }
   ],
   "source": [
    "Image(filename = PATH + \"screenshot1.png\", width=1000, height=1200)"
   ]
  },
  {
   "cell_type": "markdown",
   "metadata": {},
   "source": [
    "Note that for the GUI to work, you need to add the classic `root.mainloop()`"
   ]
  },
  {
   "cell_type": "code",
   "execution_count": null,
   "metadata": {},
   "outputs": [],
   "source": [
    "root.mainloop()"
   ]
  },
  {
   "cell_type": "markdown",
   "metadata": {},
   "source": [
    "That's it! You have a functional GUI that allows users to run the code by providing the date and hour input, which will return the amount in euros that need to be paid for the service.\n",
    "\n",
    "You could make that much fancier, and add more functionnalities, but that's where I'll stop for now."
   ]
  },
  {
   "cell_type": "markdown",
   "metadata": {},
   "source": [
    "I should not that running this code separatly in notebook is not going to produce the GUI. You would have to pack the code in one or multiple .py files, and run them from the prompt, preceded by `python`. \n",
    "\n",
    "You can find this .py files, together with a few other examples of Tkinter in my repository https://github.com/juls-dotcom/honorary_calculator\n",
    "\n",
    "Cheers!"
   ]
  }
 ],
 "metadata": {
  "kernelspec": {
   "display_name": "Python 3",
   "language": "python",
   "name": "python3"
  },
  "language_info": {
   "codemirror_mode": {
    "name": "ipython",
    "version": 3
   },
   "file_extension": ".py",
   "mimetype": "text/x-python",
   "name": "python",
   "nbconvert_exporter": "python",
   "pygments_lexer": "ipython3",
   "version": "3.7.7"
  }
 },
 "nbformat": 4,
 "nbformat_minor": 4
}
