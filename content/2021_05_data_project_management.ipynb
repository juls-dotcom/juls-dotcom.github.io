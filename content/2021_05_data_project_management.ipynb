{
 "cells": [
  {
   "cell_type": "markdown",
   "metadata": {},
   "source": [
    "- title: course: Few Ideas on Managing a Data Project\n",
    "- date: 2021-05-02 12:00\n",
    "- category: opinion\n",
    "- tags: data management, atlassian, course\n",
    "- slug: data_management\n",
    "- authors: Julien Hernandez Lallement\n",
    "- summary: data mangement\n",
    "- illustration: 2021_05_data_management.jpg"
   ]
  },
  {
   "cell_type": "markdown",
   "metadata": {},
   "source": [
    "### Data Project Management"
   ]
  },
  {
   "cell_type": "markdown",
   "metadata": {},
   "source": [
    "The topic on how to manage data project is quite tricky and I can imagine that many of you will comment or disagree on the proceedings described in this post. \n",
    "I want to emphasize that while a general tool & guideline is an important aspect of managing (data) projects, each project has its specificities that require some tweeking around. \n",
    "\n",
    "What is written here is a result of me learning to track, document and disseminate the status of different data projects. As every method, it is evolving with time and can be improved in several aspects. \n",
    "\n",
    "Still, some of you in need of guidance might find this post useful ;)"
   ]
  },
  {
   "cell_type": "markdown",
   "metadata": {},
   "source": [
    "With that out of the way, let's start."
   ]
  },
  {
   "cell_type": "markdown",
   "metadata": {},
   "source": [
    "#### Data Projects"
   ]
  },
  {
   "cell_type": "markdown",
   "metadata": {},
   "source": [
    "A data project, from my perspective, is a project that uses data as its main substrate or result. In other words, any project that require data to output a product (for example, a dashboard) or produces data itself (example: an ML pipeline that rates customers based on predictions and selects promising ones). \n",
    "\n",
    "Data projects are not new, but the last decades have seen an important surge in their complexity and requirements, due mainly to the formidable increase in data availability and production. "
   ]
  },
  {
   "cell_type": "markdown",
   "metadata": {},
   "source": [
    "#### Managing (data) projects"
   ]
  },
  {
   "cell_type": "markdown",
   "metadata": {},
   "source": [
    "Managing project in general is not an easy task. Many framework (PMP, PRINCE2) are proposed and maintained by major institutions, and provide managers with tools to guide, track, and document the project, and of course, close the project successfully. \n",
    "\n",
    "Because data often mean code (not always though), data projects are typically managed (from what I could experience at least) in an agile mode. SCRUM or KANBAN are different ways to approach data projects. The problem here is that these methods are well suited for software development, but not always to data projects.\n",
    "\n",
    "Coming back to what I wrote earlier, I therefore decided to combine methodolodies from both waterfall (PMP) and Agile (SCRUM) to manage my data projects. "
   ]
  },
  {
   "cell_type": "markdown",
   "metadata": {},
   "source": [
    "#### JIRA (Agile)\n",
    "\n",
    "<img src=\"images/2021_05_data_manage/JIRA_logo.JPG\" style=\"display: block;margin-left: auto;margin-right: auto;\"/>"
   ]
  },
  {
   "cell_type": "markdown",
   "metadata": {},
   "source": [
    "**JIRA** is a tool that allow users to interact in the tasks required fora given project. \n",
    "\n",
    "When a project is created, separater users can be invited to work in that space. JIRA is ticket-based; in other words, users create ticket (in JIRA terms, *issues*), assigned to themselves or others, that are described a task, question or list of tasks required to accomplish the project. \n",
    "\n",
    "Below, a screenshot of the task creation details:"
   ]
  },
  {
   "cell_type": "markdown",
   "metadata": {},
   "source": [
    "<img src=\"images/2021_05_data_manage/JIRA1.JPG\" style=\"display: block;margin-left: auto;margin-right: auto;\"/>\n",
    "<img src=\"images/2021_05_data_manage/JIRA2.JPG\" style=\"display: block;margin-left: auto;margin-right: auto;\"/>\n",
    "<img src=\"images/2021_05_data_manage/JIRA3.JPG\" style=\"display: block;margin-left: auto;margin-right: auto;\"/>"
   ]
  },
  {
   "cell_type": "markdown",
   "metadata": {},
   "source": [
    "All tasks are automatically put in a backlog (SCRUM terminology) which represent all the tasks needed to be performed still by the team. The team can decide to organize its work on a weekly basis, where tasks can already be attributed to a given week. Alternatively, tasks can stay in the backlog, and be place in weeks as time goes by.\n",
    "<br> The backlog if therefore a list of tasks to be done, and allow for tracking of current progress. See picture below:"
   ]
  },
  {
   "cell_type": "markdown",
   "metadata": {},
   "source": [
    "<img src=\"images/2021_05_data_manage/JIRA4.JPG\" style=\"display: block;margin-left: auto;margin-right: auto;\"/>"
   ]
  },
  {
   "cell_type": "markdown",
   "metadata": {},
   "source": [
    "Importantly, a user can create different categories of tickets, based on the current need. The ones that I find most useful are 1) Question, 2) Task, 3) Bug and 4) Story.\n",
    "\n",
    "* **1) Questions** allow users to ask question to someone in particular. Importantly, the question and answer can be documented thanks to the use of JIRA, which will reduce the recurrent questions, in particular when new team members join the team. In addition, the question can be documented using Confluence (see below)\n",
    "\n",
    "* **2) Task** describe a task that needs to be done in order for the project to move forward. Tasks can be described, and depicted as currenly blocked by, or linked to, other tickets.\n",
    "\n",
    "* **3) Bugs** describe a bug encountered in a system (dashboard not showing correct data, broken ML pipe)\n",
    "\n",
    "* **4) Stories** allow user to put several sub tasks together required to achieve a higher level goal. I use that for sub-project deliverables that require parallel or serial tasks to be accomplished."
   ]
  },
  {
   "cell_type": "markdown",
   "metadata": {},
   "source": [
    "<img src=\"images/2021_05_data_manage/JIRA5.JPG\" style=\"display: block;margin-left: auto;margin-right: auto;\"/>"
   ]
  },
  {
   "cell_type": "markdown",
   "metadata": {},
   "source": [
    "#### CONFLUENCE (Documentation)"
   ]
  },
  {
   "cell_type": "markdown",
   "metadata": {},
   "source": [
    "<img src=\"images/2021_05_data_manage/CONFLUENCE_logo.JPG\" style=\"display: block;margin-left: auto;margin-right: auto;\"/>"
   ]
  },
  {
   "cell_type": "markdown",
   "metadata": {},
   "source": [
    "**Confluence** is a tool that allows clear and structured documentation. Maybe the best aspect of this tool is its direct link to JIRA, which allow users to extensively document tikects that required particular proceedings."
   ]
  },
  {
   "cell_type": "markdown",
   "metadata": {},
   "source": [
    "I won't discuss Confluence here since its use is quite self explanatory. It goes hand in hand with JIRA and allows documentation to be linked to current work."
   ]
  },
  {
   "cell_type": "markdown",
   "metadata": {},
   "source": [
    "#### LESSSONS LEARNED (Waterfall)"
   ]
  },
  {
   "cell_type": "markdown",
   "metadata": {},
   "source": [
    "In the PMP framework, an important step in every process of a given project area is the so-called **lessons learned** documentation. I found that step to be often overlooked in waterfall-like projects because documenting is often regarded as secondary, if not tertiary. However, \"Documentation is a Love Letter That You Write to Your Future Self\" as famoulsy stated by Damian Conway.\n",
    "\n",
    "While **Confluence** is a very nice tool to document extensively how particular tickets were solved, and **JIRA** is important in monitoring projects, your particular organisation might not have access to these tools, which are not fot free unfortunately."
   ]
  },
  {
   "cell_type": "markdown",
   "metadata": {},
   "source": [
    "Before we started using the Atlassian packages, we took the iniative of managing my projects using good old spreadsheet management techniques, which I share here below. As a matter of fact, I kept on using these sheets in some cases, because **it allows, within one screenshow, to inform upper management on the project status**."
   ]
  },
  {
   "cell_type": "markdown",
   "metadata": {},
   "source": [
    "The idea is simple: in a spreadsheet (Excel or Google sheet), create two categories: \n",
    "* **1) Project Charter**: describe the project in a few lines. Provide overall deadline, and stakeholder's list. The list should be updated whenever new stakeholders (primary or secondary) join the project. Stakehodlers are any individual that are affected by the outcome of the project or perceive themselves as affected by it.\n",
    "\n",
    "* **2) Kanban Board**: The Kanban board shows the overall subtasks required to finish the project. \n",
    "\n",
    "The format was taken from a KANBAN board downloaded somewhere on the web. I honestly forgot where I got the initial board, and since it was modified since then, I will simply provide the view as an inspiration. Below, a screenshot of a kanban board from a project aiming at creating a dashboard showing digital communication KPIs.\n",
    "\n",
    "<img src=\"images/2021_05_data_manage/KANBAN.JPG\" style=\"display: block;margin-left: auto;margin-right: auto;\"/>\n",
    "\n",
    "The KANBAN shows:\n",
    "* A series of **Deliverables** (Milestone column. left)\n",
    "* The **type** of deliverable which are here coloured coded) Each user can define different types depending on the project type. \n",
    "* A **Short description** in a few words of each deliverable\n",
    "* A list of **Main Stakeholders**\n",
    "* The **Priority**\n",
    "* **Expected Deadline**\n",
    "* **Actual Finish Data**\n",
    "* **Status** (Planned, In Progress, Delivered, Incremental)"
   ]
  },
  {
   "cell_type": "markdown",
   "metadata": {},
   "source": [
    "When that is done, a sheet is created for each deliverable, which show\n",
    "* A series of **Tasks** (Task column. left)\n",
    "* The **type** of task which are here coloured coded) Each user can define different types depending on the project type. \n",
    "* A **Short description** in a few words of each deliverable\n",
    "* A list of **Main Stakeholders**\n",
    "* **Actual Finish Data**\n",
    "* **Status** (Planned, In Progress, Delivered, Incremental)\n",
    "\n",
    "<img src=\"images/2021_05_data_manage/deliverables.JPG\" style=\"display: block;margin-left: auto;margin-right: auto;\"/>"
   ]
  },
  {
   "cell_type": "markdown",
   "metadata": {},
   "source": [
    "Importantly, when tasks are done, the lower section **MUST** be filled with information regarding the completion proceedings of the given task. \n",
    "This includes: \n",
    "* How was the task performed (technical perspective)? \n",
    "* Who helped me perform the task? \n",
    "* What problems did I encounter that others might encounter?\n",
    "* Who did I solve these problems?\n",
    "* Additional information that will be of use as documentation"
   ]
  },
  {
   "cell_type": "markdown",
   "metadata": {},
   "source": [
    "Before the use of Atlassian packages, I typically provided this document (as a Google Sheet accessible by the whole team) to any new comer as well as primary stakeholders of the project. That allowe users to monitor the project and to get up to speed the current status."
   ]
  },
  {
   "cell_type": "markdown",
   "metadata": {},
   "source": [
    "#### Final words"
   ]
  },
  {
   "cell_type": "markdown",
   "metadata": {},
   "source": [
    "This is, in a nutshell, how I manage and document data projects. I have a very similar approach when the project is about developing a ML approach to answer a question. In such cases, the code can be hosted on the third Atlassian package, BitBucket, which is a private version of GitHub. I won't be discussing this feature here."
   ]
  }
 ],
 "metadata": {
  "kernelspec": {
   "display_name": "Python 3",
   "language": "python",
   "name": "python3"
  },
  "language_info": {
   "codemirror_mode": {
    "name": "ipython",
    "version": 3
   },
   "file_extension": ".py",
   "mimetype": "text/x-python",
   "name": "python",
   "nbconvert_exporter": "python",
   "pygments_lexer": "ipython3",
   "version": "3.7.7"
  }
 },
 "nbformat": 4,
 "nbformat_minor": 4
}
