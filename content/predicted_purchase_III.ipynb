{
 "cells": [
  {
   "cell_type": "markdown",
   "metadata": {},
   "source": [
    "- title: An Approach to Computing Predicted Purchase - Part 3/3\n",
    "- date: 2020-04-12 12:00\n",
    "- category: tutorial\n",
    "- tags: marketing, python, sales\n",
    "- slug: predict_sales_3\n",
    "- authors: Julien Hernandez Lallement\n",
    "- summary: Using the Pareto/NBD as hierarchical bayesian model to predict purchase",
    "- illustration: Tree_v2.jpg"
   ]
  },
  {
   "cell_type": "markdown",
   "metadata": {},
   "source": [
    "## **Background:** <br>\n",
    "This post is the last of a series on the topic of predicting purchases in customers based on transactional data. If you have not read the past two posts, I suggest you get a quick look at them before keeping on."
   ]
  },
  {
   "cell_type": "code",
   "execution_count": null,
   "metadata": {},
   "outputs": [],
   "source": []
  },
  {
   "cell_type": "code",
   "execution_count": null,
   "metadata": {},
   "outputs": [],
   "source": []
  },
  {
   "cell_type": "code",
   "execution_count": null,
   "metadata": {},
   "outputs": [],
   "source": []
  }
 ],
 "metadata": {
  "kernelspec": {
   "display_name": "Python 3",
   "language": "python",
   "name": "python3"
  },
  "language_info": {
   "codemirror_mode": {
    "name": "ipython",
    "version": 3
   },
   "file_extension": ".py",
   "mimetype": "text/x-python",
   "name": "python",
   "nbconvert_exporter": "python",
   "pygments_lexer": "ipython3",
   "version": "3.7.4"
  }
 },
 "nbformat": 4,
 "nbformat_minor": 2
}
