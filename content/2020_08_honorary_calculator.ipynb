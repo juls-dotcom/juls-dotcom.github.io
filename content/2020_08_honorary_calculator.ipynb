{
 "cells": [
  {
   "cell_type": "markdown",
   "metadata": {},
   "source": [
    "- title: tutorial: Python can also help our parents ;)\n",
    "- date: 2020-08-03 12:00\n",
    "- category: tutorial\n",
    "- tags: python, application\n",
    "- slug: honorary_1\n",
    "- authors: Julien Hernandez Lallement\n",
    "- summary: A simple application to calculate honoraries\n",
    "- illustration: 2020_08_honoraire.jpg"
   ]
  },
  {
   "cell_type": "markdown",
   "metadata": {},
   "source": [
    "My mom works as a translator in law enforcing organisations. She gets called at any hour of the day or night to reach a location where translation is needed, and performs a so-called mission over there. \n",
    "\n",
    "Now, for every mission, she would get a transcript that states the date and hour of start & end of mission. She would then use that transcript to calculate the amount in euros she would be payed for her work.\n",
    "\n",
    "But my mom is not very good with computers and paperwork, so it took her forever to look up the dates (because week end, holiday and normal business day are payed differently) and hours (cause day and night hours are payed differently)...These transcripts accumulated, and she was getting stressed about it.\n",
    "\n",
    "I realized that her problem could be solved quite easily by a simple application that would calculate for her the fees she would receive from her employer and for each mission."
   ]
  },
  {
   "cell_type": "markdown",
   "metadata": {},
   "source": [
    "This notebook describes the easy solution I came up with (always helped by many posts online of course!). In the follow up post, I create a GUI using Tkinter (my mom is scared of code...)"
   ]
  },
  {
   "cell_type": "code",
   "execution_count": 1,
   "metadata": {},
   "outputs": [],
   "source": [
    "import pandas as pd\n",
    "from pandas.tseries.holiday import *\n",
    "from pandas.tseries.offsets import CustomBusinessDay"
   ]
  },
  {
   "cell_type": "markdown",
   "metadata": {},
   "source": [
    "My mom works in France. So first, I created a calendar of french holidays, since the fare that my mom is getting differs whether the day was holiday or a regular business day."
   ]
  },
  {
   "cell_type": "code",
   "execution_count": 2,
   "metadata": {},
   "outputs": [],
   "source": [
    "class FrenchBusinessCalendar(AbstractHolidayCalendar):\n",
    "   rules = [\n",
    "        Holiday('New Years Day', month=1, day=1),\n",
    "        EasterMonday,\n",
    "        Holiday('Labour Day', month=5, day=1),\n",
    "        Holiday('Victory in Europe Day', month=5, day=8),\n",
    "        Holiday('Ascension Day', month=1, day=1, offset=[Easter(), Day(39)]),\n",
    "        Holiday('Bastille Day', month=7, day=14),\n",
    "        Holiday('Assumption of Mary to Heaven', month=8, day=15),\n",
    "        Holiday('All Saints Day', month=11, day=1),\n",
    "        Holiday('Armistice Day', month=11, day=11),\n",
    "        Holiday('Christmas Day', month=12, day=25)\n",
    "   ]"
   ]
  },
  {
   "cell_type": "markdown",
   "metadata": {},
   "source": [
    "Second, I make a list of all regular business days"
   ]
  },
  {
   "cell_type": "code",
   "execution_count": 3,
   "metadata": {},
   "outputs": [],
   "source": [
    "French_BD = CustomBusinessDay(calendar=FrenchBusinessCalendar())"
   ]
  },
  {
   "cell_type": "markdown",
   "metadata": {},
   "source": [
    "The missions my mom was performing were ranging between 2016 and 2020 so I took up to 2021, anticipation is key ;)"
   ]
  },
  {
   "cell_type": "code",
   "execution_count": 4,
   "metadata": {},
   "outputs": [
    {
     "name": "stdout",
     "output_type": "stream",
     "text": [
      "           Date\n",
      "0    2016-12-29\n",
      "1    2016-12-30\n",
      "2    2017-01-02\n",
      "3    2017-01-03\n",
      "4    2017-01-04\n",
      "...         ...\n",
      "1008 2020-12-24\n",
      "1009 2020-12-28\n",
      "1010 2020-12-29\n",
      "1011 2020-12-30\n",
      "1012 2020-12-31\n",
      "\n",
      "[1013 rows x 1 columns]\n"
     ]
    }
   ],
   "source": [
    "s = pd.date_range('2016-12-29', end='2021-01-03', freq=French_BD)\n",
    "df = pd.DataFrame(s, columns=['Date'])\n",
    "print(df)"
   ]
  },
  {
   "cell_type": "markdown",
   "metadata": {},
   "source": [
    "Third, I define the fares (based on the aforementioned rules) in different dictionnaries. These fares are in euros, but you can add whatever you want in there, currency is not relevant.\n",
    "\n",
    "There were some rules I had to follow:\n",
    "* The first hour is paid higher than subsequent hours\n",
    "* Day and night hours are paid differently\n",
    "* If the mission sprends over multiple days, only the first hour of the mission costs more"
   ]
  },
  {
   "cell_type": "code",
   "execution_count": 5,
   "metadata": {},
   "outputs": [],
   "source": [
    "# Define fares depending on day time\n",
    "normal_dict = {'day_first_hour_fare':'40',\n",
    "           'night_first_hour_fare':'49.50',\n",
    "           'day_subsequent_hour_fare': '32',\n",
    "           'night_subsequent_hour_fare': '37.50'\n",
    "          }\n",
    "\n",
    "holiday_dict = {'day_first_hour_fare':'49.50',\n",
    "                'night_first_hour_fare':'57',\n",
    "                'day_subsequent_hour_fare':'37.50',\n",
    "                'night_subsequent_hour_fare':'45'\n",
    "\n",
    "}"
   ]
  },
  {
   "cell_type": "markdown",
   "metadata": {},
   "source": [
    "Last, I create a function that calculates to total fare based on start and end date, and fare dictionnaries"
   ]
  },
  {
   "cell_type": "code",
   "execution_count": 6,
   "metadata": {},
   "outputs": [],
   "source": [
    "def calculate_honorary(start_date, end_date, normal_dict, holiday_dict):\n",
    "    \"\"\"\n",
    "    Calculate the honorary for worked hours based on following rules\n",
    "    \n",
    "    params: start_date (str), start date in format '%Y-%m-%d-H:M:S'\n",
    "    params: end_date (str), end date in format '%Y-%m-%d-H:M:S'\n",
    "    params: normal_dict (dict), business day fare dictionnary\n",
    "    params: holiday_dict (dict), holiday day fare dictionnary\n",
    "    \n",
    "    #### Payment Rules\n",
    "\n",
    "    day is between 0700 and 2200\n",
    "    night is between 2200 and 0700\n",
    "\n",
    "    normal day fare:\n",
    "     * first hour = 40 euros\n",
    "     * subsequent hour = 32 euros\n",
    "\n",
    "    normal night fare\n",
    "     * first hour = 49.50 euros\n",
    "     * subsequent hour = 37.50 euros\n",
    "\n",
    "    holiday fare:\n",
    "     * first hour = 49.50 euros\n",
    "     * subsequent hour = 37.50 euros\n",
    "\n",
    "    holiday fare\n",
    "     * first hour = 57 euros\n",
    "     * subsequent hour = 45 euros\n",
    "    \"\"\"\n",
    "\n",
    "    # Transform dates to Timestamps\n",
    "    start_date = pd.Timestamp(start_date)\n",
    "    end_date = pd.Timestamp(end_date)\n",
    "    \n",
    "    print('Start date: ' + str(start_date))\n",
    "    print('End date: ' + str(end_date))\n",
    "    print(' ')\n",
    "    # Get number of hours worked\n",
    "    number_hours_worked = int(pd.Timedelta(end_date-start_date,unit='h') / timedelta(hours=1))\n",
    "    if number_hours_worked < 0:\n",
    "        raise ValueError(\"End date happened before start date\")\n",
    "    else:\n",
    "        print('You have worked ' +str(number_hours_worked) + ' hours.')\n",
    "\n",
    "    # Get actual hours relative to the day\n",
    "    worked_hours = pd.Series(pd.date_range(start_date,end_date,freq='H').hour)\n",
    "    \n",
    "    # Get whether these hours were day or night shift\n",
    "    bins = [0,7,22] # Day is defined between 0700 and 2200\n",
    "    labels = ['Night', 'Day']\n",
    "    shift = pd.cut(worked_hours, bins=bins, labels=labels, include_lowest=True).replace('Night1', 'Night')\n",
    "    hours_per_shift = pd.DataFrame(pd.concat([worked_hours,shift],axis=1)).groupby(1).count()\n",
    "    print(hours_per_shift)\n",
    "    \n",
    "    # Verify whether start date is holiday\n",
    "    if (df.Date.astype(str).str.contains(start_date.strftime('%Y-%m-%d')).sum()) > 0:\n",
    "        # Day in calendar, so not holiday\n",
    "        start_holiday=False\n",
    "        fare_dict = normal_dict\n",
    "        print('Start date is business day.')\n",
    "    else:\n",
    "        # Day not in calendar, so holiday\n",
    "        start_holiday=True\n",
    "        fare_dict = holiday_dict\n",
    "        print('Start date is weekend or holiday')\n",
    "    if df.Date.astype(str).str.contains(end_date.strftime('%Y-%m-%d')).sum() > 0:\n",
    "        # Day in calendar, so not holiday\n",
    "        end_holiday=False\n",
    "        fare_dict = normal_dict\n",
    "        print('End date is business day')\n",
    "    else:\n",
    "        # Day not in calendar, so holiday\n",
    "        end_holiday=True\n",
    "        fare_dict = holiday_dict\n",
    "        print('End date is weekend or holiday')\n",
    "\n",
    "    honorary_night = ((hours_per_shift.T.Night.values  - 1) * float(normal_dict.get(\"night_subsequent_hour_fare\"))\n",
    "    + float(normal_dict.get(\"night_first_hour_fare\"))\n",
    "    )\n",
    "\n",
    "    honorary_day = ((hours_per_shift.T.Day.values  - 1) * int(normal_dict.get(\"day_subsequent_hour_fare\"))\n",
    "    + int(normal_dict.get(\"day_first_hour_fare\"))\n",
    "    )\n",
    "\n",
    "    honorary_total = int(honorary_day+honorary_night)\n",
    "    \n",
    "    print(' ')\n",
    "    print('You are owed ' + str(honorary_total) + ' euros.')\n",
    "    return honorary_total"
   ]
  },
  {
   "cell_type": "markdown",
   "metadata": {},
   "source": [
    "## Testing area"
   ]
  },
  {
   "cell_type": "code",
   "execution_count": 7,
   "metadata": {},
   "outputs": [
    {
     "name": "stdout",
     "output_type": "stream",
     "text": [
      "Start date: 2019-05-01 15:00:00\n",
      "End date: 2019-05-02 01:00:00\n",
      " \n",
      "You have worked 10 hours.\n",
      "       0\n",
      "1       \n",
      "Night  2\n",
      "Day    8\n",
      "Start date is weekend or holiday\n",
      "End date is business day\n",
      " \n",
      "You are owed 351 euros.\n"
     ]
    },
    {
     "data": {
      "text/plain": [
       "351"
      ]
     },
     "execution_count": 7,
     "metadata": {},
     "output_type": "execute_result"
    }
   ],
   "source": [
    "calculate_honorary(start_date='2019-05-01 15:00:00', \n",
    "                   end_date='2019-05-02 01:00:00',\n",
    "                   normal_dict=normal_dict, \n",
    "                   holiday_dict=holiday_dict)"
   ]
  },
  {
   "cell_type": "markdown",
   "metadata": {},
   "source": [
    "Indeed, the First of May 2019 was holiday in France. I do not distinguish between week end and holiday, since the fare is the same. But you could do that eventually by modifying the function.\n",
    "\n",
    "I added a quick feedback on how many hours per day and night were performed, as well as the total amount of euros owed to my mom."
   ]
  },
  {
   "cell_type": "code",
   "execution_count": 9,
   "metadata": {},
   "outputs": [
    {
     "name": "stdout",
     "output_type": "stream",
     "text": [
      "Start date: 2019-04-16 15:00:00\n",
      "End date: 2019-04-17 09:00:00\n",
      " \n",
      "You have worked 18 hours.\n",
      "        0\n",
      "1        \n",
      "Night   8\n",
      "Day    10\n",
      "Start date is business day.\n",
      "End date is business day\n",
      " \n",
      "You are owed 640 euros.\n"
     ]
    },
    {
     "data": {
      "text/plain": [
       "640"
      ]
     },
     "execution_count": 9,
     "metadata": {},
     "output_type": "execute_result"
    }
   ],
   "source": [
    "calculate_honorary(start_date='2019-04-16 15:00:00', \n",
    "                   end_date='2019-04-17 09:00:00',\n",
    "                   normal_dict=normal_dict, \n",
    "                   holiday_dict=holiday_dict)"
   ]
  },
  {
   "cell_type": "markdown",
   "metadata": {},
   "source": [
    "And here again, these two days were indeed regular business days"
   ]
  },
  {
   "cell_type": "markdown",
   "metadata": {},
   "source": [
    "In the following post, I used Tkinter to create a GUI that allowed my mom to use this code without ever needing to see it, which was quite important to not scare her off :D"
   ]
  },
  {
   "cell_type": "markdown",
   "metadata": {},
   "source": [
    "I hope you enjoyed this, and maybe found it useful!"
   ]
  }
 ],
 "metadata": {
  "kernelspec": {
   "display_name": "Python 3",
   "language": "python",
   "name": "python3"
  },
  "language_info": {
   "codemirror_mode": {
    "name": "ipython",
    "version": 3
   },
   "file_extension": ".py",
   "mimetype": "text/x-python",
   "name": "python",
   "nbconvert_exporter": "python",
   "pygments_lexer": "ipython3",
   "version": "3.7.7"
  }
 },
 "nbformat": 4,
 "nbformat_minor": 4
}
