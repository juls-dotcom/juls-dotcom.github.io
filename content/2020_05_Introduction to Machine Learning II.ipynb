{
 "cells": [
  {
   "cell_type": "markdown",
   "metadata": {},
   "source": [
    "- title: course: (ML Series) Introduction to Machine Learning II\n",
    "- date: 2020-05-25 12:00\n",
    "- category: course\n",
    "- tags: machine learning, python, course\n",
    "- slug: machine_learn_intro_2\n",
    "- authors: Julien Hernandez Lallement\n",
    "- summary: Introduction to Machine Learning II\n",
    "- illustration: 2020_05_learning_rates2.jpg"
   ]
  },
  {
   "cell_type": "markdown",
   "metadata": {},
   "source": [
    "## Introduction\n",
    "\n",
    "This post is the second part of the first [post](https://juls-dotcom.github.io/machine_learn_intro_1.html) on introdution to Machine Learning.\n",
    "\n",
    "I use several materials to prepare this, such as lectures I attended back in Amsterdam and different books, such as [this one](https://www.amazon.de/Machine-Learning-Applied-Mathematics-Introduction/dp/1916081606) and that [one](https://www.amazon.de/Hands-Machine-Learning-Scikit-Learn-TensorFlow/dp/1492032646/ref=bmx_3/260-6773255-8599754?_encoding=UTF8&pd_rd_i=1492032646&pd_rd_r=b1fd8ba5-5d17-4879-816f-a282b1271caa&pd_rd_w=hjnBU&pd_rd_wg=Wg9f2&pf_rd_p=1c6f2f65-ddb5-43f5-b08c-ddcf19e540ae&pf_rd_r=481AWW6FRH1NQGS5T980&psc=1&refRID=481AWW6FRH1NQGS5T980).\n",
    "\n",
    "Here, I will:\n",
    "* Introduce scaling \n",
    "* Introduce dimensionality & PCA\n",
    "* Introduce Maximum Likelihood Estimation\n",
    "* Introduce the concept of bias/variance & Over/Underfitting"
   ]
  },
  {
   "cell_type": "markdown",
   "metadata": {},
   "source": [
    "### Scaling"
   ]
  },
  {
   "cell_type": "markdown",
   "metadata": {},
   "source": [
    "If you have already looked a ML pipelines, what you probably noticed is that the first part of pipelines is generall about data processing & transformation, followed by `scaling`. Scaling is a very important step that will allow you to compare the data that will hvae be brought to comparable scales."
   ]
  },
  {
   "cell_type": "markdown",
   "metadata": {},
   "source": [
    "Imagine that you are using features such as `number of guitars owned` and `audience attending the concert`, in a dataset of some rock stars. If we would go on and use these data features as they are, the numer of people in the audience would outweight tremendously the number of guitars owned. In turn, that would render the latter feature useless, although it might have brought some explanatory power to your model."
   ]
  },
  {
   "cell_type": "markdown",
   "metadata": {},
   "source": [
    "There are different strategies, that will suit differently diverse data projets.\n",
    "\n",
    "* Maybe the most common, simply use z-scoring method, by taking the mean and standard deviation of the distribution, and rescale all entries to have a mean of 0 and standard deviation of 1\n",
    "* Take the maximum and minimum and rescale all entries to have a minimum of 0 and a maximum of 1. "
   ]
  },
  {
   "cell_type": "markdown",
   "metadata": {},
   "source": [
    "Importantly, the scaling method that you are using should be the same for all the features you are applying it to."
   ]
  },
  {
   "cell_type": "markdown",
   "metadata": {},
   "source": [
    "Finally, look out for outliers that might affect the scaling rules. One large value in one feature can cause, after scaling, that feature to be irrelevantly small. Again, common sense will help you understand which scaling makes sense for your project"
   ]
  },
  {
   "cell_type": "markdown",
   "metadata": {},
   "source": [
    "Sklearn has built in scalers that can be useful, although it is relatively easy to code it on your own.\n",
    "\n",
    "Below, one example of z score scaling using Sklearn on the ChickWeight dataset:"
   ]
  },
  {
   "cell_type": "code",
   "execution_count": 42,
   "metadata": {},
   "outputs": [],
   "source": [
    "from sklearn.preprocessing import StandardScaler\n",
    "from sklearn.pipeline import Pipeline, FeatureUnion\n",
    "from sklego.preprocessing import ColumnSelector"
   ]
  },
  {
   "cell_type": "code",
   "execution_count": 47,
   "metadata": {},
   "outputs": [
    {
     "data": {
      "text/html": [
       "<div>\n",
       "<style scoped>\n",
       "    .dataframe tbody tr th:only-of-type {\n",
       "        vertical-align: middle;\n",
       "    }\n",
       "\n",
       "    .dataframe tbody tr th {\n",
       "        vertical-align: top;\n",
       "    }\n",
       "\n",
       "    .dataframe thead th {\n",
       "        text-align: right;\n",
       "    }\n",
       "</style>\n",
       "<table border=\"1\" class=\"dataframe\">\n",
       "  <thead>\n",
       "    <tr style=\"text-align: right;\">\n",
       "      <th></th>\n",
       "      <th>weight</th>\n",
       "      <th>Time</th>\n",
       "      <th>Chick</th>\n",
       "      <th>Diet</th>\n",
       "    </tr>\n",
       "  </thead>\n",
       "  <tbody>\n",
       "    <tr>\n",
       "      <th>0</th>\n",
       "      <td>42</td>\n",
       "      <td>0</td>\n",
       "      <td>1</td>\n",
       "      <td>1</td>\n",
       "    </tr>\n",
       "    <tr>\n",
       "      <th>1</th>\n",
       "      <td>51</td>\n",
       "      <td>4</td>\n",
       "      <td>1</td>\n",
       "      <td>1</td>\n",
       "    </tr>\n",
       "    <tr>\n",
       "      <th>2</th>\n",
       "      <td>59</td>\n",
       "      <td>8</td>\n",
       "      <td>1</td>\n",
       "      <td>1</td>\n",
       "    </tr>\n",
       "    <tr>\n",
       "      <th>3</th>\n",
       "      <td>64</td>\n",
       "      <td>12</td>\n",
       "      <td>1</td>\n",
       "      <td>1</td>\n",
       "    </tr>\n",
       "    <tr>\n",
       "      <th>4</th>\n",
       "      <td>76</td>\n",
       "      <td>16</td>\n",
       "      <td>1</td>\n",
       "      <td>1</td>\n",
       "    </tr>\n",
       "    <tr>\n",
       "      <th>...</th>\n",
       "      <td>...</td>\n",
       "      <td>...</td>\n",
       "      <td>...</td>\n",
       "      <td>...</td>\n",
       "    </tr>\n",
       "    <tr>\n",
       "      <th>573</th>\n",
       "      <td>175</td>\n",
       "      <td>28</td>\n",
       "      <td>50</td>\n",
       "      <td>4</td>\n",
       "    </tr>\n",
       "    <tr>\n",
       "      <th>574</th>\n",
       "      <td>205</td>\n",
       "      <td>32</td>\n",
       "      <td>50</td>\n",
       "      <td>4</td>\n",
       "    </tr>\n",
       "    <tr>\n",
       "      <th>575</th>\n",
       "      <td>234</td>\n",
       "      <td>36</td>\n",
       "      <td>50</td>\n",
       "      <td>4</td>\n",
       "    </tr>\n",
       "    <tr>\n",
       "      <th>576</th>\n",
       "      <td>264</td>\n",
       "      <td>40</td>\n",
       "      <td>50</td>\n",
       "      <td>4</td>\n",
       "    </tr>\n",
       "    <tr>\n",
       "      <th>577</th>\n",
       "      <td>264</td>\n",
       "      <td>42</td>\n",
       "      <td>50</td>\n",
       "      <td>4</td>\n",
       "    </tr>\n",
       "  </tbody>\n",
       "</table>\n",
       "<p>578 rows × 4 columns</p>\n",
       "</div>"
      ],
      "text/plain": [
       "     weight  Time  Chick  Diet\n",
       "0        42     0      1     1\n",
       "1        51     4      1     1\n",
       "2        59     8      1     1\n",
       "3        64    12      1     1\n",
       "4        76    16      1     1\n",
       "..      ...   ...    ...   ...\n",
       "573     175    28     50     4\n",
       "574     205    32     50     4\n",
       "575     234    36     50     4\n",
       "576     264    40     50     4\n",
       "577     264    42     50     4\n",
       "\n",
       "[578 rows x 4 columns]"
      ]
     },
     "execution_count": 47,
     "metadata": {},
     "output_type": "execute_result"
    }
   ],
   "source": [
    "df"
   ]
  },
  {
   "cell_type": "code",
   "execution_count": 68,
   "metadata": {},
   "outputs": [],
   "source": [
    "# Preprocessing pipeline\n",
    "panda_grabber = Pipeline([\n",
    "    (\"union\", FeatureUnion([\n",
    "        (\"continous\", Pipeline([\n",
    "            (\"select\", ColumnSelector([\"weight\", \"Time\"])),\n",
    "            (\"scale\", StandardScaler())\n",
    "        ]))\n",
    "    ]))\n",
    "])\n",
    "# Fit and apply pipeline\n",
    "scaled_values = panda_grabber.fit(df,df['Diet']).transform(df)"
   ]
  },
  {
   "cell_type": "code",
   "execution_count": 69,
   "metadata": {},
   "outputs": [
    {
     "name": "stdout",
     "output_type": "stream",
     "text": [
      "Mean after scaling:  weight   -0.0\n",
      "time      0.0\n",
      "dtype: float64\n",
      "Std after scaling:  weight    1.0\n",
      "time      1.0\n",
      "dtype: float64\n"
     ]
    }
   ],
   "source": [
    "print('Mean after scaling: ', pd.DataFrame(scaled_values, columns=['weight', 'time']).mean().round())\n",
    "print('Std after scaling: ', pd.DataFrame(scaled_values, columns=['weight', 'time']).std().round())"
   ]
  },
  {
   "cell_type": "markdown",
   "metadata": {},
   "source": [
    "Both `weight` and `time` features have been scaled relative to the mean, with a final mean equal to 0 and standard deviation equal to 1."
   ]
  },
  {
   "cell_type": "markdown",
   "metadata": {},
   "source": [
    "### Dimensionality"
   ]
  },
  {
   "cell_type": "markdown",
   "metadata": {},
   "source": [
    "When you are dealing with large data sets, one might be struck by the so-called *curse of dimensionality*. What is that scary thing?!"
   ]
  },
  {
   "cell_type": "markdown",
   "metadata": {},
   "source": [
    "You might think that the more features you have, the best. There is some truth in there, since you increase the amount of information by adding new data features. That is the purpose of feature engineering. \n",
    "\n",
    "However, it has quite some down sides as well.\n",
    "\n",
    "Say you are working with $N$ data points, each having $M$ features. For demonstration purpose, let's keep things simple, and imagine that your numerical values are binary, i.e., your data is only 0 or 1. There will be therefore $2^M$ combinations. \n",
    "\n",
    "If your number of data points $N$ is lower than this combination value, you might have each data points spread over each corner of your $M$-dimensional space. As a direct consequence, the relation between these data points become meaningless because data points become to unique. \n",
    "\n",
    "In real world situations, you might be victim of high dimension situations. In such cases, you might want to identify the features that contribute the most to the variance in the data. To do so you would need to prepare your data before running any ML model on it. Below, I discuss a technique that allows you to use less features without explicitly dropping any individual features. "
   ]
  },
  {
   "cell_type": "markdown",
   "metadata": {},
   "source": [
    "##### Principal Component Analysis"
   ]
  },
  {
   "cell_type": "markdown",
   "metadata": {},
   "source": [
    "Principal Component Analysis (PCA) allows you to identify movements in your data set. It is a fancier way to throw away / keep features that provide meaningful explanatory power in the problem you are trying to solve. It can be quite useful for other reasons, such as increasing the speed of algorithm fiting or to visualize data in a new way to identify clusters."
   ]
  },
  {
   "cell_type": "markdown",
   "metadata": {},
   "source": [
    "PCA will project the data onto the axes with the highest variance, trying to limit the amount of information lost. As a result, the first principal component (PC) is the axis that preserves the most variance, the second principal component is the one orthogonal to the first that preserves the next most amount of variance...\n",
    "\n",
    "In more details, a PCA will first find the correlation matrix for all the features you would provide. In a second time, it will find the eigenvectors and eigenvalues of that matrix. \n",
    "\n",
    "The eigenvector associated with the largest eigenvalue is the first PC. \n",
    "The eigenvector associated with the second largest eigenvalue is the second PC.\n",
    "\n",
    "The size of the eigenvalue determines how much the component contributes to the variance in the data."
   ]
  },
  {
   "cell_type": "markdown",
   "metadata": {},
   "source": [
    "As a result, instead of throwing away features that you feel would have high importance, you can use PCA to throw away features with low eigenvalues. Even better, you keep the features that provide a certain threshold of explainability (say 95%)."
   ]
  },
  {
   "cell_type": "markdown",
   "metadata": {},
   "source": [
    "Let's produce an example. This was inspired by the [repository](https://github.com/tfolkman) Tyler Folkman."
   ]
  },
  {
   "cell_type": "code",
   "execution_count": 1,
   "metadata": {},
   "outputs": [],
   "source": [
    "import pandas as pd\n",
    "import matplotlib.pyplot as plt\n",
    "import numpy as np\n",
    "%matplotlib inline"
   ]
  },
  {
   "cell_type": "code",
   "execution_count": 4,
   "metadata": {},
   "outputs": [
    {
     "data": {
      "text/plain": [
       "<matplotlib.collections.PathCollection at 0x7fe4658b4c90>"
      ]
     },
     "execution_count": 4,
     "metadata": {},
     "output_type": "execute_result"
    },
    {
     "data": {
      "image/png": "[encoded data removed]",
      "text/plain": [
       "<Figure size 432x288 with 1 Axes>"
      ]
     },
     "metadata": {
      "needs_background": "light"
     },
     "output_type": "display_data"
    }
   ],
   "source": [
    "df= pd.DataFrame({'X': range(1,101), \n",
    "                  'Y': np.random.randn(100)*15+range(1,101)})\n",
    "plt.scatter(df['X'], df['Y'], s=60)"
   ]
  },
  {
   "cell_type": "markdown",
   "metadata": {},
   "source": [
    "We then subtract the mean from each column (PCA assumes that the data are centered around it)."
   ]
  },
  {
   "cell_type": "code",
   "execution_count": 12,
   "metadata": {},
   "outputs": [
    {
     "name": "stdout",
     "output_type": "stream",
     "text": [
      "[0.66394075 0.74778518]\n",
      "[ 0.74778518 -0.66394075]\n"
     ]
    }
   ],
   "source": [
    "df_scaled = df - df.mean()\n",
    "# Perform a Singular Value Decomposition to obtain each of the PC\n",
    "U, s, V = np.linalg.svd(df_scaled.values)\n",
    "# Extract each PC\n",
    "PC1 = V.T[:, 0]\n",
    "PC2 = V.T[:, 1]\n",
    "print(PC1)\n",
    "print(PC2)"
   ]
  },
  {
   "cell_type": "markdown",
   "metadata": {},
   "source": [
    "Now that we have these principal components, we just need to project the data onto them. You do this with a simple dot product:"
   ]
  },
  {
   "cell_type": "code",
   "execution_count": 13,
   "metadata": {},
   "outputs": [],
   "source": [
    "# Compute the matrix product between the scaled data and the first PC\n",
    "data_projected_PC1 = df_scaled.dot(PC1)"
   ]
  },
  {
   "cell_type": "markdown",
   "metadata": {},
   "source": [
    "W can visualize the projected our data onto the first principal component:"
   ]
  },
  {
   "cell_type": "code",
   "execution_count": 17,
   "metadata": {},
   "outputs": [
    {
     "data": {
      "text/plain": [
       "<matplotlib.collections.PathCollection at 0x7fe45fe3c450>"
      ]
     },
     "execution_count": 17,
     "metadata": {},
     "output_type": "execute_result"
    },
    {
     "data": {
      "image/png": "[encoded data removed]",
      "text/plain": [
       "<Figure size 432x288 with 1 Axes>"
      ]
     },
     "metadata": {
      "needs_background": "light"
     },
     "output_type": "display_data"
    }
   ],
   "source": [
    "plt.scatter(data_projected_PC1, np.ones(len(data_projected_PC1)))"
   ]
  },
  {
   "cell_type": "markdown",
   "metadata": {},
   "source": [
    "And here is for projecting just on PC2:"
   ]
  },
  {
   "cell_type": "code",
   "execution_count": 19,
   "metadata": {},
   "outputs": [
    {
     "data": {
      "text/plain": [
       "<matplotlib.collections.PathCollection at 0x7fe45fdb2810>"
      ]
     },
     "execution_count": 19,
     "metadata": {},
     "output_type": "execute_result"
    },
    {
     "data": {
      "image/png": "[encoded data removed]",
      "text/plain": [
       "<Figure size 432x288 with 1 Axes>"
      ]
     },
     "metadata": {
      "needs_background": "light"
     },
     "output_type": "display_data"
    }
   ],
   "source": [
    "data_projected_PC2 = df_scaled.dot(PC2)\n",
    "plt.scatter(data_projected_PC2, np.ones(len(data_projected_PC2)))"
   ]
  },
  {
   "cell_type": "markdown",
   "metadata": {},
   "source": [
    "We can see how the first plot show higher variance [-80 +80] than the second [-30 +30]. Remember what I said earlier about components explaning as much variance as possible, which explains why the PC1 has the highest variance"
   ]
  },
  {
   "cell_type": "markdown",
   "metadata": {},
   "source": [
    "We can reproduce our data by projecting onto the first two components, and then inverting the process. Note that it exactly reproduces our data because we originally had 2 features and used both principal components."
   ]
  },
  {
   "cell_type": "code",
   "execution_count": 20,
   "metadata": {},
   "outputs": [
    {
     "data": {
      "text/plain": [
       "<matplotlib.collections.PathCollection at 0x7fe45fcfb510>"
      ]
     },
     "execution_count": 20,
     "metadata": {},
     "output_type": "execute_result"
    },
    {
     "data": {
      "image/png": "[encoded data removed]",
      "text/plain": [
       "<Figure size 432x288 with 1 Axes>"
      ]
     },
     "metadata": {
      "needs_background": "light"
     },
     "output_type": "display_data"
    }
   ],
   "source": [
    "data_projected_PC12 = df_scaled.dot(V.T)\n",
    "reconstruct = data_projected_PC12.dot(V)\n",
    "plt.scatter(reconstruct.values[:,0], reconstruct.values[:,1], alpha=0.5)\n",
    "plt.scatter(df_scaled['X'], df_scaled['Y'], alpha=0.5)"
   ]
  },
  {
   "cell_type": "markdown",
   "metadata": {},
   "source": [
    "Finally, we can also check that our principle components are indeed orthogonal. "
   ]
  },
  {
   "cell_type": "code",
   "execution_count": 8,
   "metadata": {},
   "outputs": [
    {
     "data": {
      "text/plain": [
       "<matplotlib.patches.FancyArrow at 0x7faaad532e48>"
      ]
     },
     "execution_count": 8,
     "metadata": {},
     "output_type": "execute_result"
    },
    {
     "data": {
      "image/png": "[encoded data removed]",
      "text/plain": [
       "<matplotlib.figure.Figure at 0x7faaad5be5c0>"
      ]
     },
     "metadata": {},
     "output_type": "display_data"
    }
   ],
   "source": [
    "plt.scatter(df_scaled.values[:,0], df_scaled.values[:,1])\n",
    "plt.arrow(x=0,y=0,dx=c1[0]*20,dy=c1[1]*20)\n",
    "plt.arrow(x=0,y=0,dx=c2[0]*20,dy=c2[1]*20)"
   ]
  },
  {
   "cell_type": "markdown",
   "metadata": {},
   "source": [
    "Let's look at how we can implement it quite easily in Python and Sklearn"
   ]
  },
  {
   "cell_type": "code",
   "execution_count": 21,
   "metadata": {},
   "outputs": [],
   "source": [
    "import pandas as pd\n",
    "import matplotlib.pyplot as plt\n",
    "from sklearn.datasets import load_iris\n",
    "from sklearn.preprocessing import StandardScaler\n",
    "\n",
    "iris_dataset = load_iris()\n",
    "X, y = iris_dataset['data'], iris_dataset['target']\n",
    "# Scale data\n",
    "X = StandardScaler().fit_transform(X)"
   ]
  },
  {
   "cell_type": "markdown",
   "metadata": {},
   "source": [
    "After standardizing the data, we can apply the PCA."
   ]
  },
  {
   "cell_type": "code",
   "execution_count": 22,
   "metadata": {},
   "outputs": [],
   "source": [
    "from sklearn.decomposition import PCA\n",
    "pca = PCA(n_components=2)\n",
    "PrinComp = pca.fit_transform(X)\n",
    "df_clean = pd.DataFrame(data = PrinComp, columns = ['Component #1', 'Component #2'])\n",
    "df_clean = df_clean.assign(target = pd.Series(y))"
   ]
  },
  {
   "cell_type": "markdown",
   "metadata": {},
   "source": [
    "Let's plot the results to see what we got:"
   ]
  },
  {
   "cell_type": "code",
   "execution_count": 23,
   "metadata": {},
   "outputs": [
    {
     "data": {
      "image/png": "[encoded data removed]",
      "text/plain": [
       "<Figure size 576x576 with 1 Axes>"
      ]
     },
     "metadata": {
      "needs_background": "light"
     },
     "output_type": "display_data"
    }
   ],
   "source": [
    "fig = plt.figure(figsize = (8,8))\n",
    "ax = fig.add_subplot(1,1,1) \n",
    "ax.set_xlabel('Principal Component 1', fontsize = 15)\n",
    "ax.set_ylabel('Principal Component 2', fontsize = 15)\n",
    "ax.set_title('2 component PCA', fontsize = 20)\n",
    "targets = [0,1,2]\n",
    "colors = ['r', 'g', 'b']\n",
    "for target, color in zip(targets,colors):\n",
    "    indicesToKeep = df_clean['target'] == target\n",
    "    ax.scatter(df_clean.loc[indicesToKeep, 'Component #1']\n",
    "               , df_clean.loc[indicesToKeep, 'Component #2']\n",
    "               , c = color\n",
    "               , s = 50)\n",
    "ax.legend(targets)\n",
    "ax.grid()"
   ]
  },
  {
   "cell_type": "markdown",
   "metadata": {},
   "source": [
    "One important thing to check after running the PCA is how much of the variance is explained by the different components. You want to have enough variance explained, otherwise you are loosing too much information by boiling down the data to principal components"
   ]
  },
  {
   "cell_type": "code",
   "execution_count": 69,
   "metadata": {},
   "outputs": [
    {
     "data": {
      "text/plain": [
       "array([0.72962445, 0.22850762])"
      ]
     },
     "execution_count": 69,
     "metadata": {},
     "output_type": "execute_result"
    }
   ],
   "source": [
    "pca.explained_variance_ratio_"
   ]
  },
  {
   "cell_type": "markdown",
   "metadata": {},
   "source": [
    "We can see that the two component contains 73% and 23% of the variance, which brings you close enough to most of the variance in the data."
   ]
  },
  {
   "cell_type": "markdown",
   "metadata": {},
   "source": [
    "Let's graph this ratio cumulatively for all of our components:"
   ]
  },
  {
   "cell_type": "code",
   "execution_count": 33,
   "metadata": {},
   "outputs": [
    {
     "data": {
      "text/plain": [
       "<matplotlib.collections.LineCollection at 0x7fe45cbb5390>"
      ]
     },
     "execution_count": 33,
     "metadata": {},
     "output_type": "execute_result"
    },
    {
     "data": {
      "image/png": "[encoded data removed]",
      "text/plain": [
       "<Figure size 432x288 with 1 Axes>"
      ]
     },
     "metadata": {
      "needs_background": "light"
     },
     "output_type": "display_data"
    }
   ],
   "source": [
    "pca = PCA(n_components=4)\n",
    "X_pca = pca.fit_transform(X)\n",
    "cum_ratio = np.cumsum(pca.explained_variance_ratio_)\n",
    "plt.plot(range(len(cum_ratio)), cum_ratio)\n",
    "plt.vlines(ymin=0,ymax=cum_ratio[1],x=1)"
   ]
  },
  {
   "cell_type": "markdown",
   "metadata": {},
   "source": [
    "We can see from above how our explained ratio increases to 100 percent as we continue to add principal components. We also see an elbow in our graph at 2 components. Thus, one option would be to use 2 components when reducing the dimensionality since the rate of reduction in variance decreases after that. Another option would be to use the number of components necessary to reach a certain amount of explained variance. For example, we could calculate how many components we would need to explain at least 99% of the variance"
   ]
  },
  {
   "cell_type": "code",
   "execution_count": 35,
   "metadata": {},
   "outputs": [
    {
     "name": "stdout",
     "output_type": "stream",
     "text": [
      "2\n",
      "0.9948212908928452\n"
     ]
    }
   ],
   "source": [
    "index_95 = np.argmax(cum_ratio >= 0.99)\n",
    "print(index_95)\n",
    "print(cum_ratio[index_95])"
   ]
  },
  {
   "cell_type": "markdown",
   "metadata": {},
   "source": [
    "Thus - we would need 2 components to explain 99.48% of the variance in our data. Sklearn can also take this 0.99 fraction as n_components and will automatically use the number of components necessary to reach that amount of explained variance:"
   ]
  },
  {
   "cell_type": "code",
   "execution_count": 36,
   "metadata": {},
   "outputs": [
    {
     "name": "stdout",
     "output_type": "stream",
     "text": [
      "(150, 2)\n"
     ]
    }
   ],
   "source": [
    "pca = PCA(n_components=0.95)\n",
    "X_pca = pca.fit_transform(X)\n",
    "print(X_pca.shape)"
   ]
  },
  {
   "cell_type": "markdown",
   "metadata": {},
   "source": [
    "##### t-SNE"
   ]
  },
  {
   "cell_type": "markdown",
   "metadata": {},
   "source": [
    "t-SNE is a dimensionality reduction technique as well, but to my understanding it is mostly used for visualization and not data pre-processing. For this reason, you almost always reduce the dimensionality down to 2 with t-SNE, so that you can then plot the data in two dimensions.\n",
    "\n",
    "The reason this is is because t-SNE's goal is to take your high dimensional data and represent it correctly in lower dimensions - thus points that are close in high dimensions should remain close in low dimensions. It does this in a non-linear and local way, so different regions of data could be transformed differently. \n",
    " \n",
    "I won't be going in details about this method here since I have not used it extensively. Check out this [article on t-SNE](https://distill.pub/2016/misread-tsne/)."
   ]
  },
  {
   "cell_type": "markdown",
   "metadata": {},
   "source": [
    "### Maximum Likelihood Estimation"
   ]
  },
  {
   "cell_type": "markdown",
   "metadata": {},
   "source": [
    "Maximum Likelihood Estimation (MLE) is a classic approach to determine parameters in a mathematical model. It works by finding the parameters that maximizes the likelihood of observing the real data. "
   ]
  },
  {
   "cell_type": "markdown",
   "metadata": {},
   "source": [
    "Say you go the cinema and you get a ticket stamped with the number \"152\" on it. What is the probability of getting that ticket?\n",
    "We need to assume that the ticket numbers are positive, and that the numbering is independent per movie. \n",
    "\n",
    "If N is the number of people that are going to the movie, then the probability of getting that ticket is:"
   ]
  },
  {
   "cell_type": "markdown",
   "metadata": {},
   "source": [
    "$\n",
    "\\frac{1}{N}$ for N > or equal to 152\n"
   ]
  },
  {
   "cell_type": "markdown",
   "metadata": {},
   "source": [
    "and the value that maximizes that expression (in other words, the MLE) would be 152 of course."
   ]
  },
  {
   "cell_type": "markdown",
   "metadata": {},
   "source": [
    "##### What am I telling you this?"
   ]
  },
  {
   "cell_type": "markdown",
   "metadata": {},
   "source": [
    "Finding the parameters that best approach the likelihood of the data under the hypothesis is what will bring your model closer to the truth.\n",
    "\n",
    "The example above is a simple one, but one could look at another, still not complicated one: coss toin."
   ]
  },
  {
   "cell_type": "markdown",
   "metadata": {},
   "source": [
    "Say you toss a coin $n$ times and get $i$ heads. What is the probability of cossing heads again at the next toss?"
   ]
  },
  {
   "cell_type": "markdown",
   "metadata": {},
   "source": [
    "Well, if the tosses are independent, then the probability would be:"
   ]
  },
  {
   "cell_type": "markdown",
   "metadata": {},
   "source": [
    "$\n",
    "\\frac{n!}{h!(n-h)!} p^h (1-p)^n-h\n",
    "$"
   ]
  },
  {
   "cell_type": "markdown",
   "metadata": {},
   "source": [
    "The likelihood function will have a clear maximum, which will be affected by $i$, and applying MLE to this problem boils down to maximizing this expression with respect to $p$. "
   ]
  },
  {
   "cell_type": "markdown",
   "metadata": {},
   "source": [
    "Note that when working with probabilities, you will often work with the logarithmic of the likelihood, instead of the raw value. And that will be the terms you will try to maximize (AKA `log likelihood`). The main reason (as far as I know, fact check this!) is that it will allow you to move away from very small number, which will give you less precision eventually."
   ]
  },
  {
   "cell_type": "markdown",
   "metadata": {},
   "source": [
    "### Bias and Variance"
   ]
  },
  {
   "cell_type": "markdown",
   "metadata": {},
   "source": [
    "When you find a relation between an independent $x$ and dependent variable $y$, you can write it in mathematical terms. For example "
   ]
  },
  {
   "cell_type": "markdown",
   "metadata": {},
   "source": [
    "$\n",
    "y = f(x) + \\epsilon\n",
    "$"
   ]
  },
  {
   "cell_type": "markdown",
   "metadata": {},
   "source": [
    "The term $\\epsilon$ refers to the error, which represents some random noise in the data, or systematic noise due to measurement error (often the case in research projects...I should know)."
   ]
  },
  {
   "cell_type": "markdown",
   "metadata": {},
   "source": [
    "We now come up with an ML model that will be fitted on training data, and minimizing some cost function (think MSE, as in linear regressions). \n",
    "\n",
    "What you will often observe is that increasing the number of parameters in your model would reduce the error, sometimes drastically, **on the training data set**. "
   ]
  },
  {
   "cell_type": "markdown",
   "metadata": {},
   "source": [
    "Now, of course, you want to predict unseen, new and fresh data points. That data point will also have an error term when piped through the model. But in addition to its own error term, it will receive the error based on the conten of the training set, that is, what the model has seen so far. "
   ]
  },
  {
   "cell_type": "markdown",
   "metadata": {},
   "source": [
    "I must say, the math behind this part is still not familiar to me, so I will skip the equations for now. What is important, is that the difference between the expectation and the real data point is modulated by both `Bias` and `Variance` (as well as the error inherent to the data, discussed before as term $\\epsilon$)."
   ]
  },
  {
   "cell_type": "markdown",
   "metadata": {},
   "source": [
    "`Bias` is the divergence is our model compared to our real data, on average. \n",
    "`Variance` is a measure of the magnitude of that error"
   ]
  },
  {
   "cell_type": "markdown",
   "metadata": {},
   "source": [
    "We are stuck with $\\epsilon$ (except if we have ways to identify systematic error patterns due to measurements error for example), but we can play around to affect Variance and Bias. A good model would have low bias and low variance. Unfortunately, we often have to find a good balance between these two terms, which refers to the terms of `Overfitting` and `Underfitting`."
   ]
  },
  {
   "cell_type": "markdown",
   "metadata": {
    "slideshow": {
     "slide_type": "slide"
    }
   },
   "source": [
    "#### Underfitting vs. Overfitting"
   ]
  },
  {
   "cell_type": "markdown",
   "metadata": {},
   "source": [
    "Once you have managed to find the optimum for the cost function, you might have at hand a model that is quite good at predicting data. However, as mentioned before, the residuals typically are calculated on training sets, that is, data that you give the model for it learn the association between the variables. One trap here is to create models that are extremes, that is, they will not generalize well to unseen data because of the way they were trained or programed. <br><br>\n",
    "\n",
    "This is a very important concept, that will define whether your models will be useful or not \n",
    "\n",
    "I insist again: the learned model is only useful if it is able to generalize from the data and allows for prediction.\n",
    "In other words, a good model shoud\n",
    "- **only** estimate the **systematic relationships** $f$ in the data\n",
    "- **ignore** the **random noise** in the data, hence, unsystematic error \n",
    "\n",
    "Look at the figure below.<br>"
   ]
  },
  {
   "cell_type": "code",
   "execution_count": 3,
   "metadata": {},
   "outputs": [
    {
     "data": {
      "image/jpeg": "[encoded data removed]",
      "text/plain": [
       "<IPython.core.display.Image object>"
      ]
     },
     "execution_count": 3,
     "metadata": {
      "image/jpeg": {
       "height": 500,
       "width": 800
      }
     },
     "output_type": "execute_result"
    }
   ],
   "source": [
    "from IPython.display import Image\n",
    "PATH = \"/home/julien/website/content/images/2020_05_ML_Intro_I/\"\n",
    "Image(filename = PATH + \"fitting_regimes_crop.jpg\", width=800, height=500)"
   ]
  },
  {
   "cell_type": "markdown",
   "metadata": {},
   "source": [
    "It might be unintuitive for novices in the field, but the model on the right is not a good model to use, because it is too fitted (overfitted) to the train data, and won't be able to capture systematic association between the variables, because too busy capturing the small irrelevant fluctuations present in your current training dataset. The model on the left however might be less accurate on that particular dataset, but will most likely be better at predicting unseen data "
   ]
  },
  {
   "cell_type": "markdown",
   "metadata": {
    "slideshow": {
     "slide_type": "subslide"
    }
   },
   "source": [
    "What every engineer and scientist wants is an accurate model that generalizes well on unseen data. The model's performance can be quantified as a value that will be located on a continuum between two extreme cases:\n",
    "* Underfitting: the model cannot learn the problem. \n",
    "* Overfitting:  the model doesn't generalize.\n",
    "\n",
    "Underfitting means that the model cannot learn the assiciation between variables and target data, maybe because it is missing some features, maybe simply because the model is too simple.\n",
    "\n",
    "Overfitting means that the model doesn't generalize well, maybe because the model learns to recognize patterns in the data without detecting the intrisic patterns in it, which in turn makes it completely able to detect noise specific to your dataset and unable to detect trends specific to the overall data population from which your sample is taken."
   ]
  },
  {
   "cell_type": "markdown",
   "metadata": {},
   "source": [
    "### Final words\n",
    "\n",
    "That's it for now. In following posts, I will be reporting how I showed and explained futher steps of machine learning project such as model fitting, evaluation and selection. Keep posted!"
   ]
  }
 ],
 "metadata": {
  "kernelspec": {
   "display_name": "Python 3",
   "language": "python",
   "name": "python3"
  },
  "language_info": {
   "codemirror_mode": {
    "name": "ipython",
    "version": 3
   },
   "file_extension": ".py",
   "mimetype": "text/x-python",
   "name": "python",
   "nbconvert_exporter": "python",
   "pygments_lexer": "ipython3",
   "version": "3.7.4"
  }
 },
 "nbformat": 4,
 "nbformat_minor": 4
}
